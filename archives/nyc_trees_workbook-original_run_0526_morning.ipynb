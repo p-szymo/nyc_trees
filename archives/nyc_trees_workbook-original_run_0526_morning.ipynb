{
 "cells": [
  {
   "cell_type": "markdown",
   "metadata": {},
   "source": [
    "## Can we predict and maximize article popularity on social media?\n",
    "To find out, answer the following questions:\n",
    "* Do title length, article length, or average length of words play a role in an article's popularity?\n",
    "    * Hypothesis: Shorter articles with shorter titles and shorter words (simpler vocabulary) will garner more shares on average.\n",
    "* Do certain genres lead to more popular articles? \n",
    "    * Hypothesis: Certain genres will receive more shares on average.\n",
    "* What effect does the day of publication have?\n",
    "    * Hypothesis: The day of publication will not have an impact on an article's shares.\n",
    "* Do articles that skew positive, negative, or neutral perform better?\n",
    "    * Hypothesis: More negative, outrageous (higher subjectivity) articles will be shared more on average.\n",
    "* What effect do SEO terms have?\n",
    "    * Hypothesis: Better performing SEO terms (keywords) will have a positive impact on an article's shares.\n",
    "    \n",
    "## Approach\n",
    "Using UCI's [Online News Popularity Data Set](http://archive.ics.uci.edu/ml/datasets/Online+News+Popularity), I perform statistical tests to measure the significance of certain variables on the number of social media shares an article receives. During my exploratory data analysis, I create graphs that answer some of my objective questions. I then create a linear regression model, from which I can infer the strongest predictors based on the coefficients within the model.\n",
    "\n",
    "## Cleaning and exploring the data\n",
    "* Import the necessary libraries."
   ]
  },
  {
   "cell_type": "code",
   "execution_count": null,
   "metadata": {},
   "outputs": [],
   "source": []
  },
  {
   "cell_type": "code",
   "execution_count": null,
   "metadata": {},
   "outputs": [],
   "source": []
  },
  {
   "cell_type": "code",
   "execution_count": null,
   "metadata": {},
   "outputs": [],
   "source": []
  },
  {
   "cell_type": "code",
   "execution_count": null,
   "metadata": {},
   "outputs": [],
   "source": []
  },
  {
   "cell_type": "code",
   "execution_count": 45,
   "metadata": {},
   "outputs": [
    {
     "name": "stdout",
     "output_type": "stream",
     "text": [
      "The autoreload extension is already loaded. To reload it, use:\n",
      "  %reload_ext autoreload\n"
     ]
    }
   ],
   "source": [
    "import pandas as pd\n",
    "import numpy as np\n",
    "\n",
    "import matplotlib.pyplot as plt\n",
    "%matplotlib inline\n",
    "import seaborn as sns\n",
    "sns.set_style('ticks')\n",
    "\n",
    "import pickle\n",
    "\n",
    "from functions import *\n",
    "%load_ext autoreload\n",
    "%autoreload 2\n",
    "\n",
    "from sklearn.model_selection import train_test_split\n",
    "from sklearn.model_selection import GridSearchCV\n",
    "from sklearn.preprocessing import PolynomialFeatures\n",
    "from sklearn.preprocessing import StandardScaler\n",
    "from sklearn.preprocessing import MinMaxScaler\n",
    "from sklearn.neighbors import KNeighborsClassifier\n",
    "from sklearn.tree import DecisionTreeClassifier\n",
    "from sklearn.tree import DecisionTreeRegressor\n",
    "from sklearn.dummy import DummyClassifier\n",
    "from sklearn.metrics import accuracy_score, f1_score, precision_score, recall_score, roc_curve, roc_auc_score\n",
    "from sklearn.linear_model import LogisticRegression\n",
    "from sklearn.utils import resample\n",
    "from sklearn.ensemble import RandomForestClassifier\n",
    "from imblearn.over_sampling import SMOTE\n",
    "from imblearn.under_sampling import TomekLinks\n",
    "\n",
    "import warnings\n",
    "warnings.filterwarnings('ignore')\n",
    "\n",
    "# POSSIBLY\n",
    "from collections import Counter"
   ]
  },
  {
   "cell_type": "markdown",
   "metadata": {},
   "source": [
    "* Import the data and take a look."
   ]
  },
  {
   "cell_type": "code",
   "execution_count": 48,
   "metadata": {},
   "outputs": [
    {
     "data": {
      "text/html": [
       "<div>\n",
       "<style scoped>\n",
       "    .dataframe tbody tr th:only-of-type {\n",
       "        vertical-align: middle;\n",
       "    }\n",
       "\n",
       "    .dataframe tbody tr th {\n",
       "        vertical-align: top;\n",
       "    }\n",
       "\n",
       "    .dataframe thead th {\n",
       "        text-align: right;\n",
       "    }\n",
       "</style>\n",
       "<table border=\"1\" class=\"dataframe\">\n",
       "  <thead>\n",
       "    <tr style=\"text-align: right;\">\n",
       "      <th></th>\n",
       "      <th>created_at</th>\n",
       "      <th>tree_id</th>\n",
       "      <th>block_id</th>\n",
       "      <th>the_geom</th>\n",
       "      <th>tree_dbh</th>\n",
       "      <th>stump_diam</th>\n",
       "      <th>curb_loc</th>\n",
       "      <th>status</th>\n",
       "      <th>health</th>\n",
       "      <th>spc_latin</th>\n",
       "      <th>...</th>\n",
       "      <th>st_assem</th>\n",
       "      <th>st_senate</th>\n",
       "      <th>nta</th>\n",
       "      <th>nta_name</th>\n",
       "      <th>boro_ct</th>\n",
       "      <th>state</th>\n",
       "      <th>Latitude</th>\n",
       "      <th>longitude</th>\n",
       "      <th>x_sp</th>\n",
       "      <th>y_sp</th>\n",
       "    </tr>\n",
       "  </thead>\n",
       "  <tbody>\n",
       "    <tr>\n",
       "      <th>0</th>\n",
       "      <td>08/27/2015</td>\n",
       "      <td>180683</td>\n",
       "      <td>348711</td>\n",
       "      <td>POINT (-73.84421521958048 40.723091773924274)</td>\n",
       "      <td>3</td>\n",
       "      <td>0</td>\n",
       "      <td>OnCurb</td>\n",
       "      <td>Alive</td>\n",
       "      <td>Fair</td>\n",
       "      <td>Acer rubrum</td>\n",
       "      <td>...</td>\n",
       "      <td>28</td>\n",
       "      <td>16</td>\n",
       "      <td>QN17</td>\n",
       "      <td>Forest Hills</td>\n",
       "      <td>4073900</td>\n",
       "      <td>New York</td>\n",
       "      <td>40.723092</td>\n",
       "      <td>-73.844215</td>\n",
       "      <td>1.027431e+06</td>\n",
       "      <td>202756.768749</td>\n",
       "    </tr>\n",
       "    <tr>\n",
       "      <th>1</th>\n",
       "      <td>09/03/2015</td>\n",
       "      <td>200540</td>\n",
       "      <td>315986</td>\n",
       "      <td>POINT (-73.81867945834878 40.79411066708779)</td>\n",
       "      <td>21</td>\n",
       "      <td>0</td>\n",
       "      <td>OnCurb</td>\n",
       "      <td>Alive</td>\n",
       "      <td>Fair</td>\n",
       "      <td>Quercus palustris</td>\n",
       "      <td>...</td>\n",
       "      <td>27</td>\n",
       "      <td>11</td>\n",
       "      <td>QN49</td>\n",
       "      <td>Whitestone</td>\n",
       "      <td>4097300</td>\n",
       "      <td>New York</td>\n",
       "      <td>40.794111</td>\n",
       "      <td>-73.818679</td>\n",
       "      <td>1.034456e+06</td>\n",
       "      <td>228644.837379</td>\n",
       "    </tr>\n",
       "    <tr>\n",
       "      <th>2</th>\n",
       "      <td>09/05/2015</td>\n",
       "      <td>204026</td>\n",
       "      <td>218365</td>\n",
       "      <td>POINT (-73.93660770459083 40.717580740099116)</td>\n",
       "      <td>3</td>\n",
       "      <td>0</td>\n",
       "      <td>OnCurb</td>\n",
       "      <td>Alive</td>\n",
       "      <td>Good</td>\n",
       "      <td>Gleditsia triacanthos var. inermis</td>\n",
       "      <td>...</td>\n",
       "      <td>50</td>\n",
       "      <td>18</td>\n",
       "      <td>BK90</td>\n",
       "      <td>East Williamsburg</td>\n",
       "      <td>3044900</td>\n",
       "      <td>New York</td>\n",
       "      <td>40.717581</td>\n",
       "      <td>-73.936608</td>\n",
       "      <td>1.001823e+06</td>\n",
       "      <td>200716.891267</td>\n",
       "    </tr>\n",
       "    <tr>\n",
       "      <th>3</th>\n",
       "      <td>09/05/2015</td>\n",
       "      <td>204337</td>\n",
       "      <td>217969</td>\n",
       "      <td>POINT (-73.93445615919741 40.713537494833226)</td>\n",
       "      <td>10</td>\n",
       "      <td>0</td>\n",
       "      <td>OnCurb</td>\n",
       "      <td>Alive</td>\n",
       "      <td>Good</td>\n",
       "      <td>Gleditsia triacanthos var. inermis</td>\n",
       "      <td>...</td>\n",
       "      <td>53</td>\n",
       "      <td>18</td>\n",
       "      <td>BK90</td>\n",
       "      <td>East Williamsburg</td>\n",
       "      <td>3044900</td>\n",
       "      <td>New York</td>\n",
       "      <td>40.713537</td>\n",
       "      <td>-73.934456</td>\n",
       "      <td>1.002420e+06</td>\n",
       "      <td>199244.253136</td>\n",
       "    </tr>\n",
       "    <tr>\n",
       "      <th>4</th>\n",
       "      <td>08/30/2015</td>\n",
       "      <td>189565</td>\n",
       "      <td>223043</td>\n",
       "      <td>POINT (-73.97597938483258 40.66677775537875)</td>\n",
       "      <td>21</td>\n",
       "      <td>0</td>\n",
       "      <td>OnCurb</td>\n",
       "      <td>Alive</td>\n",
       "      <td>Good</td>\n",
       "      <td>Tilia americana</td>\n",
       "      <td>...</td>\n",
       "      <td>44</td>\n",
       "      <td>21</td>\n",
       "      <td>BK37</td>\n",
       "      <td>Park Slope-Gowanus</td>\n",
       "      <td>3016500</td>\n",
       "      <td>New York</td>\n",
       "      <td>40.666778</td>\n",
       "      <td>-73.975979</td>\n",
       "      <td>9.909138e+05</td>\n",
       "      <td>182202.425999</td>\n",
       "    </tr>\n",
       "  </tbody>\n",
       "</table>\n",
       "<p>5 rows × 42 columns</p>\n",
       "</div>"
      ],
      "text/plain": [
       "   created_at  tree_id  block_id  \\\n",
       "0  08/27/2015   180683    348711   \n",
       "1  09/03/2015   200540    315986   \n",
       "2  09/05/2015   204026    218365   \n",
       "3  09/05/2015   204337    217969   \n",
       "4  08/30/2015   189565    223043   \n",
       "\n",
       "                                        the_geom  tree_dbh  stump_diam  \\\n",
       "0  POINT (-73.84421521958048 40.723091773924274)         3           0   \n",
       "1   POINT (-73.81867945834878 40.79411066708779)        21           0   \n",
       "2  POINT (-73.93660770459083 40.717580740099116)         3           0   \n",
       "3  POINT (-73.93445615919741 40.713537494833226)        10           0   \n",
       "4   POINT (-73.97597938483258 40.66677775537875)        21           0   \n",
       "\n",
       "  curb_loc status health                           spc_latin  ... st_assem  \\\n",
       "0   OnCurb  Alive   Fair                         Acer rubrum  ...       28   \n",
       "1   OnCurb  Alive   Fair                   Quercus palustris  ...       27   \n",
       "2   OnCurb  Alive   Good  Gleditsia triacanthos var. inermis  ...       50   \n",
       "3   OnCurb  Alive   Good  Gleditsia triacanthos var. inermis  ...       53   \n",
       "4   OnCurb  Alive   Good                     Tilia americana  ...       44   \n",
       "\n",
       "  st_senate   nta            nta_name  boro_ct     state   Latitude  \\\n",
       "0        16  QN17        Forest Hills  4073900  New York  40.723092   \n",
       "1        11  QN49          Whitestone  4097300  New York  40.794111   \n",
       "2        18  BK90   East Williamsburg  3044900  New York  40.717581   \n",
       "3        18  BK90   East Williamsburg  3044900  New York  40.713537   \n",
       "4        21  BK37  Park Slope-Gowanus  3016500  New York  40.666778   \n",
       "\n",
       "   longitude          x_sp           y_sp  \n",
       "0 -73.844215  1.027431e+06  202756.768749  \n",
       "1 -73.818679  1.034456e+06  228644.837379  \n",
       "2 -73.936608  1.001823e+06  200716.891267  \n",
       "3 -73.934456  1.002420e+06  199244.253136  \n",
       "4 -73.975979  9.909138e+05  182202.425999  \n",
       "\n",
       "[5 rows x 42 columns]"
      ]
     },
     "execution_count": 48,
     "metadata": {},
     "output_type": "execute_result"
    }
   ],
   "source": [
    "trees = pd.read_csv('data/2015StreetTreesCensus_TREES.csv')\n",
    "trees.head()"
   ]
  },
  {
   "cell_type": "code",
   "execution_count": 49,
   "metadata": {},
   "outputs": [
    {
     "data": {
      "text/plain": [
       "(683788, 42)"
      ]
     },
     "execution_count": 49,
     "metadata": {},
     "output_type": "execute_result"
    }
   ],
   "source": [
    "trees.shape"
   ]
  },
  {
   "cell_type": "code",
   "execution_count": 50,
   "metadata": {},
   "outputs": [
    {
     "name": "stdout",
     "output_type": "stream",
     "text": [
      "<class 'pandas.core.frame.DataFrame'>\n",
      "RangeIndex: 683788 entries, 0 to 683787\n",
      "Data columns (total 42 columns):\n",
      " #   Column      Non-Null Count   Dtype  \n",
      "---  ------      --------------   -----  \n",
      " 0   created_at  683788 non-null  object \n",
      " 1   tree_id     683788 non-null  int64  \n",
      " 2   block_id    683788 non-null  int64  \n",
      " 3   the_geom    683788 non-null  object \n",
      " 4   tree_dbh    683788 non-null  int64  \n",
      " 5   stump_diam  683788 non-null  int64  \n",
      " 6   curb_loc    683788 non-null  object \n",
      " 7   status      683788 non-null  object \n",
      " 8   health      652172 non-null  object \n",
      " 9   spc_latin   652169 non-null  object \n",
      " 10  spc_common  652169 non-null  object \n",
      " 11  steward     652173 non-null  object \n",
      " 12  guards      652172 non-null  object \n",
      " 13  sidewalk    652172 non-null  object \n",
      " 14  user_type   683788 non-null  object \n",
      " 15  problems    652124 non-null  object \n",
      " 16  root_stone  683788 non-null  object \n",
      " 17  root_grate  683788 non-null  object \n",
      " 18  root_other  683788 non-null  object \n",
      " 19  trnk_wire   683788 non-null  object \n",
      " 20  trnk_light  683788 non-null  object \n",
      " 21  trnk_other  683788 non-null  object \n",
      " 22  brnch_ligh  683788 non-null  object \n",
      " 23  brnch_shoe  683788 non-null  object \n",
      " 24  brnch_othe  683788 non-null  object \n",
      " 25  address     683788 non-null  object \n",
      " 26  zipcode     683788 non-null  int64  \n",
      " 27  zip_city    683788 non-null  object \n",
      " 28  cb_num      683788 non-null  int64  \n",
      " 29  borocode    683788 non-null  int64  \n",
      " 30  boroname    683788 non-null  object \n",
      " 31  cncldist    683788 non-null  int64  \n",
      " 32  st_assem    683788 non-null  int64  \n",
      " 33  st_senate   683788 non-null  int64  \n",
      " 34  nta         683788 non-null  object \n",
      " 35  nta_name    683788 non-null  object \n",
      " 36  boro_ct     683788 non-null  int64  \n",
      " 37  state       683788 non-null  object \n",
      " 38  Latitude    683788 non-null  float64\n",
      " 39  longitude   683788 non-null  float64\n",
      " 40  x_sp        683788 non-null  float64\n",
      " 41  y_sp        683788 non-null  float64\n",
      "dtypes: float64(4), int64(11), object(27)\n",
      "memory usage: 219.1+ MB\n"
     ]
    }
   ],
   "source": [
    "trees.info()"
   ]
  },
  {
   "cell_type": "code",
   "execution_count": 51,
   "metadata": {},
   "outputs": [
    {
     "data": {
      "text/html": [
       "<div>\n",
       "<style scoped>\n",
       "    .dataframe tbody tr th:only-of-type {\n",
       "        vertical-align: middle;\n",
       "    }\n",
       "\n",
       "    .dataframe tbody tr th {\n",
       "        vertical-align: top;\n",
       "    }\n",
       "\n",
       "    .dataframe thead th {\n",
       "        text-align: right;\n",
       "    }\n",
       "</style>\n",
       "<table border=\"1\" class=\"dataframe\">\n",
       "  <thead>\n",
       "    <tr style=\"text-align: right;\">\n",
       "      <th></th>\n",
       "      <th>tree_id</th>\n",
       "      <th>block_id</th>\n",
       "      <th>tree_dbh</th>\n",
       "      <th>stump_diam</th>\n",
       "      <th>zipcode</th>\n",
       "      <th>cb_num</th>\n",
       "      <th>borocode</th>\n",
       "      <th>cncldist</th>\n",
       "      <th>st_assem</th>\n",
       "      <th>st_senate</th>\n",
       "      <th>boro_ct</th>\n",
       "      <th>Latitude</th>\n",
       "      <th>longitude</th>\n",
       "      <th>x_sp</th>\n",
       "      <th>y_sp</th>\n",
       "    </tr>\n",
       "  </thead>\n",
       "  <tbody>\n",
       "    <tr>\n",
       "      <th>count</th>\n",
       "      <td>683788.000000</td>\n",
       "      <td>683788.000000</td>\n",
       "      <td>683788.000000</td>\n",
       "      <td>683788.000000</td>\n",
       "      <td>683788.000000</td>\n",
       "      <td>683788.000000</td>\n",
       "      <td>683788.000000</td>\n",
       "      <td>683788.000000</td>\n",
       "      <td>683788.000000</td>\n",
       "      <td>683788.000000</td>\n",
       "      <td>6.837880e+05</td>\n",
       "      <td>683788.000000</td>\n",
       "      <td>683788.000000</td>\n",
       "      <td>6.837880e+05</td>\n",
       "      <td>683788.000000</td>\n",
       "    </tr>\n",
       "    <tr>\n",
       "      <th>mean</th>\n",
       "      <td>365205.011085</td>\n",
       "      <td>313793.096236</td>\n",
       "      <td>11.279787</td>\n",
       "      <td>0.432463</td>\n",
       "      <td>10916.246044</td>\n",
       "      <td>343.505404</td>\n",
       "      <td>3.358500</td>\n",
       "      <td>29.943181</td>\n",
       "      <td>50.791583</td>\n",
       "      <td>20.615781</td>\n",
       "      <td>3.404914e+06</td>\n",
       "      <td>40.701261</td>\n",
       "      <td>-73.924060</td>\n",
       "      <td>1.005280e+06</td>\n",
       "      <td>194798.424624</td>\n",
       "    </tr>\n",
       "    <tr>\n",
       "      <th>std</th>\n",
       "      <td>208122.092902</td>\n",
       "      <td>114839.024312</td>\n",
       "      <td>8.723042</td>\n",
       "      <td>3.290241</td>\n",
       "      <td>651.553364</td>\n",
       "      <td>115.740601</td>\n",
       "      <td>1.166746</td>\n",
       "      <td>14.328531</td>\n",
       "      <td>18.966520</td>\n",
       "      <td>7.390844</td>\n",
       "      <td>1.175863e+06</td>\n",
       "      <td>0.090311</td>\n",
       "      <td>0.123583</td>\n",
       "      <td>3.428505e+04</td>\n",
       "      <td>32902.061114</td>\n",
       "    </tr>\n",
       "    <tr>\n",
       "      <th>min</th>\n",
       "      <td>3.000000</td>\n",
       "      <td>100002.000000</td>\n",
       "      <td>0.000000</td>\n",
       "      <td>0.000000</td>\n",
       "      <td>83.000000</td>\n",
       "      <td>101.000000</td>\n",
       "      <td>1.000000</td>\n",
       "      <td>1.000000</td>\n",
       "      <td>23.000000</td>\n",
       "      <td>10.000000</td>\n",
       "      <td>1.000201e+06</td>\n",
       "      <td>40.498466</td>\n",
       "      <td>-74.254965</td>\n",
       "      <td>9.133493e+05</td>\n",
       "      <td>120973.792223</td>\n",
       "    </tr>\n",
       "    <tr>\n",
       "      <th>25%</th>\n",
       "      <td>186582.750000</td>\n",
       "      <td>221556.000000</td>\n",
       "      <td>4.000000</td>\n",
       "      <td>0.000000</td>\n",
       "      <td>10451.000000</td>\n",
       "      <td>302.000000</td>\n",
       "      <td>3.000000</td>\n",
       "      <td>19.000000</td>\n",
       "      <td>33.000000</td>\n",
       "      <td>14.000000</td>\n",
       "      <td>3.011700e+06</td>\n",
       "      <td>40.631928</td>\n",
       "      <td>-73.980500</td>\n",
       "      <td>9.896578e+05</td>\n",
       "      <td>169515.153719</td>\n",
       "    </tr>\n",
       "    <tr>\n",
       "      <th>50%</th>\n",
       "      <td>366214.500000</td>\n",
       "      <td>319967.000000</td>\n",
       "      <td>9.000000</td>\n",
       "      <td>0.000000</td>\n",
       "      <td>11214.000000</td>\n",
       "      <td>402.000000</td>\n",
       "      <td>4.000000</td>\n",
       "      <td>30.000000</td>\n",
       "      <td>52.000000</td>\n",
       "      <td>21.000000</td>\n",
       "      <td>4.008100e+06</td>\n",
       "      <td>40.700612</td>\n",
       "      <td>-73.912911</td>\n",
       "      <td>1.008386e+06</td>\n",
       "      <td>194560.252497</td>\n",
       "    </tr>\n",
       "    <tr>\n",
       "      <th>75%</th>\n",
       "      <td>546170.250000</td>\n",
       "      <td>404624.000000</td>\n",
       "      <td>16.000000</td>\n",
       "      <td>0.000000</td>\n",
       "      <td>11365.000000</td>\n",
       "      <td>412.000000</td>\n",
       "      <td>4.000000</td>\n",
       "      <td>43.000000</td>\n",
       "      <td>64.000000</td>\n",
       "      <td>25.000000</td>\n",
       "      <td>4.103202e+06</td>\n",
       "      <td>40.762228</td>\n",
       "      <td>-73.834910</td>\n",
       "      <td>1.029991e+06</td>\n",
       "      <td>217019.571916</td>\n",
       "    </tr>\n",
       "    <tr>\n",
       "      <th>max</th>\n",
       "      <td>722694.000000</td>\n",
       "      <td>999999.000000</td>\n",
       "      <td>450.000000</td>\n",
       "      <td>140.000000</td>\n",
       "      <td>11697.000000</td>\n",
       "      <td>503.000000</td>\n",
       "      <td>5.000000</td>\n",
       "      <td>51.000000</td>\n",
       "      <td>87.000000</td>\n",
       "      <td>36.000000</td>\n",
       "      <td>5.032300e+06</td>\n",
       "      <td>40.912918</td>\n",
       "      <td>-73.700488</td>\n",
       "      <td>1.067248e+06</td>\n",
       "      <td>271894.092088</td>\n",
       "    </tr>\n",
       "  </tbody>\n",
       "</table>\n",
       "</div>"
      ],
      "text/plain": [
       "             tree_id       block_id       tree_dbh     stump_diam  \\\n",
       "count  683788.000000  683788.000000  683788.000000  683788.000000   \n",
       "mean   365205.011085  313793.096236      11.279787       0.432463   \n",
       "std    208122.092902  114839.024312       8.723042       3.290241   \n",
       "min         3.000000  100002.000000       0.000000       0.000000   \n",
       "25%    186582.750000  221556.000000       4.000000       0.000000   \n",
       "50%    366214.500000  319967.000000       9.000000       0.000000   \n",
       "75%    546170.250000  404624.000000      16.000000       0.000000   \n",
       "max    722694.000000  999999.000000     450.000000     140.000000   \n",
       "\n",
       "             zipcode         cb_num       borocode       cncldist  \\\n",
       "count  683788.000000  683788.000000  683788.000000  683788.000000   \n",
       "mean    10916.246044     343.505404       3.358500      29.943181   \n",
       "std       651.553364     115.740601       1.166746      14.328531   \n",
       "min        83.000000     101.000000       1.000000       1.000000   \n",
       "25%     10451.000000     302.000000       3.000000      19.000000   \n",
       "50%     11214.000000     402.000000       4.000000      30.000000   \n",
       "75%     11365.000000     412.000000       4.000000      43.000000   \n",
       "max     11697.000000     503.000000       5.000000      51.000000   \n",
       "\n",
       "            st_assem      st_senate       boro_ct       Latitude  \\\n",
       "count  683788.000000  683788.000000  6.837880e+05  683788.000000   \n",
       "mean       50.791583      20.615781  3.404914e+06      40.701261   \n",
       "std        18.966520       7.390844  1.175863e+06       0.090311   \n",
       "min        23.000000      10.000000  1.000201e+06      40.498466   \n",
       "25%        33.000000      14.000000  3.011700e+06      40.631928   \n",
       "50%        52.000000      21.000000  4.008100e+06      40.700612   \n",
       "75%        64.000000      25.000000  4.103202e+06      40.762228   \n",
       "max        87.000000      36.000000  5.032300e+06      40.912918   \n",
       "\n",
       "           longitude          x_sp           y_sp  \n",
       "count  683788.000000  6.837880e+05  683788.000000  \n",
       "mean      -73.924060  1.005280e+06  194798.424624  \n",
       "std         0.123583  3.428505e+04   32902.061114  \n",
       "min       -74.254965  9.133493e+05  120973.792223  \n",
       "25%       -73.980500  9.896578e+05  169515.153719  \n",
       "50%       -73.912911  1.008386e+06  194560.252497  \n",
       "75%       -73.834910  1.029991e+06  217019.571916  \n",
       "max       -73.700488  1.067248e+06  271894.092088  "
      ]
     },
     "execution_count": 51,
     "metadata": {},
     "output_type": "execute_result"
    }
   ],
   "source": [
    "trees.describe()"
   ]
  },
  {
   "cell_type": "markdown",
   "metadata": {},
   "source": [
    "* Rename some columns."
   ]
  },
  {
   "cell_type": "code",
   "execution_count": 52,
   "metadata": {},
   "outputs": [],
   "source": [
    "trees.columns = ['created_at', 'tree_id', 'block_id', 'the_geom', 'tree_dbh',\n",
    "       'stump_diam', 'curb_loc', 'status', 'health', 'spc_latin', 'spc_common',\n",
    "       'steward', 'guards', 'sidewalk', 'user_type', 'problems', 'root_stone',\n",
    "       'root_grate', 'root_other', 'trunk_wire', 'trunk_light', 'trunk_other',\n",
    "       'branch_light', 'branch_shoe', 'branch_other', 'address', 'zipcode',\n",
    "       'zip_city', 'cb_num', 'borocode', 'boroname', 'council_dist', 'st_assem',\n",
    "       'st_senate', 'nta', 'nta_name', 'boro_ct', 'state', 'latitude',\n",
    "       'longitude', 'x_sp', 'y_sp']"
   ]
  },
  {
   "cell_type": "markdown",
   "metadata": {},
   "source": [
    "* Remove stumps and dead trees."
   ]
  },
  {
   "cell_type": "code",
   "execution_count": 53,
   "metadata": {},
   "outputs": [
    {
     "data": {
      "text/plain": [
       "Alive    652173\n",
       "Stump     17654\n",
       "Dead      13961\n",
       "Name: status, dtype: int64"
      ]
     },
     "execution_count": 53,
     "metadata": {},
     "output_type": "execute_result"
    }
   ],
   "source": [
    "trees.status.value_counts()"
   ]
  },
  {
   "cell_type": "code",
   "execution_count": 54,
   "metadata": {},
   "outputs": [
    {
     "data": {
      "text/plain": [
       "(652173, 42)"
      ]
     },
     "execution_count": 54,
     "metadata": {},
     "output_type": "execute_result"
    }
   ],
   "source": [
    "# Get indices of dead trees and stumps\n",
    "dead = trees[trees.status.isin(['Dead', 'Stump'])].index\n",
    " \n",
    "# Delete these row indices from dataFrame\n",
    "trees.drop(dead, inplace=True)\n",
    "\n",
    "trees.shape"
   ]
  },
  {
   "cell_type": "markdown",
   "metadata": {},
   "source": [
    "* Take a look at our target variable."
   ]
  },
  {
   "cell_type": "code",
   "execution_count": 55,
   "metadata": {},
   "outputs": [
    {
     "data": {
      "text/plain": [
       "Good    528850\n",
       "Fair     96504\n",
       "Poor     26818\n",
       "Name: health, dtype: int64"
      ]
     },
     "execution_count": 55,
     "metadata": {},
     "output_type": "execute_result"
    }
   ],
   "source": [
    "trees.health.value_counts()"
   ]
  },
  {
   "cell_type": "code",
   "execution_count": 56,
   "metadata": {},
   "outputs": [
    {
     "data": {
      "text/plain": [
       "Good    0.810906\n",
       "Fair    0.147973\n",
       "Poor    0.041121\n",
       "Name: health, dtype: float64"
      ]
     },
     "execution_count": 56,
     "metadata": {},
     "output_type": "execute_result"
    }
   ],
   "source": [
    "trees.health.value_counts(normalize=True)"
   ]
  },
  {
   "cell_type": "code",
   "execution_count": null,
   "metadata": {},
   "outputs": [],
   "source": []
  },
  {
   "cell_type": "code",
   "execution_count": null,
   "metadata": {},
   "outputs": [],
   "source": []
  },
  {
   "cell_type": "code",
   "execution_count": 57,
   "metadata": {},
   "outputs": [
    {
     "data": {
      "text/plain": [
       "Queens           237974\n",
       "Brooklyn         169744\n",
       "Staten Island    101443\n",
       "Bronx             80585\n",
       "Manhattan         62427\n",
       "Name: boroname, dtype: int64"
      ]
     },
     "execution_count": 57,
     "metadata": {},
     "output_type": "execute_result"
    }
   ],
   "source": [
    "trees.boroname.value_counts()"
   ]
  },
  {
   "cell_type": "code",
   "execution_count": 58,
   "metadata": {},
   "outputs": [
    {
     "data": {
      "text/plain": [
       "boroname       health\n",
       "Bronx          Good      0.826494\n",
       "               Fair      0.135100\n",
       "               Poor      0.038407\n",
       "Brooklyn       Good      0.814238\n",
       "               Fair      0.147711\n",
       "               Poor      0.038051\n",
       "Manhattan      Good      0.758614\n",
       "               Fair      0.183574\n",
       "               Poor      0.057812\n",
       "Queens         Good      0.815249\n",
       "               Fair      0.145180\n",
       "               Poor      0.039572\n",
       "Staten Island  Good      0.814939\n",
       "               Fair      0.143284\n",
       "               Poor      0.041778\n",
       "Name: health, dtype: float64"
      ]
     },
     "execution_count": 58,
     "metadata": {},
     "output_type": "execute_result"
    }
   ],
   "source": [
    "trees.groupby('boroname').health.value_counts(normalize=True)"
   ]
  },
  {
   "cell_type": "code",
   "execution_count": 53,
   "metadata": {},
   "outputs": [
    {
     "ename": "KeyError",
     "evalue": "'boroname'",
     "output_type": "error",
     "traceback": [
      "\u001b[0;31m---------------------------------------------------------------------------\u001b[0m",
      "\u001b[0;31mKeyError\u001b[0m                                  Traceback (most recent call last)",
      "\u001b[0;32m<ipython-input-53-c292412e108b>\u001b[0m in \u001b[0;36m<module>\u001b[0;34m\u001b[0m\n\u001b[0;32m----> 1\u001b[0;31m \u001b[0mtrees\u001b[0m\u001b[0;34m.\u001b[0m\u001b[0mgroupby\u001b[0m\u001b[0;34m(\u001b[0m\u001b[0;34m'boroname'\u001b[0m\u001b[0;34m)\u001b[0m\u001b[0;34m.\u001b[0m\u001b[0mhealth\u001b[0m\u001b[0;34m.\u001b[0m\u001b[0mvalue_counts\u001b[0m\u001b[0;34m(\u001b[0m\u001b[0;34m)\u001b[0m\u001b[0;34m\u001b[0m\u001b[0;34m\u001b[0m\u001b[0m\n\u001b[0m",
      "\u001b[0;32m/opt/anaconda3/envs/learn-env/lib/python3.6/site-packages/pandas/core/frame.py\u001b[0m in \u001b[0;36mgroupby\u001b[0;34m(self, by, axis, level, as_index, sort, group_keys, squeeze, observed)\u001b[0m\n\u001b[1;32m   5808\u001b[0m             \u001b[0mgroup_keys\u001b[0m\u001b[0;34m=\u001b[0m\u001b[0mgroup_keys\u001b[0m\u001b[0;34m,\u001b[0m\u001b[0;34m\u001b[0m\u001b[0;34m\u001b[0m\u001b[0m\n\u001b[1;32m   5809\u001b[0m             \u001b[0msqueeze\u001b[0m\u001b[0;34m=\u001b[0m\u001b[0msqueeze\u001b[0m\u001b[0;34m,\u001b[0m\u001b[0;34m\u001b[0m\u001b[0;34m\u001b[0m\u001b[0m\n\u001b[0;32m-> 5810\u001b[0;31m             \u001b[0mobserved\u001b[0m\u001b[0;34m=\u001b[0m\u001b[0mobserved\u001b[0m\u001b[0;34m,\u001b[0m\u001b[0;34m\u001b[0m\u001b[0;34m\u001b[0m\u001b[0m\n\u001b[0m\u001b[1;32m   5811\u001b[0m         )\n\u001b[1;32m   5812\u001b[0m \u001b[0;34m\u001b[0m\u001b[0m\n",
      "\u001b[0;32m/opt/anaconda3/envs/learn-env/lib/python3.6/site-packages/pandas/core/groupby/groupby.py\u001b[0m in \u001b[0;36m__init__\u001b[0;34m(self, obj, keys, axis, level, grouper, exclusions, selection, as_index, sort, group_keys, squeeze, observed, mutated)\u001b[0m\n\u001b[1;32m    407\u001b[0m                 \u001b[0msort\u001b[0m\u001b[0;34m=\u001b[0m\u001b[0msort\u001b[0m\u001b[0;34m,\u001b[0m\u001b[0;34m\u001b[0m\u001b[0;34m\u001b[0m\u001b[0m\n\u001b[1;32m    408\u001b[0m                 \u001b[0mobserved\u001b[0m\u001b[0;34m=\u001b[0m\u001b[0mobserved\u001b[0m\u001b[0;34m,\u001b[0m\u001b[0;34m\u001b[0m\u001b[0;34m\u001b[0m\u001b[0m\n\u001b[0;32m--> 409\u001b[0;31m                 \u001b[0mmutated\u001b[0m\u001b[0;34m=\u001b[0m\u001b[0mself\u001b[0m\u001b[0;34m.\u001b[0m\u001b[0mmutated\u001b[0m\u001b[0;34m,\u001b[0m\u001b[0;34m\u001b[0m\u001b[0;34m\u001b[0m\u001b[0m\n\u001b[0m\u001b[1;32m    410\u001b[0m             )\n\u001b[1;32m    411\u001b[0m \u001b[0;34m\u001b[0m\u001b[0m\n",
      "\u001b[0;32m/opt/anaconda3/envs/learn-env/lib/python3.6/site-packages/pandas/core/groupby/grouper.py\u001b[0m in \u001b[0;36mget_grouper\u001b[0;34m(obj, key, axis, level, sort, observed, mutated, validate)\u001b[0m\n\u001b[1;32m    596\u001b[0m                 \u001b[0min_axis\u001b[0m\u001b[0;34m,\u001b[0m \u001b[0mname\u001b[0m\u001b[0;34m,\u001b[0m \u001b[0mlevel\u001b[0m\u001b[0;34m,\u001b[0m \u001b[0mgpr\u001b[0m \u001b[0;34m=\u001b[0m \u001b[0;32mFalse\u001b[0m\u001b[0;34m,\u001b[0m \u001b[0;32mNone\u001b[0m\u001b[0;34m,\u001b[0m \u001b[0mgpr\u001b[0m\u001b[0;34m,\u001b[0m \u001b[0;32mNone\u001b[0m\u001b[0;34m\u001b[0m\u001b[0;34m\u001b[0m\u001b[0m\n\u001b[1;32m    597\u001b[0m             \u001b[0;32melse\u001b[0m\u001b[0;34m:\u001b[0m\u001b[0;34m\u001b[0m\u001b[0;34m\u001b[0m\u001b[0m\n\u001b[0;32m--> 598\u001b[0;31m                 \u001b[0;32mraise\u001b[0m \u001b[0mKeyError\u001b[0m\u001b[0;34m(\u001b[0m\u001b[0mgpr\u001b[0m\u001b[0;34m)\u001b[0m\u001b[0;34m\u001b[0m\u001b[0;34m\u001b[0m\u001b[0m\n\u001b[0m\u001b[1;32m    599\u001b[0m         \u001b[0;32melif\u001b[0m \u001b[0misinstance\u001b[0m\u001b[0;34m(\u001b[0m\u001b[0mgpr\u001b[0m\u001b[0;34m,\u001b[0m \u001b[0mGrouper\u001b[0m\u001b[0;34m)\u001b[0m \u001b[0;32mand\u001b[0m \u001b[0mgpr\u001b[0m\u001b[0;34m.\u001b[0m\u001b[0mkey\u001b[0m \u001b[0;32mis\u001b[0m \u001b[0;32mnot\u001b[0m \u001b[0;32mNone\u001b[0m\u001b[0;34m:\u001b[0m\u001b[0;34m\u001b[0m\u001b[0;34m\u001b[0m\u001b[0m\n\u001b[1;32m    600\u001b[0m             \u001b[0;31m# Add key to exclusions\u001b[0m\u001b[0;34m\u001b[0m\u001b[0;34m\u001b[0m\u001b[0;34m\u001b[0m\u001b[0m\n",
      "\u001b[0;31mKeyError\u001b[0m: 'boroname'"
     ]
    }
   ],
   "source": [
    "trees.groupby('boroname').health.value_counts()"
   ]
  },
  {
   "cell_type": "code",
   "execution_count": 59,
   "metadata": {
    "scrolled": true
   },
   "outputs": [
    {
     "data": {
      "text/plain": [
       "TreesCount Staff    282259\n",
       "Volunteer           207777\n",
       "NYC Parks Staff     162137\n",
       "Name: user_type, dtype: int64"
      ]
     },
     "execution_count": 59,
     "metadata": {},
     "output_type": "execute_result"
    }
   ],
   "source": [
    "trees.user_type.value_counts()"
   ]
  },
  {
   "cell_type": "markdown",
   "metadata": {},
   "source": [
    "* Look for NaN values."
   ]
  },
  {
   "cell_type": "code",
   "execution_count": 60,
   "metadata": {
    "scrolled": true
   },
   "outputs": [
    {
     "data": {
      "text/plain": [
       "created_at       0\n",
       "tree_id          0\n",
       "block_id         0\n",
       "the_geom         0\n",
       "tree_dbh         0\n",
       "stump_diam       0\n",
       "curb_loc         0\n",
       "status           0\n",
       "health           1\n",
       "spc_latin        5\n",
       "spc_common       5\n",
       "steward          0\n",
       "guards           1\n",
       "sidewalk         1\n",
       "user_type        0\n",
       "problems        49\n",
       "root_stone       0\n",
       "root_grate       0\n",
       "root_other       0\n",
       "trunk_wire       0\n",
       "trunk_light      0\n",
       "trunk_other      0\n",
       "branch_light     0\n",
       "branch_shoe      0\n",
       "branch_other     0\n",
       "address          0\n",
       "zipcode          0\n",
       "zip_city         0\n",
       "cb_num           0\n",
       "borocode         0\n",
       "boroname         0\n",
       "council_dist     0\n",
       "st_assem         0\n",
       "st_senate        0\n",
       "nta              0\n",
       "nta_name         0\n",
       "boro_ct          0\n",
       "state            0\n",
       "latitude         0\n",
       "longitude        0\n",
       "x_sp             0\n",
       "y_sp             0\n",
       "dtype: int64"
      ]
     },
     "execution_count": 60,
     "metadata": {},
     "output_type": "execute_result"
    }
   ],
   "source": [
    "trees.isna().sum()"
   ]
  },
  {
   "cell_type": "markdown",
   "metadata": {},
   "source": [
    "* Replace NaNs in 'problems' column with 'None', in case we end up using that column.\n",
    "* Drop the few rows with missing values for our target variable and species of tree."
   ]
  },
  {
   "cell_type": "code",
   "execution_count": 61,
   "metadata": {},
   "outputs": [],
   "source": [
    "trees.problems.fillna(value='None', inplace=True)"
   ]
  },
  {
   "cell_type": "code",
   "execution_count": 62,
   "metadata": {},
   "outputs": [],
   "source": [
    "trees.dropna(how='any', axis=0, inplace=True)"
   ]
  },
  {
   "cell_type": "markdown",
   "metadata": {},
   "source": [
    "* Create and pickle a dictionary of neighborhood codes and names, in case we want that later."
   ]
  },
  {
   "cell_type": "code",
   "execution_count": 63,
   "metadata": {
    "scrolled": true
   },
   "outputs": [],
   "source": [
    "nta = list(trees['nta'].unique())"
   ]
  },
  {
   "cell_type": "code",
   "execution_count": 64,
   "metadata": {},
   "outputs": [],
   "source": [
    "nta_name = list(trees['nta_name'].unique())"
   ]
  },
  {
   "cell_type": "code",
   "execution_count": 65,
   "metadata": {},
   "outputs": [
    {
     "data": {
      "text/plain": [
       "{'QN17': 'Forest Hills',\n",
       " 'QN49': 'Whitestone',\n",
       " 'BK90': 'East Williamsburg',\n",
       " 'BK37': 'Park Slope-Gowanus',\n",
       " 'MN14': 'Lincoln Square',\n",
       " 'MN15': 'Clinton',\n",
       " 'SI14': 'Grasmere-Arrochar-Ft. Wadsworth',\n",
       " 'BK26': 'Gravesend',\n",
       " 'QN72': 'Steinway',\n",
       " 'SI54': 'Great Kills',\n",
       " 'BK69': 'Clinton Hill',\n",
       " 'BK81': 'Brownsville',\n",
       " 'BK29': 'Bensonhurst East',\n",
       " 'BK42': 'Flatbush',\n",
       " 'QN25': 'Corona',\n",
       " 'BK68': 'Fort Greene',\n",
       " 'MN40': 'Upper East Side-Carnegie Hill',\n",
       " 'MN12': 'Upper West Side',\n",
       " 'SI25': 'Oakwood-Oakwood Beach',\n",
       " 'QN60': 'Kew Gardens',\n",
       " 'BK46': 'Ocean Parkway South',\n",
       " 'MN27': 'Chinatown',\n",
       " 'QN20': 'Ridgewood',\n",
       " 'BX17': 'East Tremont',\n",
       " 'SI36': 'Old Town-Dongan Hills-South Beach',\n",
       " 'SI45': 'New Dorp-Midland Beach',\n",
       " 'BK17': 'Sheepshead Bay-Gerritsen Beach-Manhattan Beach',\n",
       " 'MN50': 'Stuyvesant Town-Cooper Village',\n",
       " 'MN24': 'SoHo-TriBeCa-Civic Center-Little Italy',\n",
       " 'SI24': 'Todt Hill-Emerson Hill-Heartland Village-Lighthous',\n",
       " 'BK44': 'Madison',\n",
       " 'QN62': 'Queensboro Hill',\n",
       " 'SI01': \"Annadale-Huguenot-Prince's Bay-Eltingville\",\n",
       " 'BX06': 'Belmont',\n",
       " 'BX41': 'Mount Hope',\n",
       " 'SI48': 'Arden Heights',\n",
       " 'MN20': 'Murray Hill-Kips Bay',\n",
       " 'MN23': 'West Village',\n",
       " 'BK33': 'Carroll Gardens-Columbia Street-Red Hook',\n",
       " 'MN09': 'Morningside Heights',\n",
       " 'QN28': 'Jackson Heights',\n",
       " 'BX43': 'Norwood',\n",
       " 'BX36': 'University Heights-Morris Heights',\n",
       " 'BK19': 'Brighton Beach',\n",
       " 'BK31': 'Bay Ridge',\n",
       " 'BK43': 'Midwood',\n",
       " 'QN51': 'Murray Hill',\n",
       " 'BK96': 'Rugby-Remsen Village',\n",
       " 'QN22': 'Flushing',\n",
       " 'QN15': 'Far Rockaway-Bayswater',\n",
       " 'BK77': 'Bushwick North',\n",
       " 'QN12': 'Hammels-Arverne-Edgemere',\n",
       " 'BX40': 'Fordham South',\n",
       " 'QN03': 'Springfield Gardens South-Brookville',\n",
       " 'QN18': 'Rego Park',\n",
       " 'QN34': 'Queens Village',\n",
       " 'BK64': 'Prospect Heights',\n",
       " 'BK28': 'Bensonhurst West',\n",
       " 'BK95': 'Erasmus',\n",
       " 'BX62': 'Woodlawn-Wakefield',\n",
       " 'QN27': 'East Elmhurst',\n",
       " 'MN31': 'Lenox Hill-Roosevelt Island',\n",
       " 'QN70': 'Astoria',\n",
       " 'MN21': 'Gramercy',\n",
       " 'QN53': 'Woodhaven',\n",
       " 'QN10': 'Breezy Point-Belle Harbor-Rockaway Park-Broad Chan',\n",
       " 'BK41': 'Kensington-Ocean Parkway',\n",
       " 'QN41': 'Fresh Meadows-Utopia',\n",
       " 'QN48': 'Auburndale',\n",
       " 'BK76': 'Greenpoint',\n",
       " 'SI05': 'New Springville-Bloomfield-Travis',\n",
       " 'BX28': 'Van Cortlandt Village',\n",
       " 'BK58': 'Flatlands',\n",
       " 'BK25': 'Homecrest',\n",
       " 'MN17': 'Midtown-Midtown South',\n",
       " 'QN19': 'Glendale',\n",
       " 'MN25': 'Battery Park City-Lower Manhattan',\n",
       " 'MN11': 'Central Harlem South',\n",
       " 'QN31': 'Hunters Point-Sunnyside-West Maspeth',\n",
       " 'BK88': 'Borough Park',\n",
       " 'QN08': 'St. Albans',\n",
       " 'QN66': 'Laurelton',\n",
       " 'QN46': 'Bayside-Bayside Hills',\n",
       " 'QN42': 'Oakland Gardens',\n",
       " 'QN06': 'Jamaica Estates-Holliswood',\n",
       " 'QN23': 'College Point',\n",
       " 'BX01': 'Claremont-Bathgate',\n",
       " 'MN19': 'Turtle Bay-East Midtown',\n",
       " 'BX26': 'Highbridge',\n",
       " 'QN45': 'Douglas Manor-Douglaston-Little Neck',\n",
       " 'BK61': 'Crown Heights North',\n",
       " 'BK73': 'North Side-South Side',\n",
       " 'BX49': 'Pelham Parkway',\n",
       " 'QN71': 'Old Astoria',\n",
       " 'QN57': 'Lindenwood-Howard Beach',\n",
       " 'BK82': 'East New York',\n",
       " 'BK78': 'Bushwick South',\n",
       " 'BK79': 'Ocean Hill',\n",
       " 'BK60': 'Prospect Lefferts Gardens-Wingate',\n",
       " 'MN28': 'Lower East Side',\n",
       " 'MN13': 'Hudson Yards-Chelsea-Flatiron-Union Square',\n",
       " 'BK34': 'Sunset Park East',\n",
       " 'BK75': 'Bedford',\n",
       " 'BX08': 'West Farms-Bronx River',\n",
       " 'QN54': 'Richmond Hill',\n",
       " 'SI07': 'Westerleigh',\n",
       " 'BX52': 'Schuylerville-Throgs Neck-Edgewater Park',\n",
       " 'BK45': 'Georgetown-Marine Park-Bergen Beach-Mill Basin',\n",
       " 'MN32': 'Yorkville',\n",
       " 'BX03': 'Eastchester-Edenwald-Baychester',\n",
       " 'QN50': 'Elmhurst-Maspeth',\n",
       " 'BK35': 'Stuyvesant Heights',\n",
       " 'BX30': 'Kingsbridge Heights',\n",
       " 'BX37': 'Van Nest-Morris Park-Westchester Square',\n",
       " 'BX34': 'Melrose South-Mott Haven North',\n",
       " 'BK85': 'East New York (Pennsylvania Ave)',\n",
       " 'BK27': 'Bath Beach',\n",
       " 'BK21': 'Seagate-Coney Island',\n",
       " 'SI32': 'Rossville-Woodrow',\n",
       " 'MN22': 'East Village',\n",
       " 'BK83': 'Cypress Hills-City Line',\n",
       " 'BK50': 'Canarsie',\n",
       " 'BK32': 'Sunset Park West',\n",
       " 'MN36': 'Washington Heights South',\n",
       " 'SI11': 'Charleston-Richmond Valley-Tottenville',\n",
       " 'QN37': 'Kew Gardens Hills',\n",
       " 'BX10': 'Pelham Bay-Country Club-City Island',\n",
       " 'BK72': 'Williamsburg',\n",
       " 'MN33': 'East Harlem South',\n",
       " 'QN63': 'Woodside',\n",
       " 'SI35': 'New Brighton-Silver Lake',\n",
       " 'QN43': 'Bellerose',\n",
       " 'BX75': 'Crotona Park East',\n",
       " 'BK30': 'Dyker Heights',\n",
       " 'QN29': 'Elmhurst',\n",
       " 'SI12': \"Mariner's Harbor-Arlington-Port Ivory-Graniteville\",\n",
       " 'QN44': 'Glen Oaks-Floral Park-New Hyde Park',\n",
       " 'BK63': 'Crown Heights South',\n",
       " 'MN04': 'Hamilton Heights',\n",
       " 'QN55': 'South Ozone Park',\n",
       " 'MN06': 'Manhattanville',\n",
       " 'QN47': 'Ft. Totten-Bay Terrace-Clearview',\n",
       " 'BX33': 'Longwood',\n",
       " 'QN33': 'Cambria Heights',\n",
       " 'SI37': 'Stapleton-Rosebank',\n",
       " 'BK91': 'East Flatbush-Farragut',\n",
       " 'BK23': 'West Brighton',\n",
       " 'BX39': 'Mott Haven-Port Morris',\n",
       " 'BX09': 'Soundview-Castle Hill-Clason Point-Harding Park',\n",
       " 'BK38': 'DUMBO-Vinegar Hill-Downtown Brooklyn-Boerum Hill',\n",
       " 'BX63': 'West Concourse',\n",
       " 'BX05': 'Bedford Park-Fordham North',\n",
       " 'QN05': 'Rosedale',\n",
       " 'BX29': 'Spuyten Duyvil-Kingsbridge',\n",
       " 'QN56': 'Ozone Park',\n",
       " 'MN01': 'Marble Hill-Inwood',\n",
       " 'BX27': 'Hunts Point',\n",
       " 'SI22': 'West New Brighton-New Brighton-St. George',\n",
       " 'QN35': 'Briarwood-Jamaica Hills',\n",
       " 'QN68': 'Queensbridge-Ravenswood-Long Island City',\n",
       " 'BK40': 'Windsor Terrace',\n",
       " 'BX44': 'Williamsbridge-Olinville',\n",
       " 'MN35': 'Washington Heights North',\n",
       " 'QN52': 'East Flushing',\n",
       " 'QN38': 'Pomonok-Flushing Heights-Hillcrest',\n",
       " 'BX14': 'East Concourse-Concourse Village',\n",
       " 'BX22': 'North Riverdale-Fieldston-Riverdale',\n",
       " 'BK09': 'Brooklyn Heights-Cobble Hill',\n",
       " 'SI28': 'Port Richmond',\n",
       " 'SI08': 'Grymes Hill-Clifton-Fox Hills',\n",
       " 'MN34': 'East Harlem North',\n",
       " 'QN26': 'North Corona',\n",
       " 'BX35': 'Morrisania-Melrose',\n",
       " 'BX55': 'Soundview-Bruckner',\n",
       " 'BX31': 'Allerton-Pelham Gardens',\n",
       " 'QN61': 'Jamaica',\n",
       " 'BX46': 'Parkchester',\n",
       " 'MN03': 'Central Harlem North-Polo Grounds',\n",
       " 'BX13': 'Co-op City',\n",
       " 'QN21': 'Middle Village',\n",
       " 'QN07': 'Hollis',\n",
       " 'QN76': 'Baisley Park',\n",
       " 'QN30': 'Maspeth',\n",
       " 'QN01': 'South Jamaica',\n",
       " 'BX59': 'Westchester-Unionport',\n",
       " 'QN02': 'Springfield Gardens North',\n",
       " 'BK93': 'Starrett City',\n",
       " 'BX07': 'Bronxdale'}"
      ]
     },
     "execution_count": 65,
     "metadata": {},
     "output_type": "execute_result"
    }
   ],
   "source": [
    "nta_dict = {k: v for k,v in zip(nta, nta_name)}\n",
    "nta_dict"
   ]
  },
  {
   "cell_type": "code",
   "execution_count": 66,
   "metadata": {},
   "outputs": [],
   "source": [
    "with open('data/nta_dict.pickle', 'wb') as f:\n",
    "    pickle.dump(nta_dict, f, protocol=pickle.HIGHEST_PROTOCOL)"
   ]
  },
  {
   "cell_type": "markdown",
   "metadata": {},
   "source": [
    "* Drop unnecessary columns."
   ]
  },
  {
   "cell_type": "code",
   "execution_count": 67,
   "metadata": {},
   "outputs": [
    {
     "data": {
      "text/plain": [
       "Index(['created_at', 'tree_id', 'block_id', 'the_geom', 'tree_dbh',\n",
       "       'stump_diam', 'curb_loc', 'status', 'health', 'spc_latin', 'spc_common',\n",
       "       'steward', 'guards', 'sidewalk', 'user_type', 'problems', 'root_stone',\n",
       "       'root_grate', 'root_other', 'trunk_wire', 'trunk_light', 'trunk_other',\n",
       "       'branch_light', 'branch_shoe', 'branch_other', 'address', 'zipcode',\n",
       "       'zip_city', 'cb_num', 'borocode', 'boroname', 'council_dist',\n",
       "       'st_assem', 'st_senate', 'nta', 'nta_name', 'boro_ct', 'state',\n",
       "       'latitude', 'longitude', 'x_sp', 'y_sp'],\n",
       "      dtype='object')"
      ]
     },
     "execution_count": 67,
     "metadata": {},
     "output_type": "execute_result"
    }
   ],
   "source": [
    "trees.columns"
   ]
  },
  {
   "cell_type": "code",
   "execution_count": 68,
   "metadata": {},
   "outputs": [
    {
     "data": {
      "text/plain": [
       "(652166, 20)"
      ]
     },
     "execution_count": 68,
     "metadata": {},
     "output_type": "execute_result"
    }
   ],
   "source": [
    "drop_cols = ['created_at', 'block_id', 'the_geom', 'stump_diam', 'status', 'spc_latin', 'problems', 'address',\n",
    "             'zipcode', 'zip_city', 'borocode', 'council_dist', 'st_assem', 'st_senate', 'nta_name', 'boro_ct',\n",
    "             'state', 'latitude', 'longitude', 'x_sp', 'y_sp']\n",
    "trees.drop(columns=drop_cols, inplace=True)\n",
    "trees.set_index(['tree_id'], inplace=True)\n",
    "trees.shape"
   ]
  },
  {
   "cell_type": "code",
   "execution_count": 69,
   "metadata": {},
   "outputs": [
    {
     "data": {
      "text/html": [
       "<div>\n",
       "<style scoped>\n",
       "    .dataframe tbody tr th:only-of-type {\n",
       "        vertical-align: middle;\n",
       "    }\n",
       "\n",
       "    .dataframe tbody tr th {\n",
       "        vertical-align: top;\n",
       "    }\n",
       "\n",
       "    .dataframe thead th {\n",
       "        text-align: right;\n",
       "    }\n",
       "</style>\n",
       "<table border=\"1\" class=\"dataframe\">\n",
       "  <thead>\n",
       "    <tr style=\"text-align: right;\">\n",
       "      <th></th>\n",
       "      <th>tree_dbh</th>\n",
       "      <th>curb_loc</th>\n",
       "      <th>health</th>\n",
       "      <th>spc_common</th>\n",
       "      <th>steward</th>\n",
       "      <th>guards</th>\n",
       "      <th>sidewalk</th>\n",
       "      <th>user_type</th>\n",
       "      <th>root_stone</th>\n",
       "      <th>root_grate</th>\n",
       "      <th>root_other</th>\n",
       "      <th>trunk_wire</th>\n",
       "      <th>trunk_light</th>\n",
       "      <th>trunk_other</th>\n",
       "      <th>branch_light</th>\n",
       "      <th>branch_shoe</th>\n",
       "      <th>branch_other</th>\n",
       "      <th>cb_num</th>\n",
       "      <th>boroname</th>\n",
       "      <th>nta</th>\n",
       "    </tr>\n",
       "    <tr>\n",
       "      <th>tree_id</th>\n",
       "      <th></th>\n",
       "      <th></th>\n",
       "      <th></th>\n",
       "      <th></th>\n",
       "      <th></th>\n",
       "      <th></th>\n",
       "      <th></th>\n",
       "      <th></th>\n",
       "      <th></th>\n",
       "      <th></th>\n",
       "      <th></th>\n",
       "      <th></th>\n",
       "      <th></th>\n",
       "      <th></th>\n",
       "      <th></th>\n",
       "      <th></th>\n",
       "      <th></th>\n",
       "      <th></th>\n",
       "      <th></th>\n",
       "      <th></th>\n",
       "    </tr>\n",
       "  </thead>\n",
       "  <tbody>\n",
       "    <tr>\n",
       "      <th>180683</th>\n",
       "      <td>3</td>\n",
       "      <td>OnCurb</td>\n",
       "      <td>Fair</td>\n",
       "      <td>red maple</td>\n",
       "      <td>None</td>\n",
       "      <td>None</td>\n",
       "      <td>NoDamage</td>\n",
       "      <td>TreesCount Staff</td>\n",
       "      <td>No</td>\n",
       "      <td>No</td>\n",
       "      <td>No</td>\n",
       "      <td>No</td>\n",
       "      <td>No</td>\n",
       "      <td>No</td>\n",
       "      <td>No</td>\n",
       "      <td>No</td>\n",
       "      <td>No</td>\n",
       "      <td>406</td>\n",
       "      <td>Queens</td>\n",
       "      <td>QN17</td>\n",
       "    </tr>\n",
       "    <tr>\n",
       "      <th>200540</th>\n",
       "      <td>21</td>\n",
       "      <td>OnCurb</td>\n",
       "      <td>Fair</td>\n",
       "      <td>pin oak</td>\n",
       "      <td>None</td>\n",
       "      <td>None</td>\n",
       "      <td>Damage</td>\n",
       "      <td>TreesCount Staff</td>\n",
       "      <td>Yes</td>\n",
       "      <td>No</td>\n",
       "      <td>No</td>\n",
       "      <td>No</td>\n",
       "      <td>No</td>\n",
       "      <td>No</td>\n",
       "      <td>No</td>\n",
       "      <td>No</td>\n",
       "      <td>No</td>\n",
       "      <td>407</td>\n",
       "      <td>Queens</td>\n",
       "      <td>QN49</td>\n",
       "    </tr>\n",
       "    <tr>\n",
       "      <th>204026</th>\n",
       "      <td>3</td>\n",
       "      <td>OnCurb</td>\n",
       "      <td>Good</td>\n",
       "      <td>honeylocust</td>\n",
       "      <td>1or2</td>\n",
       "      <td>None</td>\n",
       "      <td>Damage</td>\n",
       "      <td>Volunteer</td>\n",
       "      <td>No</td>\n",
       "      <td>No</td>\n",
       "      <td>No</td>\n",
       "      <td>No</td>\n",
       "      <td>No</td>\n",
       "      <td>No</td>\n",
       "      <td>No</td>\n",
       "      <td>No</td>\n",
       "      <td>No</td>\n",
       "      <td>301</td>\n",
       "      <td>Brooklyn</td>\n",
       "      <td>BK90</td>\n",
       "    </tr>\n",
       "    <tr>\n",
       "      <th>204337</th>\n",
       "      <td>10</td>\n",
       "      <td>OnCurb</td>\n",
       "      <td>Good</td>\n",
       "      <td>honeylocust</td>\n",
       "      <td>None</td>\n",
       "      <td>None</td>\n",
       "      <td>Damage</td>\n",
       "      <td>Volunteer</td>\n",
       "      <td>Yes</td>\n",
       "      <td>No</td>\n",
       "      <td>No</td>\n",
       "      <td>No</td>\n",
       "      <td>No</td>\n",
       "      <td>No</td>\n",
       "      <td>No</td>\n",
       "      <td>No</td>\n",
       "      <td>No</td>\n",
       "      <td>301</td>\n",
       "      <td>Brooklyn</td>\n",
       "      <td>BK90</td>\n",
       "    </tr>\n",
       "    <tr>\n",
       "      <th>189565</th>\n",
       "      <td>21</td>\n",
       "      <td>OnCurb</td>\n",
       "      <td>Good</td>\n",
       "      <td>American linden</td>\n",
       "      <td>None</td>\n",
       "      <td>None</td>\n",
       "      <td>Damage</td>\n",
       "      <td>Volunteer</td>\n",
       "      <td>Yes</td>\n",
       "      <td>No</td>\n",
       "      <td>No</td>\n",
       "      <td>No</td>\n",
       "      <td>No</td>\n",
       "      <td>No</td>\n",
       "      <td>No</td>\n",
       "      <td>No</td>\n",
       "      <td>No</td>\n",
       "      <td>306</td>\n",
       "      <td>Brooklyn</td>\n",
       "      <td>BK37</td>\n",
       "    </tr>\n",
       "  </tbody>\n",
       "</table>\n",
       "</div>"
      ],
      "text/plain": [
       "         tree_dbh curb_loc health       spc_common steward guards  sidewalk  \\\n",
       "tree_id                                                                       \n",
       "180683          3   OnCurb   Fair        red maple    None   None  NoDamage   \n",
       "200540         21   OnCurb   Fair          pin oak    None   None    Damage   \n",
       "204026          3   OnCurb   Good      honeylocust    1or2   None    Damage   \n",
       "204337         10   OnCurb   Good      honeylocust    None   None    Damage   \n",
       "189565         21   OnCurb   Good  American linden    None   None    Damage   \n",
       "\n",
       "                user_type root_stone root_grate root_other trunk_wire  \\\n",
       "tree_id                                                                 \n",
       "180683   TreesCount Staff         No         No         No         No   \n",
       "200540   TreesCount Staff        Yes         No         No         No   \n",
       "204026          Volunteer         No         No         No         No   \n",
       "204337          Volunteer        Yes         No         No         No   \n",
       "189565          Volunteer        Yes         No         No         No   \n",
       "\n",
       "        trunk_light trunk_other branch_light branch_shoe branch_other  cb_num  \\\n",
       "tree_id                                                                         \n",
       "180683           No          No           No          No           No     406   \n",
       "200540           No          No           No          No           No     407   \n",
       "204026           No          No           No          No           No     301   \n",
       "204337           No          No           No          No           No     301   \n",
       "189565           No          No           No          No           No     306   \n",
       "\n",
       "         boroname   nta  \n",
       "tree_id                  \n",
       "180683     Queens  QN17  \n",
       "200540     Queens  QN49  \n",
       "204026   Brooklyn  BK90  \n",
       "204337   Brooklyn  BK90  \n",
       "189565   Brooklyn  BK37  "
      ]
     },
     "execution_count": 69,
     "metadata": {},
     "output_type": "execute_result"
    }
   ],
   "source": [
    "trees.head()"
   ]
  },
  {
   "cell_type": "markdown",
   "metadata": {},
   "source": [
    "### Dummy columns"
   ]
  },
  {
   "cell_type": "code",
   "execution_count": 70,
   "metadata": {},
   "outputs": [
    {
     "data": {
      "text/plain": [
       "Index(['tree_dbh', 'curb_loc', 'health', 'spc_common', 'steward', 'guards',\n",
       "       'sidewalk', 'user_type', 'root_stone', 'root_grate', 'root_other',\n",
       "       'trunk_wire', 'trunk_light', 'trunk_other', 'branch_light',\n",
       "       'branch_shoe', 'branch_other', 'cb_num', 'boroname', 'nta'],\n",
       "      dtype='object')"
      ]
     },
     "execution_count": 70,
     "metadata": {},
     "output_type": "execute_result"
    }
   ],
   "source": [
    "trees.columns"
   ]
  },
  {
   "cell_type": "code",
   "execution_count": 71,
   "metadata": {},
   "outputs": [
    {
     "data": {
      "text/plain": [
       "array(['OnCurb', 'OffsetFromCurb'], dtype=object)"
      ]
     },
     "execution_count": 71,
     "metadata": {},
     "output_type": "execute_result"
    }
   ],
   "source": [
    "trees.curb_loc.unique()"
   ]
  },
  {
   "cell_type": "code",
   "execution_count": 72,
   "metadata": {},
   "outputs": [
    {
     "data": {
      "text/plain": [
       "array(['NoDamage', 'Damage'], dtype=object)"
      ]
     },
     "execution_count": 72,
     "metadata": {},
     "output_type": "execute_result"
    }
   ],
   "source": [
    "trees.sidewalk.unique()"
   ]
  },
  {
   "cell_type": "code",
   "execution_count": 73,
   "metadata": {
    "scrolled": true
   },
   "outputs": [
    {
     "data": {
      "text/plain": [
       "array(['TreesCount Staff', 'Volunteer', 'NYC Parks Staff'], dtype=object)"
      ]
     },
     "execution_count": 73,
     "metadata": {},
     "output_type": "execute_result"
    }
   ],
   "source": [
    "trees.user_type.unique()"
   ]
  },
  {
   "cell_type": "code",
   "execution_count": 74,
   "metadata": {},
   "outputs": [],
   "source": [
    "# rename columns that we have to manually dummy, so the 0 and 1 make sense\n",
    "trees.rename(columns={'curb_loc': 'on_curb', 'sidewalk': 'sidewalk_damage', 'user_type': 'pro_entry'}, inplace=True)\n",
    "\n",
    "# trees on curb = 1; trees offset from curb = 0\n",
    "trees.on_curb = np.where(trees.on_curb == 'OnCurb', 1, 0)\n",
    "# damage to sidewalk near tree = 1; no sidewalk damage = 0\n",
    "trees.sidewalk_damage = np.where(trees.sidewalk_damage == 'Damage', 1, 0)\n",
    "# Professional staff (TreesCount & NYC Parks) = 1; volunteers = 0\n",
    "trees.pro_entry = np.where(trees.pro_entry == 'Volunteer', 0, 1)"
   ]
  },
  {
   "cell_type": "code",
   "execution_count": 75,
   "metadata": {},
   "outputs": [
    {
     "data": {
      "text/plain": [
       "array(['No', 'Yes'], dtype=object)"
      ]
     },
     "execution_count": 75,
     "metadata": {},
     "output_type": "execute_result"
    }
   ],
   "source": [
    "trees.branch_other.unique()"
   ]
  },
  {
   "cell_type": "markdown",
   "metadata": {},
   "source": [
    "* Reassign yes-no columns to 1s and 0s."
   ]
  },
  {
   "cell_type": "code",
   "execution_count": 76,
   "metadata": {
    "scrolled": true
   },
   "outputs": [
    {
     "data": {
      "text/plain": [
       "array([0, 1])"
      ]
     },
     "execution_count": 76,
     "metadata": {},
     "output_type": "execute_result"
    }
   ],
   "source": [
    "# create list of columns to dummy\n",
    "yes_no_cols = ['root_stone', 'root_grate', 'root_other', 'trunk_wire', 'trunk_light', 'trunk_other',\n",
    "               'branch_light', 'branch_shoe', 'branch_other']\n",
    "\n",
    "# call custom function\n",
    "yes_to_one(trees, yes_no_cols)\n",
    "# check to make sure it worked\n",
    "trees.branch_other.unique()"
   ]
  },
  {
   "cell_type": "markdown",
   "metadata": {},
   "source": [
    "* First rename a steward value that doesn't make sense (4 is accounted for twice, so renaming '4orMore' to '5plus').\n",
    "* Create dummies for number of stewards, usefulness of tree guards, and borough name.\n",
    "* Hold off on creating dummies for community board numbers and neighborhood codes."
   ]
  },
  {
   "cell_type": "code",
   "execution_count": 77,
   "metadata": {},
   "outputs": [],
   "source": [
    "trees['steward'] = np.where(trees.steward == '4orMore', '5plus', trees.steward)"
   ]
  },
  {
   "cell_type": "code",
   "execution_count": 78,
   "metadata": {
    "scrolled": true
   },
   "outputs": [
    {
     "data": {
      "text/plain": [
       "array(['None', '1or2', '3or4', '5plus'], dtype=object)"
      ]
     },
     "execution_count": 78,
     "metadata": {},
     "output_type": "execute_result"
    }
   ],
   "source": [
    "trees.steward.unique()"
   ]
  },
  {
   "cell_type": "code",
   "execution_count": 79,
   "metadata": {},
   "outputs": [
    {
     "data": {
      "text/plain": [
       "steward  health\n",
       "1or2     Good      0.803663\n",
       "         Fair      0.152570\n",
       "         Poor      0.043768\n",
       "3or4     Good      0.813533\n",
       "         Fair      0.147526\n",
       "         Poor      0.038941\n",
       "5plus    Good      0.845342\n",
       "         Fair      0.124224\n",
       "         Poor      0.030435\n",
       "None     Good      0.812820\n",
       "         Fair      0.146718\n",
       "         Poor      0.040462\n",
       "Name: health, dtype: float64"
      ]
     },
     "execution_count": 79,
     "metadata": {},
     "output_type": "execute_result"
    }
   ],
   "source": [
    "trees.groupby('steward').health.value_counts(normalize=True)"
   ]
  },
  {
   "cell_type": "code",
   "execution_count": 80,
   "metadata": {},
   "outputs": [
    {
     "data": {
      "text/plain": [
       "None       572300\n",
       "Helpful     51866\n",
       "Harmful     20252\n",
       "Unsure       7748\n",
       "Name: guards, dtype: int64"
      ]
     },
     "execution_count": 80,
     "metadata": {},
     "output_type": "execute_result"
    }
   ],
   "source": [
    "trees.guards.value_counts()"
   ]
  },
  {
   "cell_type": "code",
   "execution_count": 81,
   "metadata": {},
   "outputs": [
    {
     "data": {
      "text/plain": [
       "guards   health\n",
       "Harmful  Good      0.756567\n",
       "         Fair      0.189562\n",
       "         Poor      0.053871\n",
       "Helpful  Good      0.822080\n",
       "         Fair      0.138164\n",
       "         Poor      0.039756\n",
       "None     Good      0.812464\n",
       "         Fair      0.146991\n",
       "         Poor      0.040545\n",
       "Unsure   Good      0.763036\n",
       "         Fair      0.177594\n",
       "         Poor      0.059370\n",
       "Name: health, dtype: float64"
      ]
     },
     "execution_count": 81,
     "metadata": {},
     "output_type": "execute_result"
    }
   ],
   "source": [
    "trees.groupby('guards').health.value_counts(normalize=True)"
   ]
  },
  {
   "cell_type": "code",
   "execution_count": 82,
   "metadata": {
    "scrolled": true
   },
   "outputs": [
    {
     "data": {
      "text/plain": [
       "array(['Queens', 'Brooklyn', 'Manhattan', 'Staten Island', 'Bronx'],\n",
       "      dtype=object)"
      ]
     },
     "execution_count": 82,
     "metadata": {},
     "output_type": "execute_result"
    }
   ],
   "source": [
    "trees.boroname.unique()"
   ]
  },
  {
   "cell_type": "code",
   "execution_count": 83,
   "metadata": {},
   "outputs": [],
   "source": [
    "dummy_cols = ['steward', 'guards', 'boroname']"
   ]
  },
  {
   "cell_type": "code",
   "execution_count": 84,
   "metadata": {},
   "outputs": [
    {
     "data": {
      "text/plain": [
       "Index(['steward_1or2', 'steward_3or4', 'steward_5plus', 'steward_None',\n",
       "       'guards_Harmful', 'guards_Helpful', 'guards_None', 'guards_Unsure',\n",
       "       'boroname_Bronx', 'boroname_Brooklyn', 'boroname_Manhattan',\n",
       "       'boroname_Queens', 'boroname_Staten Island'],\n",
       "      dtype='object')"
      ]
     },
     "execution_count": 84,
     "metadata": {},
     "output_type": "execute_result"
    }
   ],
   "source": [
    "tree_dummies = pd.get_dummies(trees[dummy_cols])\n",
    "tree_dummies.columns"
   ]
  },
  {
   "cell_type": "code",
   "execution_count": 85,
   "metadata": {},
   "outputs": [],
   "source": [
    "dummy_cols.extend(['steward_None', 'guards_None', 'boroname_Staten Island'])\n",
    "trees = pd.concat([trees,tree_dummies], axis=1)\n",
    "trees.drop(columns=dummy_cols, axis=1, inplace=True)"
   ]
  },
  {
   "cell_type": "code",
   "execution_count": 86,
   "metadata": {},
   "outputs": [
    {
     "data": {
      "text/plain": [
       "Index(['tree_dbh', 'on_curb', 'health', 'spc_common', 'sidewalk_damage',\n",
       "       'pro_entry', 'root_stone', 'root_grate', 'root_other', 'trunk_wire',\n",
       "       'trunk_light', 'trunk_other', 'branch_light', 'branch_shoe',\n",
       "       'branch_other', 'cb_num', 'nta', 'steward_1or2', 'steward_3or4',\n",
       "       'steward_5plus', 'guards_Harmful', 'guards_Helpful', 'guards_Unsure',\n",
       "       'boroname_Bronx', 'boroname_Brooklyn', 'boroname_Manhattan',\n",
       "       'boroname_Queens'],\n",
       "      dtype='object')"
      ]
     },
     "execution_count": 86,
     "metadata": {},
     "output_type": "execute_result"
    }
   ],
   "source": [
    "trees.columns"
   ]
  },
  {
   "cell_type": "code",
   "execution_count": 87,
   "metadata": {
    "scrolled": false
   },
   "outputs": [
    {
     "data": {
      "text/html": [
       "<div>\n",
       "<style scoped>\n",
       "    .dataframe tbody tr th:only-of-type {\n",
       "        vertical-align: middle;\n",
       "    }\n",
       "\n",
       "    .dataframe tbody tr th {\n",
       "        vertical-align: top;\n",
       "    }\n",
       "\n",
       "    .dataframe thead th {\n",
       "        text-align: right;\n",
       "    }\n",
       "</style>\n",
       "<table border=\"1\" class=\"dataframe\">\n",
       "  <thead>\n",
       "    <tr style=\"text-align: right;\">\n",
       "      <th></th>\n",
       "      <th>tree_dbh</th>\n",
       "      <th>on_curb</th>\n",
       "      <th>health</th>\n",
       "      <th>spc_common</th>\n",
       "      <th>sidewalk_damage</th>\n",
       "      <th>pro_entry</th>\n",
       "      <th>root_stone</th>\n",
       "      <th>root_grate</th>\n",
       "      <th>root_other</th>\n",
       "      <th>trunk_wire</th>\n",
       "      <th>...</th>\n",
       "      <th>steward_1or2</th>\n",
       "      <th>steward_3or4</th>\n",
       "      <th>steward_5plus</th>\n",
       "      <th>guards_Harmful</th>\n",
       "      <th>guards_Helpful</th>\n",
       "      <th>guards_Unsure</th>\n",
       "      <th>boroname_Bronx</th>\n",
       "      <th>boroname_Brooklyn</th>\n",
       "      <th>boroname_Manhattan</th>\n",
       "      <th>boroname_Queens</th>\n",
       "    </tr>\n",
       "    <tr>\n",
       "      <th>tree_id</th>\n",
       "      <th></th>\n",
       "      <th></th>\n",
       "      <th></th>\n",
       "      <th></th>\n",
       "      <th></th>\n",
       "      <th></th>\n",
       "      <th></th>\n",
       "      <th></th>\n",
       "      <th></th>\n",
       "      <th></th>\n",
       "      <th></th>\n",
       "      <th></th>\n",
       "      <th></th>\n",
       "      <th></th>\n",
       "      <th></th>\n",
       "      <th></th>\n",
       "      <th></th>\n",
       "      <th></th>\n",
       "      <th></th>\n",
       "      <th></th>\n",
       "      <th></th>\n",
       "    </tr>\n",
       "  </thead>\n",
       "  <tbody>\n",
       "    <tr>\n",
       "      <th>180683</th>\n",
       "      <td>3</td>\n",
       "      <td>1</td>\n",
       "      <td>Fair</td>\n",
       "      <td>red maple</td>\n",
       "      <td>0</td>\n",
       "      <td>1</td>\n",
       "      <td>0</td>\n",
       "      <td>0</td>\n",
       "      <td>0</td>\n",
       "      <td>0</td>\n",
       "      <td>...</td>\n",
       "      <td>0</td>\n",
       "      <td>0</td>\n",
       "      <td>0</td>\n",
       "      <td>0</td>\n",
       "      <td>0</td>\n",
       "      <td>0</td>\n",
       "      <td>0</td>\n",
       "      <td>0</td>\n",
       "      <td>0</td>\n",
       "      <td>1</td>\n",
       "    </tr>\n",
       "    <tr>\n",
       "      <th>200540</th>\n",
       "      <td>21</td>\n",
       "      <td>1</td>\n",
       "      <td>Fair</td>\n",
       "      <td>pin oak</td>\n",
       "      <td>1</td>\n",
       "      <td>1</td>\n",
       "      <td>1</td>\n",
       "      <td>0</td>\n",
       "      <td>0</td>\n",
       "      <td>0</td>\n",
       "      <td>...</td>\n",
       "      <td>0</td>\n",
       "      <td>0</td>\n",
       "      <td>0</td>\n",
       "      <td>0</td>\n",
       "      <td>0</td>\n",
       "      <td>0</td>\n",
       "      <td>0</td>\n",
       "      <td>0</td>\n",
       "      <td>0</td>\n",
       "      <td>1</td>\n",
       "    </tr>\n",
       "    <tr>\n",
       "      <th>204026</th>\n",
       "      <td>3</td>\n",
       "      <td>1</td>\n",
       "      <td>Good</td>\n",
       "      <td>honeylocust</td>\n",
       "      <td>1</td>\n",
       "      <td>0</td>\n",
       "      <td>0</td>\n",
       "      <td>0</td>\n",
       "      <td>0</td>\n",
       "      <td>0</td>\n",
       "      <td>...</td>\n",
       "      <td>1</td>\n",
       "      <td>0</td>\n",
       "      <td>0</td>\n",
       "      <td>0</td>\n",
       "      <td>0</td>\n",
       "      <td>0</td>\n",
       "      <td>0</td>\n",
       "      <td>1</td>\n",
       "      <td>0</td>\n",
       "      <td>0</td>\n",
       "    </tr>\n",
       "    <tr>\n",
       "      <th>204337</th>\n",
       "      <td>10</td>\n",
       "      <td>1</td>\n",
       "      <td>Good</td>\n",
       "      <td>honeylocust</td>\n",
       "      <td>1</td>\n",
       "      <td>0</td>\n",
       "      <td>1</td>\n",
       "      <td>0</td>\n",
       "      <td>0</td>\n",
       "      <td>0</td>\n",
       "      <td>...</td>\n",
       "      <td>0</td>\n",
       "      <td>0</td>\n",
       "      <td>0</td>\n",
       "      <td>0</td>\n",
       "      <td>0</td>\n",
       "      <td>0</td>\n",
       "      <td>0</td>\n",
       "      <td>1</td>\n",
       "      <td>0</td>\n",
       "      <td>0</td>\n",
       "    </tr>\n",
       "    <tr>\n",
       "      <th>189565</th>\n",
       "      <td>21</td>\n",
       "      <td>1</td>\n",
       "      <td>Good</td>\n",
       "      <td>American linden</td>\n",
       "      <td>1</td>\n",
       "      <td>0</td>\n",
       "      <td>1</td>\n",
       "      <td>0</td>\n",
       "      <td>0</td>\n",
       "      <td>0</td>\n",
       "      <td>...</td>\n",
       "      <td>0</td>\n",
       "      <td>0</td>\n",
       "      <td>0</td>\n",
       "      <td>0</td>\n",
       "      <td>0</td>\n",
       "      <td>0</td>\n",
       "      <td>0</td>\n",
       "      <td>1</td>\n",
       "      <td>0</td>\n",
       "      <td>0</td>\n",
       "    </tr>\n",
       "  </tbody>\n",
       "</table>\n",
       "<p>5 rows × 27 columns</p>\n",
       "</div>"
      ],
      "text/plain": [
       "         tree_dbh  on_curb health       spc_common  sidewalk_damage  \\\n",
       "tree_id                                                               \n",
       "180683          3        1   Fair        red maple                0   \n",
       "200540         21        1   Fair          pin oak                1   \n",
       "204026          3        1   Good      honeylocust                1   \n",
       "204337         10        1   Good      honeylocust                1   \n",
       "189565         21        1   Good  American linden                1   \n",
       "\n",
       "         pro_entry  root_stone  root_grate  root_other  trunk_wire  ...  \\\n",
       "tree_id                                                             ...   \n",
       "180683           1           0           0           0           0  ...   \n",
       "200540           1           1           0           0           0  ...   \n",
       "204026           0           0           0           0           0  ...   \n",
       "204337           0           1           0           0           0  ...   \n",
       "189565           0           1           0           0           0  ...   \n",
       "\n",
       "         steward_1or2  steward_3or4  steward_5plus  guards_Harmful  \\\n",
       "tree_id                                                              \n",
       "180683              0             0              0               0   \n",
       "200540              0             0              0               0   \n",
       "204026              1             0              0               0   \n",
       "204337              0             0              0               0   \n",
       "189565              0             0              0               0   \n",
       "\n",
       "         guards_Helpful  guards_Unsure boroname_Bronx  boroname_Brooklyn  \\\n",
       "tree_id                                                                    \n",
       "180683                0              0              0                  0   \n",
       "200540                0              0              0                  0   \n",
       "204026                0              0              0                  1   \n",
       "204337                0              0              0                  1   \n",
       "189565                0              0              0                  1   \n",
       "\n",
       "         boroname_Manhattan  boroname_Queens  \n",
       "tree_id                                       \n",
       "180683                    0                1  \n",
       "200540                    0                1  \n",
       "204026                    0                0  \n",
       "204337                    0                0  \n",
       "189565                    0                0  \n",
       "\n",
       "[5 rows x 27 columns]"
      ]
     },
     "execution_count": 87,
     "metadata": {},
     "output_type": "execute_result"
    }
   ],
   "source": [
    "trees.head()"
   ]
  },
  {
   "cell_type": "markdown",
   "metadata": {},
   "source": [
    "## SAVE A COPY"
   ]
  },
  {
   "cell_type": "code",
   "execution_count": 88,
   "metadata": {},
   "outputs": [],
   "source": [
    "trees.to_csv('data/nyc_trees_2015.csv')"
   ]
  },
  {
   "cell_type": "code",
   "execution_count": 3,
   "metadata": {},
   "outputs": [
    {
     "data": {
      "text/html": [
       "<div>\n",
       "<style scoped>\n",
       "    .dataframe tbody tr th:only-of-type {\n",
       "        vertical-align: middle;\n",
       "    }\n",
       "\n",
       "    .dataframe tbody tr th {\n",
       "        vertical-align: top;\n",
       "    }\n",
       "\n",
       "    .dataframe thead th {\n",
       "        text-align: right;\n",
       "    }\n",
       "</style>\n",
       "<table border=\"1\" class=\"dataframe\">\n",
       "  <thead>\n",
       "    <tr style=\"text-align: right;\">\n",
       "      <th></th>\n",
       "      <th>tree_dbh</th>\n",
       "      <th>on_curb</th>\n",
       "      <th>health</th>\n",
       "      <th>spc_common</th>\n",
       "      <th>sidewalk_damage</th>\n",
       "      <th>pro_entry</th>\n",
       "      <th>root_stone</th>\n",
       "      <th>root_grate</th>\n",
       "      <th>root_other</th>\n",
       "      <th>trunk_wire</th>\n",
       "      <th>...</th>\n",
       "      <th>steward_1or2</th>\n",
       "      <th>steward_3or4</th>\n",
       "      <th>steward_5plus</th>\n",
       "      <th>guards_Harmful</th>\n",
       "      <th>guards_Helpful</th>\n",
       "      <th>guards_Unsure</th>\n",
       "      <th>boroname_Bronx</th>\n",
       "      <th>boroname_Brooklyn</th>\n",
       "      <th>boroname_Manhattan</th>\n",
       "      <th>boroname_Queens</th>\n",
       "    </tr>\n",
       "    <tr>\n",
       "      <th>tree_id</th>\n",
       "      <th></th>\n",
       "      <th></th>\n",
       "      <th></th>\n",
       "      <th></th>\n",
       "      <th></th>\n",
       "      <th></th>\n",
       "      <th></th>\n",
       "      <th></th>\n",
       "      <th></th>\n",
       "      <th></th>\n",
       "      <th></th>\n",
       "      <th></th>\n",
       "      <th></th>\n",
       "      <th></th>\n",
       "      <th></th>\n",
       "      <th></th>\n",
       "      <th></th>\n",
       "      <th></th>\n",
       "      <th></th>\n",
       "      <th></th>\n",
       "      <th></th>\n",
       "    </tr>\n",
       "  </thead>\n",
       "  <tbody>\n",
       "    <tr>\n",
       "      <th>180683</th>\n",
       "      <td>3</td>\n",
       "      <td>1</td>\n",
       "      <td>Fair</td>\n",
       "      <td>red maple</td>\n",
       "      <td>0</td>\n",
       "      <td>1</td>\n",
       "      <td>0</td>\n",
       "      <td>0</td>\n",
       "      <td>0</td>\n",
       "      <td>0</td>\n",
       "      <td>...</td>\n",
       "      <td>0</td>\n",
       "      <td>0</td>\n",
       "      <td>0</td>\n",
       "      <td>0</td>\n",
       "      <td>0</td>\n",
       "      <td>0</td>\n",
       "      <td>0</td>\n",
       "      <td>0</td>\n",
       "      <td>0</td>\n",
       "      <td>1</td>\n",
       "    </tr>\n",
       "    <tr>\n",
       "      <th>200540</th>\n",
       "      <td>21</td>\n",
       "      <td>1</td>\n",
       "      <td>Fair</td>\n",
       "      <td>pin oak</td>\n",
       "      <td>1</td>\n",
       "      <td>1</td>\n",
       "      <td>1</td>\n",
       "      <td>0</td>\n",
       "      <td>0</td>\n",
       "      <td>0</td>\n",
       "      <td>...</td>\n",
       "      <td>0</td>\n",
       "      <td>0</td>\n",
       "      <td>0</td>\n",
       "      <td>0</td>\n",
       "      <td>0</td>\n",
       "      <td>0</td>\n",
       "      <td>0</td>\n",
       "      <td>0</td>\n",
       "      <td>0</td>\n",
       "      <td>1</td>\n",
       "    </tr>\n",
       "    <tr>\n",
       "      <th>204026</th>\n",
       "      <td>3</td>\n",
       "      <td>1</td>\n",
       "      <td>Good</td>\n",
       "      <td>honeylocust</td>\n",
       "      <td>1</td>\n",
       "      <td>0</td>\n",
       "      <td>0</td>\n",
       "      <td>0</td>\n",
       "      <td>0</td>\n",
       "      <td>0</td>\n",
       "      <td>...</td>\n",
       "      <td>1</td>\n",
       "      <td>0</td>\n",
       "      <td>0</td>\n",
       "      <td>0</td>\n",
       "      <td>0</td>\n",
       "      <td>0</td>\n",
       "      <td>0</td>\n",
       "      <td>1</td>\n",
       "      <td>0</td>\n",
       "      <td>0</td>\n",
       "    </tr>\n",
       "    <tr>\n",
       "      <th>204337</th>\n",
       "      <td>10</td>\n",
       "      <td>1</td>\n",
       "      <td>Good</td>\n",
       "      <td>honeylocust</td>\n",
       "      <td>1</td>\n",
       "      <td>0</td>\n",
       "      <td>1</td>\n",
       "      <td>0</td>\n",
       "      <td>0</td>\n",
       "      <td>0</td>\n",
       "      <td>...</td>\n",
       "      <td>0</td>\n",
       "      <td>0</td>\n",
       "      <td>0</td>\n",
       "      <td>0</td>\n",
       "      <td>0</td>\n",
       "      <td>0</td>\n",
       "      <td>0</td>\n",
       "      <td>1</td>\n",
       "      <td>0</td>\n",
       "      <td>0</td>\n",
       "    </tr>\n",
       "    <tr>\n",
       "      <th>189565</th>\n",
       "      <td>21</td>\n",
       "      <td>1</td>\n",
       "      <td>Good</td>\n",
       "      <td>American linden</td>\n",
       "      <td>1</td>\n",
       "      <td>0</td>\n",
       "      <td>1</td>\n",
       "      <td>0</td>\n",
       "      <td>0</td>\n",
       "      <td>0</td>\n",
       "      <td>...</td>\n",
       "      <td>0</td>\n",
       "      <td>0</td>\n",
       "      <td>0</td>\n",
       "      <td>0</td>\n",
       "      <td>0</td>\n",
       "      <td>0</td>\n",
       "      <td>0</td>\n",
       "      <td>1</td>\n",
       "      <td>0</td>\n",
       "      <td>0</td>\n",
       "    </tr>\n",
       "  </tbody>\n",
       "</table>\n",
       "<p>5 rows × 27 columns</p>\n",
       "</div>"
      ],
      "text/plain": [
       "         tree_dbh  on_curb health       spc_common  sidewalk_damage  \\\n",
       "tree_id                                                               \n",
       "180683          3        1   Fair        red maple                0   \n",
       "200540         21        1   Fair          pin oak                1   \n",
       "204026          3        1   Good      honeylocust                1   \n",
       "204337         10        1   Good      honeylocust                1   \n",
       "189565         21        1   Good  American linden                1   \n",
       "\n",
       "         pro_entry  root_stone  root_grate  root_other  trunk_wire  ...  \\\n",
       "tree_id                                                             ...   \n",
       "180683           1           0           0           0           0  ...   \n",
       "200540           1           1           0           0           0  ...   \n",
       "204026           0           0           0           0           0  ...   \n",
       "204337           0           1           0           0           0  ...   \n",
       "189565           0           1           0           0           0  ...   \n",
       "\n",
       "         steward_1or2  steward_3or4  steward_5plus  guards_Harmful  \\\n",
       "tree_id                                                              \n",
       "180683              0             0              0               0   \n",
       "200540              0             0              0               0   \n",
       "204026              1             0              0               0   \n",
       "204337              0             0              0               0   \n",
       "189565              0             0              0               0   \n",
       "\n",
       "         guards_Helpful  guards_Unsure boroname_Bronx  boroname_Brooklyn  \\\n",
       "tree_id                                                                    \n",
       "180683                0              0              0                  0   \n",
       "200540                0              0              0                  0   \n",
       "204026                0              0              0                  1   \n",
       "204337                0              0              0                  1   \n",
       "189565                0              0              0                  1   \n",
       "\n",
       "         boroname_Manhattan  boroname_Queens  \n",
       "tree_id                                       \n",
       "180683                    0                1  \n",
       "200540                    0                1  \n",
       "204026                    0                0  \n",
       "204337                    0                0  \n",
       "189565                    0                0  \n",
       "\n",
       "[5 rows x 27 columns]"
      ]
     },
     "execution_count": 3,
     "metadata": {},
     "output_type": "execute_result"
    }
   ],
   "source": [
    "trees = pd.read_csv('data/nyc_trees_2015.csv', index_col=0)\n",
    "trees.head()"
   ]
  },
  {
   "cell_type": "code",
   "execution_count": 5,
   "metadata": {},
   "outputs": [
    {
     "data": {
      "text/plain": [
       "count    652166.000000\n",
       "mean         11.709479\n",
       "std           8.634194\n",
       "min           0.000000\n",
       "25%           5.000000\n",
       "50%          10.000000\n",
       "75%          16.000000\n",
       "max         425.000000\n",
       "Name: tree_dbh, dtype: float64"
      ]
     },
     "execution_count": 5,
     "metadata": {},
     "output_type": "execute_result"
    }
   ],
   "source": [
    "trees.tree_dbh.describe()"
   ]
  },
  {
   "cell_type": "code",
   "execution_count": 9,
   "metadata": {
    "scrolled": true
   },
   "outputs": [
    {
     "data": {
      "text/plain": [
       "array([[<matplotlib.axes._subplots.AxesSubplot object at 0x12e0746a0>]],\n",
       "      dtype=object)"
      ]
     },
     "execution_count": 9,
     "metadata": {},
     "output_type": "execute_result"
    },
    {
     "data": {
      "image/png": "[encoded data removed]",
      "text/plain": [
       "<Figure size 432x288 with 1 Axes>"
      ]
     },
     "metadata": {},
     "output_type": "display_data"
    }
   ],
   "source": [
    "trees[trees.tree_dbh <= 37].hist('tree_dbh', bins=10)"
   ]
  },
  {
   "cell_type": "code",
   "execution_count": 13,
   "metadata": {},
   "outputs": [
    {
     "data": {
      "text/html": [
       "<div>\n",
       "<style scoped>\n",
       "    .dataframe tbody tr th:only-of-type {\n",
       "        vertical-align: middle;\n",
       "    }\n",
       "\n",
       "    .dataframe tbody tr th {\n",
       "        vertical-align: top;\n",
       "    }\n",
       "\n",
       "    .dataframe thead th {\n",
       "        text-align: right;\n",
       "    }\n",
       "</style>\n",
       "<table border=\"1\" class=\"dataframe\">\n",
       "  <thead>\n",
       "    <tr style=\"text-align: right;\">\n",
       "      <th></th>\n",
       "      <th>tree_dbh</th>\n",
       "      <th>on_curb</th>\n",
       "      <th>health</th>\n",
       "      <th>spc_common</th>\n",
       "      <th>sidewalk_damage</th>\n",
       "      <th>pro_entry</th>\n",
       "      <th>root_stone</th>\n",
       "      <th>root_grate</th>\n",
       "      <th>root_other</th>\n",
       "      <th>trunk_wire</th>\n",
       "      <th>...</th>\n",
       "      <th>steward_1or2</th>\n",
       "      <th>steward_3or4</th>\n",
       "      <th>steward_5plus</th>\n",
       "      <th>guards_Harmful</th>\n",
       "      <th>guards_Helpful</th>\n",
       "      <th>guards_Unsure</th>\n",
       "      <th>boroname_Bronx</th>\n",
       "      <th>boroname_Brooklyn</th>\n",
       "      <th>boroname_Manhattan</th>\n",
       "      <th>boroname_Queens</th>\n",
       "    </tr>\n",
       "    <tr>\n",
       "      <th>tree_id</th>\n",
       "      <th></th>\n",
       "      <th></th>\n",
       "      <th></th>\n",
       "      <th></th>\n",
       "      <th></th>\n",
       "      <th></th>\n",
       "      <th></th>\n",
       "      <th></th>\n",
       "      <th></th>\n",
       "      <th></th>\n",
       "      <th></th>\n",
       "      <th></th>\n",
       "      <th></th>\n",
       "      <th></th>\n",
       "      <th></th>\n",
       "      <th></th>\n",
       "      <th></th>\n",
       "      <th></th>\n",
       "      <th></th>\n",
       "      <th></th>\n",
       "      <th></th>\n",
       "    </tr>\n",
       "  </thead>\n",
       "  <tbody>\n",
       "    <tr>\n",
       "      <th>168583</th>\n",
       "      <td>425</td>\n",
       "      <td>1</td>\n",
       "      <td>Good</td>\n",
       "      <td>swamp white oak</td>\n",
       "      <td>1</td>\n",
       "      <td>1</td>\n",
       "      <td>0</td>\n",
       "      <td>0</td>\n",
       "      <td>0</td>\n",
       "      <td>0</td>\n",
       "      <td>...</td>\n",
       "      <td>1</td>\n",
       "      <td>0</td>\n",
       "      <td>0</td>\n",
       "      <td>0</td>\n",
       "      <td>0</td>\n",
       "      <td>0</td>\n",
       "      <td>0</td>\n",
       "      <td>1</td>\n",
       "      <td>0</td>\n",
       "      <td>0</td>\n",
       "    </tr>\n",
       "  </tbody>\n",
       "</table>\n",
       "<p>1 rows × 27 columns</p>\n",
       "</div>"
      ],
      "text/plain": [
       "         tree_dbh  on_curb health       spc_common  sidewalk_damage  \\\n",
       "tree_id                                                               \n",
       "168583        425        1   Good  swamp white oak                1   \n",
       "\n",
       "         pro_entry  root_stone  root_grate  root_other  trunk_wire  ...  \\\n",
       "tree_id                                                             ...   \n",
       "168583           1           0           0           0           0  ...   \n",
       "\n",
       "         steward_1or2  steward_3or4  steward_5plus  guards_Harmful  \\\n",
       "tree_id                                                              \n",
       "168583              1             0              0               0   \n",
       "\n",
       "         guards_Helpful  guards_Unsure boroname_Bronx  boroname_Brooklyn  \\\n",
       "tree_id                                                                    \n",
       "168583                0              0              0                  1   \n",
       "\n",
       "         boroname_Manhattan  boroname_Queens  \n",
       "tree_id                                       \n",
       "168583                    0                0  \n",
       "\n",
       "[1 rows x 27 columns]"
      ]
     },
     "execution_count": 13,
     "metadata": {},
     "output_type": "execute_result"
    }
   ],
   "source": [
    "trees[trees.tree_dbh == 425]"
   ]
  },
  {
   "cell_type": "code",
   "execution_count": 14,
   "metadata": {},
   "outputs": [
    {
     "data": {
      "text/plain": [
       "SI01    12530\n",
       "SI54    10267\n",
       "QN46     9386\n",
       "BK82     9188\n",
       "SI32     8842\n",
       "        ...  \n",
       "MN06      865\n",
       "BX46      773\n",
       "BK93      671\n",
       "BK23      455\n",
       "MN50      438\n",
       "Name: nta, Length: 188, dtype: int64"
      ]
     },
     "execution_count": 14,
     "metadata": {},
     "output_type": "execute_result"
    }
   ],
   "source": [
    "trees.nta.value_counts()"
   ]
  },
  {
   "cell_type": "code",
   "execution_count": 16,
   "metadata": {},
   "outputs": [],
   "source": [
    "with open('data/nta_dict.pickle', 'rb') as f:\n",
    "    nta_dict = pickle.load(f)"
   ]
  },
  {
   "cell_type": "code",
   "execution_count": 22,
   "metadata": {},
   "outputs": [
    {
     "data": {
      "text/plain": [
       "'Bayside-Bayside Hills'"
      ]
     },
     "execution_count": 22,
     "metadata": {},
     "output_type": "execute_result"
    }
   ],
   "source": [
    "nta_dict['QN46']"
   ]
  },
  {
   "cell_type": "code",
   "execution_count": 32,
   "metadata": {
    "scrolled": true
   },
   "outputs": [
    {
     "data": {
      "text/plain": [
       "Index(['tree_dbh', 'on_curb', 'health', 'spc_common', 'sidewalk_damage',\n",
       "       'pro_entry', 'root_stone', 'root_grate', 'root_other', 'trunk_wire',\n",
       "       'trunk_light', 'trunk_other', 'branch_light', 'branch_shoe',\n",
       "       'branch_other', 'cb_num', 'nta', 'steward_1or2', 'steward_3or4',\n",
       "       'steward_5plus', 'guards_Harmful', 'guards_Helpful', 'guards_Unsure',\n",
       "       'boroname_Bronx', 'boroname_Brooklyn', 'boroname_Manhattan',\n",
       "       'boroname_Queens'],\n",
       "      dtype='object')"
      ]
     },
     "execution_count": 32,
     "metadata": {},
     "output_type": "execute_result"
    }
   ],
   "source": [
    "trees.columns"
   ]
  },
  {
   "cell_type": "markdown",
   "metadata": {},
   "source": [
    "## Vanilla models"
   ]
  },
  {
   "cell_type": "code",
   "execution_count": 23,
   "metadata": {},
   "outputs": [],
   "source": [
    "df_van = trees.copy()"
   ]
  },
  {
   "cell_type": "code",
   "execution_count": 33,
   "metadata": {},
   "outputs": [],
   "source": [
    "X_van = df_van.drop(columns=['health', 'spc_common', 'nta'], axis=1)\n",
    "y_van = df_van['health']"
   ]
  },
  {
   "cell_type": "code",
   "execution_count": 34,
   "metadata": {},
   "outputs": [],
   "source": [
    "X_train_van, X_test_van, y_train_van, y_test_van = train_test_split(X_van, y_van, random_state=42, stratify=y_van)"
   ]
  },
  {
   "cell_type": "markdown",
   "metadata": {},
   "source": [
    "### Resample"
   ]
  },
  {
   "cell_type": "code",
   "execution_count": 56,
   "metadata": {},
   "outputs": [],
   "source": [
    "# concatenate our training data back together\n",
    "training  = pd.concat([X_train_van, y_train_van], axis=1)"
   ]
  },
  {
   "cell_type": "code",
   "execution_count": 57,
   "metadata": {},
   "outputs": [],
   "source": [
    "# separate minority and majority classes\n",
    "good = training[training.health=='Good']\n",
    "fair = training[training.health=='Fair']\n",
    "poor = training[training.health=='Poor']"
   ]
  },
  {
   "cell_type": "code",
   "execution_count": 58,
   "metadata": {},
   "outputs": [
    {
     "name": "stdout",
     "output_type": "stream",
     "text": [
      "good count: 396633\n",
      "fair count: 72378\n",
      "poor count: 20113\n"
     ]
    }
   ],
   "source": [
    "# Get a class count to understand the class imbalance.\n",
    "print('good count: '+ str(len(good)))\n",
    "print('fair count: '+ str(len(fair)))\n",
    "print('poor count: '+ str(len(poor)))"
   ]
  },
  {
   "cell_type": "code",
   "execution_count": 62,
   "metadata": {},
   "outputs": [],
   "source": [
    "# downsample majority\n",
    "good_downsampled = resample(good,\n",
    "                                replace = False, # sample without replacement\n",
    "                                n_samples = len(poor), # match minority n\n",
    "                                random_state = 42) # reproducible results\n",
    "\n",
    "# downsample majority\n",
    "fair_downsampled = resample(fair,\n",
    "                                replace = False, # sample without replacement\n",
    "                                n_samples = len(poor), # match minority n\n",
    "                                random_state = 42) # reproducible results"
   ]
  },
  {
   "cell_type": "code",
   "execution_count": 63,
   "metadata": {},
   "outputs": [
    {
     "data": {
      "text/plain": [
       "Good    20113\n",
       "Poor    20113\n",
       "Fair    20113\n",
       "Name: health, dtype: int64"
      ]
     },
     "execution_count": 63,
     "metadata": {},
     "output_type": "execute_result"
    }
   ],
   "source": [
    "# combine minority and downsampled majority\n",
    "downsampled = pd.concat([good_downsampled, fair_downsampled, poor])\n",
    "\n",
    "# checking counts\n",
    "downsampled.health.value_counts()"
   ]
  },
  {
   "cell_type": "code",
   "execution_count": 68,
   "metadata": {},
   "outputs": [
    {
     "name": "stdout",
     "output_type": "stream",
     "text": [
      "Test Accuracy score:  0.4996933305528637\n",
      "Test F1 score:  0.5775269981557326\n"
     ]
    }
   ],
   "source": [
    "# trying logistic regression again with the balanced dataset\n",
    "y_train_down = downsampled.health\n",
    "X_train_down = downsampled.drop('health', axis=1)\n",
    "\n",
    "\n",
    "# downsampled_dt = DecisionTreeClassifier(max_depth=5)\n",
    "downsampled_lr = LogisticRegression(class_weight='balanced', multi_class='multinomial')\n",
    "\n",
    "\n",
    "# downsampled_dt.fit(X_train, y_train)\n",
    "downsampled_lr.fit(X_train_down, y_train_down)\n",
    "\n",
    "# downsampled_pred = upsampled_dt.predict(X_test)\n",
    "downsampled_pred = downsampled_lr.predict(X_test_van)\n",
    "\n",
    "# checking accuracy\n",
    "print('Test Accuracy score: ', accuracy_score(y_test_van, downsampled_pred))\n",
    "\n",
    "# checking accuracy\n",
    "print('Test F1 score: ', f1_score(y_test_van, downsampled_pred, average='weighted'))"
   ]
  },
  {
   "cell_type": "code",
   "execution_count": null,
   "metadata": {},
   "outputs": [],
   "source": []
  },
  {
   "cell_type": "code",
   "execution_count": null,
   "metadata": {},
   "outputs": [],
   "source": []
  },
  {
   "cell_type": "code",
   "execution_count": 35,
   "metadata": {},
   "outputs": [],
   "source": [
    "# params_knn = {\n",
    "#     'n_neighbors': range(1,21,2),\n",
    "#     'weights': ['uniform', 'distance'],\n",
    "# #     'algorithm': ['ball_tree', 'kd_tree', 'brute'],\n",
    "#     'p': range(1,4)\n",
    "# }"
   ]
  },
  {
   "cell_type": "code",
   "execution_count": 38,
   "metadata": {},
   "outputs": [],
   "source": [
    "# CV_knn_van = GridSearchCV(KNeighborsClassifier(), params_knn, n_jobs=-1, scoring='accuracy', verbose=1)\n",
    "\n",
    "# CV_knn_van.fit(X_train_van, y_train_van)"
   ]
  },
  {
   "cell_type": "code",
   "execution_count": 39,
   "metadata": {},
   "outputs": [],
   "source": [
    "# ### Identify the best params \n",
    "# print(CV_knn_van.best_estimator_)\n",
    "\n",
    "# #Identify the best score during fitting with cross-validation\n",
    "# print(CV_knn_van.best_score_)"
   ]
  },
  {
   "cell_type": "code",
   "execution_count": 40,
   "metadata": {},
   "outputs": [],
   "source": [
    "# #predict on the test set\n",
    "# y_pred_knn_van = CV_knn_van.best_estimator_.predict(X_test_van)\n",
    "\n",
    "# # checking metrics\n",
    "# print('Test Accuracy score: ', accuracy_score(y_test_van, y_pred_knn_van))\n",
    "# print('Test Precision score: ', precision_score(y_test_van, y_pred_knn_van))\n",
    "# print('Test Recall score: ', recall_score(y_test_van, y_pred_knn_van))\n",
    "# print('Test F1 score: ', f1_score(y_test_van, y_pred_knn_van))"
   ]
  },
  {
   "cell_type": "code",
   "execution_count": 41,
   "metadata": {},
   "outputs": [],
   "source": [
    "param_grid = { \n",
    "    'penalty': ['l1', 'l2', 'elasticnet'],\n",
    "    'C': [.0001, .001, .01, .1, 1.0, 10.0, 100.0],\n",
    "    'solver': ['sag', 'saga', 'liblinear'],\n",
    "}"
   ]
  },
  {
   "cell_type": "code",
   "execution_count": 47,
   "metadata": {},
   "outputs": [],
   "source": [
    "van_weight = LogisticRegression(class_weight='balanced', multi_class='multinomial')\n",
    "van_weight.fit(X_train_van, y_train_van)\n",
    "\n",
    "#predict on the test set\n",
    "y_pred_van_weight = van_weight.predict(X_test_van)"
   ]
  },
  {
   "cell_type": "code",
   "execution_count": 52,
   "metadata": {},
   "outputs": [
    {
     "name": "stdout",
     "output_type": "stream",
     "text": [
      "Test Accuracy score:  0.48177770145115983\n",
      "Test Precision score:  0.7187596430706891\n",
      "Test Recall score:  0.48177770145115983\n",
      "Test F1 score:  0.563293712635807\n"
     ]
    }
   ],
   "source": [
    "# checking metrics\n",
    "print('Test Accuracy score: ', accuracy_score(y_test_van, y_pred_van_weight))\n",
    "print('Test Precision score: ', precision_score(y_test_van, y_pred_van_weight, average='weighted'))\n",
    "print('Test Recall score: ', recall_score(y_test_van, y_pred_van_weight, average='weighted'))\n",
    "print('Test F1 score: ', f1_score(y_test_van, y_pred_van_weight, average='weighted'))"
   ]
  },
  {
   "cell_type": "code",
   "execution_count": null,
   "metadata": {},
   "outputs": [],
   "source": []
  },
  {
   "cell_type": "code",
   "execution_count": 42,
   "metadata": {},
   "outputs": [
    {
     "name": "stdout",
     "output_type": "stream",
     "text": [
      "Fitting 5 folds for each of 63 candidates, totalling 315 fits\n"
     ]
    },
    {
     "name": "stderr",
     "output_type": "stream",
     "text": [
      "[Parallel(n_jobs=-1)]: Using backend LokyBackend with 8 concurrent workers.\n"
     ]
    },
    {
     "ename": "KeyboardInterrupt",
     "evalue": "",
     "output_type": "error",
     "traceback": [
      "\u001b[0;31m---------------------------------------------------------------------------\u001b[0m",
      "\u001b[0;31mKeyboardInterrupt\u001b[0m                         Traceback (most recent call last)",
      "\u001b[0;32m<ipython-input-42-d779a456fd13>\u001b[0m in \u001b[0;36m<module>\u001b[0;34m\u001b[0m\n\u001b[1;32m      3\u001b[0m                       param_grid, n_jobs=-1, scoring='accuracy', verbose=2)\n\u001b[1;32m      4\u001b[0m \u001b[0;34m\u001b[0m\u001b[0m\n\u001b[0;32m----> 5\u001b[0;31m \u001b[0mCV_van_weight\u001b[0m\u001b[0;34m.\u001b[0m\u001b[0mfit\u001b[0m\u001b[0;34m(\u001b[0m\u001b[0mX_train_van\u001b[0m\u001b[0;34m,\u001b[0m \u001b[0my_train_van\u001b[0m\u001b[0;34m)\u001b[0m\u001b[0;34m\u001b[0m\u001b[0;34m\u001b[0m\u001b[0m\n\u001b[0m",
      "\u001b[0;32m/opt/anaconda3/envs/learn-env/lib/python3.6/site-packages/sklearn/model_selection/_search.py\u001b[0m in \u001b[0;36mfit\u001b[0;34m(self, X, y, groups, **fit_params)\u001b[0m\n\u001b[1;32m    708\u001b[0m                 \u001b[0;32mreturn\u001b[0m \u001b[0mresults\u001b[0m\u001b[0;34m\u001b[0m\u001b[0;34m\u001b[0m\u001b[0m\n\u001b[1;32m    709\u001b[0m \u001b[0;34m\u001b[0m\u001b[0m\n\u001b[0;32m--> 710\u001b[0;31m             \u001b[0mself\u001b[0m\u001b[0;34m.\u001b[0m\u001b[0m_run_search\u001b[0m\u001b[0;34m(\u001b[0m\u001b[0mevaluate_candidates\u001b[0m\u001b[0;34m)\u001b[0m\u001b[0;34m\u001b[0m\u001b[0;34m\u001b[0m\u001b[0m\n\u001b[0m\u001b[1;32m    711\u001b[0m \u001b[0;34m\u001b[0m\u001b[0m\n\u001b[1;32m    712\u001b[0m         \u001b[0;31m# For multi-metric evaluation, store the best_index_, best_params_ and\u001b[0m\u001b[0;34m\u001b[0m\u001b[0;34m\u001b[0m\u001b[0;34m\u001b[0m\u001b[0m\n",
      "\u001b[0;32m/opt/anaconda3/envs/learn-env/lib/python3.6/site-packages/sklearn/model_selection/_search.py\u001b[0m in \u001b[0;36m_run_search\u001b[0;34m(self, evaluate_candidates)\u001b[0m\n\u001b[1;32m   1149\u001b[0m     \u001b[0;32mdef\u001b[0m \u001b[0m_run_search\u001b[0m\u001b[0;34m(\u001b[0m\u001b[0mself\u001b[0m\u001b[0;34m,\u001b[0m \u001b[0mevaluate_candidates\u001b[0m\u001b[0;34m)\u001b[0m\u001b[0;34m:\u001b[0m\u001b[0;34m\u001b[0m\u001b[0;34m\u001b[0m\u001b[0m\n\u001b[1;32m   1150\u001b[0m         \u001b[0;34m\"\"\"Search all candidates in param_grid\"\"\"\u001b[0m\u001b[0;34m\u001b[0m\u001b[0;34m\u001b[0m\u001b[0m\n\u001b[0;32m-> 1151\u001b[0;31m         \u001b[0mevaluate_candidates\u001b[0m\u001b[0;34m(\u001b[0m\u001b[0mParameterGrid\u001b[0m\u001b[0;34m(\u001b[0m\u001b[0mself\u001b[0m\u001b[0;34m.\u001b[0m\u001b[0mparam_grid\u001b[0m\u001b[0;34m)\u001b[0m\u001b[0;34m)\u001b[0m\u001b[0;34m\u001b[0m\u001b[0;34m\u001b[0m\u001b[0m\n\u001b[0m\u001b[1;32m   1152\u001b[0m \u001b[0;34m\u001b[0m\u001b[0m\n\u001b[1;32m   1153\u001b[0m \u001b[0;34m\u001b[0m\u001b[0m\n",
      "\u001b[0;32m/opt/anaconda3/envs/learn-env/lib/python3.6/site-packages/sklearn/model_selection/_search.py\u001b[0m in \u001b[0;36mevaluate_candidates\u001b[0;34m(candidate_params)\u001b[0m\n\u001b[1;32m    687\u001b[0m                                \u001b[0;32mfor\u001b[0m \u001b[0mparameters\u001b[0m\u001b[0;34m,\u001b[0m \u001b[0;34m(\u001b[0m\u001b[0mtrain\u001b[0m\u001b[0;34m,\u001b[0m \u001b[0mtest\u001b[0m\u001b[0;34m)\u001b[0m\u001b[0;34m\u001b[0m\u001b[0;34m\u001b[0m\u001b[0m\n\u001b[1;32m    688\u001b[0m                                in product(candidate_params,\n\u001b[0;32m--> 689\u001b[0;31m                                           cv.split(X, y, groups)))\n\u001b[0m\u001b[1;32m    690\u001b[0m \u001b[0;34m\u001b[0m\u001b[0m\n\u001b[1;32m    691\u001b[0m                 \u001b[0;32mif\u001b[0m \u001b[0mlen\u001b[0m\u001b[0;34m(\u001b[0m\u001b[0mout\u001b[0m\u001b[0;34m)\u001b[0m \u001b[0;34m<\u001b[0m \u001b[0;36m1\u001b[0m\u001b[0;34m:\u001b[0m\u001b[0;34m\u001b[0m\u001b[0;34m\u001b[0m\u001b[0m\n",
      "\u001b[0;32m/opt/anaconda3/envs/learn-env/lib/python3.6/site-packages/joblib/parallel.py\u001b[0m in \u001b[0;36m__call__\u001b[0;34m(self, iterable)\u001b[0m\n\u001b[1;32m    932\u001b[0m \u001b[0;34m\u001b[0m\u001b[0m\n\u001b[1;32m    933\u001b[0m             \u001b[0;32mwith\u001b[0m \u001b[0mself\u001b[0m\u001b[0;34m.\u001b[0m\u001b[0m_backend\u001b[0m\u001b[0;34m.\u001b[0m\u001b[0mretrieval_context\u001b[0m\u001b[0;34m(\u001b[0m\u001b[0;34m)\u001b[0m\u001b[0;34m:\u001b[0m\u001b[0;34m\u001b[0m\u001b[0;34m\u001b[0m\u001b[0m\n\u001b[0;32m--> 934\u001b[0;31m                 \u001b[0mself\u001b[0m\u001b[0;34m.\u001b[0m\u001b[0mretrieve\u001b[0m\u001b[0;34m(\u001b[0m\u001b[0;34m)\u001b[0m\u001b[0;34m\u001b[0m\u001b[0;34m\u001b[0m\u001b[0m\n\u001b[0m\u001b[1;32m    935\u001b[0m             \u001b[0;31m# Make sure that we get a last message telling us we are done\u001b[0m\u001b[0;34m\u001b[0m\u001b[0;34m\u001b[0m\u001b[0;34m\u001b[0m\u001b[0m\n\u001b[1;32m    936\u001b[0m             \u001b[0melapsed_time\u001b[0m \u001b[0;34m=\u001b[0m \u001b[0mtime\u001b[0m\u001b[0;34m.\u001b[0m\u001b[0mtime\u001b[0m\u001b[0;34m(\u001b[0m\u001b[0;34m)\u001b[0m \u001b[0;34m-\u001b[0m \u001b[0mself\u001b[0m\u001b[0;34m.\u001b[0m\u001b[0m_start_time\u001b[0m\u001b[0;34m\u001b[0m\u001b[0;34m\u001b[0m\u001b[0m\n",
      "\u001b[0;32m/opt/anaconda3/envs/learn-env/lib/python3.6/site-packages/joblib/parallel.py\u001b[0m in \u001b[0;36mretrieve\u001b[0;34m(self)\u001b[0m\n\u001b[1;32m    831\u001b[0m             \u001b[0;32mtry\u001b[0m\u001b[0;34m:\u001b[0m\u001b[0;34m\u001b[0m\u001b[0;34m\u001b[0m\u001b[0m\n\u001b[1;32m    832\u001b[0m                 \u001b[0;32mif\u001b[0m \u001b[0mgetattr\u001b[0m\u001b[0;34m(\u001b[0m\u001b[0mself\u001b[0m\u001b[0;34m.\u001b[0m\u001b[0m_backend\u001b[0m\u001b[0;34m,\u001b[0m \u001b[0;34m'supports_timeout'\u001b[0m\u001b[0;34m,\u001b[0m \u001b[0;32mFalse\u001b[0m\u001b[0;34m)\u001b[0m\u001b[0;34m:\u001b[0m\u001b[0;34m\u001b[0m\u001b[0;34m\u001b[0m\u001b[0m\n\u001b[0;32m--> 833\u001b[0;31m                     \u001b[0mself\u001b[0m\u001b[0;34m.\u001b[0m\u001b[0m_output\u001b[0m\u001b[0;34m.\u001b[0m\u001b[0mextend\u001b[0m\u001b[0;34m(\u001b[0m\u001b[0mjob\u001b[0m\u001b[0;34m.\u001b[0m\u001b[0mget\u001b[0m\u001b[0;34m(\u001b[0m\u001b[0mtimeout\u001b[0m\u001b[0;34m=\u001b[0m\u001b[0mself\u001b[0m\u001b[0;34m.\u001b[0m\u001b[0mtimeout\u001b[0m\u001b[0;34m)\u001b[0m\u001b[0;34m)\u001b[0m\u001b[0;34m\u001b[0m\u001b[0;34m\u001b[0m\u001b[0m\n\u001b[0m\u001b[1;32m    834\u001b[0m                 \u001b[0;32melse\u001b[0m\u001b[0;34m:\u001b[0m\u001b[0;34m\u001b[0m\u001b[0;34m\u001b[0m\u001b[0m\n\u001b[1;32m    835\u001b[0m                     \u001b[0mself\u001b[0m\u001b[0;34m.\u001b[0m\u001b[0m_output\u001b[0m\u001b[0;34m.\u001b[0m\u001b[0mextend\u001b[0m\u001b[0;34m(\u001b[0m\u001b[0mjob\u001b[0m\u001b[0;34m.\u001b[0m\u001b[0mget\u001b[0m\u001b[0;34m(\u001b[0m\u001b[0;34m)\u001b[0m\u001b[0;34m)\u001b[0m\u001b[0;34m\u001b[0m\u001b[0;34m\u001b[0m\u001b[0m\n",
      "\u001b[0;32m/opt/anaconda3/envs/learn-env/lib/python3.6/site-packages/joblib/_parallel_backends.py\u001b[0m in \u001b[0;36mwrap_future_result\u001b[0;34m(future, timeout)\u001b[0m\n\u001b[1;32m    519\u001b[0m         AsyncResults.get from multiprocessing.\"\"\"\n\u001b[1;32m    520\u001b[0m         \u001b[0;32mtry\u001b[0m\u001b[0;34m:\u001b[0m\u001b[0;34m\u001b[0m\u001b[0;34m\u001b[0m\u001b[0m\n\u001b[0;32m--> 521\u001b[0;31m             \u001b[0;32mreturn\u001b[0m \u001b[0mfuture\u001b[0m\u001b[0;34m.\u001b[0m\u001b[0mresult\u001b[0m\u001b[0;34m(\u001b[0m\u001b[0mtimeout\u001b[0m\u001b[0;34m=\u001b[0m\u001b[0mtimeout\u001b[0m\u001b[0;34m)\u001b[0m\u001b[0;34m\u001b[0m\u001b[0;34m\u001b[0m\u001b[0m\n\u001b[0m\u001b[1;32m    522\u001b[0m         \u001b[0;32mexcept\u001b[0m \u001b[0mLokyTimeoutError\u001b[0m\u001b[0;34m:\u001b[0m\u001b[0;34m\u001b[0m\u001b[0;34m\u001b[0m\u001b[0m\n\u001b[1;32m    523\u001b[0m             \u001b[0;32mraise\u001b[0m \u001b[0mTimeoutError\u001b[0m\u001b[0;34m(\u001b[0m\u001b[0;34m)\u001b[0m\u001b[0;34m\u001b[0m\u001b[0;34m\u001b[0m\u001b[0m\n",
      "\u001b[0;32m/opt/anaconda3/envs/learn-env/lib/python3.6/concurrent/futures/_base.py\u001b[0m in \u001b[0;36mresult\u001b[0;34m(self, timeout)\u001b[0m\n\u001b[1;32m    425\u001b[0m                 \u001b[0;32mreturn\u001b[0m \u001b[0mself\u001b[0m\u001b[0;34m.\u001b[0m\u001b[0m__get_result\u001b[0m\u001b[0;34m(\u001b[0m\u001b[0;34m)\u001b[0m\u001b[0;34m\u001b[0m\u001b[0;34m\u001b[0m\u001b[0m\n\u001b[1;32m    426\u001b[0m \u001b[0;34m\u001b[0m\u001b[0m\n\u001b[0;32m--> 427\u001b[0;31m             \u001b[0mself\u001b[0m\u001b[0;34m.\u001b[0m\u001b[0m_condition\u001b[0m\u001b[0;34m.\u001b[0m\u001b[0mwait\u001b[0m\u001b[0;34m(\u001b[0m\u001b[0mtimeout\u001b[0m\u001b[0;34m)\u001b[0m\u001b[0;34m\u001b[0m\u001b[0;34m\u001b[0m\u001b[0m\n\u001b[0m\u001b[1;32m    428\u001b[0m \u001b[0;34m\u001b[0m\u001b[0m\n\u001b[1;32m    429\u001b[0m             \u001b[0;32mif\u001b[0m \u001b[0mself\u001b[0m\u001b[0;34m.\u001b[0m\u001b[0m_state\u001b[0m \u001b[0;32min\u001b[0m \u001b[0;34m[\u001b[0m\u001b[0mCANCELLED\u001b[0m\u001b[0;34m,\u001b[0m \u001b[0mCANCELLED_AND_NOTIFIED\u001b[0m\u001b[0;34m]\u001b[0m\u001b[0;34m:\u001b[0m\u001b[0;34m\u001b[0m\u001b[0;34m\u001b[0m\u001b[0m\n",
      "\u001b[0;32m/opt/anaconda3/envs/learn-env/lib/python3.6/threading.py\u001b[0m in \u001b[0;36mwait\u001b[0;34m(self, timeout)\u001b[0m\n\u001b[1;32m    293\u001b[0m         \u001b[0;32mtry\u001b[0m\u001b[0;34m:\u001b[0m    \u001b[0;31m# restore state no matter what (e.g., KeyboardInterrupt)\u001b[0m\u001b[0;34m\u001b[0m\u001b[0;34m\u001b[0m\u001b[0m\n\u001b[1;32m    294\u001b[0m             \u001b[0;32mif\u001b[0m \u001b[0mtimeout\u001b[0m \u001b[0;32mis\u001b[0m \u001b[0;32mNone\u001b[0m\u001b[0;34m:\u001b[0m\u001b[0;34m\u001b[0m\u001b[0;34m\u001b[0m\u001b[0m\n\u001b[0;32m--> 295\u001b[0;31m                 \u001b[0mwaiter\u001b[0m\u001b[0;34m.\u001b[0m\u001b[0macquire\u001b[0m\u001b[0;34m(\u001b[0m\u001b[0;34m)\u001b[0m\u001b[0;34m\u001b[0m\u001b[0;34m\u001b[0m\u001b[0m\n\u001b[0m\u001b[1;32m    296\u001b[0m                 \u001b[0mgotit\u001b[0m \u001b[0;34m=\u001b[0m \u001b[0;32mTrue\u001b[0m\u001b[0;34m\u001b[0m\u001b[0;34m\u001b[0m\u001b[0m\n\u001b[1;32m    297\u001b[0m             \u001b[0;32melse\u001b[0m\u001b[0;34m:\u001b[0m\u001b[0;34m\u001b[0m\u001b[0;34m\u001b[0m\u001b[0m\n",
      "\u001b[0;31mKeyboardInterrupt\u001b[0m: "
     ]
    }
   ],
   "source": [
    "#create a grid search object and fit it to the data\n",
    "CV_van_weight = GridSearchCV(LogisticRegression(class_weight='balanced'),\n",
    "                      param_grid, n_jobs=-1, scoring='accuracy', verbose=2)\n",
    "\n",
    "CV_van_weight.fit(X_train_van, y_train_van)"
   ]
  },
  {
   "cell_type": "code",
   "execution_count": null,
   "metadata": {},
   "outputs": [],
   "source": [
    "### Identify the best params \n",
    "print(CV_van_weight.best_estimator_)\n",
    "\n",
    "#Identify the best score during fitting with cross-validation\n",
    "print(CV_van_weight.best_score_)"
   ]
  },
  {
   "cell_type": "code",
   "execution_count": null,
   "metadata": {},
   "outputs": [],
   "source": [
    "#predict on the test set\n",
    "y_pred_van_weight = CV_van_weight.best_estimator_.predict(X_test_van)\n",
    "\n",
    "# checking metrics\n",
    "print('Test Accuracy score: ', accuracy_score(y_test_van, y_pred_van_weight))\n",
    "print('Test Precision score: ', precision_score(y_test_van, y_pred_van_weight))\n",
    "print('Test Recall score: ', recall_score(y_test_van, y_pred_van_weight))\n",
    "print('Test F1 score: ', f1_score(y_test_van, y_pred_van_weight))"
   ]
  },
  {
   "cell_type": "code",
   "execution_count": null,
   "metadata": {},
   "outputs": [],
   "source": []
  },
  {
   "cell_type": "code",
   "execution_count": null,
   "metadata": {},
   "outputs": [],
   "source": []
  },
  {
   "cell_type": "code",
   "execution_count": 276,
   "metadata": {},
   "outputs": [
    {
     "data": {
      "text/html": [
       "<div>\n",
       "<style scoped>\n",
       "    .dataframe tbody tr th:only-of-type {\n",
       "        vertical-align: middle;\n",
       "    }\n",
       "\n",
       "    .dataframe tbody tr th {\n",
       "        vertical-align: top;\n",
       "    }\n",
       "\n",
       "    .dataframe thead th {\n",
       "        text-align: right;\n",
       "    }\n",
       "</style>\n",
       "<table border=\"1\" class=\"dataframe\">\n",
       "  <thead>\n",
       "    <tr style=\"text-align: right;\">\n",
       "      <th></th>\n",
       "      <th>root_other</th>\n",
       "      <th>trunk_wire</th>\n",
       "      <th>trunk_light</th>\n",
       "      <th>trunk_other</th>\n",
       "      <th>branch_light</th>\n",
       "      <th>branch_shoe</th>\n",
       "      <th>branch_other</th>\n",
       "      <th>cb_num</th>\n",
       "      <th>boroname</th>\n",
       "      <th>council_dist</th>\n",
       "      <th>st_assem</th>\n",
       "      <th>st_senate</th>\n",
       "      <th>nta</th>\n",
       "    </tr>\n",
       "    <tr>\n",
       "      <th>tree_id</th>\n",
       "      <th></th>\n",
       "      <th></th>\n",
       "      <th></th>\n",
       "      <th></th>\n",
       "      <th></th>\n",
       "      <th></th>\n",
       "      <th></th>\n",
       "      <th></th>\n",
       "      <th></th>\n",
       "      <th></th>\n",
       "      <th></th>\n",
       "      <th></th>\n",
       "      <th></th>\n",
       "    </tr>\n",
       "  </thead>\n",
       "  <tbody>\n",
       "    <tr>\n",
       "      <th>180683</th>\n",
       "      <td>0</td>\n",
       "      <td>0</td>\n",
       "      <td>0</td>\n",
       "      <td>0</td>\n",
       "      <td>0</td>\n",
       "      <td>0</td>\n",
       "      <td>0</td>\n",
       "      <td>406</td>\n",
       "      <td>Queens</td>\n",
       "      <td>29</td>\n",
       "      <td>28</td>\n",
       "      <td>16</td>\n",
       "      <td>QN17</td>\n",
       "    </tr>\n",
       "    <tr>\n",
       "      <th>203550</th>\n",
       "      <td>0</td>\n",
       "      <td>0</td>\n",
       "      <td>0</td>\n",
       "      <td>0</td>\n",
       "      <td>1</td>\n",
       "      <td>0</td>\n",
       "      <td>0</td>\n",
       "      <td>406</td>\n",
       "      <td>Queens</td>\n",
       "      <td>29</td>\n",
       "      <td>28</td>\n",
       "      <td>15</td>\n",
       "      <td>QN17</td>\n",
       "    </tr>\n",
       "    <tr>\n",
       "      <th>193183</th>\n",
       "      <td>0</td>\n",
       "      <td>0</td>\n",
       "      <td>0</td>\n",
       "      <td>0</td>\n",
       "      <td>0</td>\n",
       "      <td>0</td>\n",
       "      <td>0</td>\n",
       "      <td>406</td>\n",
       "      <td>Queens</td>\n",
       "      <td>29</td>\n",
       "      <td>28</td>\n",
       "      <td>15</td>\n",
       "      <td>QN17</td>\n",
       "    </tr>\n",
       "    <tr>\n",
       "      <th>203577</th>\n",
       "      <td>0</td>\n",
       "      <td>0</td>\n",
       "      <td>0</td>\n",
       "      <td>0</td>\n",
       "      <td>1</td>\n",
       "      <td>0</td>\n",
       "      <td>0</td>\n",
       "      <td>406</td>\n",
       "      <td>Queens</td>\n",
       "      <td>29</td>\n",
       "      <td>28</td>\n",
       "      <td>15</td>\n",
       "      <td>QN17</td>\n",
       "    </tr>\n",
       "    <tr>\n",
       "      <th>203386</th>\n",
       "      <td>0</td>\n",
       "      <td>0</td>\n",
       "      <td>0</td>\n",
       "      <td>0</td>\n",
       "      <td>1</td>\n",
       "      <td>0</td>\n",
       "      <td>0</td>\n",
       "      <td>406</td>\n",
       "      <td>Queens</td>\n",
       "      <td>29</td>\n",
       "      <td>28</td>\n",
       "      <td>15</td>\n",
       "      <td>QN17</td>\n",
       "    </tr>\n",
       "  </tbody>\n",
       "</table>\n",
       "</div>"
      ],
      "text/plain": [
       "         root_other  trunk_wire  trunk_light  trunk_other  branch_light  \\\n",
       "tree_id                                                                   \n",
       "180683            0           0            0            0             0   \n",
       "203550            0           0            0            0             1   \n",
       "193183            0           0            0            0             0   \n",
       "203577            0           0            0            0             1   \n",
       "203386            0           0            0            0             1   \n",
       "\n",
       "         branch_shoe  branch_other  cb_num boroname  council_dist  st_assem  \\\n",
       "tree_id                                                                       \n",
       "180683             0             0     406   Queens            29        28   \n",
       "203550             0             0     406   Queens            29        28   \n",
       "193183             0             0     406   Queens            29        28   \n",
       "203577             0             0     406   Queens            29        28   \n",
       "203386             0             0     406   Queens            29        28   \n",
       "\n",
       "         st_senate   nta  \n",
       "tree_id                   \n",
       "180683          16  QN17  \n",
       "203550          15  QN17  \n",
       "193183          15  QN17  \n",
       "203577          15  QN17  \n",
       "203386          15  QN17  "
      ]
     },
     "execution_count": 276,
     "metadata": {},
     "output_type": "execute_result"
    }
   ],
   "source": [
    "trees[trees.nta == 'QN17'].iloc[:, 10:].head()"
   ]
  },
  {
   "cell_type": "code",
   "execution_count": 278,
   "metadata": {},
   "outputs": [
    {
     "name": "stdout",
     "output_type": "stream",
     "text": [
      "59\n"
     ]
    },
    {
     "data": {
      "text/plain": [
       "array([406, 407, 301, 306, 107, 104, 502, 313, 401, 503, 302, 316, 311,\n",
       "       314, 404, 307, 108, 409, 312, 103, 405, 206, 315, 106, 102, 205,\n",
       "       105, 109, 403, 207, 310, 317, 414, 304, 413, 308, 212, 408, 411,\n",
       "       318, 208, 101, 110, 402, 412, 204, 211, 410, 305, 203, 303, 209,\n",
       "       501, 210, 309, 201, 112, 111, 202])"
      ]
     },
     "execution_count": 278,
     "metadata": {},
     "output_type": "execute_result"
    }
   ],
   "source": [
    "print(len(trees.cb_num.unique()))\n",
    "trees.cb_num.unique()"
   ]
  },
  {
   "cell_type": "code",
   "execution_count": 282,
   "metadata": {},
   "outputs": [
    {
     "name": "stdout",
     "output_type": "stream",
     "text": [
      "188\n"
     ]
    },
    {
     "data": {
      "text/plain": [
       "array(['QN17', 'QN49', 'BK90', 'BK37', 'MN14', 'MN15', 'SI14', 'BK26',\n",
       "       'QN72', 'SI54', 'BK69', 'BK81', 'BK29', 'BK42', 'QN25', 'BK68',\n",
       "       'MN40', 'MN12', 'SI25', 'QN60', 'BK46', 'MN27', 'QN20', 'BX17',\n",
       "       'SI36', 'SI45', 'BK17', 'MN50', 'MN24', 'SI24', 'BK44', 'QN62',\n",
       "       'SI01', 'BX06', 'BX41', 'SI48', 'MN20', 'MN23', 'BK33', 'MN09',\n",
       "       'QN28', 'BX43', 'BX36', 'BK19', 'BK31', 'BK43', 'QN51', 'BK96',\n",
       "       'QN22', 'QN15', 'BK77', 'QN12', 'BX40', 'QN03', 'QN18', 'QN34',\n",
       "       'BK64', 'BK28', 'BK95', 'BX62', 'QN27', 'MN31', 'QN70', 'MN21',\n",
       "       'QN53', 'QN10', 'BK41', 'QN41', 'QN48', 'BK76', 'SI05', 'BX28',\n",
       "       'BK58', 'BK25', 'MN17', 'QN19', 'MN25', 'MN11', 'QN31', 'BK88',\n",
       "       'QN08', 'QN66', 'QN46', 'QN42', 'QN06', 'QN23', 'BX01', 'MN19',\n",
       "       'BX26', 'QN45', 'BK61', 'BK73', 'BX49', 'QN71', 'QN57', 'BK82',\n",
       "       'BK78', 'BK79', 'BK60', 'MN28', 'MN13', 'BK34', 'BK75', 'BX08',\n",
       "       'QN54', 'SI07', 'BX52', 'BK45', 'MN32', 'BX03', 'QN50', 'BK35',\n",
       "       'BX30', 'BX37', 'BX34', 'BK85', 'BK27', 'BK21', 'SI32', 'MN22',\n",
       "       'BK83', 'BK50', 'BK32', 'MN36', 'SI11', 'QN37', 'BX10', 'BK72',\n",
       "       'MN33', 'QN63', 'SI35', 'QN43', 'BX75', 'BK30', 'QN29', 'SI12',\n",
       "       'QN44', 'BK63', 'MN04', 'QN55', 'MN06', 'QN47', 'BX33', 'QN33',\n",
       "       'SI37', 'BK91', 'BK23', 'BX39', 'BX09', 'BK38', 'BX63', 'BX05',\n",
       "       'QN05', 'BX29', 'QN56', 'MN01', 'BX27', 'SI22', 'QN35', 'QN68',\n",
       "       'BK40', 'BX44', 'MN35', 'QN52', 'QN38', 'BX14', 'BX22', 'BK09',\n",
       "       'SI28', 'SI08', 'MN34', 'QN26', 'BX35', 'BX55', 'BX31', 'QN61',\n",
       "       'BX46', 'MN03', 'BX13', 'QN21', 'QN07', 'QN76', 'QN30', 'QN01',\n",
       "       'BX59', 'QN02', 'BK93', 'BX07'], dtype=object)"
      ]
     },
     "execution_count": 282,
     "metadata": {},
     "output_type": "execute_result"
    }
   ],
   "source": [
    "print(len(trees.nta.unique()))\n",
    "trees.nta.unique()"
   ]
  },
  {
   "cell_type": "code",
   "execution_count": 274,
   "metadata": {
    "scrolled": true
   },
   "outputs": [
    {
     "data": {
      "text/html": [
       "<div>\n",
       "<style scoped>\n",
       "    .dataframe tbody tr th:only-of-type {\n",
       "        vertical-align: middle;\n",
       "    }\n",
       "\n",
       "    .dataframe tbody tr th {\n",
       "        vertical-align: top;\n",
       "    }\n",
       "\n",
       "    .dataframe thead th {\n",
       "        text-align: right;\n",
       "    }\n",
       "</style>\n",
       "<table border=\"1\" class=\"dataframe\">\n",
       "  <thead>\n",
       "    <tr style=\"text-align: right;\">\n",
       "      <th></th>\n",
       "      <th>root_other</th>\n",
       "      <th>trunk_wire</th>\n",
       "      <th>trunk_light</th>\n",
       "      <th>trunk_other</th>\n",
       "      <th>branch_light</th>\n",
       "      <th>branch_shoe</th>\n",
       "      <th>branch_other</th>\n",
       "      <th>cb_num</th>\n",
       "      <th>boroname</th>\n",
       "      <th>council_dist</th>\n",
       "      <th>st_assem</th>\n",
       "      <th>st_senate</th>\n",
       "      <th>nta</th>\n",
       "    </tr>\n",
       "    <tr>\n",
       "      <th>tree_id</th>\n",
       "      <th></th>\n",
       "      <th></th>\n",
       "      <th></th>\n",
       "      <th></th>\n",
       "      <th></th>\n",
       "      <th></th>\n",
       "      <th></th>\n",
       "      <th></th>\n",
       "      <th></th>\n",
       "      <th></th>\n",
       "      <th></th>\n",
       "      <th></th>\n",
       "      <th></th>\n",
       "    </tr>\n",
       "  </thead>\n",
       "  <tbody>\n",
       "    <tr>\n",
       "      <th>180683</th>\n",
       "      <td>0</td>\n",
       "      <td>0</td>\n",
       "      <td>0</td>\n",
       "      <td>0</td>\n",
       "      <td>0</td>\n",
       "      <td>0</td>\n",
       "      <td>0</td>\n",
       "      <td>406</td>\n",
       "      <td>Queens</td>\n",
       "      <td>29</td>\n",
       "      <td>28</td>\n",
       "      <td>16</td>\n",
       "      <td>QN17</td>\n",
       "    </tr>\n",
       "    <tr>\n",
       "      <th>200540</th>\n",
       "      <td>0</td>\n",
       "      <td>0</td>\n",
       "      <td>0</td>\n",
       "      <td>0</td>\n",
       "      <td>0</td>\n",
       "      <td>0</td>\n",
       "      <td>0</td>\n",
       "      <td>407</td>\n",
       "      <td>Queens</td>\n",
       "      <td>19</td>\n",
       "      <td>27</td>\n",
       "      <td>11</td>\n",
       "      <td>QN49</td>\n",
       "    </tr>\n",
       "    <tr>\n",
       "      <th>204026</th>\n",
       "      <td>0</td>\n",
       "      <td>0</td>\n",
       "      <td>0</td>\n",
       "      <td>0</td>\n",
       "      <td>0</td>\n",
       "      <td>0</td>\n",
       "      <td>0</td>\n",
       "      <td>301</td>\n",
       "      <td>Brooklyn</td>\n",
       "      <td>34</td>\n",
       "      <td>50</td>\n",
       "      <td>18</td>\n",
       "      <td>BK90</td>\n",
       "    </tr>\n",
       "    <tr>\n",
       "      <th>204337</th>\n",
       "      <td>0</td>\n",
       "      <td>0</td>\n",
       "      <td>0</td>\n",
       "      <td>0</td>\n",
       "      <td>0</td>\n",
       "      <td>0</td>\n",
       "      <td>0</td>\n",
       "      <td>301</td>\n",
       "      <td>Brooklyn</td>\n",
       "      <td>34</td>\n",
       "      <td>53</td>\n",
       "      <td>18</td>\n",
       "      <td>BK90</td>\n",
       "    </tr>\n",
       "    <tr>\n",
       "      <th>189565</th>\n",
       "      <td>0</td>\n",
       "      <td>0</td>\n",
       "      <td>0</td>\n",
       "      <td>0</td>\n",
       "      <td>0</td>\n",
       "      <td>0</td>\n",
       "      <td>0</td>\n",
       "      <td>306</td>\n",
       "      <td>Brooklyn</td>\n",
       "      <td>39</td>\n",
       "      <td>44</td>\n",
       "      <td>21</td>\n",
       "      <td>BK37</td>\n",
       "    </tr>\n",
       "    <tr>\n",
       "      <th>190422</th>\n",
       "      <td>0</td>\n",
       "      <td>0</td>\n",
       "      <td>0</td>\n",
       "      <td>0</td>\n",
       "      <td>0</td>\n",
       "      <td>0</td>\n",
       "      <td>0</td>\n",
       "      <td>107</td>\n",
       "      <td>Manhattan</td>\n",
       "      <td>3</td>\n",
       "      <td>67</td>\n",
       "      <td>27</td>\n",
       "      <td>MN14</td>\n",
       "    </tr>\n",
       "    <tr>\n",
       "      <th>190426</th>\n",
       "      <td>0</td>\n",
       "      <td>0</td>\n",
       "      <td>0</td>\n",
       "      <td>0</td>\n",
       "      <td>0</td>\n",
       "      <td>0</td>\n",
       "      <td>0</td>\n",
       "      <td>107</td>\n",
       "      <td>Manhattan</td>\n",
       "      <td>3</td>\n",
       "      <td>67</td>\n",
       "      <td>27</td>\n",
       "      <td>MN14</td>\n",
       "    </tr>\n",
       "    <tr>\n",
       "      <th>208649</th>\n",
       "      <td>0</td>\n",
       "      <td>0</td>\n",
       "      <td>0</td>\n",
       "      <td>0</td>\n",
       "      <td>0</td>\n",
       "      <td>0</td>\n",
       "      <td>0</td>\n",
       "      <td>104</td>\n",
       "      <td>Manhattan</td>\n",
       "      <td>3</td>\n",
       "      <td>75</td>\n",
       "      <td>27</td>\n",
       "      <td>MN15</td>\n",
       "    </tr>\n",
       "    <tr>\n",
       "      <th>209610</th>\n",
       "      <td>0</td>\n",
       "      <td>0</td>\n",
       "      <td>0</td>\n",
       "      <td>0</td>\n",
       "      <td>0</td>\n",
       "      <td>0</td>\n",
       "      <td>0</td>\n",
       "      <td>502</td>\n",
       "      <td>Staten Island</td>\n",
       "      <td>50</td>\n",
       "      <td>64</td>\n",
       "      <td>23</td>\n",
       "      <td>SI14</td>\n",
       "    </tr>\n",
       "    <tr>\n",
       "      <th>192755</th>\n",
       "      <td>0</td>\n",
       "      <td>0</td>\n",
       "      <td>0</td>\n",
       "      <td>0</td>\n",
       "      <td>0</td>\n",
       "      <td>0</td>\n",
       "      <td>0</td>\n",
       "      <td>313</td>\n",
       "      <td>Brooklyn</td>\n",
       "      <td>47</td>\n",
       "      <td>45</td>\n",
       "      <td>23</td>\n",
       "      <td>BK26</td>\n",
       "    </tr>\n",
       "  </tbody>\n",
       "</table>\n",
       "</div>"
      ],
      "text/plain": [
       "         root_other  trunk_wire  trunk_light  trunk_other  branch_light  \\\n",
       "tree_id                                                                   \n",
       "180683            0           0            0            0             0   \n",
       "200540            0           0            0            0             0   \n",
       "204026            0           0            0            0             0   \n",
       "204337            0           0            0            0             0   \n",
       "189565            0           0            0            0             0   \n",
       "190422            0           0            0            0             0   \n",
       "190426            0           0            0            0             0   \n",
       "208649            0           0            0            0             0   \n",
       "209610            0           0            0            0             0   \n",
       "192755            0           0            0            0             0   \n",
       "\n",
       "         branch_shoe  branch_other  cb_num       boroname  council_dist  \\\n",
       "tree_id                                                                   \n",
       "180683             0             0     406         Queens            29   \n",
       "200540             0             0     407         Queens            19   \n",
       "204026             0             0     301       Brooklyn            34   \n",
       "204337             0             0     301       Brooklyn            34   \n",
       "189565             0             0     306       Brooklyn            39   \n",
       "190422             0             0     107      Manhattan             3   \n",
       "190426             0             0     107      Manhattan             3   \n",
       "208649             0             0     104      Manhattan             3   \n",
       "209610             0             0     502  Staten Island            50   \n",
       "192755             0             0     313       Brooklyn            47   \n",
       "\n",
       "         st_assem  st_senate   nta  \n",
       "tree_id                             \n",
       "180683         28         16  QN17  \n",
       "200540         27         11  QN49  \n",
       "204026         50         18  BK90  \n",
       "204337         53         18  BK90  \n",
       "189565         44         21  BK37  \n",
       "190422         67         27  MN14  \n",
       "190426         67         27  MN14  \n",
       "208649         75         27  MN15  \n",
       "209610         64         23  SI14  \n",
       "192755         45         23  BK26  "
      ]
     },
     "execution_count": 274,
     "metadata": {},
     "output_type": "execute_result"
    }
   ],
   "source": [
    "trees.iloc[:, 10:].head(10)"
   ]
  },
  {
   "cell_type": "code",
   "execution_count": null,
   "metadata": {},
   "outputs": [],
   "source": []
  },
  {
   "cell_type": "code",
   "execution_count": null,
   "metadata": {},
   "outputs": [],
   "source": []
  },
  {
   "cell_type": "code",
   "execution_count": null,
   "metadata": {},
   "outputs": [],
   "source": []
  },
  {
   "cell_type": "code",
   "execution_count": null,
   "metadata": {},
   "outputs": [],
   "source": []
  },
  {
   "cell_type": "code",
   "execution_count": null,
   "metadata": {},
   "outputs": [],
   "source": []
  },
  {
   "cell_type": "code",
   "execution_count": null,
   "metadata": {},
   "outputs": [],
   "source": []
  },
  {
   "cell_type": "code",
   "execution_count": null,
   "metadata": {},
   "outputs": [],
   "source": []
  },
  {
   "cell_type": "code",
   "execution_count": 181,
   "metadata": {
    "scrolled": false
   },
   "outputs": [
    {
     "data": {
      "text/plain": [
       "Index(['London planetree', 'honeylocust', 'Callery pear', 'pin oak',\n",
       "       'Norway maple', 'littleleaf linden', 'cherry', 'Japanese zelkova',\n",
       "       'ginkgo', 'Sophora'],\n",
       "      dtype='object')"
      ]
     },
     "execution_count": 181,
     "metadata": {},
     "output_type": "execute_result"
    }
   ],
   "source": [
    "trees.spc_common.value_counts().head(10).keys()"
   ]
  },
  {
   "cell_type": "code",
   "execution_count": 183,
   "metadata": {
    "scrolled": true
   },
   "outputs": [
    {
     "data": {
      "text/html": [
       "<div>\n",
       "<style scoped>\n",
       "    .dataframe tbody tr th:only-of-type {\n",
       "        vertical-align: middle;\n",
       "    }\n",
       "\n",
       "    .dataframe tbody tr th {\n",
       "        vertical-align: top;\n",
       "    }\n",
       "\n",
       "    .dataframe thead th {\n",
       "        text-align: right;\n",
       "    }\n",
       "</style>\n",
       "<table border=\"1\" class=\"dataframe\">\n",
       "  <thead>\n",
       "    <tr style=\"text-align: right;\">\n",
       "      <th></th>\n",
       "      <th>created_at</th>\n",
       "      <th>tree_id</th>\n",
       "      <th>block_id</th>\n",
       "      <th>the_geom</th>\n",
       "      <th>tree_dbh</th>\n",
       "      <th>stump_diam</th>\n",
       "      <th>curb_loc</th>\n",
       "      <th>status</th>\n",
       "      <th>health</th>\n",
       "      <th>spc_latin</th>\n",
       "      <th>...</th>\n",
       "      <th>st_assem</th>\n",
       "      <th>st_senate</th>\n",
       "      <th>nta</th>\n",
       "      <th>nta_name</th>\n",
       "      <th>boro_ct</th>\n",
       "      <th>state</th>\n",
       "      <th>latitude</th>\n",
       "      <th>longitude</th>\n",
       "      <th>x_sp</th>\n",
       "      <th>y_sp</th>\n",
       "    </tr>\n",
       "  </thead>\n",
       "  <tbody>\n",
       "    <tr>\n",
       "      <th>1</th>\n",
       "      <td>09/03/2015</td>\n",
       "      <td>200540</td>\n",
       "      <td>315986</td>\n",
       "      <td>POINT (-73.81867945834878 40.79411066708779)</td>\n",
       "      <td>21</td>\n",
       "      <td>0</td>\n",
       "      <td>OnCurb</td>\n",
       "      <td>Alive</td>\n",
       "      <td>Fair</td>\n",
       "      <td>Quercus palustris</td>\n",
       "      <td>...</td>\n",
       "      <td>27</td>\n",
       "      <td>11</td>\n",
       "      <td>QN49</td>\n",
       "      <td>Whitestone</td>\n",
       "      <td>4097300</td>\n",
       "      <td>New York</td>\n",
       "      <td>40.794111</td>\n",
       "      <td>-73.818679</td>\n",
       "      <td>1.034456e+06</td>\n",
       "      <td>228644.837379</td>\n",
       "    </tr>\n",
       "    <tr>\n",
       "      <th>2</th>\n",
       "      <td>09/05/2015</td>\n",
       "      <td>204026</td>\n",
       "      <td>218365</td>\n",
       "      <td>POINT (-73.93660770459083 40.717580740099116)</td>\n",
       "      <td>3</td>\n",
       "      <td>0</td>\n",
       "      <td>OnCurb</td>\n",
       "      <td>Alive</td>\n",
       "      <td>Good</td>\n",
       "      <td>Gleditsia triacanthos var. inermis</td>\n",
       "      <td>...</td>\n",
       "      <td>50</td>\n",
       "      <td>18</td>\n",
       "      <td>BK90</td>\n",
       "      <td>East Williamsburg</td>\n",
       "      <td>3044900</td>\n",
       "      <td>New York</td>\n",
       "      <td>40.717581</td>\n",
       "      <td>-73.936608</td>\n",
       "      <td>1.001823e+06</td>\n",
       "      <td>200716.891267</td>\n",
       "    </tr>\n",
       "    <tr>\n",
       "      <th>3</th>\n",
       "      <td>09/05/2015</td>\n",
       "      <td>204337</td>\n",
       "      <td>217969</td>\n",
       "      <td>POINT (-73.93445615919741 40.713537494833226)</td>\n",
       "      <td>10</td>\n",
       "      <td>0</td>\n",
       "      <td>OnCurb</td>\n",
       "      <td>Alive</td>\n",
       "      <td>Good</td>\n",
       "      <td>Gleditsia triacanthos var. inermis</td>\n",
       "      <td>...</td>\n",
       "      <td>53</td>\n",
       "      <td>18</td>\n",
       "      <td>BK90</td>\n",
       "      <td>East Williamsburg</td>\n",
       "      <td>3044900</td>\n",
       "      <td>New York</td>\n",
       "      <td>40.713537</td>\n",
       "      <td>-73.934456</td>\n",
       "      <td>1.002420e+06</td>\n",
       "      <td>199244.253136</td>\n",
       "    </tr>\n",
       "    <tr>\n",
       "      <th>5</th>\n",
       "      <td>08/30/2015</td>\n",
       "      <td>190422</td>\n",
       "      <td>106099</td>\n",
       "      <td>POINT (-73.98494997200308 40.770045625891846)</td>\n",
       "      <td>11</td>\n",
       "      <td>0</td>\n",
       "      <td>OnCurb</td>\n",
       "      <td>Alive</td>\n",
       "      <td>Good</td>\n",
       "      <td>Gleditsia triacanthos var. inermis</td>\n",
       "      <td>...</td>\n",
       "      <td>67</td>\n",
       "      <td>27</td>\n",
       "      <td>MN14</td>\n",
       "      <td>Lincoln Square</td>\n",
       "      <td>1014500</td>\n",
       "      <td>New York</td>\n",
       "      <td>40.770046</td>\n",
       "      <td>-73.984950</td>\n",
       "      <td>9.884187e+05</td>\n",
       "      <td>219825.522669</td>\n",
       "    </tr>\n",
       "    <tr>\n",
       "      <th>6</th>\n",
       "      <td>08/30/2015</td>\n",
       "      <td>190426</td>\n",
       "      <td>106099</td>\n",
       "      <td>POINT (-73.98533807200513 40.77020969000546)</td>\n",
       "      <td>11</td>\n",
       "      <td>0</td>\n",
       "      <td>OnCurb</td>\n",
       "      <td>Alive</td>\n",
       "      <td>Good</td>\n",
       "      <td>Gleditsia triacanthos var. inermis</td>\n",
       "      <td>...</td>\n",
       "      <td>67</td>\n",
       "      <td>27</td>\n",
       "      <td>MN14</td>\n",
       "      <td>Lincoln Square</td>\n",
       "      <td>1014500</td>\n",
       "      <td>New York</td>\n",
       "      <td>40.770210</td>\n",
       "      <td>-73.985338</td>\n",
       "      <td>9.883112e+05</td>\n",
       "      <td>219885.278455</td>\n",
       "    </tr>\n",
       "  </tbody>\n",
       "</table>\n",
       "<p>5 rows × 42 columns</p>\n",
       "</div>"
      ],
      "text/plain": [
       "   created_at  tree_id  block_id  \\\n",
       "1  09/03/2015   200540    315986   \n",
       "2  09/05/2015   204026    218365   \n",
       "3  09/05/2015   204337    217969   \n",
       "5  08/30/2015   190422    106099   \n",
       "6  08/30/2015   190426    106099   \n",
       "\n",
       "                                        the_geom  tree_dbh  stump_diam  \\\n",
       "1   POINT (-73.81867945834878 40.79411066708779)        21           0   \n",
       "2  POINT (-73.93660770459083 40.717580740099116)         3           0   \n",
       "3  POINT (-73.93445615919741 40.713537494833226)        10           0   \n",
       "5  POINT (-73.98494997200308 40.770045625891846)        11           0   \n",
       "6   POINT (-73.98533807200513 40.77020969000546)        11           0   \n",
       "\n",
       "  curb_loc status health                           spc_latin  ... st_assem  \\\n",
       "1   OnCurb  Alive   Fair                   Quercus palustris  ...       27   \n",
       "2   OnCurb  Alive   Good  Gleditsia triacanthos var. inermis  ...       50   \n",
       "3   OnCurb  Alive   Good  Gleditsia triacanthos var. inermis  ...       53   \n",
       "5   OnCurb  Alive   Good  Gleditsia triacanthos var. inermis  ...       67   \n",
       "6   OnCurb  Alive   Good  Gleditsia triacanthos var. inermis  ...       67   \n",
       "\n",
       "  st_senate   nta           nta_name  boro_ct     state   latitude  longitude  \\\n",
       "1        11  QN49         Whitestone  4097300  New York  40.794111 -73.818679   \n",
       "2        18  BK90  East Williamsburg  3044900  New York  40.717581 -73.936608   \n",
       "3        18  BK90  East Williamsburg  3044900  New York  40.713537 -73.934456   \n",
       "5        27  MN14     Lincoln Square  1014500  New York  40.770046 -73.984950   \n",
       "6        27  MN14     Lincoln Square  1014500  New York  40.770210 -73.985338   \n",
       "\n",
       "           x_sp           y_sp  \n",
       "1  1.034456e+06  228644.837379  \n",
       "2  1.001823e+06  200716.891267  \n",
       "3  1.002420e+06  199244.253136  \n",
       "5  9.884187e+05  219825.522669  \n",
       "6  9.883112e+05  219885.278455  \n",
       "\n",
       "[5 rows x 42 columns]"
      ]
     },
     "execution_count": 183,
     "metadata": {},
     "output_type": "execute_result"
    }
   ],
   "source": [
    "trees_most_pop = trees[trees.spc_common.isin(['London planetree', 'honeylocust', 'Callery pear', 'pin oak',\n",
    "       'Norway maple', 'littleleaf linden', 'cherry', 'Japanese zelkova',\n",
    "       'ginkgo', 'Sophora'])]\n",
    "trees_most_pop.head()"
   ]
  },
  {
   "cell_type": "code",
   "execution_count": null,
   "metadata": {},
   "outputs": [],
   "source": [
    "boros = trees.groupby(['boroname']).health.value_counts(normalize=True).unstack()"
   ]
  },
  {
   "cell_type": "code",
   "execution_count": 199,
   "metadata": {},
   "outputs": [
    {
     "data": {
      "image/png": "[encoded data removed]",
      "text/plain": [
       "<Figure size 432x288 with 1 Axes>"
      ]
     },
     "metadata": {},
     "output_type": "display_data"
    }
   ],
   "source": [
    "# print('Paycode 1 Summary')\n",
    "\n",
    "# print('\\n')\n",
    "# print(df_train.groupby(['pay_1_bin','default']).pay_1_bin.count().unstack())\n",
    "\n",
    "# Passenger class visualization\n",
    "species_health = trees_most_pop.groupby('spc_common').health.value_counts(normalize=True).unstack().head(10)\n",
    "p1 = species_health.plot(kind = 'bar', stacked = True, \n",
    "                   title = 'Paycodes Binned: Defaulters vs Non-Defaulters', \n",
    "                   color = ['grey','lightgreen', 'blue'], alpha = .70)\n",
    "p1.set_xlabel('Paycode 1')\n",
    "p1.set_ylabel('# Users')\n",
    "p1.legend(['Fair','Good', 'Poor'])\n",
    "plt.show()"
   ]
  },
  {
   "cell_type": "code",
   "execution_count": 196,
   "metadata": {},
   "outputs": [
    {
     "data": {
      "image/png": "[encoded data removed]",
      "text/plain": [
       "<Figure size 432x288 with 1 Axes>"
      ]
     },
     "metadata": {},
     "output_type": "display_data"
    }
   ],
   "source": [
    "boros = trees.groupby(['boroname']).health.value_counts(normalize=True).unstack()\n",
    "p1 = boros.plot(kind = 'bar', stacked = True, \n",
    "                   title = 'Paycodes Binned: Defaulters vs Non-Defaulters', \n",
    "                   color = ['grey','lightgreen', 'blue'], alpha = .70)\n",
    "p1.set_xlabel('Paycode 1')\n",
    "p1.set_ylabel('# Users')\n",
    "p1.legend(['Fair','Good', 'Poor'])\n",
    "plt.show()"
   ]
  },
  {
   "cell_type": "code",
   "execution_count": 85,
   "metadata": {
    "scrolled": true
   },
   "outputs": [
    {
     "data": {
      "text/plain": [
       "Good    0.84252\n",
       "Fair    0.13222\n",
       "Poor    0.02526\n",
       "Name: health, dtype: float64"
      ]
     },
     "execution_count": 85,
     "metadata": {},
     "output_type": "execute_result"
    }
   ],
   "source": [
    "trees[trees.spc_common == 'London planetree'].health.value_counts(normalize=True)"
   ]
  },
  {
   "cell_type": "code",
   "execution_count": 203,
   "metadata": {},
   "outputs": [
    {
     "data": {
      "text/plain": [
       "<matplotlib.axes._subplots.AxesSubplot at 0x17594a470>"
      ]
     },
     "execution_count": 203,
     "metadata": {},
     "output_type": "execute_result"
    },
    {
     "data": {
      "image/png": "[encoded data removed]",
      "text/plain": [
       "<Figure size 432x288 with 1 Axes>"
      ]
     },
     "metadata": {},
     "output_type": "display_data"
    }
   ],
   "source": [
    "trees.boxplot('tree_dbh', 'health', showfliers=False)"
   ]
  },
  {
   "cell_type": "code",
   "execution_count": 76,
   "metadata": {
    "scrolled": true
   },
   "outputs": [
    {
     "data": {
      "text/plain": [
       "spc_common              health\n",
       "'Schubert' chokecherry  Good      0.803805\n",
       "                        Fair      0.146686\n",
       "                        Poor      0.049509\n",
       "American beech          Good      0.783883\n",
       "                        Fair      0.139194\n",
       "                                    ...   \n",
       "white pine              Fair      0.178218\n",
       "                        Poor      0.054455\n",
       "willow oak              Good      0.855842\n",
       "                        Fair      0.113065\n",
       "                        Poor      0.031093\n",
       "Name: health, Length: 392, dtype: float64"
      ]
     },
     "execution_count": 76,
     "metadata": {},
     "output_type": "execute_result"
    }
   ],
   "source": [
    "trees.groupby('spc_common').health.value_counts(normalize=True)"
   ]
  },
  {
   "cell_type": "code",
   "execution_count": 69,
   "metadata": {
    "scrolled": false
   },
   "outputs": [
    {
     "data": {
      "text/plain": [
       "Index(['created_at', 'the_geom', 'tree_dbh', 'stump_diam', 'curb_loc',\n",
       "       'status', 'health', 'spc_latin', 'spc_common', 'steward', 'guards',\n",
       "       'sidewalk', 'user_type', 'problems', 'root_stone', 'root_grate',\n",
       "       'root_other', 'trunk_wire', 'trunk_light', 'trunk_other',\n",
       "       'branch_light', 'branch_shoe', 'branch_other', 'address', 'zipcode',\n",
       "       'zip_city', 'cb_num', 'borocode', 'boroname', 'council_dist',\n",
       "       'st_assem', 'st_senate', 'nta', 'nta_name', 'boro_ct', 'state',\n",
       "       'latitude', 'longitude', 'x_sp', 'y_sp'],\n",
       "      dtype='object')"
      ]
     },
     "execution_count": 69,
     "metadata": {},
     "output_type": "execute_result"
    }
   ],
   "source": [
    "trees.columns"
   ]
  },
  {
   "cell_type": "code",
   "execution_count": 70,
   "metadata": {
    "scrolled": false
   },
   "outputs": [
    {
     "data": {
      "text/plain": [
       "array(['No', 'Yes'], dtype=object)"
      ]
     },
     "execution_count": 70,
     "metadata": {},
     "output_type": "execute_result"
    }
   ],
   "source": [
    "trees.trunk_light.unique()"
   ]
  },
  {
   "cell_type": "code",
   "execution_count": 89,
   "metadata": {},
   "outputs": [
    {
     "data": {
      "text/plain": [
       "None                                                                    426280\n",
       "Stones                                                                   95673\n",
       "BranchLights                                                             29452\n",
       "Stones,BranchLights                                                      17808\n",
       "RootOther                                                                11418\n",
       "                                                                         ...  \n",
       "Stones,RootOther,TrunkOther,BranchLights,Sneakers                            1\n",
       "Stones,RootOther,TrunkLights,BranchLights,BranchOther                        1\n",
       "MetalGrates,WiresRope,TrunkLights,BranchLights,BranchOther                   1\n",
       "MetalGrates,RootOther,WiresRope,TrunkLights,BranchLights,BranchOther         1\n",
       "MetalGrates,TrunkLights,TrunkOther,BranchOther                               1\n",
       "Name: problems, Length: 232, dtype: int64"
      ]
     },
     "execution_count": 89,
     "metadata": {},
     "output_type": "execute_result"
    }
   ],
   "source": [
    "trees.problems.value_counts()"
   ]
  },
  {
   "cell_type": "code",
   "execution_count": 105,
   "metadata": {},
   "outputs": [
    {
     "data": {
      "text/plain": [
       "(652166, 40)"
      ]
     },
     "execution_count": 105,
     "metadata": {},
     "output_type": "execute_result"
    }
   ],
   "source": [
    "trees.shape"
   ]
  },
  {
   "cell_type": "code",
   "execution_count": 106,
   "metadata": {},
   "outputs": [
    {
     "data": {
      "text/plain": [
       "Index(['created_at', 'the_geom', 'tree_dbh', 'stump_diam', 'curb_loc',\n",
       "       'status', 'health', 'spc_latin', 'spc_common', 'steward', 'guards',\n",
       "       'sidewalk', 'user_type', 'problems', 'root_stone', 'root_grate',\n",
       "       'root_other', 'trunk_wire', 'trunk_light', 'trunk_other',\n",
       "       'branch_light', 'branch_shoe', 'branch_other', 'address', 'zipcode',\n",
       "       'zip_city', 'cb_num', 'borocode', 'boroname', 'council_dist',\n",
       "       'st_assem', 'st_senate', 'nta', 'nta_name', 'boro_ct', 'state',\n",
       "       'latitude', 'longitude', 'x_sp', 'y_sp'],\n",
       "      dtype='object')"
      ]
     },
     "execution_count": 106,
     "metadata": {},
     "output_type": "execute_result"
    }
   ],
   "source": [
    "trees.columns"
   ]
  },
  {
   "cell_type": "code",
   "execution_count": 113,
   "metadata": {},
   "outputs": [
    {
     "data": {
      "text/plain": [
       "51"
      ]
     },
     "execution_count": 113,
     "metadata": {},
     "output_type": "execute_result"
    }
   ],
   "source": [
    "len(trees.council_dist.unique())"
   ]
  },
  {
   "cell_type": "code",
   "execution_count": 118,
   "metadata": {},
   "outputs": [
    {
     "data": {
      "text/plain": [
       "145"
      ]
     },
     "execution_count": 118,
     "metadata": {},
     "output_type": "execute_result"
    }
   ],
   "source": [
    "len(trees.tree_dbh.unique())"
   ]
  },
  {
   "cell_type": "code",
   "execution_count": 19,
   "metadata": {},
   "outputs": [
    {
     "data": {
      "text/plain": [
       "101390"
      ]
     },
     "execution_count": 19,
     "metadata": {},
     "output_type": "execute_result"
    }
   ],
   "source": [
    "len(trees.block_id.unique())"
   ]
  },
  {
   "cell_type": "code",
   "execution_count": 28,
   "metadata": {},
   "outputs": [
    {
     "data": {
      "text/plain": [
       "Good    528850\n",
       "Fair     96504\n",
       "Poor     26818\n",
       "Name: health, dtype: int64"
      ]
     },
     "execution_count": 28,
     "metadata": {},
     "output_type": "execute_result"
    }
   ],
   "source": [
    "trees.health.value_counts()"
   ]
  },
  {
   "cell_type": "code",
   "execution_count": 87,
   "metadata": {},
   "outputs": [
    {
     "data": {
      "text/plain": [
       "Good    0.810906\n",
       "Fair    0.147973\n",
       "Poor    0.041121\n",
       "Name: health, dtype: float64"
      ]
     },
     "execution_count": 87,
     "metadata": {},
     "output_type": "execute_result"
    }
   ],
   "source": [
    "trees.health.value_counts(normalize=True)"
   ]
  },
  {
   "cell_type": "code",
   "execution_count": 29,
   "metadata": {
    "scrolled": true
   },
   "outputs": [
    {
     "data": {
      "text/plain": [
       "31616"
      ]
     },
     "execution_count": 29,
     "metadata": {},
     "output_type": "execute_result"
    }
   ],
   "source": [
    "trees.health.isna().sum()"
   ]
  },
  {
   "cell_type": "code",
   "execution_count": 32,
   "metadata": {},
   "outputs": [
    {
     "data": {
      "text/plain": [
       "Alive    652173\n",
       "Stump     17654\n",
       "Dead      13961\n",
       "Name: status, dtype: int64"
      ]
     },
     "execution_count": 32,
     "metadata": {},
     "output_type": "execute_result"
    }
   ],
   "source": [
    "trees.status.value_counts()"
   ]
  },
  {
   "cell_type": "code",
   "execution_count": 31,
   "metadata": {},
   "outputs": [
    {
     "data": {
      "text/html": [
       "<div>\n",
       "<style scoped>\n",
       "    .dataframe tbody tr th:only-of-type {\n",
       "        vertical-align: middle;\n",
       "    }\n",
       "\n",
       "    .dataframe tbody tr th {\n",
       "        vertical-align: top;\n",
       "    }\n",
       "\n",
       "    .dataframe thead th {\n",
       "        text-align: right;\n",
       "    }\n",
       "</style>\n",
       "<table border=\"1\" class=\"dataframe\">\n",
       "  <thead>\n",
       "    <tr style=\"text-align: right;\">\n",
       "      <th></th>\n",
       "      <th>tree_id</th>\n",
       "      <th>block_id</th>\n",
       "      <th>tree_dbh</th>\n",
       "      <th>stump_diam</th>\n",
       "      <th>curb_loc</th>\n",
       "      <th>status</th>\n",
       "      <th>health</th>\n",
       "      <th>spc_latin</th>\n",
       "      <th>spc_common</th>\n",
       "      <th>steward</th>\n",
       "      <th>...</th>\n",
       "      <th>branch_other</th>\n",
       "      <th>zipcode</th>\n",
       "      <th>cb_num</th>\n",
       "      <th>borocode</th>\n",
       "      <th>council_dist</th>\n",
       "      <th>st_assem</th>\n",
       "      <th>st_senate</th>\n",
       "      <th>nta</th>\n",
       "      <th>latitude</th>\n",
       "      <th>longitude</th>\n",
       "    </tr>\n",
       "  </thead>\n",
       "  <tbody>\n",
       "    <tr>\n",
       "      <th>630</th>\n",
       "      <td>192569</td>\n",
       "      <td>302968</td>\n",
       "      <td>2</td>\n",
       "      <td>0</td>\n",
       "      <td>OnCurb</td>\n",
       "      <td>Dead</td>\n",
       "      <td>NaN</td>\n",
       "      <td>NaN</td>\n",
       "      <td>NaN</td>\n",
       "      <td>NaN</td>\n",
       "      <td>...</td>\n",
       "      <td>No</td>\n",
       "      <td>11377</td>\n",
       "      <td>402</td>\n",
       "      <td>4</td>\n",
       "      <td>26</td>\n",
       "      <td>37</td>\n",
       "      <td>12</td>\n",
       "      <td>QN31</td>\n",
       "      <td>40.738044</td>\n",
       "      <td>-73.921552</td>\n",
       "    </tr>\n",
       "    <tr>\n",
       "      <th>631</th>\n",
       "      <td>179766</td>\n",
       "      <td>230466</td>\n",
       "      <td>0</td>\n",
       "      <td>30</td>\n",
       "      <td>OnCurb</td>\n",
       "      <td>Stump</td>\n",
       "      <td>NaN</td>\n",
       "      <td>NaN</td>\n",
       "      <td>NaN</td>\n",
       "      <td>NaN</td>\n",
       "      <td>...</td>\n",
       "      <td>No</td>\n",
       "      <td>11210</td>\n",
       "      <td>314</td>\n",
       "      <td>3</td>\n",
       "      <td>45</td>\n",
       "      <td>42</td>\n",
       "      <td>21</td>\n",
       "      <td>BK42</td>\n",
       "      <td>40.637379</td>\n",
       "      <td>-73.953814</td>\n",
       "    </tr>\n",
       "    <tr>\n",
       "      <th>634</th>\n",
       "      <td>180619</td>\n",
       "      <td>348834</td>\n",
       "      <td>0</td>\n",
       "      <td>10</td>\n",
       "      <td>OnCurb</td>\n",
       "      <td>Stump</td>\n",
       "      <td>NaN</td>\n",
       "      <td>NaN</td>\n",
       "      <td>NaN</td>\n",
       "      <td>NaN</td>\n",
       "      <td>...</td>\n",
       "      <td>No</td>\n",
       "      <td>11375</td>\n",
       "      <td>406</td>\n",
       "      <td>4</td>\n",
       "      <td>29</td>\n",
       "      <td>27</td>\n",
       "      <td>15</td>\n",
       "      <td>QN17</td>\n",
       "      <td>40.725300</td>\n",
       "      <td>-73.839376</td>\n",
       "    </tr>\n",
       "    <tr>\n",
       "      <th>635</th>\n",
       "      <td>184295</td>\n",
       "      <td>505610</td>\n",
       "      <td>0</td>\n",
       "      <td>0</td>\n",
       "      <td>OnCurb</td>\n",
       "      <td>Dead</td>\n",
       "      <td>NaN</td>\n",
       "      <td>NaN</td>\n",
       "      <td>NaN</td>\n",
       "      <td>NaN</td>\n",
       "      <td>...</td>\n",
       "      <td>No</td>\n",
       "      <td>10458</td>\n",
       "      <td>206</td>\n",
       "      <td>2</td>\n",
       "      <td>15</td>\n",
       "      <td>78</td>\n",
       "      <td>33</td>\n",
       "      <td>BX06</td>\n",
       "      <td>40.857876</td>\n",
       "      <td>-73.887850</td>\n",
       "    </tr>\n",
       "    <tr>\n",
       "      <th>636</th>\n",
       "      <td>208828</td>\n",
       "      <td>107238</td>\n",
       "      <td>0</td>\n",
       "      <td>15</td>\n",
       "      <td>OnCurb</td>\n",
       "      <td>Stump</td>\n",
       "      <td>NaN</td>\n",
       "      <td>NaN</td>\n",
       "      <td>NaN</td>\n",
       "      <td>NaN</td>\n",
       "      <td>...</td>\n",
       "      <td>No</td>\n",
       "      <td>10065</td>\n",
       "      <td>108</td>\n",
       "      <td>1</td>\n",
       "      <td>5</td>\n",
       "      <td>76</td>\n",
       "      <td>28</td>\n",
       "      <td>MN31</td>\n",
       "      <td>40.764914</td>\n",
       "      <td>-73.960857</td>\n",
       "    </tr>\n",
       "    <tr>\n",
       "      <th>637</th>\n",
       "      <td>179748</td>\n",
       "      <td>348463</td>\n",
       "      <td>20</td>\n",
       "      <td>0</td>\n",
       "      <td>OnCurb</td>\n",
       "      <td>Dead</td>\n",
       "      <td>NaN</td>\n",
       "      <td>NaN</td>\n",
       "      <td>NaN</td>\n",
       "      <td>NaN</td>\n",
       "      <td>...</td>\n",
       "      <td>No</td>\n",
       "      <td>11375</td>\n",
       "      <td>406</td>\n",
       "      <td>4</td>\n",
       "      <td>29</td>\n",
       "      <td>27</td>\n",
       "      <td>14</td>\n",
       "      <td>QN17</td>\n",
       "      <td>40.721514</td>\n",
       "      <td>-73.836307</td>\n",
       "    </tr>\n",
       "    <tr>\n",
       "      <th>639</th>\n",
       "      <td>181973</td>\n",
       "      <td>337808</td>\n",
       "      <td>0</td>\n",
       "      <td>25</td>\n",
       "      <td>OnCurb</td>\n",
       "      <td>Stump</td>\n",
       "      <td>NaN</td>\n",
       "      <td>NaN</td>\n",
       "      <td>NaN</td>\n",
       "      <td>NaN</td>\n",
       "      <td>...</td>\n",
       "      <td>No</td>\n",
       "      <td>11694</td>\n",
       "      <td>414</td>\n",
       "      <td>4</td>\n",
       "      <td>32</td>\n",
       "      <td>23</td>\n",
       "      <td>15</td>\n",
       "      <td>QN10</td>\n",
       "      <td>40.571331</td>\n",
       "      <td>-73.858072</td>\n",
       "    </tr>\n",
       "    <tr>\n",
       "      <th>727</th>\n",
       "      <td>184110</td>\n",
       "      <td>504234</td>\n",
       "      <td>3</td>\n",
       "      <td>0</td>\n",
       "      <td>OnCurb</td>\n",
       "      <td>Dead</td>\n",
       "      <td>NaN</td>\n",
       "      <td>NaN</td>\n",
       "      <td>NaN</td>\n",
       "      <td>NaN</td>\n",
       "      <td>...</td>\n",
       "      <td>No</td>\n",
       "      <td>10457</td>\n",
       "      <td>205</td>\n",
       "      <td>2</td>\n",
       "      <td>15</td>\n",
       "      <td>86</td>\n",
       "      <td>33</td>\n",
       "      <td>BX41</td>\n",
       "      <td>40.852625</td>\n",
       "      <td>-73.900171</td>\n",
       "    </tr>\n",
       "    <tr>\n",
       "      <th>729</th>\n",
       "      <td>191466</td>\n",
       "      <td>310454</td>\n",
       "      <td>19</td>\n",
       "      <td>0</td>\n",
       "      <td>OnCurb</td>\n",
       "      <td>Dead</td>\n",
       "      <td>NaN</td>\n",
       "      <td>NaN</td>\n",
       "      <td>NaN</td>\n",
       "      <td>NaN</td>\n",
       "      <td>...</td>\n",
       "      <td>No</td>\n",
       "      <td>11415</td>\n",
       "      <td>409</td>\n",
       "      <td>4</td>\n",
       "      <td>29</td>\n",
       "      <td>28</td>\n",
       "      <td>14</td>\n",
       "      <td>QN60</td>\n",
       "      <td>40.712993</td>\n",
       "      <td>-73.831434</td>\n",
       "    </tr>\n",
       "    <tr>\n",
       "      <th>730</th>\n",
       "      <td>200522</td>\n",
       "      <td>210288</td>\n",
       "      <td>0</td>\n",
       "      <td>17</td>\n",
       "      <td>OnCurb</td>\n",
       "      <td>Stump</td>\n",
       "      <td>NaN</td>\n",
       "      <td>NaN</td>\n",
       "      <td>NaN</td>\n",
       "      <td>NaN</td>\n",
       "      <td>...</td>\n",
       "      <td>No</td>\n",
       "      <td>11229</td>\n",
       "      <td>315</td>\n",
       "      <td>3</td>\n",
       "      <td>46</td>\n",
       "      <td>41</td>\n",
       "      <td>22</td>\n",
       "      <td>BK44</td>\n",
       "      <td>40.604037</td>\n",
       "      <td>-73.937835</td>\n",
       "    </tr>\n",
       "    <tr>\n",
       "      <th>732</th>\n",
       "      <td>174299</td>\n",
       "      <td>217297</td>\n",
       "      <td>0</td>\n",
       "      <td>15</td>\n",
       "      <td>OnCurb</td>\n",
       "      <td>Stump</td>\n",
       "      <td>NaN</td>\n",
       "      <td>NaN</td>\n",
       "      <td>NaN</td>\n",
       "      <td>NaN</td>\n",
       "      <td>...</td>\n",
       "      <td>No</td>\n",
       "      <td>11206</td>\n",
       "      <td>301</td>\n",
       "      <td>3</td>\n",
       "      <td>34</td>\n",
       "      <td>53</td>\n",
       "      <td>18</td>\n",
       "      <td>BK90</td>\n",
       "      <td>40.708442</td>\n",
       "      <td>-73.945030</td>\n",
       "    </tr>\n",
       "    <tr>\n",
       "      <th>736</th>\n",
       "      <td>173517</td>\n",
       "      <td>102043</td>\n",
       "      <td>8</td>\n",
       "      <td>0</td>\n",
       "      <td>OnCurb</td>\n",
       "      <td>Dead</td>\n",
       "      <td>NaN</td>\n",
       "      <td>NaN</td>\n",
       "      <td>NaN</td>\n",
       "      <td>NaN</td>\n",
       "      <td>...</td>\n",
       "      <td>No</td>\n",
       "      <td>10014</td>\n",
       "      <td>102</td>\n",
       "      <td>1</td>\n",
       "      <td>3</td>\n",
       "      <td>66</td>\n",
       "      <td>27</td>\n",
       "      <td>MN23</td>\n",
       "      <td>40.735202</td>\n",
       "      <td>-74.005829</td>\n",
       "    </tr>\n",
       "    <tr>\n",
       "      <th>975</th>\n",
       "      <td>188115</td>\n",
       "      <td>302326</td>\n",
       "      <td>2</td>\n",
       "      <td>0</td>\n",
       "      <td>OnCurb</td>\n",
       "      <td>Dead</td>\n",
       "      <td>NaN</td>\n",
       "      <td>NaN</td>\n",
       "      <td>NaN</td>\n",
       "      <td>NaN</td>\n",
       "      <td>...</td>\n",
       "      <td>No</td>\n",
       "      <td>11105</td>\n",
       "      <td>401</td>\n",
       "      <td>4</td>\n",
       "      <td>22</td>\n",
       "      <td>36</td>\n",
       "      <td>13</td>\n",
       "      <td>QN72</td>\n",
       "      <td>40.778412</td>\n",
       "      <td>-73.913829</td>\n",
       "    </tr>\n",
       "    <tr>\n",
       "      <th>979</th>\n",
       "      <td>205161</td>\n",
       "      <td>222400</td>\n",
       "      <td>3</td>\n",
       "      <td>0</td>\n",
       "      <td>OnCurb</td>\n",
       "      <td>Dead</td>\n",
       "      <td>NaN</td>\n",
       "      <td>NaN</td>\n",
       "      <td>NaN</td>\n",
       "      <td>NaN</td>\n",
       "      <td>...</td>\n",
       "      <td>No</td>\n",
       "      <td>11237</td>\n",
       "      <td>304</td>\n",
       "      <td>3</td>\n",
       "      <td>37</td>\n",
       "      <td>53</td>\n",
       "      <td>18</td>\n",
       "      <td>BK77</td>\n",
       "      <td>40.696980</td>\n",
       "      <td>-73.915032</td>\n",
       "    </tr>\n",
       "    <tr>\n",
       "      <th>981</th>\n",
       "      <td>197824</td>\n",
       "      <td>413596</td>\n",
       "      <td>2</td>\n",
       "      <td>0</td>\n",
       "      <td>OnCurb</td>\n",
       "      <td>Dead</td>\n",
       "      <td>NaN</td>\n",
       "      <td>NaN</td>\n",
       "      <td>NaN</td>\n",
       "      <td>NaN</td>\n",
       "      <td>...</td>\n",
       "      <td>No</td>\n",
       "      <td>10312</td>\n",
       "      <td>503</td>\n",
       "      <td>5</td>\n",
       "      <td>51</td>\n",
       "      <td>63</td>\n",
       "      <td>24</td>\n",
       "      <td>SI48</td>\n",
       "      <td>40.562595</td>\n",
       "      <td>-74.182098</td>\n",
       "    </tr>\n",
       "    <tr>\n",
       "      <th>982</th>\n",
       "      <td>191374</td>\n",
       "      <td>415497</td>\n",
       "      <td>1</td>\n",
       "      <td>0</td>\n",
       "      <td>OnCurb</td>\n",
       "      <td>Dead</td>\n",
       "      <td>NaN</td>\n",
       "      <td>NaN</td>\n",
       "      <td>NaN</td>\n",
       "      <td>NaN</td>\n",
       "      <td>...</td>\n",
       "      <td>No</td>\n",
       "      <td>10306</td>\n",
       "      <td>503</td>\n",
       "      <td>5</td>\n",
       "      <td>50</td>\n",
       "      <td>62</td>\n",
       "      <td>24</td>\n",
       "      <td>SI25</td>\n",
       "      <td>40.569294</td>\n",
       "      <td>-74.129443</td>\n",
       "    </tr>\n",
       "    <tr>\n",
       "      <th>1086</th>\n",
       "      <td>184524</td>\n",
       "      <td>505390</td>\n",
       "      <td>2</td>\n",
       "      <td>0</td>\n",
       "      <td>OffsetFromCurb</td>\n",
       "      <td>Dead</td>\n",
       "      <td>NaN</td>\n",
       "      <td>NaN</td>\n",
       "      <td>NaN</td>\n",
       "      <td>NaN</td>\n",
       "      <td>...</td>\n",
       "      <td>No</td>\n",
       "      <td>10457</td>\n",
       "      <td>206</td>\n",
       "      <td>2</td>\n",
       "      <td>15</td>\n",
       "      <td>86</td>\n",
       "      <td>33</td>\n",
       "      <td>BX01</td>\n",
       "      <td>40.853328</td>\n",
       "      <td>-73.894378</td>\n",
       "    </tr>\n",
       "    <tr>\n",
       "      <th>1107</th>\n",
       "      <td>173356</td>\n",
       "      <td>224952</td>\n",
       "      <td>3</td>\n",
       "      <td>0</td>\n",
       "      <td>OnCurb</td>\n",
       "      <td>Dead</td>\n",
       "      <td>NaN</td>\n",
       "      <td>NaN</td>\n",
       "      <td>NaN</td>\n",
       "      <td>NaN</td>\n",
       "      <td>...</td>\n",
       "      <td>No</td>\n",
       "      <td>11220</td>\n",
       "      <td>307</td>\n",
       "      <td>3</td>\n",
       "      <td>38</td>\n",
       "      <td>51</td>\n",
       "      <td>23</td>\n",
       "      <td>BK32</td>\n",
       "      <td>40.646499</td>\n",
       "      <td>-74.021602</td>\n",
       "    </tr>\n",
       "    <tr>\n",
       "      <th>1128</th>\n",
       "      <td>196614</td>\n",
       "      <td>111961</td>\n",
       "      <td>0</td>\n",
       "      <td>5</td>\n",
       "      <td>OnCurb</td>\n",
       "      <td>Stump</td>\n",
       "      <td>NaN</td>\n",
       "      <td>NaN</td>\n",
       "      <td>NaN</td>\n",
       "      <td>NaN</td>\n",
       "      <td>...</td>\n",
       "      <td>No</td>\n",
       "      <td>10024</td>\n",
       "      <td>109</td>\n",
       "      <td>1</td>\n",
       "      <td>7</td>\n",
       "      <td>69</td>\n",
       "      <td>31</td>\n",
       "      <td>MN09</td>\n",
       "      <td>40.806503</td>\n",
       "      <td>-73.967700</td>\n",
       "    </tr>\n",
       "    <tr>\n",
       "      <th>1130</th>\n",
       "      <td>192104</td>\n",
       "      <td>203634</td>\n",
       "      <td>0</td>\n",
       "      <td>20</td>\n",
       "      <td>OnCurb</td>\n",
       "      <td>Stump</td>\n",
       "      <td>NaN</td>\n",
       "      <td>NaN</td>\n",
       "      <td>NaN</td>\n",
       "      <td>NaN</td>\n",
       "      <td>...</td>\n",
       "      <td>No</td>\n",
       "      <td>11209</td>\n",
       "      <td>310</td>\n",
       "      <td>3</td>\n",
       "      <td>43</td>\n",
       "      <td>46</td>\n",
       "      <td>22</td>\n",
       "      <td>BK31</td>\n",
       "      <td>40.620592</td>\n",
       "      <td>-74.034783</td>\n",
       "    </tr>\n",
       "  </tbody>\n",
       "</table>\n",
       "<p>20 rows × 32 columns</p>\n",
       "</div>"
      ],
      "text/plain": [
       "      tree_id  block_id  tree_dbh  stump_diam        curb_loc status health  \\\n",
       "630    192569    302968         2           0          OnCurb   Dead    NaN   \n",
       "631    179766    230466         0          30          OnCurb  Stump    NaN   \n",
       "634    180619    348834         0          10          OnCurb  Stump    NaN   \n",
       "635    184295    505610         0           0          OnCurb   Dead    NaN   \n",
       "636    208828    107238         0          15          OnCurb  Stump    NaN   \n",
       "637    179748    348463        20           0          OnCurb   Dead    NaN   \n",
       "639    181973    337808         0          25          OnCurb  Stump    NaN   \n",
       "727    184110    504234         3           0          OnCurb   Dead    NaN   \n",
       "729    191466    310454        19           0          OnCurb   Dead    NaN   \n",
       "730    200522    210288         0          17          OnCurb  Stump    NaN   \n",
       "732    174299    217297         0          15          OnCurb  Stump    NaN   \n",
       "736    173517    102043         8           0          OnCurb   Dead    NaN   \n",
       "975    188115    302326         2           0          OnCurb   Dead    NaN   \n",
       "979    205161    222400         3           0          OnCurb   Dead    NaN   \n",
       "981    197824    413596         2           0          OnCurb   Dead    NaN   \n",
       "982    191374    415497         1           0          OnCurb   Dead    NaN   \n",
       "1086   184524    505390         2           0  OffsetFromCurb   Dead    NaN   \n",
       "1107   173356    224952         3           0          OnCurb   Dead    NaN   \n",
       "1128   196614    111961         0           5          OnCurb  Stump    NaN   \n",
       "1130   192104    203634         0          20          OnCurb  Stump    NaN   \n",
       "\n",
       "     spc_latin spc_common steward  ... branch_other zipcode cb_num borocode  \\\n",
       "630        NaN        NaN     NaN  ...           No   11377    402        4   \n",
       "631        NaN        NaN     NaN  ...           No   11210    314        3   \n",
       "634        NaN        NaN     NaN  ...           No   11375    406        4   \n",
       "635        NaN        NaN     NaN  ...           No   10458    206        2   \n",
       "636        NaN        NaN     NaN  ...           No   10065    108        1   \n",
       "637        NaN        NaN     NaN  ...           No   11375    406        4   \n",
       "639        NaN        NaN     NaN  ...           No   11694    414        4   \n",
       "727        NaN        NaN     NaN  ...           No   10457    205        2   \n",
       "729        NaN        NaN     NaN  ...           No   11415    409        4   \n",
       "730        NaN        NaN     NaN  ...           No   11229    315        3   \n",
       "732        NaN        NaN     NaN  ...           No   11206    301        3   \n",
       "736        NaN        NaN     NaN  ...           No   10014    102        1   \n",
       "975        NaN        NaN     NaN  ...           No   11105    401        4   \n",
       "979        NaN        NaN     NaN  ...           No   11237    304        3   \n",
       "981        NaN        NaN     NaN  ...           No   10312    503        5   \n",
       "982        NaN        NaN     NaN  ...           No   10306    503        5   \n",
       "1086       NaN        NaN     NaN  ...           No   10457    206        2   \n",
       "1107       NaN        NaN     NaN  ...           No   11220    307        3   \n",
       "1128       NaN        NaN     NaN  ...           No   10024    109        1   \n",
       "1130       NaN        NaN     NaN  ...           No   11209    310        3   \n",
       "\n",
       "     council_dist st_assem st_senate   nta   latitude  longitude  \n",
       "630            26       37        12  QN31  40.738044 -73.921552  \n",
       "631            45       42        21  BK42  40.637379 -73.953814  \n",
       "634            29       27        15  QN17  40.725300 -73.839376  \n",
       "635            15       78        33  BX06  40.857876 -73.887850  \n",
       "636             5       76        28  MN31  40.764914 -73.960857  \n",
       "637            29       27        14  QN17  40.721514 -73.836307  \n",
       "639            32       23        15  QN10  40.571331 -73.858072  \n",
       "727            15       86        33  BX41  40.852625 -73.900171  \n",
       "729            29       28        14  QN60  40.712993 -73.831434  \n",
       "730            46       41        22  BK44  40.604037 -73.937835  \n",
       "732            34       53        18  BK90  40.708442 -73.945030  \n",
       "736             3       66        27  MN23  40.735202 -74.005829  \n",
       "975            22       36        13  QN72  40.778412 -73.913829  \n",
       "979            37       53        18  BK77  40.696980 -73.915032  \n",
       "981            51       63        24  SI48  40.562595 -74.182098  \n",
       "982            50       62        24  SI25  40.569294 -74.129443  \n",
       "1086           15       86        33  BX01  40.853328 -73.894378  \n",
       "1107           38       51        23  BK32  40.646499 -74.021602  \n",
       "1128            7       69        31  MN09  40.806503 -73.967700  \n",
       "1130           43       46        22  BK31  40.620592 -74.034783  \n",
       "\n",
       "[20 rows x 32 columns]"
      ]
     },
     "execution_count": 31,
     "metadata": {},
     "output_type": "execute_result"
    }
   ],
   "source": [
    "trees[trees.health.isna()].head(20)"
   ]
  },
  {
   "cell_type": "code",
   "execution_count": 38,
   "metadata": {},
   "outputs": [
    {
     "data": {
      "text/plain": [
       "Index(['tree_dbh', 'stump_diam', 'curb_loc', 'status', 'health', 'spc_latin',\n",
       "       'spc_common', 'steward', 'guards', 'sidewalk', 'user_type', 'problems',\n",
       "       'root_stone', 'root_grate', 'root_other', 'trunk_wire', 'trunk_light',\n",
       "       'trunk_other', 'branch_light', 'branch_shoe', 'branch_other', 'zipcode',\n",
       "       'cb_num', 'borocode', 'council_dist', 'st_assem', 'st_senate', 'nta',\n",
       "       'latitude', 'longitude'],\n",
       "      dtype='object')"
      ]
     },
     "execution_count": 38,
     "metadata": {},
     "output_type": "execute_result"
    }
   ],
   "source": [
    "trees.columns"
   ]
  },
  {
   "cell_type": "code",
   "execution_count": 37,
   "metadata": {},
   "outputs": [
    {
     "data": {
      "text/plain": [
       "array(['OnCurb', 'OffsetFromCurb'], dtype=object)"
      ]
     },
     "execution_count": 37,
     "metadata": {},
     "output_type": "execute_result"
    }
   ],
   "source": [
    "trees.curb_loc.unique()"
   ]
  },
  {
   "cell_type": "code",
   "execution_count": 39,
   "metadata": {},
   "outputs": [
    {
     "data": {
      "text/plain": [
       "4    237974\n",
       "3    169744\n",
       "5    101443\n",
       "2     80585\n",
       "1     62427\n",
       "Name: borocode, dtype: int64"
      ]
     },
     "execution_count": 39,
     "metadata": {},
     "output_type": "execute_result"
    }
   ],
   "source": [
    "trees.borocode.value_counts()"
   ]
  },
  {
   "cell_type": "code",
   "execution_count": null,
   "metadata": {},
   "outputs": [],
   "source": [
    "trees.drop(columns=['status'], axis=1)"
   ]
  }
 ],
 "metadata": {
  "kernelspec": {
   "display_name": "Python [conda env:learn-env] *",
   "language": "python",
   "name": "conda-env-learn-env-py"
  },
  "language_info": {
   "codemirror_mode": {
    "name": "ipython",
    "version": 3
   },
   "file_extension": ".py",
   "mimetype": "text/x-python",
   "name": "python",
   "nbconvert_exporter": "python",
   "pygments_lexer": "ipython3",
   "version": "3.6.9"
  }
 },
 "nbformat": 4,
 "nbformat_minor": 2
}
