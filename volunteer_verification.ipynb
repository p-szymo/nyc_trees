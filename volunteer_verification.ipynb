{
 "cells": [
  {
   "cell_type": "markdown",
   "metadata": {},
   "source": [
    "# Volunteer Verification\n",
    "\n",
    "- In this notebook, I create a dataset with trees for which the health status determined by volunteers does not align with that predicted by my final model (created in the [main notebook](eda_modeling_evaluation.ipynb)).\n",
    "\n",
    "## Import libraries and data"
   ]
  },
  {
   "cell_type": "code",
   "execution_count": 1,
   "metadata": {},
   "outputs": [],
   "source": [
    "# dataframe packages\n",
    "import pandas as pd\n",
    "import numpy as np\n",
    "\n",
    "# visualizations packages\n",
    "import matplotlib.pyplot as plt\n",
    "%matplotlib inline\n",
    "import seaborn as sns; sns.set_style('ticks')\n",
    "\n",
    "# custom functions\n",
    "from functions import *\n",
    "\n",
    "# metrics functions\n",
    "from sklearn.metrics import accuracy_score, f1_score, precision_score, recall_score, confusion_matrix, classification_report\n",
    "\n",
    "# saving/loading packages\n",
    "import pickle\n",
    "import gzip"
   ]
  },
  {
   "cell_type": "code",
   "execution_count": 2,
   "metadata": {},
   "outputs": [],
   "source": [
    "# load dataframe\n",
    "with gzip.open('data/nyc_trees_clean_features_pro_vol.pkl', 'rb') as hello:\n",
    "    trees = pickle.load(hello)"
   ]
  },
  {
   "cell_type": "code",
   "execution_count": 3,
   "metadata": {},
   "outputs": [
    {
     "data": {
      "text/plain": [
       "(207776, 24)"
      ]
     },
     "execution_count": 3,
     "metadata": {},
     "output_type": "execute_result"
    }
   ],
   "source": [
    "# create dataframe of only volunteer entries and drop user_type column\n",
    "trees = trees[trees.user_type == 'Volunteer'].drop(columns='user_type')\n",
    "\n",
    "# confirm\n",
    "trees.shape"
   ]
  },
  {
   "cell_type": "markdown",
   "metadata": {},
   "source": [
    "## Prep data for prediction\n",
    "\n",
    "- I can borrow a lot of the code from the [Reproducibility](eda_modeling_evaluation.ipynb#Reproducibility) section in the [main notebook](eda_modeling_evaluation.ipynb) to get this set of data in the proper format.\n",
    "- I'll have to do a bit of maneuvering when it comes to tree species (see below)."
   ]
  },
  {
   "cell_type": "code",
   "execution_count": 4,
   "metadata": {},
   "outputs": [],
   "source": [
    "# rein in some outliers' values to 4 standard deviations from the mean\n",
    "rein_extremes(trees, ['tree_diameter', 'log_block_count', 'neighbor_dist'], 4)\n",
    "\n",
    "# rename columns that I have to manually dummy, so the new 0 and 1 values make sense\n",
    "trees.rename(columns={'curb_loc': 'on_curb', 'sidewalk': 'sidewalk_damage'}, inplace=True)\n",
    "# trees on curb --> 1 | trees offset from curb --> 0\n",
    "trees['on_curb'] = np.where(trees.on_curb == 'OnCurb', 1, 0)\n",
    "# damage to sidewalk near tree --> 1 | no sidewalk damage --> 0\n",
    "trees['sidewalk_damage'] = np.where(trees.sidewalk_damage == 'Damage', 1, 0)\n",
    "\n",
    "# create list of columns to convert nos and yeses\n",
    "yes_no_cols = ['root_stone', 'root_grate', 'root_other', 'trunk_wire', 'trunk_light', 'trunk_other',\n",
    "               'branch_light', 'branch_shoe', 'branch_other']\n",
    "# custom conversion function\n",
    "# 'No' --> 0 | 'Yes' --> 1\n",
    "yes_to_one(trees, yes_no_cols)"
   ]
  },
  {
   "cell_type": "markdown",
   "metadata": {},
   "source": [
    "- One difference from just running everything in the [Reproducibility](eda_modeling_evaluation.ipynb#Reproducibility) section is that I need to use only the tree species from the professional data and convert species that appear only in the volunteer data to *Other*.\n",
    "    - First, I'll bring over and assign a list of species from the professional data.\n",
    "    - Next, I'll change any species from the volunteer data that don't appear in the list to *Other*."
   ]
  },
  {
   "cell_type": "code",
   "execution_count": 5,
   "metadata": {},
   "outputs": [],
   "source": [
    "# species list from professional data\n",
    "species_list = [\n",
    "    'red maple', 'pin oak', 'honeylocust', 'London planetree',\n",
    "    'ginkgo', 'willow oak', 'Amur maple', 'hedge maple',\n",
    "    'American elm', 'American linden', 'crab apple', 'silver maple',\n",
    "    'eastern redcedar', 'tulip-poplar', 'Norway maple',\n",
    "    'swamp white oak', 'Sophora', 'Callery pear', 'scarlet oak',\n",
    "    'Japanese zelkova', 'sweetgum', 'white oak', 'northern red oak',\n",
    "    'silver linden', 'Other', 'Chinese elm', 'horse chestnut',\n",
    "    'littleleaf linden', 'sawtooth oak', 'sycamore maple', 'black oak',\n",
    "    'Japanese tree lilac', 'hardy rubber tree', 'green ash',\n",
    "    'English oak', 'white ash', 'Siberian elm', 'golden raintree',\n",
    "    'black locust', 'purple-leaf plum', 'cherry', 'crimson king maple',\n",
    "    'Kentucky coffeetree', 'sugar maple', 'tree of heaven',\n",
    "    'American hornbeam', 'Cornelian cherry', \"Schumard's oak\",\n",
    "    'hawthorn', \"'Schubert' chokecherry\", 'mulberry', 'Japanese maple',\n",
    "    'shingle oak', 'magnolia', 'American hophornbeam', 'ash',\n",
    "    'dawn redwood', 'common hackberry', 'eastern redbud',\n",
    "    'katsura tree', 'bald cypress', 'serviceberry', 'maple',\n",
    "    'flowering dogwood', 'Amur maackia', 'European hornbeam'\n",
    "]"
   ]
  },
  {
   "cell_type": "code",
   "execution_count": 6,
   "metadata": {},
   "outputs": [
    {
     "data": {
      "text/plain": [
       "True"
      ]
     },
     "execution_count": 6,
     "metadata": {},
     "output_type": "execute_result"
    }
   ],
   "source": [
    "# convert species not in the species_list to 'Other'\n",
    "trees['species'] = np.where(trees.species.isin(species_list), trees.species, 'Other')\n",
    "\n",
    "# confirm if lists match\n",
    "# converting each to a set ensures the order doesn't matter\n",
    "set(trees.species.unique()) == set(species_list)"
   ]
  },
  {
   "cell_type": "markdown",
   "metadata": {},
   "source": [
    "- Now that that's taken care of, I can return to using my [Reproducibility](eda_modeling_evaluation.ipynb#Reproducibility) code."
   ]
  },
  {
   "cell_type": "code",
   "execution_count": 7,
   "metadata": {},
   "outputs": [],
   "source": [
    "# multivariate columns to dummy\n",
    "dummy_cols = ['steward', 'guards', 'boroname', 'cb_num', 'species']\n",
    "# convert community board column to string so I can easily dummy it\n",
    "trees['cb_num'] = trees.cb_num.astype(str)\n",
    "\n",
    "# dummy dataframe\n",
    "tree_dummies = pd.get_dummies(trees[dummy_cols])\n",
    "# reformat column names\n",
    "tree_dummies.columns = [col.replace(' ', '_').replace(\"'\", \"\") for col in list(tree_dummies.columns)]\n",
    "\n",
    "# columns to drop (including dummy columns to prevent multicollinearity)\n",
    "dummy_cols.extend(['steward_None', 'guards_None', 'boroname_Staten_Island', 'cb_num_101', 'species_Other',\n",
    "                  'council_dist', 'st_assembly', 'st_senate', 'nta'])\n",
    "\n",
    "# combine dataframe and dummy columns; drop columns\n",
    "trees_full = pd.concat([trees, tree_dummies], axis=1).drop(columns=dummy_cols)\n",
    "\n",
    "# create features and target\n",
    "X = trees_full.drop(columns='health')\n",
    "y = trees_full['health']"
   ]
  },
  {
   "cell_type": "markdown",
   "metadata": {},
   "source": [
    "## Import scaler and model\n",
    "\n",
    "- Unpickle the final versions of my MinMaxScaler and Random Forest Classifier."
   ]
  },
  {
   "cell_type": "code",
   "execution_count": 8,
   "metadata": {},
   "outputs": [],
   "source": [
    "# load scaler\n",
    "with gzip.open('data/final_scaler.pickle', 'rb') as hello:\n",
    "    scaler = pickle.load(hello)\n",
    "\n",
    "# load model\n",
    "with gzip.open('data/final_model.pickle', 'rb') as hello:\n",
    "    model = pickle.load(hello)"
   ]
  },
  {
   "cell_type": "markdown",
   "metadata": {},
   "source": [
    "## Scale and predict\n",
    "\n",
    "- Use the scaler to transform features dataframe.\n",
    "- Use the model to predict health status.\n",
    "- Look at some statistics."
   ]
  },
  {
   "cell_type": "code",
   "execution_count": 9,
   "metadata": {},
   "outputs": [],
   "source": [
    "# scale data using scaler fitted to professional data\n",
    "X_scaled = scaler.transform(X)\n",
    "\n",
    "# use final model to predict on volunteer data\n",
    "y_preds = model.predict(X_scaled)"
   ]
  },
  {
   "cell_type": "code",
   "execution_count": 10,
   "metadata": {},
   "outputs": [
    {
     "name": "stdout",
     "output_type": "stream",
     "text": [
      "Accuracy: 0.6214914138302787\n",
      "F1 score: 0.661731851883151\n",
      "Recall: 0.6214914138302787\n",
      "Precision: 0.7231549873396961\n",
      "\"Good\" Precision score: 0.8573883161512027\n",
      "\n",
      "----------------------------------------------------------------------------------------------------\n",
      "\n",
      "              precision    recall  f1-score   support\n",
      "\n",
      "        Good       0.22      0.35      0.27     33456\n",
      "        Poor       0.86      0.69      0.77    165254\n",
      "        Fair       0.13      0.30      0.18      9066\n",
      "\n",
      "    accuracy                           0.62    207776\n",
      "   macro avg       0.40      0.45      0.41    207776\n",
      "weighted avg       0.72      0.62      0.66    207776\n",
      "\n",
      "\n",
      "----------------------------------------------------------------------------------------------------\n",
      "\n",
      "CONFUSION MATRIX:\n",
      "\n",
      "[[ 11600  15931   5925]\n",
      " [ 37680 114770  12804]\n",
      " [  3146   3159   2761]]\n"
     ]
    }
   ],
   "source": [
    "# print statistics for predictions\n",
    "print(f'Accuracy: {accuracy_score(y, y_preds)}')\n",
    "print(f'F1 score: {f1_score(y, y_preds, average=\"weighted\")}')\n",
    "print(f'Recall: {recall_score(y, y_preds, average=\"weighted\")}')\n",
    "print(f'Precision: {precision_score(y, y_preds, average=\"weighted\")}')\n",
    "# check custom good precision\n",
    "print(f'\"Good\" Precision score: {good_precision(y, y_preds)}')\n",
    "\n",
    "\n",
    "print('\\n' + '-' * 100 + '\\n')\n",
    "\n",
    "\n",
    "# print out report for predictions\n",
    "print(classification_report(y, y_preds, target_names=y.unique()))\n",
    "\n",
    "\n",
    "print('\\n' + '-' * 100 + '\\n')\n",
    "\n",
    "\n",
    "# print out confusion matrix for predictions\n",
    "print(\"CONFUSION MATRIX:\\n\")\n",
    "print(confusion_matrix(y, y_preds))"
   ]
  },
  {
   "cell_type": "code",
   "execution_count": 11,
   "metadata": {},
   "outputs": [
    {
     "data": {
      "image/png": "[encoded data removed]",
      "text/plain": [
       "<Figure size 432x288 with 2 Axes>"
      ]
     },
     "metadata": {
      "needs_background": "light"
     },
     "output_type": "display_data"
    }
   ],
   "source": [
    "# confusion matrix - normalized\n",
    "cm = confusion_matrix(y, y_preds)\n",
    "classes = ['Fair', 'Good', 'Poor']\n",
    "\n",
    "plot_confusion_matrix(cm, classes,\n",
    "                      normalize=True,\n",
    "                      title='Volunteer data confusion matrix',\n",
    "                      cmap=plt.cm.Blues)"
   ]
  },
  {
   "cell_type": "markdown",
   "metadata": {},
   "source": [
    "## Create a reference dataframe\n",
    "\n",
    "- Using my model's predictions, I can create a dataframe that professional staff could refer to in order to double-check the health status determined by a volunteer."
   ]
  },
  {
   "cell_type": "code",
   "execution_count": 12,
   "metadata": {},
   "outputs": [
    {
     "data": {
      "text/plain": [
       "2    Good\n",
       "3    Good\n",
       "4    Good\n",
       "5    Good\n",
       "6    Good\n",
       "Name: health, dtype: object"
      ]
     },
     "execution_count": 12,
     "metadata": {},
     "output_type": "execute_result"
    }
   ],
   "source": [
    "# look at a sample of volunteer entries\n",
    "y.head()"
   ]
  },
  {
   "cell_type": "code",
   "execution_count": 13,
   "metadata": {
    "scrolled": true
   },
   "outputs": [
    {
     "data": {
      "text/plain": [
       "2    Fair\n",
       "3    Good\n",
       "4    Good\n",
       "5    Good\n",
       "6    Good\n",
       "dtype: object"
      ]
     },
     "execution_count": 13,
     "metadata": {},
     "output_type": "execute_result"
    }
   ],
   "source": [
    "# convert predictions to pandas series\n",
    "y_preds_series = pd.Series(y_preds, index=y.index)\n",
    "\n",
    "# look at a sample of model predictions\n",
    "y_preds_series.head()"
   ]
  },
  {
   "cell_type": "code",
   "execution_count": 14,
   "metadata": {},
   "outputs": [
    {
     "data": {
      "text/plain": [
       "78645"
      ]
     },
     "execution_count": 14,
     "metadata": {},
     "output_type": "execute_result"
    }
   ],
   "source": [
    "# build list of indices for trees with differing volunteer entries and model predictions\n",
    "mismatch_indices = [i for i,v in y.iteritems() if y[i] != y_preds_series[i]]\n",
    "\n",
    "# number of trees\n",
    "len(mismatch_indices)"
   ]
  },
  {
   "cell_type": "code",
   "execution_count": 15,
   "metadata": {},
   "outputs": [],
   "source": [
    "# load original dataframe\n",
    "trees_initial = pd.read_csv('data/2015StreetTreesCensus_TREES.csv')"
   ]
  },
  {
   "cell_type": "code",
   "execution_count": 16,
   "metadata": {},
   "outputs": [
    {
     "data": {
      "text/html": [
       "<div>\n",
       "<style scoped>\n",
       "    .dataframe tbody tr th:only-of-type {\n",
       "        vertical-align: middle;\n",
       "    }\n",
       "\n",
       "    .dataframe tbody tr th {\n",
       "        vertical-align: top;\n",
       "    }\n",
       "\n",
       "    .dataframe thead th {\n",
       "        text-align: right;\n",
       "    }\n",
       "</style>\n",
       "<table border=\"1\" class=\"dataframe\">\n",
       "  <thead>\n",
       "    <tr style=\"text-align: right;\">\n",
       "      <th></th>\n",
       "      <th>created_at</th>\n",
       "      <th>tree_id</th>\n",
       "      <th>block_id</th>\n",
       "      <th>the_geom</th>\n",
       "      <th>tree_dbh</th>\n",
       "      <th>stump_diam</th>\n",
       "      <th>curb_loc</th>\n",
       "      <th>status</th>\n",
       "      <th>health</th>\n",
       "      <th>spc_latin</th>\n",
       "      <th>...</th>\n",
       "      <th>st_assem</th>\n",
       "      <th>st_senate</th>\n",
       "      <th>nta</th>\n",
       "      <th>nta_name</th>\n",
       "      <th>boro_ct</th>\n",
       "      <th>state</th>\n",
       "      <th>Latitude</th>\n",
       "      <th>longitude</th>\n",
       "      <th>x_sp</th>\n",
       "      <th>y_sp</th>\n",
       "    </tr>\n",
       "  </thead>\n",
       "  <tbody>\n",
       "    <tr>\n",
       "      <th>2</th>\n",
       "      <td>09/05/2015</td>\n",
       "      <td>204026</td>\n",
       "      <td>218365</td>\n",
       "      <td>POINT (-73.93660770459083 40.717580740099116)</td>\n",
       "      <td>3</td>\n",
       "      <td>0</td>\n",
       "      <td>OnCurb</td>\n",
       "      <td>Alive</td>\n",
       "      <td>Good</td>\n",
       "      <td>Gleditsia triacanthos var. inermis</td>\n",
       "      <td>...</td>\n",
       "      <td>50</td>\n",
       "      <td>18</td>\n",
       "      <td>BK90</td>\n",
       "      <td>East Williamsburg</td>\n",
       "      <td>3044900</td>\n",
       "      <td>New York</td>\n",
       "      <td>40.717581</td>\n",
       "      <td>-73.936608</td>\n",
       "      <td>1.001823e+06</td>\n",
       "      <td>200716.891267</td>\n",
       "    </tr>\n",
       "    <tr>\n",
       "      <th>7</th>\n",
       "      <td>09/07/2015</td>\n",
       "      <td>208649</td>\n",
       "      <td>103940</td>\n",
       "      <td>POINT (-73.98729652382876 40.7627238542921)</td>\n",
       "      <td>9</td>\n",
       "      <td>0</td>\n",
       "      <td>OnCurb</td>\n",
       "      <td>Alive</td>\n",
       "      <td>Good</td>\n",
       "      <td>Tilia americana</td>\n",
       "      <td>...</td>\n",
       "      <td>75</td>\n",
       "      <td>27</td>\n",
       "      <td>MN15</td>\n",
       "      <td>Clinton</td>\n",
       "      <td>1012700</td>\n",
       "      <td>New York</td>\n",
       "      <td>40.762724</td>\n",
       "      <td>-73.987297</td>\n",
       "      <td>9.877691e+05</td>\n",
       "      <td>217157.856088</td>\n",
       "    </tr>\n",
       "    <tr>\n",
       "      <th>10</th>\n",
       "      <td>09/05/2015</td>\n",
       "      <td>203719</td>\n",
       "      <td>302371</td>\n",
       "      <td>POINT (-73.91117076849402 40.78242822973097)</td>\n",
       "      <td>11</td>\n",
       "      <td>0</td>\n",
       "      <td>OnCurb</td>\n",
       "      <td>Alive</td>\n",
       "      <td>Good</td>\n",
       "      <td>Platanus x acerifolia</td>\n",
       "      <td>...</td>\n",
       "      <td>36</td>\n",
       "      <td>13</td>\n",
       "      <td>QN72</td>\n",
       "      <td>Steinway</td>\n",
       "      <td>4010500</td>\n",
       "      <td>New York</td>\n",
       "      <td>40.782428</td>\n",
       "      <td>-73.911171</td>\n",
       "      <td>1.008850e+06</td>\n",
       "      <td>224349.036588</td>\n",
       "    </tr>\n",
       "    <tr>\n",
       "      <th>11</th>\n",
       "      <td>09/05/2015</td>\n",
       "      <td>203726</td>\n",
       "      <td>302371</td>\n",
       "      <td>POINT (-73.91201956608866 40.78173511421239)</td>\n",
       "      <td>8</td>\n",
       "      <td>0</td>\n",
       "      <td>OnCurb</td>\n",
       "      <td>Alive</td>\n",
       "      <td>Poor</td>\n",
       "      <td>Platanus x acerifolia</td>\n",
       "      <td>...</td>\n",
       "      <td>36</td>\n",
       "      <td>13</td>\n",
       "      <td>QN72</td>\n",
       "      <td>Steinway</td>\n",
       "      <td>4010500</td>\n",
       "      <td>New York</td>\n",
       "      <td>40.781735</td>\n",
       "      <td>-73.912020</td>\n",
       "      <td>1.008615e+06</td>\n",
       "      <td>224096.273970</td>\n",
       "    </tr>\n",
       "    <tr>\n",
       "      <th>14</th>\n",
       "      <td>08/31/2015</td>\n",
       "      <td>192998</td>\n",
       "      <td>211160</td>\n",
       "      <td>POINT (-73.92113023015189 40.664317398984245)</td>\n",
       "      <td>30</td>\n",
       "      <td>0</td>\n",
       "      <td>OnCurb</td>\n",
       "      <td>Alive</td>\n",
       "      <td>Fair</td>\n",
       "      <td>Platanus x acerifolia</td>\n",
       "      <td>...</td>\n",
       "      <td>55</td>\n",
       "      <td>20</td>\n",
       "      <td>BK81</td>\n",
       "      <td>Brownsville</td>\n",
       "      <td>3090000</td>\n",
       "      <td>New York</td>\n",
       "      <td>40.664317</td>\n",
       "      <td>-73.921130</td>\n",
       "      <td>1.006131e+06</td>\n",
       "      <td>181314.985517</td>\n",
       "    </tr>\n",
       "  </tbody>\n",
       "</table>\n",
       "<p>5 rows × 42 columns</p>\n",
       "</div>"
      ],
      "text/plain": [
       "    created_at  tree_id  block_id  \\\n",
       "2   09/05/2015   204026    218365   \n",
       "7   09/07/2015   208649    103940   \n",
       "10  09/05/2015   203719    302371   \n",
       "11  09/05/2015   203726    302371   \n",
       "14  08/31/2015   192998    211160   \n",
       "\n",
       "                                         the_geom  tree_dbh  stump_diam  \\\n",
       "2   POINT (-73.93660770459083 40.717580740099116)         3           0   \n",
       "7     POINT (-73.98729652382876 40.7627238542921)         9           0   \n",
       "10   POINT (-73.91117076849402 40.78242822973097)        11           0   \n",
       "11   POINT (-73.91201956608866 40.78173511421239)         8           0   \n",
       "14  POINT (-73.92113023015189 40.664317398984245)        30           0   \n",
       "\n",
       "   curb_loc status health                           spc_latin  ... st_assem  \\\n",
       "2    OnCurb  Alive   Good  Gleditsia triacanthos var. inermis  ...       50   \n",
       "7    OnCurb  Alive   Good                     Tilia americana  ...       75   \n",
       "10   OnCurb  Alive   Good               Platanus x acerifolia  ...       36   \n",
       "11   OnCurb  Alive   Poor               Platanus x acerifolia  ...       36   \n",
       "14   OnCurb  Alive   Fair               Platanus x acerifolia  ...       55   \n",
       "\n",
       "   st_senate   nta           nta_name  boro_ct     state   Latitude  \\\n",
       "2         18  BK90  East Williamsburg  3044900  New York  40.717581   \n",
       "7         27  MN15            Clinton  1012700  New York  40.762724   \n",
       "10        13  QN72           Steinway  4010500  New York  40.782428   \n",
       "11        13  QN72           Steinway  4010500  New York  40.781735   \n",
       "14        20  BK81        Brownsville  3090000  New York  40.664317   \n",
       "\n",
       "    longitude          x_sp           y_sp  \n",
       "2  -73.936608  1.001823e+06  200716.891267  \n",
       "7  -73.987297  9.877691e+05  217157.856088  \n",
       "10 -73.911171  1.008850e+06  224349.036588  \n",
       "11 -73.912020  1.008615e+06  224096.273970  \n",
       "14 -73.921130  1.006131e+06  181314.985517  \n",
       "\n",
       "[5 rows x 42 columns]"
      ]
     },
     "execution_count": 16,
     "metadata": {},
     "output_type": "execute_result"
    }
   ],
   "source": [
    "# create dataframe of trees with differing differing volunteer entries and model predictions\n",
    "trees_to_check = trees_initial[trees_initial.index.isin(mismatch_indices)]\n",
    "\n",
    "# look at the first five rows\n",
    "trees_to_check.head()"
   ]
  },
  {
   "cell_type": "code",
   "execution_count": 17,
   "metadata": {},
   "outputs": [
    {
     "data": {
      "text/plain": [
       "(78645, 42)"
      ]
     },
     "execution_count": 17,
     "metadata": {},
     "output_type": "execute_result"
    }
   ],
   "source": [
    "# confirm number of trees\n",
    "trees_to_check.shape"
   ]
  },
  {
   "cell_type": "markdown",
   "metadata": {},
   "source": [
    "## Save/Load dataframe of trees to check"
   ]
  },
  {
   "cell_type": "code",
   "execution_count": 18,
   "metadata": {},
   "outputs": [],
   "source": [
    "# # uncomment to save\n",
    "# with gzip.open('data/nyc_trees_to_check.pkl', 'wb') as goodbye:\n",
    "#     pickle.dump(trees_to_check, goodbye, protocol=pickle.HIGHEST_PROTOCOL)\n",
    "\n",
    "# # uncomment to load\n",
    "# with gzip.open('data/nyc_trees_to_check.pkl', 'rb') as hello:\n",
    "#     trees_to_check = pickle.load(hello)"
   ]
  }
 ],
 "metadata": {
  "kernelspec": {
   "display_name": "Python [conda env:learn-env] *",
   "language": "python",
   "name": "conda-env-learn-env-py"
  },
  "language_info": {
   "codemirror_mode": {
    "name": "ipython",
    "version": 3
   },
   "file_extension": ".py",
   "mimetype": "text/x-python",
   "name": "python",
   "nbconvert_exporter": "python",
   "pygments_lexer": "ipython3",
   "version": "3.6.9"
  }
 },
 "nbformat": 4,
 "nbformat_minor": 2
}
