{
 "cells": [
  {
   "cell_type": "markdown",
   "metadata": {},
   "source": [
    "# NYC Street Trees Mapmaking\n",
    "\n",
    "The following is meant more as a sandbox than a polished workbook, for making various maps. Be aware that the html maps get quite large. Enjoy :)\n",
    "\n",
    "## Cleaning and exploring the data\n",
    "* Import the necessary libraries."
   ]
  },
  {
   "cell_type": "code",
   "execution_count": 2,
   "metadata": {},
   "outputs": [
    {
     "name": "stdout",
     "output_type": "stream",
     "text": [
      "The autoreload extension is already loaded. To reload it, use:\n",
      "  %reload_ext autoreload\n"
     ]
    }
   ],
   "source": [
    "# dataframe libraries\n",
    "import pandas as pd\n",
    "import numpy as np\n",
    "import geopandas as gpd\n",
    "\n",
    "# visualizations libraries\n",
    "import matplotlib.pyplot as plt\n",
    "%matplotlib inline\n",
    "import seaborn as sns; sns.set_style('ticks')\n",
    "import folium\n",
    "\n",
    "# custom functions, reloading when updated\n",
    "from functions import *\n",
    "%load_ext autoreload\n",
    "%autoreload 2"
   ]
  },
  {
   "cell_type": "markdown",
   "metadata": {},
   "source": [
    "* Import the data and take a look."
   ]
  },
  {
   "cell_type": "code",
   "execution_count": 11,
   "metadata": {},
   "outputs": [],
   "source": [
    "# load the clean dataframe\n",
    "with gzip.open('data/nyc_trees_initial_clean.pkl', 'rb') as hello:\n",
    "    trees_mapmaking = pickle.load(hello)\n",
    "    \n",
    "# take a look at the first five rows\n",
    "trees_mapmaking.head()"
   ]
  },
  {
   "cell_type": "markdown",
   "metadata": {},
   "source": [
    "## Mapmaking"
   ]
  },
  {
   "cell_type": "code",
   "execution_count": 48,
   "metadata": {},
   "outputs": [
    {
     "data": {
      "text/plain": [
       "[(40.72309177, -73.84421522, 'Fair'),\n",
       " (40.79411067, -73.81867946, 'Fair'),\n",
       " (40.71758074, -73.93660770000002, 'Good'),\n",
       " (40.71353749, -73.93445616, 'Good'),\n",
       " (40.66677776, -73.97597938, 'Good')]"
      ]
     },
     "execution_count": 48,
     "metadata": {},
     "output_type": "execute_result"
    }
   ],
   "source": [
    "# Make a list of latitude, longitude, and health status for all datapoints\n",
    "latlon = [(lat, lon, health) for lat, lon, health in zip(list(trees_mapmaking.latitude),\n",
    "                                                         list(trees_mapmaking.longitude),\n",
    "                                                         list(trees_mapmaking.health))]\n",
    "latlon[:5]"
   ]
  },
  {
   "cell_type": "markdown",
   "metadata": {},
   "source": [
    "* Uncomment code below to make a map of all the datapoints. *WARNING: takes awhile and the output html file is over 300MB and very laggy.*"
   ]
  },
  {
   "cell_type": "code",
   "execution_count": 49,
   "metadata": {},
   "outputs": [],
   "source": [
    "# tree_map = folium.Map(location=[40.700991, -73.924587], zoom_start=11)\n",
    "\n",
    "# for coord in latlon:\n",
    "#     if coord[2] == 'Good':\n",
    "#         folium.Circle(location=[coord[0], coord[1]], radius=1, color='green').add_to(tree_map)\n",
    "#     elif coord[2] == 'Fair':\n",
    "#         folium.Circle(location=[coord[0], coord[1]], radius=1, color='yellow').add_to(tree_map)\n",
    "#     else:\n",
    "#         folium.Circle(location=[coord[0], coord[1]], radius=1, color='red').add_to(tree_map)\n",
    "\n",
    "# tree_map.save('maps/tree_health_map.html')"
   ]
  },
  {
   "cell_type": "markdown",
   "metadata": {},
   "source": [
    "* Since the above maps are impractical to use, I'll make some maps on a smaller scale.\n",
    "    * First let's look at the five community board areas with the highest proportion of trees in 'Good' health.\n",
    "    * Then let's look at the five community board areas with the highest proportion of trees in 'Poor' health.\n",
    "    \n",
    "### Healthy trees map"
   ]
  },
  {
   "cell_type": "code",
   "execution_count": 43,
   "metadata": {},
   "outputs": [
    {
     "data": {
      "text/plain": [
       "Index(['MN50', 'QN02', 'QN49', 'MN13', 'BK93', 'SI07', 'SI28', 'BX37', 'SI35',\n",
       "       'QN07'],\n",
       "      dtype='object', name='nta')"
      ]
     },
     "execution_count": 43,
     "metadata": {},
     "output_type": "execute_result"
    }
   ],
   "source": [
    "healthiest = trees_mapmaking.groupby(['nta']).health.value_counts(normalize=True).unstack().sort_values('Good', ascending=False).head(10)\n",
    "healthiest.index\n"
   ]
  },
  {
   "cell_type": "code",
   "execution_count": 44,
   "metadata": {},
   "outputs": [
    {
     "data": {
      "text/plain": [
       "latitude     40.708752\n",
       "longitude   -73.945031\n",
       "dtype: float64"
      ]
     },
     "execution_count": 44,
     "metadata": {},
     "output_type": "execute_result"
    }
   ],
   "source": [
    "# create new dataframe with just these ten neighborhoods\n",
    "most_good_trees = trees_mapmaking[trees_mapmaking.nta.isin(list(healthiest.index))]\n",
    "# find the average coordinates, so we can set the center of our map\n",
    "most_good_trees[['latitude', 'longitude']].mean()"
   ]
  },
  {
   "cell_type": "code",
   "execution_count": 45,
   "metadata": {},
   "outputs": [
    {
     "data": {
      "text/plain": [
       "[(40.79411067, -73.81867946, 'Fair'),\n",
       " (40.7337165, -73.97705764, 'Fair'),\n",
       " (40.793138, -73.81946649, 'Good'),\n",
       " (40.73357762, -73.97672526, 'Fair'),\n",
       " (40.73346807, -73.97646308, 'Good')]"
      ]
     },
     "execution_count": 45,
     "metadata": {},
     "output_type": "execute_result"
    }
   ],
   "source": [
    "# Make a list of latitude, longitude, and health status for all datapoints\n",
    "latlon_best = [(lat, lon, health) for lat, lon, health in zip(list(most_good_trees.latitude),\n",
    "                                                         list(most_good_trees.longitude),\n",
    "                                                         list(most_good_trees.health))]\n",
    "latlon_best[:5]"
   ]
  },
  {
   "cell_type": "code",
   "execution_count": 54,
   "metadata": {},
   "outputs": [],
   "source": [
    "healthy_nta_map = folium.Map(location=[40.708752, -73.945031], zoom_start=11)\n",
    "\n",
    "for coord in latlon_best:\n",
    "    if coord[2] == 'Good':\n",
    "        folium.Circle(location=[coord[0], coord[1]], radius=1, color='green').add_to(healthy_nta_map)\n",
    "    elif coord[2] == 'Fair':\n",
    "        folium.Circle(location=[coord[0], coord[1]], radius=1, color='yellow').add_to(healthy_nta_map)\n",
    "    else:\n",
    "        folium.Circle(location=[coord[0], coord[1]], radius=1, color='red').add_to(healthy_nta_map)\n",
    "\n",
    "healthy_nta_map.save('maps/healthy_nta_map.html')"
   ]
  },
  {
   "cell_type": "markdown",
   "metadata": {},
   "source": [
    "### Poorest health trees map"
   ]
  },
  {
   "cell_type": "code",
   "execution_count": 67,
   "metadata": {},
   "outputs": [
    {
     "data": {
      "text/plain": [
       "Index(['QN10', 'QN12', 'MN31', 'MN32', 'MN36', 'QN20', 'MN20', 'MN17', 'MN01',\n",
       "       'MN34'],\n",
       "      dtype='object', name='nta')"
      ]
     },
     "execution_count": 67,
     "metadata": {},
     "output_type": "execute_result"
    }
   ],
   "source": [
    "poorest_health = trees_mapmaking.groupby(['nta']).health.value_counts(normalize=True).unstack().sort_values('Poor', ascending=False).head(10)\n",
    "poorest_health.index"
   ]
  },
  {
   "cell_type": "code",
   "execution_count": 50,
   "metadata": {},
   "outputs": [
    {
     "data": {
      "text/plain": [
       "Index(['QN12', 'QN10', 'MN17', 'MN31', 'BK23', 'BK21', 'MN20', 'MN35', 'MN01',\n",
       "       'BX01'],\n",
       "      dtype='object', name='nta')"
      ]
     },
     "execution_count": 50,
     "metadata": {},
     "output_type": "execute_result"
    }
   ],
   "source": [
    "poorest_health = trees_mapmaking.groupby(['nta']).health.value_counts(normalize=True).unstack().sort_values('Good', ascending=True).head(10)\n",
    "poorest_health.index\n"
   ]
  },
  {
   "cell_type": "code",
   "execution_count": 51,
   "metadata": {},
   "outputs": [
    {
     "data": {
      "text/plain": [
       "latitude     40.710840\n",
       "longitude   -73.904969\n",
       "dtype: float64"
      ]
     },
     "execution_count": 51,
     "metadata": {},
     "output_type": "execute_result"
    }
   ],
   "source": [
    "# create new dataframe with just these five community boards\n",
    "most_poor_trees = trees_mapmaking[trees_mapmaking.nta.isin(list(poorest_health.index))]\n",
    "# find the average coordinates, so we can set the center of our map\n",
    "most_poor_trees[['latitude', 'longitude']].mean()"
   ]
  },
  {
   "cell_type": "code",
   "execution_count": 52,
   "metadata": {},
   "outputs": [
    {
     "data": {
      "text/plain": [
       "[(40.74503399, -73.98253015, 'Fair'),\n",
       " (40.74829709, -73.98065645, 'Good'),\n",
       " (40.59626688, -73.77234286, 'Fair'),\n",
       " (40.59683648, -73.77245394, 'Poor'),\n",
       " (40.77277225, -73.95532709999998, 'Good')]"
      ]
     },
     "execution_count": 52,
     "metadata": {},
     "output_type": "execute_result"
    }
   ],
   "source": [
    "# Make a list of latitude, longitude, and health status for all datapoints\n",
    "latlon_worst = [(lat, lon, health) for lat, lon, health in zip(list(most_poor_trees.latitude),\n",
    "                                                         list(most_poor_trees.longitude),\n",
    "                                                         list(most_poor_trees.health))]\n",
    "latlon_worst[:5]"
   ]
  },
  {
   "cell_type": "code",
   "execution_count": 55,
   "metadata": {},
   "outputs": [],
   "source": [
    "poor_health_nta_map = folium.Map(location=[40.710840, -73.904969], zoom_start=11)\n",
    "\n",
    "for coord in latlon_worst:\n",
    "    if coord[2] == 'Good':\n",
    "        folium.Circle(location=[coord[0], coord[1]], radius=1, color='green').add_to(poor_health_nta_map)\n",
    "    elif coord[2] == 'Fair':\n",
    "        folium.Circle(location=[coord[0], coord[1]], radius=1, color='yellow').add_to(poor_health_nta_map)\n",
    "    else:\n",
    "        folium.Circle(location=[coord[0], coord[1]], radius=1, color='red').add_to(poor_health_nta_map)\n",
    "\n",
    "poor_health_nta_map.save('maps/poor_health_nta_map.html')"
   ]
  },
  {
   "cell_type": "markdown",
   "metadata": {},
   "source": [
    "### Bushwick trees\n",
    "- Make a map on a smaller scale, using my neighborhood of Bushwick as an example.\n",
    "- *NOTE: you can use any community board number or combination of neighborhoods.*"
   ]
  },
  {
   "cell_type": "code",
   "execution_count": 57,
   "metadata": {},
   "outputs": [
    {
     "data": {
      "text/plain": [
       "latitude     40.696207\n",
       "longitude   -73.918556\n",
       "dtype: float64"
      ]
     },
     "execution_count": 57,
     "metadata": {},
     "output_type": "execute_result"
    }
   ],
   "source": [
    "bushwick = trees_mapmaking[trees_mapmaking.cb_num == 304]\n",
    "# find the average coordinates, so we can set the center of our map\n",
    "bushwick[['latitude', 'longitude']].mean()"
   ]
  },
  {
   "cell_type": "code",
   "execution_count": 58,
   "metadata": {},
   "outputs": [
    {
     "data": {
      "text/plain": [
       "[(40.69775112, -73.90933909, 'Fair'),\n",
       " (40.70233782, -73.91521777, 'Good'),\n",
       " (40.69791922, -73.90830664, 'Good'),\n",
       " (40.68280728, -73.90979496, 'Good'),\n",
       " (40.70256662, -73.91498455, 'Good')]"
      ]
     },
     "execution_count": 58,
     "metadata": {},
     "output_type": "execute_result"
    }
   ],
   "source": [
    "latlon_bushwick = [(lat, lon, health) for lat, lon, health in zip(list(bushwick.latitude),\n",
    "                                                                  list(bushwick.longitude),\n",
    "                                                                  list(bushwick.health))]\n",
    "latlon_bushwick[:5]"
   ]
  },
  {
   "cell_type": "code",
   "execution_count": 59,
   "metadata": {},
   "outputs": [],
   "source": [
    "bushwick_map = folium.Map(location=[40.696207, -73.918556], zoom_start=15)\n",
    "\n",
    "for coord in latlon_bushwick:\n",
    "    if coord[2] == 'Good':\n",
    "        folium.Circle(location=[coord[0], coord[1]], radius=1, color='green').add_to(bushwick_map)\n",
    "    elif coord[2] == 'Fair':\n",
    "        folium.Circle(location=[coord[0], coord[1]], radius=1, color='yellow').add_to(bushwick_map)\n",
    "    else:\n",
    "        folium.Circle(location=[coord[0], coord[1]], radius=1, color='red').add_to(bushwick_map)\n",
    "\n",
    "bushwick_map.save('maps/bushwick_tree_health_map.html')"
   ]
  },
  {
   "cell_type": "markdown",
   "metadata": {},
   "source": [
    "### Maps by census taker (professional vs. volunteer)"
   ]
  },
  {
   "cell_type": "code",
   "execution_count": 63,
   "metadata": {},
   "outputs": [],
   "source": [
    "# create new dataframe with just professional census takers\n",
    "pro_trees = trees_mapmaking[trees_mapmaking.user_type.isin(['TreesCount Staff', 'NYC Parks Staff'])]\n",
    "# create new dataframe with just volunteer census takers\n",
    "vol_trees = trees_mapmaking[trees_mapmaking.user_type == 'Volunteer']"
   ]
  },
  {
   "cell_type": "code",
   "execution_count": 64,
   "metadata": {},
   "outputs": [],
   "source": [
    "# Make a list of latitude, longitude, and health status for all datapoints\n",
    "latlon_pros = [(lat, lon, health) for lat, lon, health in zip(list(pro_trees.latitude),\n",
    "                                                         list(pro_trees.longitude),\n",
    "                                                         list(pro_trees.health))]\n",
    "\n",
    "latlon_vols = [(lat, lon, health) for lat, lon, health in zip(list(vol_trees.latitude),\n",
    "                                                         list(vol_trees.longitude),\n",
    "                                                         list(vol_trees.health))]"
   ]
  },
  {
   "cell_type": "markdown",
   "metadata": {},
   "source": [
    "* Uncomment code below to make a map of all the datapoints. *WARNING: takes awhile and the output html file is over 300MB and very laggy.*"
   ]
  },
  {
   "cell_type": "code",
   "execution_count": 65,
   "metadata": {},
   "outputs": [],
   "source": [
    "# pro_map = folium.Map(location=[40.700991, -73.924587], zoom_start=11)\n",
    "\n",
    "# for coord in latlon_pros:\n",
    "#     if coord[2] == 'Good':\n",
    "#         folium.Circle(location=[coord[0], coord[1]], radius=1, color='green').add_to(pro_map)\n",
    "#     elif coord[2] == 'Fair':\n",
    "#         folium.Circle(location=[coord[0], coord[1]], radius=1, color='yellow').add_to(pro_map)\n",
    "#     else:\n",
    "#         folium.Circle(location=[coord[0], coord[1]], radius=1, color='red').add_to(pro_map)\n",
    "\n",
    "# pro_map.save('maps/pro_census_map.html')"
   ]
  },
  {
   "cell_type": "code",
   "execution_count": 66,
   "metadata": {},
   "outputs": [],
   "source": [
    "# vol_map = folium.Map(location=[40.700991, -73.924587], zoom_start=11)\n",
    "\n",
    "# for coord in latlon_vols:\n",
    "#     if coord[2] == 'Good':\n",
    "#         folium.Circle(location=[coord[0], coord[1]], radius=1, color='green').add_to(vol_map)\n",
    "#     elif coord[2] == 'Fair':\n",
    "#         folium.Circle(location=[coord[0], coord[1]], radius=1, color='yellow').add_to(vol_map)\n",
    "#     else:\n",
    "#         folium.Circle(location=[coord[0], coord[1]], radius=1, color='red').add_to(vol_map)\n",
    "\n",
    "# vol_map.save('maps/vol_census_map.html')"
   ]
  },
  {
   "cell_type": "markdown",
   "metadata": {},
   "source": [
    "### Best/worst community board"
   ]
  },
  {
   "cell_type": "code",
   "execution_count": 78,
   "metadata": {},
   "outputs": [
    {
     "data": {
      "text/html": [
       "<div>\n",
       "<style scoped>\n",
       "    .dataframe tbody tr th:only-of-type {\n",
       "        vertical-align: middle;\n",
       "    }\n",
       "\n",
       "    .dataframe tbody tr th {\n",
       "        vertical-align: top;\n",
       "    }\n",
       "\n",
       "    .dataframe thead th {\n",
       "        text-align: right;\n",
       "    }\n",
       "</style>\n",
       "<table border=\"1\" class=\"dataframe\">\n",
       "  <thead>\n",
       "    <tr style=\"text-align: right;\">\n",
       "      <th>health</th>\n",
       "      <th>Fair</th>\n",
       "      <th>Good</th>\n",
       "      <th>Poor</th>\n",
       "    </tr>\n",
       "    <tr>\n",
       "      <th>cb_num</th>\n",
       "      <th></th>\n",
       "      <th></th>\n",
       "      <th></th>\n",
       "    </tr>\n",
       "  </thead>\n",
       "  <tbody>\n",
       "    <tr>\n",
       "      <th>210</th>\n",
       "      <td>0.095958</td>\n",
       "      <td>0.877063</td>\n",
       "      <td>0.026979</td>\n",
       "    </tr>\n",
       "  </tbody>\n",
       "</table>\n",
       "</div>"
      ],
      "text/plain": [
       "health      Fair      Good      Poor\n",
       "cb_num                              \n",
       "210     0.095958  0.877063  0.026979"
      ]
     },
     "execution_count": 78,
     "metadata": {},
     "output_type": "execute_result"
    }
   ],
   "source": [
    "trees_mapmaking.groupby(['cb_num']).health.value_counts(normalize=True).unstack().sort_values('Good', ascending=False).head(1)"
   ]
  },
  {
   "cell_type": "code",
   "execution_count": 77,
   "metadata": {
    "scrolled": true
   },
   "outputs": [
    {
     "data": {
      "text/html": [
       "<div>\n",
       "<style scoped>\n",
       "    .dataframe tbody tr th:only-of-type {\n",
       "        vertical-align: middle;\n",
       "    }\n",
       "\n",
       "    .dataframe tbody tr th {\n",
       "        vertical-align: top;\n",
       "    }\n",
       "\n",
       "    .dataframe thead th {\n",
       "        text-align: right;\n",
       "    }\n",
       "</style>\n",
       "<table border=\"1\" class=\"dataframe\">\n",
       "  <thead>\n",
       "    <tr style=\"text-align: right;\">\n",
       "      <th>health</th>\n",
       "      <th>Fair</th>\n",
       "      <th>Good</th>\n",
       "      <th>Poor</th>\n",
       "    </tr>\n",
       "    <tr>\n",
       "      <th>cb_num</th>\n",
       "      <th></th>\n",
       "      <th></th>\n",
       "      <th></th>\n",
       "    </tr>\n",
       "  </thead>\n",
       "  <tbody>\n",
       "    <tr>\n",
       "      <th>414</th>\n",
       "      <td>0.254523</td>\n",
       "      <td>0.64509</td>\n",
       "      <td>0.100386</td>\n",
       "    </tr>\n",
       "  </tbody>\n",
       "</table>\n",
       "</div>"
      ],
      "text/plain": [
       "health      Fair     Good      Poor\n",
       "cb_num                             \n",
       "414     0.254523  0.64509  0.100386"
      ]
     },
     "execution_count": 77,
     "metadata": {},
     "output_type": "execute_result"
    }
   ],
   "source": [
    "trees_mapmaking.groupby(['cb_num']).health.value_counts(normalize=True).unstack().sort_values('Poor', ascending=False).head(1)\n"
   ]
  },
  {
   "cell_type": "code",
   "execution_count": 80,
   "metadata": {},
   "outputs": [
    {
     "data": {
      "text/plain": [
       "latitude     40.839529\n",
       "longitude   -73.823598\n",
       "dtype: float64"
      ]
     },
     "execution_count": 80,
     "metadata": {},
     "output_type": "execute_result"
    }
   ],
   "source": [
    "best_cb = trees_mapmaking[trees_mapmaking.cb_num == 210]\n",
    "# find the average coordinates, so we can set the center of our map\n",
    "best_cb[['latitude', 'longitude']].mean()"
   ]
  },
  {
   "cell_type": "code",
   "execution_count": 79,
   "metadata": {},
   "outputs": [
    {
     "data": {
      "text/plain": [
       "latitude     40.593158\n",
       "longitude   -73.794398\n",
       "dtype: float64"
      ]
     },
     "execution_count": 79,
     "metadata": {},
     "output_type": "execute_result"
    }
   ],
   "source": [
    "worst_cb = trees_mapmaking[trees_mapmaking.cb_num == 414]\n",
    "# find the average coordinates, so we can set the center of our map\n",
    "worst_cb[['latitude', 'longitude']].mean()"
   ]
  },
  {
   "cell_type": "code",
   "execution_count": 81,
   "metadata": {},
   "outputs": [],
   "source": [
    "# Make a list of latitude, longitude, and health status for all datapoints\n",
    "latlon_best_cb = [(lat, lon, health) for lat, lon, health in zip(list(best_cb.latitude),\n",
    "                                                         list(best_cb.longitude),\n",
    "                                                         list(best_cb.health))]\n",
    "\n",
    "latlon_worst_cb = [(lat, lon, health) for lat, lon, health in zip(list(worst_cb.latitude),\n",
    "                                                         list(worst_cb.longitude),\n",
    "                                                         list(worst_cb.health))]"
   ]
  },
  {
   "cell_type": "code",
   "execution_count": 82,
   "metadata": {},
   "outputs": [],
   "source": [
    "best_cb_map = folium.Map(location=[40.839529, -73.823598], zoom_start=15)\n",
    "\n",
    "for coord in latlon_best_cb:\n",
    "    if coord[2] == 'Good':\n",
    "        folium.Circle(location=[coord[0], coord[1]], radius=1, color='green').add_to(best_cb_map)\n",
    "    elif coord[2] == 'Fair':\n",
    "        folium.Circle(location=[coord[0], coord[1]], radius=1, color='yellow').add_to(best_cb_map)\n",
    "    else:\n",
    "        folium.Circle(location=[coord[0], coord[1]], radius=1, color='red').add_to(best_cb_map)\n",
    "\n",
    "best_cb_map.save('maps/best_cb_map.html')"
   ]
  },
  {
   "cell_type": "code",
   "execution_count": 83,
   "metadata": {},
   "outputs": [],
   "source": [
    "worst_cb_map = folium.Map(location=[40.593158, -73.794398], zoom_start=15)\n",
    "\n",
    "for coord in latlon_worst_cb:\n",
    "    if coord[2] == 'Good':\n",
    "        folium.Circle(location=[coord[0], coord[1]], radius=1, color='green').add_to(worst_cb_map)\n",
    "    elif coord[2] == 'Fair':\n",
    "        folium.Circle(location=[coord[0], coord[1]], radius=1, color='yellow').add_to(worst_cb_map)\n",
    "    else:\n",
    "        folium.Circle(location=[coord[0], coord[1]], radius=1, color='red').add_to(worst_cb_map)\n",
    "\n",
    "worst_cb_map.save('maps/worst_cb_map.html')"
   ]
  }
 ],
 "metadata": {
  "kernelspec": {
   "display_name": "Python [conda env:learn-env] *",
   "language": "python",
   "name": "conda-env-learn-env-py"
  },
  "language_info": {
   "codemirror_mode": {
    "name": "ipython",
    "version": 3
   },
   "file_extension": ".py",
   "mimetype": "text/x-python",
   "name": "python",
   "nbconvert_exporter": "python",
   "pygments_lexer": "ipython3",
   "version": "3.6.9"
  }
 },
 "nbformat": 4,
 "nbformat_minor": 2
}
