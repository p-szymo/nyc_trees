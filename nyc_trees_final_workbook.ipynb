{
 "cells": [
  {
   "cell_type": "markdown",
   "metadata": {},
   "source": [
    "# Verifying Volunteer Entries to the NYC Trees Census\n",
    "\n",
    "## Cleaning and exploring the data\n",
    "- **Import the necessary libraries.**"
   ]
  },
  {
   "cell_type": "code",
   "execution_count": 1,
   "metadata": {},
   "outputs": [
    {
     "name": "stderr",
     "output_type": "stream",
     "text": [
      "/opt/anaconda3/envs/learn-env/lib/python3.6/site-packages/sklearn/utils/deprecation.py:144: FutureWarning: The sklearn.neighbors.base module is  deprecated in version 0.22 and will be removed in version 0.24. The corresponding classes / functions should instead be imported from sklearn.neighbors. Anything that cannot be imported from sklearn.neighbors is now part of the private API.\n",
      "  warnings.warn(message, FutureWarning)\n",
      "/opt/anaconda3/envs/learn-env/lib/python3.6/site-packages/sklearn/utils/deprecation.py:144: FutureWarning: The sklearn.ensemble.bagging module is  deprecated in version 0.22 and will be removed in version 0.24. The corresponding classes / functions should instead be imported from sklearn.ensemble. Anything that cannot be imported from sklearn.ensemble is now part of the private API.\n",
      "  warnings.warn(message, FutureWarning)\n",
      "/opt/anaconda3/envs/learn-env/lib/python3.6/site-packages/sklearn/utils/deprecation.py:144: FutureWarning: The sklearn.ensemble.base module is  deprecated in version 0.22 and will be removed in version 0.24. The corresponding classes / functions should instead be imported from sklearn.ensemble. Anything that cannot be imported from sklearn.ensemble is now part of the private API.\n",
      "  warnings.warn(message, FutureWarning)\n",
      "/opt/anaconda3/envs/learn-env/lib/python3.6/site-packages/sklearn/utils/deprecation.py:144: FutureWarning: The sklearn.ensemble.forest module is  deprecated in version 0.22 and will be removed in version 0.24. The corresponding classes / functions should instead be imported from sklearn.ensemble. Anything that cannot be imported from sklearn.ensemble is now part of the private API.\n",
      "  warnings.warn(message, FutureWarning)\n",
      "Using TensorFlow backend.\n",
      "/opt/anaconda3/envs/learn-env/lib/python3.6/site-packages/tensorflow/python/framework/dtypes.py:517: FutureWarning: Passing (type, 1) or '1type' as a synonym of type is deprecated; in a future version of numpy, it will be understood as (type, (1,)) / '(1,)type'.\n",
      "  _np_qint8 = np.dtype([(\"qint8\", np.int8, 1)])\n",
      "/opt/anaconda3/envs/learn-env/lib/python3.6/site-packages/tensorflow/python/framework/dtypes.py:518: FutureWarning: Passing (type, 1) or '1type' as a synonym of type is deprecated; in a future version of numpy, it will be understood as (type, (1,)) / '(1,)type'.\n",
      "  _np_quint8 = np.dtype([(\"quint8\", np.uint8, 1)])\n",
      "/opt/anaconda3/envs/learn-env/lib/python3.6/site-packages/tensorflow/python/framework/dtypes.py:519: FutureWarning: Passing (type, 1) or '1type' as a synonym of type is deprecated; in a future version of numpy, it will be understood as (type, (1,)) / '(1,)type'.\n",
      "  _np_qint16 = np.dtype([(\"qint16\", np.int16, 1)])\n",
      "/opt/anaconda3/envs/learn-env/lib/python3.6/site-packages/tensorflow/python/framework/dtypes.py:520: FutureWarning: Passing (type, 1) or '1type' as a synonym of type is deprecated; in a future version of numpy, it will be understood as (type, (1,)) / '(1,)type'.\n",
      "  _np_quint16 = np.dtype([(\"quint16\", np.uint16, 1)])\n",
      "/opt/anaconda3/envs/learn-env/lib/python3.6/site-packages/tensorflow/python/framework/dtypes.py:521: FutureWarning: Passing (type, 1) or '1type' as a synonym of type is deprecated; in a future version of numpy, it will be understood as (type, (1,)) / '(1,)type'.\n",
      "  _np_qint32 = np.dtype([(\"qint32\", np.int32, 1)])\n",
      "/opt/anaconda3/envs/learn-env/lib/python3.6/site-packages/tensorflow/python/framework/dtypes.py:526: FutureWarning: Passing (type, 1) or '1type' as a synonym of type is deprecated; in a future version of numpy, it will be understood as (type, (1,)) / '(1,)type'.\n",
      "  np_resource = np.dtype([(\"resource\", np.ubyte, 1)])\n",
      "/opt/anaconda3/envs/learn-env/lib/python3.6/site-packages/sklearn/utils/deprecation.py:144: FutureWarning: The sklearn.utils.testing module is  deprecated in version 0.22 and will be removed in version 0.24. The corresponding classes / functions should instead be imported from sklearn.utils. Anything that cannot be imported from sklearn.utils is now part of the private API.\n",
      "  warnings.warn(message, FutureWarning)\n",
      "/opt/anaconda3/envs/learn-env/lib/python3.6/site-packages/sklearn/utils/deprecation.py:144: FutureWarning: The sklearn.metrics.classification module is  deprecated in version 0.22 and will be removed in version 0.24. The corresponding classes / functions should instead be imported from sklearn.metrics. Anything that cannot be imported from sklearn.metrics is now part of the private API.\n",
      "  warnings.warn(message, FutureWarning)\n"
     ]
    }
   ],
   "source": [
    "import pandas as pd\n",
    "import numpy as np\n",
    "\n",
    "import matplotlib.pyplot as plt\n",
    "%matplotlib inline\n",
    "import seaborn as sns\n",
    "sns.set_style('ticks')\n",
    "import geopandas as gpd\n",
    "\n",
    "import pickle\n",
    "\n",
    "from functions import *\n",
    "%load_ext autoreload\n",
    "%autoreload 2\n",
    "\n",
    "from scipy import stats\n",
    "import statsmodels.api as sm\n",
    "from sklearn.model_selection import train_test_split\n",
    "from sklearn.model_selection import GridSearchCV\n",
    "from sklearn.preprocessing import StandardScaler\n",
    "from sklearn.neighbors import BallTree\n",
    "from sklearn.naive_bayes import GaussianNB, MultinomialNB, BernoulliNB\n",
    "from sklearn.metrics import accuracy_score, f1_score, precision_score, recall_score, roc_curve, roc_auc_score, confusion_matrix\n",
    "from sklearn.ensemble import RandomForestClassifier\n",
    "from imblearn.over_sampling import SMOTE\n",
    "\n",
    "import itertools\n",
    "\n",
    "import warnings\n",
    "warnings.filterwarnings('ignore')"
   ]
  },
  {
   "cell_type": "markdown",
   "metadata": {},
   "source": [
    "- **Import the data and take a look.**"
   ]
  },
  {
   "cell_type": "code",
   "execution_count": 2,
   "metadata": {},
   "outputs": [
    {
     "data": {
      "text/html": [
       "<div>\n",
       "<style scoped>\n",
       "    .dataframe tbody tr th:only-of-type {\n",
       "        vertical-align: middle;\n",
       "    }\n",
       "\n",
       "    .dataframe tbody tr th {\n",
       "        vertical-align: top;\n",
       "    }\n",
       "\n",
       "    .dataframe thead th {\n",
       "        text-align: right;\n",
       "    }\n",
       "</style>\n",
       "<table border=\"1\" class=\"dataframe\">\n",
       "  <thead>\n",
       "    <tr style=\"text-align: right;\">\n",
       "      <th></th>\n",
       "      <th>created_at</th>\n",
       "      <th>tree_id</th>\n",
       "      <th>block_id</th>\n",
       "      <th>the_geom</th>\n",
       "      <th>tree_dbh</th>\n",
       "      <th>stump_diam</th>\n",
       "      <th>curb_loc</th>\n",
       "      <th>status</th>\n",
       "      <th>health</th>\n",
       "      <th>spc_latin</th>\n",
       "      <th>...</th>\n",
       "      <th>st_assem</th>\n",
       "      <th>st_senate</th>\n",
       "      <th>nta</th>\n",
       "      <th>nta_name</th>\n",
       "      <th>boro_ct</th>\n",
       "      <th>state</th>\n",
       "      <th>Latitude</th>\n",
       "      <th>longitude</th>\n",
       "      <th>x_sp</th>\n",
       "      <th>y_sp</th>\n",
       "    </tr>\n",
       "  </thead>\n",
       "  <tbody>\n",
       "    <tr>\n",
       "      <th>0</th>\n",
       "      <td>08/27/2015</td>\n",
       "      <td>180683</td>\n",
       "      <td>348711</td>\n",
       "      <td>POINT (-73.84421521958048 40.723091773924274)</td>\n",
       "      <td>3</td>\n",
       "      <td>0</td>\n",
       "      <td>OnCurb</td>\n",
       "      <td>Alive</td>\n",
       "      <td>Fair</td>\n",
       "      <td>Acer rubrum</td>\n",
       "      <td>...</td>\n",
       "      <td>28</td>\n",
       "      <td>16</td>\n",
       "      <td>QN17</td>\n",
       "      <td>Forest Hills</td>\n",
       "      <td>4073900</td>\n",
       "      <td>New York</td>\n",
       "      <td>40.723092</td>\n",
       "      <td>-73.844215</td>\n",
       "      <td>1.027431e+06</td>\n",
       "      <td>202756.768749</td>\n",
       "    </tr>\n",
       "    <tr>\n",
       "      <th>1</th>\n",
       "      <td>09/03/2015</td>\n",
       "      <td>200540</td>\n",
       "      <td>315986</td>\n",
       "      <td>POINT (-73.81867945834878 40.79411066708779)</td>\n",
       "      <td>21</td>\n",
       "      <td>0</td>\n",
       "      <td>OnCurb</td>\n",
       "      <td>Alive</td>\n",
       "      <td>Fair</td>\n",
       "      <td>Quercus palustris</td>\n",
       "      <td>...</td>\n",
       "      <td>27</td>\n",
       "      <td>11</td>\n",
       "      <td>QN49</td>\n",
       "      <td>Whitestone</td>\n",
       "      <td>4097300</td>\n",
       "      <td>New York</td>\n",
       "      <td>40.794111</td>\n",
       "      <td>-73.818679</td>\n",
       "      <td>1.034456e+06</td>\n",
       "      <td>228644.837379</td>\n",
       "    </tr>\n",
       "    <tr>\n",
       "      <th>2</th>\n",
       "      <td>09/05/2015</td>\n",
       "      <td>204026</td>\n",
       "      <td>218365</td>\n",
       "      <td>POINT (-73.93660770459083 40.717580740099116)</td>\n",
       "      <td>3</td>\n",
       "      <td>0</td>\n",
       "      <td>OnCurb</td>\n",
       "      <td>Alive</td>\n",
       "      <td>Good</td>\n",
       "      <td>Gleditsia triacanthos var. inermis</td>\n",
       "      <td>...</td>\n",
       "      <td>50</td>\n",
       "      <td>18</td>\n",
       "      <td>BK90</td>\n",
       "      <td>East Williamsburg</td>\n",
       "      <td>3044900</td>\n",
       "      <td>New York</td>\n",
       "      <td>40.717581</td>\n",
       "      <td>-73.936608</td>\n",
       "      <td>1.001823e+06</td>\n",
       "      <td>200716.891267</td>\n",
       "    </tr>\n",
       "    <tr>\n",
       "      <th>3</th>\n",
       "      <td>09/05/2015</td>\n",
       "      <td>204337</td>\n",
       "      <td>217969</td>\n",
       "      <td>POINT (-73.93445615919741 40.713537494833226)</td>\n",
       "      <td>10</td>\n",
       "      <td>0</td>\n",
       "      <td>OnCurb</td>\n",
       "      <td>Alive</td>\n",
       "      <td>Good</td>\n",
       "      <td>Gleditsia triacanthos var. inermis</td>\n",
       "      <td>...</td>\n",
       "      <td>53</td>\n",
       "      <td>18</td>\n",
       "      <td>BK90</td>\n",
       "      <td>East Williamsburg</td>\n",
       "      <td>3044900</td>\n",
       "      <td>New York</td>\n",
       "      <td>40.713537</td>\n",
       "      <td>-73.934456</td>\n",
       "      <td>1.002420e+06</td>\n",
       "      <td>199244.253136</td>\n",
       "    </tr>\n",
       "    <tr>\n",
       "      <th>4</th>\n",
       "      <td>08/30/2015</td>\n",
       "      <td>189565</td>\n",
       "      <td>223043</td>\n",
       "      <td>POINT (-73.97597938483258 40.66677775537875)</td>\n",
       "      <td>21</td>\n",
       "      <td>0</td>\n",
       "      <td>OnCurb</td>\n",
       "      <td>Alive</td>\n",
       "      <td>Good</td>\n",
       "      <td>Tilia americana</td>\n",
       "      <td>...</td>\n",
       "      <td>44</td>\n",
       "      <td>21</td>\n",
       "      <td>BK37</td>\n",
       "      <td>Park Slope-Gowanus</td>\n",
       "      <td>3016500</td>\n",
       "      <td>New York</td>\n",
       "      <td>40.666778</td>\n",
       "      <td>-73.975979</td>\n",
       "      <td>9.909138e+05</td>\n",
       "      <td>182202.425999</td>\n",
       "    </tr>\n",
       "  </tbody>\n",
       "</table>\n",
       "<p>5 rows × 42 columns</p>\n",
       "</div>"
      ],
      "text/plain": [
       "   created_at  tree_id  block_id  \\\n",
       "0  08/27/2015   180683    348711   \n",
       "1  09/03/2015   200540    315986   \n",
       "2  09/05/2015   204026    218365   \n",
       "3  09/05/2015   204337    217969   \n",
       "4  08/30/2015   189565    223043   \n",
       "\n",
       "                                        the_geom  tree_dbh  stump_diam  \\\n",
       "0  POINT (-73.84421521958048 40.723091773924274)         3           0   \n",
       "1   POINT (-73.81867945834878 40.79411066708779)        21           0   \n",
       "2  POINT (-73.93660770459083 40.717580740099116)         3           0   \n",
       "3  POINT (-73.93445615919741 40.713537494833226)        10           0   \n",
       "4   POINT (-73.97597938483258 40.66677775537875)        21           0   \n",
       "\n",
       "  curb_loc status health                           spc_latin  ... st_assem  \\\n",
       "0   OnCurb  Alive   Fair                         Acer rubrum  ...       28   \n",
       "1   OnCurb  Alive   Fair                   Quercus palustris  ...       27   \n",
       "2   OnCurb  Alive   Good  Gleditsia triacanthos var. inermis  ...       50   \n",
       "3   OnCurb  Alive   Good  Gleditsia triacanthos var. inermis  ...       53   \n",
       "4   OnCurb  Alive   Good                     Tilia americana  ...       44   \n",
       "\n",
       "  st_senate   nta            nta_name  boro_ct     state   Latitude  \\\n",
       "0        16  QN17        Forest Hills  4073900  New York  40.723092   \n",
       "1        11  QN49          Whitestone  4097300  New York  40.794111   \n",
       "2        18  BK90   East Williamsburg  3044900  New York  40.717581   \n",
       "3        18  BK90   East Williamsburg  3044900  New York  40.713537   \n",
       "4        21  BK37  Park Slope-Gowanus  3016500  New York  40.666778   \n",
       "\n",
       "   longitude          x_sp           y_sp  \n",
       "0 -73.844215  1.027431e+06  202756.768749  \n",
       "1 -73.818679  1.034456e+06  228644.837379  \n",
       "2 -73.936608  1.001823e+06  200716.891267  \n",
       "3 -73.934456  1.002420e+06  199244.253136  \n",
       "4 -73.975979  9.909138e+05  182202.425999  \n",
       "\n",
       "[5 rows x 42 columns]"
      ]
     },
     "execution_count": 2,
     "metadata": {},
     "output_type": "execute_result"
    }
   ],
   "source": [
    "trees_initial = pd.read_csv('data/2015StreetTreesCensus_TREES.csv')\n",
    "trees_initial.head()"
   ]
  },
  {
   "cell_type": "code",
   "execution_count": 3,
   "metadata": {},
   "outputs": [
    {
     "data": {
      "text/plain": [
       "(683788, 42)"
      ]
     },
     "execution_count": 3,
     "metadata": {},
     "output_type": "execute_result"
    }
   ],
   "source": [
    "trees_initial.shape"
   ]
  },
  {
   "cell_type": "code",
   "execution_count": 4,
   "metadata": {
    "scrolled": true
   },
   "outputs": [
    {
     "name": "stdout",
     "output_type": "stream",
     "text": [
      "<class 'pandas.core.frame.DataFrame'>\n",
      "RangeIndex: 683788 entries, 0 to 683787\n",
      "Data columns (total 42 columns):\n",
      " #   Column      Non-Null Count   Dtype  \n",
      "---  ------      --------------   -----  \n",
      " 0   created_at  683788 non-null  object \n",
      " 1   tree_id     683788 non-null  int64  \n",
      " 2   block_id    683788 non-null  int64  \n",
      " 3   the_geom    683788 non-null  object \n",
      " 4   tree_dbh    683788 non-null  int64  \n",
      " 5   stump_diam  683788 non-null  int64  \n",
      " 6   curb_loc    683788 non-null  object \n",
      " 7   status      683788 non-null  object \n",
      " 8   health      652172 non-null  object \n",
      " 9   spc_latin   652169 non-null  object \n",
      " 10  spc_common  652169 non-null  object \n",
      " 11  steward     652173 non-null  object \n",
      " 12  guards      652172 non-null  object \n",
      " 13  sidewalk    652172 non-null  object \n",
      " 14  user_type   683788 non-null  object \n",
      " 15  problems    652124 non-null  object \n",
      " 16  root_stone  683788 non-null  object \n",
      " 17  root_grate  683788 non-null  object \n",
      " 18  root_other  683788 non-null  object \n",
      " 19  trnk_wire   683788 non-null  object \n",
      " 20  trnk_light  683788 non-null  object \n",
      " 21  trnk_other  683788 non-null  object \n",
      " 22  brnch_ligh  683788 non-null  object \n",
      " 23  brnch_shoe  683788 non-null  object \n",
      " 24  brnch_othe  683788 non-null  object \n",
      " 25  address     683788 non-null  object \n",
      " 26  zipcode     683788 non-null  int64  \n",
      " 27  zip_city    683788 non-null  object \n",
      " 28  cb_num      683788 non-null  int64  \n",
      " 29  borocode    683788 non-null  int64  \n",
      " 30  boroname    683788 non-null  object \n",
      " 31  cncldist    683788 non-null  int64  \n",
      " 32  st_assem    683788 non-null  int64  \n",
      " 33  st_senate   683788 non-null  int64  \n",
      " 34  nta         683788 non-null  object \n",
      " 35  nta_name    683788 non-null  object \n",
      " 36  boro_ct     683788 non-null  int64  \n",
      " 37  state       683788 non-null  object \n",
      " 38  Latitude    683788 non-null  float64\n",
      " 39  longitude   683788 non-null  float64\n",
      " 40  x_sp        683788 non-null  float64\n",
      " 41  y_sp        683788 non-null  float64\n",
      "dtypes: float64(4), int64(11), object(27)\n",
      "memory usage: 219.1+ MB\n"
     ]
    }
   ],
   "source": [
    "trees_initial.info()"
   ]
  },
  {
   "cell_type": "code",
   "execution_count": 5,
   "metadata": {},
   "outputs": [
    {
     "data": {
      "text/html": [
       "<div>\n",
       "<style scoped>\n",
       "    .dataframe tbody tr th:only-of-type {\n",
       "        vertical-align: middle;\n",
       "    }\n",
       "\n",
       "    .dataframe tbody tr th {\n",
       "        vertical-align: top;\n",
       "    }\n",
       "\n",
       "    .dataframe thead th {\n",
       "        text-align: right;\n",
       "    }\n",
       "</style>\n",
       "<table border=\"1\" class=\"dataframe\">\n",
       "  <thead>\n",
       "    <tr style=\"text-align: right;\">\n",
       "      <th></th>\n",
       "      <th>tree_id</th>\n",
       "      <th>block_id</th>\n",
       "      <th>tree_dbh</th>\n",
       "      <th>stump_diam</th>\n",
       "      <th>zipcode</th>\n",
       "      <th>cb_num</th>\n",
       "      <th>borocode</th>\n",
       "      <th>cncldist</th>\n",
       "      <th>st_assem</th>\n",
       "      <th>st_senate</th>\n",
       "      <th>boro_ct</th>\n",
       "      <th>Latitude</th>\n",
       "      <th>longitude</th>\n",
       "      <th>x_sp</th>\n",
       "      <th>y_sp</th>\n",
       "    </tr>\n",
       "  </thead>\n",
       "  <tbody>\n",
       "    <tr>\n",
       "      <th>count</th>\n",
       "      <td>683788.000000</td>\n",
       "      <td>683788.000000</td>\n",
       "      <td>683788.000000</td>\n",
       "      <td>683788.000000</td>\n",
       "      <td>683788.000000</td>\n",
       "      <td>683788.000000</td>\n",
       "      <td>683788.000000</td>\n",
       "      <td>683788.000000</td>\n",
       "      <td>683788.000000</td>\n",
       "      <td>683788.000000</td>\n",
       "      <td>6.837880e+05</td>\n",
       "      <td>683788.000000</td>\n",
       "      <td>683788.000000</td>\n",
       "      <td>6.837880e+05</td>\n",
       "      <td>683788.000000</td>\n",
       "    </tr>\n",
       "    <tr>\n",
       "      <th>mean</th>\n",
       "      <td>365205.011085</td>\n",
       "      <td>313793.096236</td>\n",
       "      <td>11.279787</td>\n",
       "      <td>0.432463</td>\n",
       "      <td>10916.246044</td>\n",
       "      <td>343.505404</td>\n",
       "      <td>3.358500</td>\n",
       "      <td>29.943181</td>\n",
       "      <td>50.791583</td>\n",
       "      <td>20.615781</td>\n",
       "      <td>3.404914e+06</td>\n",
       "      <td>40.701261</td>\n",
       "      <td>-73.924060</td>\n",
       "      <td>1.005280e+06</td>\n",
       "      <td>194798.424624</td>\n",
       "    </tr>\n",
       "    <tr>\n",
       "      <th>std</th>\n",
       "      <td>208122.092902</td>\n",
       "      <td>114839.024312</td>\n",
       "      <td>8.723042</td>\n",
       "      <td>3.290241</td>\n",
       "      <td>651.553364</td>\n",
       "      <td>115.740601</td>\n",
       "      <td>1.166746</td>\n",
       "      <td>14.328531</td>\n",
       "      <td>18.966520</td>\n",
       "      <td>7.390844</td>\n",
       "      <td>1.175863e+06</td>\n",
       "      <td>0.090311</td>\n",
       "      <td>0.123583</td>\n",
       "      <td>3.428505e+04</td>\n",
       "      <td>32902.061114</td>\n",
       "    </tr>\n",
       "    <tr>\n",
       "      <th>min</th>\n",
       "      <td>3.000000</td>\n",
       "      <td>100002.000000</td>\n",
       "      <td>0.000000</td>\n",
       "      <td>0.000000</td>\n",
       "      <td>83.000000</td>\n",
       "      <td>101.000000</td>\n",
       "      <td>1.000000</td>\n",
       "      <td>1.000000</td>\n",
       "      <td>23.000000</td>\n",
       "      <td>10.000000</td>\n",
       "      <td>1.000201e+06</td>\n",
       "      <td>40.498466</td>\n",
       "      <td>-74.254965</td>\n",
       "      <td>9.133493e+05</td>\n",
       "      <td>120973.792223</td>\n",
       "    </tr>\n",
       "    <tr>\n",
       "      <th>25%</th>\n",
       "      <td>186582.750000</td>\n",
       "      <td>221556.000000</td>\n",
       "      <td>4.000000</td>\n",
       "      <td>0.000000</td>\n",
       "      <td>10451.000000</td>\n",
       "      <td>302.000000</td>\n",
       "      <td>3.000000</td>\n",
       "      <td>19.000000</td>\n",
       "      <td>33.000000</td>\n",
       "      <td>14.000000</td>\n",
       "      <td>3.011700e+06</td>\n",
       "      <td>40.631928</td>\n",
       "      <td>-73.980500</td>\n",
       "      <td>9.896578e+05</td>\n",
       "      <td>169515.153719</td>\n",
       "    </tr>\n",
       "    <tr>\n",
       "      <th>50%</th>\n",
       "      <td>366214.500000</td>\n",
       "      <td>319967.000000</td>\n",
       "      <td>9.000000</td>\n",
       "      <td>0.000000</td>\n",
       "      <td>11214.000000</td>\n",
       "      <td>402.000000</td>\n",
       "      <td>4.000000</td>\n",
       "      <td>30.000000</td>\n",
       "      <td>52.000000</td>\n",
       "      <td>21.000000</td>\n",
       "      <td>4.008100e+06</td>\n",
       "      <td>40.700612</td>\n",
       "      <td>-73.912911</td>\n",
       "      <td>1.008386e+06</td>\n",
       "      <td>194560.252497</td>\n",
       "    </tr>\n",
       "    <tr>\n",
       "      <th>75%</th>\n",
       "      <td>546170.250000</td>\n",
       "      <td>404624.000000</td>\n",
       "      <td>16.000000</td>\n",
       "      <td>0.000000</td>\n",
       "      <td>11365.000000</td>\n",
       "      <td>412.000000</td>\n",
       "      <td>4.000000</td>\n",
       "      <td>43.000000</td>\n",
       "      <td>64.000000</td>\n",
       "      <td>25.000000</td>\n",
       "      <td>4.103202e+06</td>\n",
       "      <td>40.762228</td>\n",
       "      <td>-73.834910</td>\n",
       "      <td>1.029991e+06</td>\n",
       "      <td>217019.571916</td>\n",
       "    </tr>\n",
       "    <tr>\n",
       "      <th>max</th>\n",
       "      <td>722694.000000</td>\n",
       "      <td>999999.000000</td>\n",
       "      <td>450.000000</td>\n",
       "      <td>140.000000</td>\n",
       "      <td>11697.000000</td>\n",
       "      <td>503.000000</td>\n",
       "      <td>5.000000</td>\n",
       "      <td>51.000000</td>\n",
       "      <td>87.000000</td>\n",
       "      <td>36.000000</td>\n",
       "      <td>5.032300e+06</td>\n",
       "      <td>40.912918</td>\n",
       "      <td>-73.700488</td>\n",
       "      <td>1.067248e+06</td>\n",
       "      <td>271894.092088</td>\n",
       "    </tr>\n",
       "  </tbody>\n",
       "</table>\n",
       "</div>"
      ],
      "text/plain": [
       "             tree_id       block_id       tree_dbh     stump_diam  \\\n",
       "count  683788.000000  683788.000000  683788.000000  683788.000000   \n",
       "mean   365205.011085  313793.096236      11.279787       0.432463   \n",
       "std    208122.092902  114839.024312       8.723042       3.290241   \n",
       "min         3.000000  100002.000000       0.000000       0.000000   \n",
       "25%    186582.750000  221556.000000       4.000000       0.000000   \n",
       "50%    366214.500000  319967.000000       9.000000       0.000000   \n",
       "75%    546170.250000  404624.000000      16.000000       0.000000   \n",
       "max    722694.000000  999999.000000     450.000000     140.000000   \n",
       "\n",
       "             zipcode         cb_num       borocode       cncldist  \\\n",
       "count  683788.000000  683788.000000  683788.000000  683788.000000   \n",
       "mean    10916.246044     343.505404       3.358500      29.943181   \n",
       "std       651.553364     115.740601       1.166746      14.328531   \n",
       "min        83.000000     101.000000       1.000000       1.000000   \n",
       "25%     10451.000000     302.000000       3.000000      19.000000   \n",
       "50%     11214.000000     402.000000       4.000000      30.000000   \n",
       "75%     11365.000000     412.000000       4.000000      43.000000   \n",
       "max     11697.000000     503.000000       5.000000      51.000000   \n",
       "\n",
       "            st_assem      st_senate       boro_ct       Latitude  \\\n",
       "count  683788.000000  683788.000000  6.837880e+05  683788.000000   \n",
       "mean       50.791583      20.615781  3.404914e+06      40.701261   \n",
       "std        18.966520       7.390844  1.175863e+06       0.090311   \n",
       "min        23.000000      10.000000  1.000201e+06      40.498466   \n",
       "25%        33.000000      14.000000  3.011700e+06      40.631928   \n",
       "50%        52.000000      21.000000  4.008100e+06      40.700612   \n",
       "75%        64.000000      25.000000  4.103202e+06      40.762228   \n",
       "max        87.000000      36.000000  5.032300e+06      40.912918   \n",
       "\n",
       "           longitude          x_sp           y_sp  \n",
       "count  683788.000000  6.837880e+05  683788.000000  \n",
       "mean      -73.924060  1.005280e+06  194798.424624  \n",
       "std         0.123583  3.428505e+04   32902.061114  \n",
       "min       -74.254965  9.133493e+05  120973.792223  \n",
       "25%       -73.980500  9.896578e+05  169515.153719  \n",
       "50%       -73.912911  1.008386e+06  194560.252497  \n",
       "75%       -73.834910  1.029991e+06  217019.571916  \n",
       "max       -73.700488  1.067248e+06  271894.092088  "
      ]
     },
     "execution_count": 5,
     "metadata": {},
     "output_type": "execute_result"
    }
   ],
   "source": [
    "# look at the numerical data\n",
    "trees_initial.describe()"
   ]
  },
  {
   "cell_type": "markdown",
   "metadata": {},
   "source": [
    "- **Rename some columns.**"
   ]
  },
  {
   "cell_type": "code",
   "execution_count": 6,
   "metadata": {},
   "outputs": [],
   "source": [
    "trees_initial.columns = ['created_at', 'tree_id', 'block_id', 'the_geom', 'tree_dbh',\n",
    "       'stump_diam', 'curb_loc', 'status', 'health', 'spc_latin', 'spc_common',\n",
    "       'steward', 'guards', 'sidewalk', 'user_type', 'problems', 'root_stone',\n",
    "       'root_grate', 'root_other', 'trunk_wire', 'trunk_light', 'trunk_other',\n",
    "       'branch_light', 'branch_shoe', 'branch_other', 'address', 'zipcode',\n",
    "       'zip_city', 'cb_num', 'borocode', 'boroname', 'council_dist', 'st_assem',\n",
    "       'st_senate', 'nta', 'nta_name', 'boro_ct', 'state', 'latitude',\n",
    "       'longitude', 'x_sp', 'y_sp']"
   ]
  },
  {
   "cell_type": "markdown",
   "metadata": {},
   "source": [
    "- **Remove stumps and dead trees.**"
   ]
  },
  {
   "cell_type": "code",
   "execution_count": 7,
   "metadata": {},
   "outputs": [
    {
     "data": {
      "text/plain": [
       "Alive    652173\n",
       "Stump     17654\n",
       "Dead      13961\n",
       "Name: status, dtype: int64"
      ]
     },
     "execution_count": 7,
     "metadata": {},
     "output_type": "execute_result"
    }
   ],
   "source": [
    "trees_initial.status.value_counts()"
   ]
  },
  {
   "cell_type": "code",
   "execution_count": 8,
   "metadata": {},
   "outputs": [
    {
     "data": {
      "text/plain": [
       "(652173, 42)"
      ]
     },
     "execution_count": 8,
     "metadata": {},
     "output_type": "execute_result"
    }
   ],
   "source": [
    "# get indices of dead trees and stumps\n",
    "dead = trees_initial[trees_initial.status.isin(['Dead', 'Stump'])].index\n",
    " \n",
    "# delete rows with these indices from dataFrame\n",
    "trees_initial.drop(dead, inplace=True)\n",
    "\n",
    "trees_initial.shape"
   ]
  },
  {
   "cell_type": "markdown",
   "metadata": {},
   "source": [
    "- **Drop some unneccesary columns and set the index to each tree's unique ID.**"
   ]
  },
  {
   "cell_type": "code",
   "execution_count": 9,
   "metadata": {},
   "outputs": [
    {
     "data": {
      "text/plain": [
       "(652173, 27)"
      ]
     },
     "execution_count": 9,
     "metadata": {},
     "output_type": "execute_result"
    }
   ],
   "source": [
    "drop_cols = ['created_at', 'the_geom', 'stump_diam', 'status', 'spc_latin', 'problems', 'address', 'zipcode',\n",
    "             'zip_city', 'borocode', 'boro_ct', 'state', 'x_sp', 'y_sp']\n",
    "trees_initial.drop(columns=drop_cols, inplace=True)\n",
    "trees_initial.set_index(['tree_id'], inplace=True)\n",
    "trees_initial.shape"
   ]
  },
  {
   "cell_type": "markdown",
   "metadata": {},
   "source": [
    "- **Look for NaN values.**"
   ]
  },
  {
   "cell_type": "code",
   "execution_count": 12,
   "metadata": {},
   "outputs": [
    {
     "data": {
      "text/plain": [
       "block_id        0\n",
       "tree_dbh        0\n",
       "curb_loc        0\n",
       "health          1\n",
       "spc_common      5\n",
       "steward         0\n",
       "guards          1\n",
       "sidewalk        1\n",
       "user_type       0\n",
       "root_stone      0\n",
       "root_grate      0\n",
       "root_other      0\n",
       "trunk_wire      0\n",
       "trunk_light     0\n",
       "trunk_other     0\n",
       "branch_light    0\n",
       "branch_shoe     0\n",
       "branch_other    0\n",
       "cb_num          0\n",
       "boroname        0\n",
       "council_dist    0\n",
       "st_assem        0\n",
       "st_senate       0\n",
       "nta             0\n",
       "nta_name        0\n",
       "latitude        0\n",
       "longitude       0\n",
       "dtype: int64"
      ]
     },
     "execution_count": 12,
     "metadata": {},
     "output_type": "execute_result"
    }
   ],
   "source": [
    "trees_initial.isna().sum()"
   ]
  },
  {
   "cell_type": "markdown",
   "metadata": {},
   "source": [
    "- **Drop the few rows with missing values for the target variable and species of tree.**"
   ]
  },
  {
   "cell_type": "code",
   "execution_count": 13,
   "metadata": {},
   "outputs": [],
   "source": [
    "trees_initial.dropna(how='any', axis=0, inplace=True)"
   ]
  },
  {
   "cell_type": "markdown",
   "metadata": {},
   "source": [
    "### Save/Load a copy of the cleaned up version"
   ]
  },
  {
   "cell_type": "code",
   "execution_count": 10,
   "metadata": {},
   "outputs": [],
   "source": [
    "# # uncomment to save\n",
    "# trees_initial.to_csv('data/nyc_trees_2015_initial_clean.csv')\n",
    "\n",
    "# # uncomment to load\n",
    "# trees = pd.read_csv('data/nyc_trees_2015_initial_clean.csv', index_col=0)"
   ]
  },
  {
   "cell_type": "code",
   "execution_count": 11,
   "metadata": {},
   "outputs": [
    {
     "data": {
      "text/html": [
       "<div>\n",
       "<style scoped>\n",
       "    .dataframe tbody tr th:only-of-type {\n",
       "        vertical-align: middle;\n",
       "    }\n",
       "\n",
       "    .dataframe tbody tr th {\n",
       "        vertical-align: top;\n",
       "    }\n",
       "\n",
       "    .dataframe thead th {\n",
       "        text-align: right;\n",
       "    }\n",
       "</style>\n",
       "<table border=\"1\" class=\"dataframe\">\n",
       "  <thead>\n",
       "    <tr style=\"text-align: right;\">\n",
       "      <th></th>\n",
       "      <th>block_id</th>\n",
       "      <th>tree_dbh</th>\n",
       "      <th>curb_loc</th>\n",
       "      <th>health</th>\n",
       "      <th>spc_common</th>\n",
       "      <th>steward</th>\n",
       "      <th>guards</th>\n",
       "      <th>sidewalk</th>\n",
       "      <th>user_type</th>\n",
       "      <th>root_stone</th>\n",
       "      <th>...</th>\n",
       "      <th>branch_other</th>\n",
       "      <th>cb_num</th>\n",
       "      <th>boroname</th>\n",
       "      <th>council_dist</th>\n",
       "      <th>st_assem</th>\n",
       "      <th>st_senate</th>\n",
       "      <th>nta</th>\n",
       "      <th>nta_name</th>\n",
       "      <th>latitude</th>\n",
       "      <th>longitude</th>\n",
       "    </tr>\n",
       "    <tr>\n",
       "      <th>tree_id</th>\n",
       "      <th></th>\n",
       "      <th></th>\n",
       "      <th></th>\n",
       "      <th></th>\n",
       "      <th></th>\n",
       "      <th></th>\n",
       "      <th></th>\n",
       "      <th></th>\n",
       "      <th></th>\n",
       "      <th></th>\n",
       "      <th></th>\n",
       "      <th></th>\n",
       "      <th></th>\n",
       "      <th></th>\n",
       "      <th></th>\n",
       "      <th></th>\n",
       "      <th></th>\n",
       "      <th></th>\n",
       "      <th></th>\n",
       "      <th></th>\n",
       "      <th></th>\n",
       "    </tr>\n",
       "  </thead>\n",
       "  <tbody>\n",
       "    <tr>\n",
       "      <th>180683</th>\n",
       "      <td>348711</td>\n",
       "      <td>3</td>\n",
       "      <td>OnCurb</td>\n",
       "      <td>Fair</td>\n",
       "      <td>red maple</td>\n",
       "      <td>None</td>\n",
       "      <td>None</td>\n",
       "      <td>NoDamage</td>\n",
       "      <td>TreesCount Staff</td>\n",
       "      <td>No</td>\n",
       "      <td>...</td>\n",
       "      <td>No</td>\n",
       "      <td>406</td>\n",
       "      <td>Queens</td>\n",
       "      <td>29</td>\n",
       "      <td>28</td>\n",
       "      <td>16</td>\n",
       "      <td>QN17</td>\n",
       "      <td>Forest Hills</td>\n",
       "      <td>40.723092</td>\n",
       "      <td>-73.844215</td>\n",
       "    </tr>\n",
       "    <tr>\n",
       "      <th>200540</th>\n",
       "      <td>315986</td>\n",
       "      <td>21</td>\n",
       "      <td>OnCurb</td>\n",
       "      <td>Fair</td>\n",
       "      <td>pin oak</td>\n",
       "      <td>None</td>\n",
       "      <td>None</td>\n",
       "      <td>Damage</td>\n",
       "      <td>TreesCount Staff</td>\n",
       "      <td>Yes</td>\n",
       "      <td>...</td>\n",
       "      <td>No</td>\n",
       "      <td>407</td>\n",
       "      <td>Queens</td>\n",
       "      <td>19</td>\n",
       "      <td>27</td>\n",
       "      <td>11</td>\n",
       "      <td>QN49</td>\n",
       "      <td>Whitestone</td>\n",
       "      <td>40.794111</td>\n",
       "      <td>-73.818679</td>\n",
       "    </tr>\n",
       "    <tr>\n",
       "      <th>204026</th>\n",
       "      <td>218365</td>\n",
       "      <td>3</td>\n",
       "      <td>OnCurb</td>\n",
       "      <td>Good</td>\n",
       "      <td>honeylocust</td>\n",
       "      <td>1or2</td>\n",
       "      <td>None</td>\n",
       "      <td>Damage</td>\n",
       "      <td>Volunteer</td>\n",
       "      <td>No</td>\n",
       "      <td>...</td>\n",
       "      <td>No</td>\n",
       "      <td>301</td>\n",
       "      <td>Brooklyn</td>\n",
       "      <td>34</td>\n",
       "      <td>50</td>\n",
       "      <td>18</td>\n",
       "      <td>BK90</td>\n",
       "      <td>East Williamsburg</td>\n",
       "      <td>40.717581</td>\n",
       "      <td>-73.936608</td>\n",
       "    </tr>\n",
       "    <tr>\n",
       "      <th>204337</th>\n",
       "      <td>217969</td>\n",
       "      <td>10</td>\n",
       "      <td>OnCurb</td>\n",
       "      <td>Good</td>\n",
       "      <td>honeylocust</td>\n",
       "      <td>None</td>\n",
       "      <td>None</td>\n",
       "      <td>Damage</td>\n",
       "      <td>Volunteer</td>\n",
       "      <td>Yes</td>\n",
       "      <td>...</td>\n",
       "      <td>No</td>\n",
       "      <td>301</td>\n",
       "      <td>Brooklyn</td>\n",
       "      <td>34</td>\n",
       "      <td>53</td>\n",
       "      <td>18</td>\n",
       "      <td>BK90</td>\n",
       "      <td>East Williamsburg</td>\n",
       "      <td>40.713537</td>\n",
       "      <td>-73.934456</td>\n",
       "    </tr>\n",
       "    <tr>\n",
       "      <th>189565</th>\n",
       "      <td>223043</td>\n",
       "      <td>21</td>\n",
       "      <td>OnCurb</td>\n",
       "      <td>Good</td>\n",
       "      <td>American linden</td>\n",
       "      <td>None</td>\n",
       "      <td>None</td>\n",
       "      <td>Damage</td>\n",
       "      <td>Volunteer</td>\n",
       "      <td>Yes</td>\n",
       "      <td>...</td>\n",
       "      <td>No</td>\n",
       "      <td>306</td>\n",
       "      <td>Brooklyn</td>\n",
       "      <td>39</td>\n",
       "      <td>44</td>\n",
       "      <td>21</td>\n",
       "      <td>BK37</td>\n",
       "      <td>Park Slope-Gowanus</td>\n",
       "      <td>40.666778</td>\n",
       "      <td>-73.975979</td>\n",
       "    </tr>\n",
       "  </tbody>\n",
       "</table>\n",
       "<p>5 rows × 27 columns</p>\n",
       "</div>"
      ],
      "text/plain": [
       "         block_id  tree_dbh curb_loc health       spc_common steward guards  \\\n",
       "tree_id                                                                       \n",
       "180683     348711         3   OnCurb   Fair        red maple    None   None   \n",
       "200540     315986        21   OnCurb   Fair          pin oak    None   None   \n",
       "204026     218365         3   OnCurb   Good      honeylocust    1or2   None   \n",
       "204337     217969        10   OnCurb   Good      honeylocust    None   None   \n",
       "189565     223043        21   OnCurb   Good  American linden    None   None   \n",
       "\n",
       "         sidewalk         user_type root_stone  ... branch_other cb_num  \\\n",
       "tree_id                                         ...                       \n",
       "180683   NoDamage  TreesCount Staff         No  ...           No    406   \n",
       "200540     Damage  TreesCount Staff        Yes  ...           No    407   \n",
       "204026     Damage         Volunteer         No  ...           No    301   \n",
       "204337     Damage         Volunteer        Yes  ...           No    301   \n",
       "189565     Damage         Volunteer        Yes  ...           No    306   \n",
       "\n",
       "         boroname council_dist st_assem st_senate   nta            nta_name  \\\n",
       "tree_id                                                                       \n",
       "180683     Queens           29       28        16  QN17        Forest Hills   \n",
       "200540     Queens           19       27        11  QN49          Whitestone   \n",
       "204026   Brooklyn           34       50        18  BK90   East Williamsburg   \n",
       "204337   Brooklyn           34       53        18  BK90   East Williamsburg   \n",
       "189565   Brooklyn           39       44        21  BK37  Park Slope-Gowanus   \n",
       "\n",
       "          latitude  longitude  \n",
       "tree_id                        \n",
       "180683   40.723092 -73.844215  \n",
       "200540   40.794111 -73.818679  \n",
       "204026   40.717581 -73.936608  \n",
       "204337   40.713537 -73.934456  \n",
       "189565   40.666778 -73.975979  \n",
       "\n",
       "[5 rows x 27 columns]"
      ]
     },
     "execution_count": 11,
     "metadata": {},
     "output_type": "execute_result"
    }
   ],
   "source": [
    "trees.head()"
   ]
  },
  {
   "cell_type": "markdown",
   "metadata": {},
   "source": [
    "## Feature engineering and EDA"
   ]
  },
  {
   "cell_type": "markdown",
   "metadata": {},
   "source": [
    "- **Create and pickle a dictionary of neighborhood codes and names, in case I need to refer back to that later.**"
   ]
  },
  {
   "cell_type": "code",
   "execution_count": 14,
   "metadata": {
    "scrolled": true
   },
   "outputs": [],
   "source": [
    "nta = list(trees['nta'].unique())"
   ]
  },
  {
   "cell_type": "code",
   "execution_count": 15,
   "metadata": {},
   "outputs": [],
   "source": [
    "nta_name = list(trees['nta_name'].unique())"
   ]
  },
  {
   "cell_type": "code",
   "execution_count": 16,
   "metadata": {
    "scrolled": true
   },
   "outputs": [],
   "source": [
    "nta_dict = {k: v for k,v in zip(nta, nta_name)}"
   ]
  },
  {
   "cell_type": "code",
   "execution_count": 17,
   "metadata": {},
   "outputs": [],
   "source": [
    "# # uncomment to save\n",
    "# with open('data/nta_dict.pickle', 'wb') as f:\n",
    "#     pickle.dump(nta_dict, f, protocol=pickle.HIGHEST_PROTOCOL)"
   ]
  },
  {
   "cell_type": "markdown",
   "metadata": {},
   "source": [
    "- **I want to build a model based on the professional entries, so let's drop all of the volunteer entries.**\n",
    "    - **Before I do that, however, I want to create a variable to see if the amount of trees on a block has any relationship to the health of trees.**\n",
    "    - **Doing this before dropping volunteers will give me the most accurate block count.**"
   ]
  },
  {
   "cell_type": "code",
   "execution_count": 18,
   "metadata": {
    "scrolled": false
   },
   "outputs": [
    {
     "data": {
      "text/plain": [
       "array([440, 356, 241, 206, 194, 176, 148, 145, 136, 124, 121, 118, 115,\n",
       "       108, 104, 103, 102,  99,  96,  92,  91,  89,  88,  86,  85,  83,\n",
       "        80,  78,  77,  76,  75,  74,  72,  71,  70,  69,  68,  67,  65,\n",
       "        64,  63,  62,  61,  60,  59,  58,  57,  56,  55,  54,  53,  52,\n",
       "        51,  50,  49,  48,  47,  46,  45,  44,  43,  42,  41,  40,  39,\n",
       "        38,  37,  36,  35,  34,  33,  32,  31,  30,  29,  28,  27,  26,\n",
       "        25,  24,  23,  22,  21,  20,  19,  18,  17,  16,  15,  14,  13,\n",
       "        12,  11,  10,   9,   8,   7,   6,   5,   4,   3,   2,   1])"
      ]
     },
     "execution_count": 18,
     "metadata": {},
     "output_type": "execute_result"
    }
   ],
   "source": [
    "# get a sense of the values that'll be created\n",
    "trees.block_id.value_counts().unique()"
   ]
  },
  {
   "cell_type": "code",
   "execution_count": 19,
   "metadata": {},
   "outputs": [
    {
     "data": {
      "text/plain": [
       "array([ 15,  21,   4,  24,   5,   3,  14,  11,   7,  13,   8,  20,  12,\n",
       "        16,  10,   2,   6,   9,  60,  19,  43,  18,  17,  27,   1,  42,\n",
       "        29,  25,  46,  22,  23,  34,  26,  67,  72,  31, 103,  38,  41,\n",
       "        49, 104, 440,  37,  32,  63,  28,  36,  69, 194,  53,  47,  35,\n",
       "        48,  44,  33,  30, 136,  55,  39,  58,  45, 145,  77,  40,  68,\n",
       "        50,  64,  99,  92,  62,  61,  59,  88, 124,  80,  52,  51,  83,\n",
       "        74, 148, 241,  56,  75,  54,  57, 176,  70, 206, 356,  86,  78,\n",
       "        71,  96, 108, 121,  89,  76,  85, 115, 118,  65, 102,  91])"
      ]
     },
     "execution_count": 19,
     "metadata": {},
     "output_type": "execute_result"
    }
   ],
   "source": [
    "# create a column with the total count of the trees on that row's block\n",
    "block_counts = trees.block_id.value_counts().rename('block_count')\n",
    "\n",
    "# merge onto dataframe\n",
    "trees = trees.merge(block_counts.to_frame(),\n",
    "                                left_on='block_id',\n",
    "                                right_index=True)\n",
    "\n",
    "# see if it matches list above\n",
    "trees.block_count.unique()"
   ]
  },
  {
   "cell_type": "code",
   "execution_count": 20,
   "metadata": {},
   "outputs": [
    {
     "data": {
      "text/plain": [
       "count    652166.000000\n",
       "mean         12.376858\n",
       "std          18.846467\n",
       "min           1.000000\n",
       "25%           5.000000\n",
       "50%           9.000000\n",
       "75%          15.000000\n",
       "max         440.000000\n",
       "Name: block_count, dtype: float64"
      ]
     },
     "execution_count": 20,
     "metadata": {},
     "output_type": "execute_result"
    }
   ],
   "source": [
    "trees.block_count.describe()"
   ]
  },
  {
   "cell_type": "code",
   "execution_count": 21,
   "metadata": {},
   "outputs": [
    {
     "data": {
      "text/plain": [
       "<matplotlib.axes._subplots.AxesSubplot at 0x10c1610b8>"
      ]
     },
     "execution_count": 21,
     "metadata": {},
     "output_type": "execute_result"
    },
    {
     "data": {
      "image/png": "[encoded data removed]",
      "text/plain": [
       "<Figure size 432x288 with 1 Axes>"
      ]
     },
     "metadata": {
      "needs_background": "light"
     },
     "output_type": "display_data"
    }
   ],
   "source": [
    "trees.block_count.hist(bins=100)"
   ]
  },
  {
   "cell_type": "markdown",
   "metadata": {},
   "source": [
    "- **I'll normalize the block count by taking the log value.**"
   ]
  },
  {
   "cell_type": "code",
   "execution_count": 22,
   "metadata": {},
   "outputs": [],
   "source": [
    "trees['log_block_count'] = trees.block_count.apply(lambda x: np.log(x))"
   ]
  },
  {
   "cell_type": "code",
   "execution_count": 23,
   "metadata": {},
   "outputs": [
    {
     "data": {
      "text/plain": [
       "count    652166.000000\n",
       "mean          2.178280\n",
       "std           0.778605\n",
       "min           0.000000\n",
       "25%           1.609438\n",
       "50%           2.197225\n",
       "75%           2.708050\n",
       "max           6.086775\n",
       "Name: log_block_count, dtype: float64"
      ]
     },
     "execution_count": 23,
     "metadata": {},
     "output_type": "execute_result"
    }
   ],
   "source": [
    "trees.log_block_count.describe()"
   ]
  },
  {
   "cell_type": "code",
   "execution_count": 24,
   "metadata": {
    "scrolled": true
   },
   "outputs": [
    {
     "data": {
      "text/plain": [
       "<matplotlib.axes._subplots.AxesSubplot at 0x142967ba8>"
      ]
     },
     "execution_count": 24,
     "metadata": {},
     "output_type": "execute_result"
    },
    {
     "data": {
      "image/png": "[encoded data removed]",
      "text/plain": [
       "<Figure size 432x288 with 1 Axes>"
      ]
     },
     "metadata": {
      "needs_background": "light"
     },
     "output_type": "display_data"
    }
   ],
   "source": [
    "trees.log_block_count.hist(bins=100)"
   ]
  },
  {
   "cell_type": "code",
   "execution_count": 25,
   "metadata": {
    "scrolled": false
   },
   "outputs": [
    {
     "data": {
      "text/plain": [
       "<matplotlib.axes._subplots.AxesSubplot at 0x138a5a0b8>"
      ]
     },
     "execution_count": 25,
     "metadata": {},
     "output_type": "execute_result"
    },
    {
     "data": {
      "image/png": "[encoded data removed]",
      "text/plain": [
       "<Figure size 432x288 with 1 Axes>"
      ]
     },
     "metadata": {
      "needs_background": "light"
     },
     "output_type": "display_data"
    }
   ],
   "source": [
    "trees.boxplot('log_block_count', 'health', showfliers=False)"
   ]
  },
  {
   "cell_type": "markdown",
   "metadata": {},
   "source": [
    "- **The new feature doesn't look too promising, but I'll see if reining in extreme values affects this a little later on.**\n",
    "\n",
    "\n",
    "- **On to dropping those volunteers:**\n",
    "    - **Notice too that volunteers tend to rate fewer trees as 'Good' and more as 'Fair'. Perhaps a result of lack of training.**\n",
    "    - **And based on my maps (*see mapmaking notebook*), volunteers tended to not venture into the farther reaches of the city, which may skew their results.**\n",
    "    - **Furthermore, one may assume a bias for volunteers tracking trees in their neighborhoods.**"
   ]
  },
  {
   "cell_type": "code",
   "execution_count": 26,
   "metadata": {},
   "outputs": [
    {
     "data": {
      "text/plain": [
       "TreesCount Staff    282254\n",
       "Volunteer           207776\n",
       "NYC Parks Staff     162136\n",
       "Name: user_type, dtype: int64"
      ]
     },
     "execution_count": 26,
     "metadata": {},
     "output_type": "execute_result"
    }
   ],
   "source": [
    "trees.user_type.value_counts()"
   ]
  },
  {
   "cell_type": "code",
   "execution_count": 27,
   "metadata": {
    "scrolled": false
   },
   "outputs": [
    {
     "data": {
      "text/plain": [
       "boroname       user_type       \n",
       "Bronx          TreesCount Staff     45158\n",
       "               NYC Parks Staff      22924\n",
       "               Volunteer            12502\n",
       "Brooklyn       Volunteer            74642\n",
       "               TreesCount Staff     60594\n",
       "               NYC Parks Staff      34507\n",
       "Manhattan      Volunteer            41773\n",
       "               TreesCount Staff     13715\n",
       "               NYC Parks Staff       6939\n",
       "Queens         TreesCount Staff    131917\n",
       "               Volunteer            73150\n",
       "               NYC Parks Staff      32903\n",
       "Staten Island  NYC Parks Staff      64863\n",
       "               TreesCount Staff     30870\n",
       "               Volunteer             5709\n",
       "Name: user_type, dtype: int64"
      ]
     },
     "execution_count": 27,
     "metadata": {},
     "output_type": "execute_result"
    }
   ],
   "source": [
    "trees.groupby('boroname').user_type.value_counts()"
   ]
  },
  {
   "cell_type": "markdown",
   "metadata": {},
   "source": [
    "- **Volunteer data also seems very skewed by borough.**\n",
    "    - **Manhattan especially, followed by Brooklyn.**\n",
    "    - **Bronx and Staten Island are woefully underserved by volunteers.**\n",
    "    - **Taking just the professional datapoints should help keep the data more independent.**"
   ]
  },
  {
   "cell_type": "code",
   "execution_count": 28,
   "metadata": {
    "scrolled": true
   },
   "outputs": [
    {
     "data": {
      "text/plain": [
       "user_type         health\n",
       "NYC Parks Staff   Good      0.824314\n",
       "                  Fair      0.131094\n",
       "                  Poor      0.044592\n",
       "TreesCount Staff  Good      0.814656\n",
       "                  Fair      0.148069\n",
       "                  Poor      0.037275\n",
       "Volunteer         Good      0.795347\n",
       "                  Fair      0.161020\n",
       "                  Poor      0.043634\n",
       "Name: health, dtype: float64"
      ]
     },
     "execution_count": 28,
     "metadata": {},
     "output_type": "execute_result"
    }
   ],
   "source": [
    "trees.groupby('user_type').health.value_counts(normalize=True)"
   ]
  },
  {
   "cell_type": "code",
   "execution_count": 29,
   "metadata": {},
   "outputs": [
    {
     "data": {
      "text/plain": [
       "(444390, 29)"
      ]
     },
     "execution_count": 29,
     "metadata": {},
     "output_type": "execute_result"
    }
   ],
   "source": [
    "# get indices of volunteer\n",
    "volunteers = trees[trees.user_type == 'Volunteer'].index\n",
    " \n",
    "# delete rows with these indices from dataFrame\n",
    "trees.drop(volunteers, inplace=True)\n",
    "\n",
    "trees.shape"
   ]
  },
  {
   "cell_type": "markdown",
   "metadata": {},
   "source": [
    "- **I'll go ahead and drop some more unnecessary columns.**\n",
    "    - **I'll be using latitude and longitude later, but I can drop it for this part of feature engineering.**"
   ]
  },
  {
   "cell_type": "code",
   "execution_count": 30,
   "metadata": {},
   "outputs": [
    {
     "data": {
      "text/plain": [
       "Index(['block_id', 'tree_dbh', 'curb_loc', 'health', 'spc_common', 'steward',\n",
       "       'guards', 'sidewalk', 'user_type', 'root_stone', 'root_grate',\n",
       "       'root_other', 'trunk_wire', 'trunk_light', 'trunk_other',\n",
       "       'branch_light', 'branch_shoe', 'branch_other', 'cb_num', 'boroname',\n",
       "       'council_dist', 'st_assem', 'st_senate', 'nta', 'nta_name', 'latitude',\n",
       "       'longitude', 'block_count', 'log_block_count'],\n",
       "      dtype='object')"
      ]
     },
     "execution_count": 30,
     "metadata": {},
     "output_type": "execute_result"
    }
   ],
   "source": [
    "trees.columns"
   ]
  },
  {
   "cell_type": "code",
   "execution_count": 31,
   "metadata": {},
   "outputs": [
    {
     "data": {
      "text/plain": [
       "(444390, 23)"
      ]
     },
     "execution_count": 31,
     "metadata": {},
     "output_type": "execute_result"
    }
   ],
   "source": [
    "# drop unnecessary columns\n",
    "drop_cols = ['block_id', 'user_type', 'nta_name', 'latitude', 'longitude', 'block_count']\n",
    "trees.drop(columns=drop_cols, inplace=True)\n",
    "\n",
    "# confirm new shape\n",
    "trees.shape"
   ]
  },
  {
   "cell_type": "markdown",
   "metadata": {},
   "source": [
    "- **Take a look at the target variable.**"
   ]
  },
  {
   "cell_type": "code",
   "execution_count": 33,
   "metadata": {},
   "outputs": [
    {
     "data": {
      "text/plain": [
       "Good    363591\n",
       "Fair     63048\n",
       "Poor     17751\n",
       "Name: health, dtype: int64"
      ]
     },
     "execution_count": 33,
     "metadata": {},
     "output_type": "execute_result"
    }
   ],
   "source": [
    "trees.health.value_counts()"
   ]
  },
  {
   "cell_type": "code",
   "execution_count": 34,
   "metadata": {},
   "outputs": [
    {
     "data": {
      "text/plain": [
       "Good    0.818180\n",
       "Fair    0.141875\n",
       "Poor    0.039945\n",
       "Name: health, dtype: float64"
      ]
     },
     "execution_count": 34,
     "metadata": {},
     "output_type": "execute_result"
    }
   ],
   "source": [
    "trees.health.value_counts(normalize=True)"
   ]
  },
  {
   "cell_type": "markdown",
   "metadata": {},
   "source": [
    "- **Since I only have two continuous variables (tree diameter and block count), I'll go ahead and rein in the extreme values on that now.**"
   ]
  },
  {
   "cell_type": "code",
   "execution_count": 35,
   "metadata": {
    "scrolled": true
   },
   "outputs": [
    {
     "data": {
      "text/plain": [
       "count    444390.000000\n",
       "mean         11.908191\n",
       "std           8.831671\n",
       "min           0.000000\n",
       "25%           5.000000\n",
       "50%          10.000000\n",
       "75%          17.000000\n",
       "max         425.000000\n",
       "Name: tree_dbh, dtype: float64"
      ]
     },
     "execution_count": 35,
     "metadata": {},
     "output_type": "execute_result"
    }
   ],
   "source": [
    "trees.tree_dbh.describe()"
   ]
  },
  {
   "cell_type": "code",
   "execution_count": 36,
   "metadata": {
    "scrolled": true
   },
   "outputs": [
    {
     "data": {
      "text/plain": [
       "array([[<matplotlib.axes._subplots.AxesSubplot object at 0x13c3b96a0>]],\n",
       "      dtype=object)"
      ]
     },
     "execution_count": 36,
     "metadata": {},
     "output_type": "execute_result"
    },
    {
     "data": {
      "image/png": "[encoded data removed]",
      "text/plain": [
       "<Figure size 432x288 with 1 Axes>"
      ]
     },
     "metadata": {
      "needs_background": "light"
     },
     "output_type": "display_data"
    }
   ],
   "source": [
    "trees.hist('tree_dbh', bins=100)"
   ]
  },
  {
   "cell_type": "code",
   "execution_count": 37,
   "metadata": {},
   "outputs": [],
   "source": [
    "rein_extremes(trees, ['tree_dbh', 'log_block_count'])"
   ]
  },
  {
   "cell_type": "code",
   "execution_count": 38,
   "metadata": {},
   "outputs": [
    {
     "data": {
      "text/plain": [
       "array([[<matplotlib.axes._subplots.AxesSubplot object at 0x13952eac8>]],\n",
       "      dtype=object)"
      ]
     },
     "execution_count": 38,
     "metadata": {},
     "output_type": "execute_result"
    },
    {
     "data": {
      "image/png": "[encoded data removed]",
      "text/plain": [
       "<Figure size 432x288 with 1 Axes>"
      ]
     },
     "metadata": {
      "needs_background": "light"
     },
     "output_type": "display_data"
    }
   ],
   "source": [
    "trees.hist('tree_dbh', bins=10)"
   ]
  },
  {
   "cell_type": "code",
   "execution_count": 39,
   "metadata": {},
   "outputs": [
    {
     "data": {
      "text/plain": [
       "<matplotlib.axes._subplots.AxesSubplot at 0x139006198>"
      ]
     },
     "execution_count": 39,
     "metadata": {},
     "output_type": "execute_result"
    },
    {
     "data": {
      "image/png": "[encoded data removed]",
      "text/plain": [
       "<Figure size 432x288 with 1 Axes>"
      ]
     },
     "metadata": {
      "needs_background": "light"
     },
     "output_type": "display_data"
    }
   ],
   "source": [
    "trees.boxplot('tree_dbh', 'health', showfliers=False)"
   ]
  },
  {
   "cell_type": "markdown",
   "metadata": {},
   "source": [
    "- **Tree diameter looks like a promising feature, as thinner trees tend to be in poor health as compared to thicker trees.**\n",
    "- **Not much difference between trees in good and fair health, however.**"
   ]
  },
  {
   "cell_type": "code",
   "execution_count": 40,
   "metadata": {},
   "outputs": [
    {
     "data": {
      "text/plain": [
       "array([[<matplotlib.axes._subplots.AxesSubplot object at 0x13929cef0>]],\n",
       "      dtype=object)"
      ]
     },
     "execution_count": 40,
     "metadata": {},
     "output_type": "execute_result"
    },
    {
     "data": {
      "image/png": "[encoded data removed]",
      "text/plain": [
       "<Figure size 432x288 with 1 Axes>"
      ]
     },
     "metadata": {
      "needs_background": "light"
     },
     "output_type": "display_data"
    }
   ],
   "source": [
    "trees.hist('log_block_count', bins=10)"
   ]
  },
  {
   "cell_type": "code",
   "execution_count": 41,
   "metadata": {},
   "outputs": [
    {
     "data": {
      "text/plain": [
       "<matplotlib.axes._subplots.AxesSubplot at 0x139002748>"
      ]
     },
     "execution_count": 41,
     "metadata": {},
     "output_type": "execute_result"
    },
    {
     "data": {
      "image/png": "[encoded data removed]",
      "text/plain": [
       "<Figure size 432x288 with 1 Axes>"
      ]
     },
     "metadata": {
      "needs_background": "light"
     },
     "output_type": "display_data"
    }
   ],
   "source": [
    "trees.boxplot('log_block_count', 'health', showfliers=False)"
   ]
  },
  {
   "cell_type": "markdown",
   "metadata": {},
   "source": [
    "- **I'll wait to see if this holds any interactive power in our models.**"
   ]
  },
  {
   "cell_type": "markdown",
   "metadata": {},
   "source": [
    "### EDA - Boroughs\n",
    "* Take a look at the health of trees across the boroughs."
   ]
  },
  {
   "cell_type": "code",
   "execution_count": 42,
   "metadata": {},
   "outputs": [
    {
     "data": {
      "text/plain": [
       "Queens           164820\n",
       "Staten Island     95733\n",
       "Brooklyn          95101\n",
       "Bronx             68082\n",
       "Manhattan         20654\n",
       "Name: boroname, dtype: int64"
      ]
     },
     "execution_count": 42,
     "metadata": {},
     "output_type": "execute_result"
    }
   ],
   "source": [
    "trees.boroname.value_counts()"
   ]
  },
  {
   "cell_type": "code",
   "execution_count": 43,
   "metadata": {
    "scrolled": true
   },
   "outputs": [
    {
     "data": {
      "text/plain": [
       "boroname       health\n",
       "Bronx          Good       57183\n",
       "               Fair        8409\n",
       "               Poor        2490\n",
       "Brooklyn       Good       76921\n",
       "               Fair       14375\n",
       "               Poor        3805\n",
       "Manhattan      Good       16084\n",
       "               Fair        3420\n",
       "               Poor        1150\n",
       "Queens         Good      135189\n",
       "               Fair       23364\n",
       "               Poor        6267\n",
       "Staten Island  Good       78214\n",
       "               Fair       13480\n",
       "               Poor        4039\n",
       "Name: health, dtype: int64"
      ]
     },
     "execution_count": 43,
     "metadata": {},
     "output_type": "execute_result"
    }
   ],
   "source": [
    "trees.groupby('boroname').health.value_counts()"
   ]
  },
  {
   "cell_type": "code",
   "execution_count": 44,
   "metadata": {},
   "outputs": [
    {
     "data": {
      "text/plain": [
       "boroname       health\n",
       "Bronx          Good      0.839914\n",
       "               Fair      0.123513\n",
       "               Poor      0.036574\n",
       "Brooklyn       Good      0.808835\n",
       "               Fair      0.151155\n",
       "               Poor      0.040010\n",
       "Manhattan      Good      0.778735\n",
       "               Fair      0.165585\n",
       "               Poor      0.055679\n",
       "Queens         Good      0.820222\n",
       "               Fair      0.141755\n",
       "               Poor      0.038023\n",
       "Staten Island  Good      0.817001\n",
       "               Fair      0.140808\n",
       "               Poor      0.042190\n",
       "Name: health, dtype: float64"
      ]
     },
     "execution_count": 44,
     "metadata": {},
     "output_type": "execute_result"
    }
   ],
   "source": [
    "trees.groupby('boroname').health.value_counts(normalize=True)"
   ]
  },
  {
   "cell_type": "code",
   "execution_count": null,
   "metadata": {},
   "outputs": [],
   "source": [
    "# prepare data for stacked bar, sort by percentage of trees in good health\n",
    "spc = trees.groupby(['spc_common']).health.value_counts(normalize=True).unstack().sort_values('Good')\n",
    "\n",
    "# plot stacked bar graph\n",
    "p4 = spc.plot(kind='bar', stacked=True, figsize=(30,10), color=['gold', 'forestgreen', 'orangered'], alpha=.70)\n",
    "\n",
    "# prettify the graph\n",
    "p4.set_title('Tree Health Across Species', fontsize=30, pad=15)\n",
    "p4.set_xlabel('Species', fontsize=28, labelpad=15)\n",
    "p4.set_xticklabels(p4.get_xticklabels(), fontsize=20)\n",
    "p4.set_ylabel('Health Status (in %)', fontsize=28, labelpad=10)\n",
    "p4.set_yticklabels([0, 20, 40, 60, 80, 100], fontsize=20)\n",
    "p4.legend(['Fair','Good', 'Poor'], bbox_to_anchor=(1,1), fontsize=22)\n",
    "\n",
    "# prepare to save and display\n",
    "plt.tight_layout()\n",
    "plt.savefig('charts/health_species_barstack.png', bbox_inches='tight', transparent=True)\n",
    "plt.show()"
   ]
  },
  {
   "cell_type": "code",
   "execution_count": 126,
   "metadata": {},
   "outputs": [
    {
     "data": {
      "image/png": "[encoded data removed]",
      "text/plain": [
       "<Figure size 720x576 with 1 Axes>"
      ]
     },
     "metadata": {
      "needs_background": "light"
     },
     "output_type": "display_data"
    }
   ],
   "source": [
    "# prepare data for stacked bar, sort by percentage of trees in good health\n",
    "boros = trees.groupby(['boroname']).health.value_counts(normalize=True).unstack().sort_values('Good')\n",
    "\n",
    "# plot stacked bar graph\n",
    "p1 = boros.plot(kind='bar', stacked=True, figsize=(10,8), color=['gold', 'forestgreen', 'orangered'], alpha=0.7)\n",
    "\n",
    "# prettify the graph\n",
    "p1.set_title('Tree Health Across Boroughs', fontsize=20, pad=10)\n",
    "p1.set_xlabel('Borough', fontsize=18, labelpad=10)\n",
    "p1.set_xticklabels(p1.get_xticklabels(), fontsize=16, rotation=60)\n",
    "p1.set_ylabel('Health Status (in %)', fontsize=18, labelpad=10)\n",
    "p1.set_yticklabels([0, 20, 40, 60, 80, 100], fontsize=16)\n",
    "p1.legend(['Fair','Good', 'Poor'], bbox_to_anchor=(1,1), fontsize=18)\n",
    "\n",
    "# prepare to save and display\n",
    "plt.tight_layout()\n",
    "plt.savefig('charts/health_boro_barstack.png', bbox_inches='tight', transparent=True)\n",
    "plt.show()"
   ]
  },
  {
   "cell_type": "markdown",
   "metadata": {},
   "source": [
    "* There does seem to be a difference between the boroughs, especially Manhattan from the rest.\n",
    "* Let's do some statistical analyses."
   ]
  },
  {
   "cell_type": "code",
   "execution_count": 46,
   "metadata": {},
   "outputs": [
    {
     "data": {
      "text/html": [
       "<div>\n",
       "<style scoped>\n",
       "    .dataframe tbody tr th:only-of-type {\n",
       "        vertical-align: middle;\n",
       "    }\n",
       "\n",
       "    .dataframe tbody tr th {\n",
       "        vertical-align: top;\n",
       "    }\n",
       "\n",
       "    .dataframe thead th {\n",
       "        text-align: right;\n",
       "    }\n",
       "</style>\n",
       "<table border=\"1\" class=\"dataframe\">\n",
       "  <thead>\n",
       "    <tr style=\"text-align: right;\">\n",
       "      <th>boroname</th>\n",
       "      <th>Bronx</th>\n",
       "      <th>Brooklyn</th>\n",
       "      <th>Manhattan</th>\n",
       "      <th>Queens</th>\n",
       "      <th>Staten Island</th>\n",
       "    </tr>\n",
       "    <tr>\n",
       "      <th>health</th>\n",
       "      <th></th>\n",
       "      <th></th>\n",
       "      <th></th>\n",
       "      <th></th>\n",
       "      <th></th>\n",
       "    </tr>\n",
       "  </thead>\n",
       "  <tbody>\n",
       "    <tr>\n",
       "      <th>Fair</th>\n",
       "      <td>8409</td>\n",
       "      <td>14375</td>\n",
       "      <td>3420</td>\n",
       "      <td>23364</td>\n",
       "      <td>13480</td>\n",
       "    </tr>\n",
       "    <tr>\n",
       "      <th>Good</th>\n",
       "      <td>57183</td>\n",
       "      <td>76921</td>\n",
       "      <td>16084</td>\n",
       "      <td>135189</td>\n",
       "      <td>78214</td>\n",
       "    </tr>\n",
       "    <tr>\n",
       "      <th>Poor</th>\n",
       "      <td>2490</td>\n",
       "      <td>3805</td>\n",
       "      <td>1150</td>\n",
       "      <td>6267</td>\n",
       "      <td>4039</td>\n",
       "    </tr>\n",
       "  </tbody>\n",
       "</table>\n",
       "</div>"
      ],
      "text/plain": [
       "boroname  Bronx  Brooklyn  Manhattan  Queens  Staten Island\n",
       "health                                                     \n",
       "Fair       8409     14375       3420   23364          13480\n",
       "Good      57183     76921      16084  135189          78214\n",
       "Poor       2490      3805       1150    6267           4039"
      ]
     },
     "execution_count": 46,
     "metadata": {},
     "output_type": "execute_result"
    }
   ],
   "source": [
    "# create a frequency table\n",
    "df_boro_health = pd.crosstab(trees.health, trees.boroname)\n",
    "df_boro_health"
   ]
  },
  {
   "cell_type": "code",
   "execution_count": 47,
   "metadata": {},
   "outputs": [
    {
     "data": {
      "text/plain": [
       "3.530263683508544e-117"
      ]
     },
     "execution_count": 47,
     "metadata": {},
     "output_type": "execute_result"
    }
   ],
   "source": [
    "# returns 𝜒2 value, p-value, degree of freedom and expected values\n",
    "stat, p, dof, expected = stats.chi2_contingency(df_boro_health)\n",
    "# p-value shows significance\n",
    "p"
   ]
  },
  {
   "cell_type": "code",
   "execution_count": 48,
   "metadata": {},
   "outputs": [
    {
     "data": {
      "text/html": [
       "<div>\n",
       "<style scoped>\n",
       "    .dataframe tbody tr th:only-of-type {\n",
       "        vertical-align: middle;\n",
       "    }\n",
       "\n",
       "    .dataframe tbody tr th {\n",
       "        vertical-align: top;\n",
       "    }\n",
       "\n",
       "    .dataframe thead th {\n",
       "        text-align: right;\n",
       "    }\n",
       "</style>\n",
       "<table border=\"1\" class=\"dataframe\">\n",
       "  <thead>\n",
       "    <tr style=\"text-align: right;\">\n",
       "      <th>boroname</th>\n",
       "      <th>Bronx</th>\n",
       "      <th>Brooklyn</th>\n",
       "      <th>Manhattan</th>\n",
       "      <th>Queens</th>\n",
       "      <th>Staten Island</th>\n",
       "    </tr>\n",
       "    <tr>\n",
       "      <th>health</th>\n",
       "      <th></th>\n",
       "      <th></th>\n",
       "      <th></th>\n",
       "      <th></th>\n",
       "      <th></th>\n",
       "    </tr>\n",
       "  </thead>\n",
       "  <tbody>\n",
       "    <tr>\n",
       "      <th>Fair</th>\n",
       "      <td>-14.922137</td>\n",
       "      <td>9.250982</td>\n",
       "      <td>10.000898</td>\n",
       "      <td>-0.177116</td>\n",
       "      <td>-1.068283</td>\n",
       "    </tr>\n",
       "    <tr>\n",
       "      <th>Good</th>\n",
       "      <td>15.977694</td>\n",
       "      <td>-8.427983</td>\n",
       "      <td>-15.051476</td>\n",
       "      <td>2.710004</td>\n",
       "      <td>-1.067351</td>\n",
       "    </tr>\n",
       "    <tr>\n",
       "      <th>Poor</th>\n",
       "      <td>-4.881134</td>\n",
       "      <td>0.116258</td>\n",
       "      <td>11.825406</td>\n",
       "      <td>-5.021920</td>\n",
       "      <td>4.005638</td>\n",
       "    </tr>\n",
       "  </tbody>\n",
       "</table>\n",
       "</div>"
      ],
      "text/plain": [
       "boroname      Bronx  Brooklyn  Manhattan    Queens  Staten Island\n",
       "health                                                           \n",
       "Fair     -14.922137  9.250982  10.000898 -0.177116      -1.068283\n",
       "Good      15.977694 -8.427983 -15.051476  2.710004      -1.067351\n",
       "Poor      -4.881134  0.116258  11.825406 -5.021920       4.005638"
      ]
     },
     "execution_count": 48,
     "metadata": {},
     "output_type": "execute_result"
    }
   ],
   "source": [
    "# create a table of standardized residuals; anything over +/-1.96 shows significance\n",
    "table = sm.stats.Table(df_boro_health)\n",
    "table.standardized_resids"
   ]
  },
  {
   "cell_type": "code",
   "execution_count": 49,
   "metadata": {},
   "outputs": [
    {
     "name": "stdout",
     "output_type": "stream",
     "text": [
      "73.33%\n"
     ]
    }
   ],
   "source": [
    "# percentage of significant values\n",
    "abs_table = table.standardized_resids.apply(lambda x: abs(x))\n",
    "print(f'{round((abs_table[abs_table > 1.96].count().sum() / abs_table.count().sum()) * 100, 2)}%')"
   ]
  },
  {
   "cell_type": "markdown",
   "metadata": {},
   "source": [
    "### EDA - Community Boards"
   ]
  },
  {
   "cell_type": "code",
   "execution_count": 121,
   "metadata": {},
   "outputs": [
    {
     "data": {
      "image/png": "[encoded data removed]",
      "text/plain": [
       "<Figure size 1440x720 with 1 Axes>"
      ]
     },
     "metadata": {
      "needs_background": "light"
     },
     "output_type": "display_data"
    }
   ],
   "source": [
    "# prepare data for stacked bar, sort by percentage of trees in good health\n",
    "community_boards = trees.groupby(['cb_num']).health.value_counts(normalize=True).unstack().sort_values('Good')\n",
    "\n",
    "# plot stacked bar graph\n",
    "p2 = community_boards.plot(kind='bar', stacked=True, figsize=(20,10),\n",
    "                   color=['gold', 'forestgreen', 'orangered'], alpha=0.7)\n",
    "\n",
    "# prettify the graph\n",
    "p2.set_title('Tree Health Across Community Boards', fontsize=22, pad=10)\n",
    "p2.set_xlabel('Community Board Number', fontsize=20, labelpad=10)\n",
    "p2.set_xticklabels(p2.get_xticklabels(), fontsize=18)\n",
    "p2.set_ylabel('Health Status (in %)', fontsize=20, labelpad=10)\n",
    "p2.set_yticklabels([0, 20, 40, 60, 80, 100], fontsize=18)\n",
    "p2.legend(['Fair','Good', 'Poor'], bbox_to_anchor=(1,1), fontsize=18)\n",
    "\n",
    "# prepare to save and display\n",
    "plt.tight_layout()\n",
    "plt.savefig('charts/health_cb_barstack.png', bbox_inches='tight', transparent=True)\n",
    "plt.show()"
   ]
  },
  {
   "cell_type": "markdown",
   "metadata": {},
   "source": [
    "* There does seem to be a difference between most community board areas.\n",
    "* Let's do some statistical analyses."
   ]
  },
  {
   "cell_type": "code",
   "execution_count": 51,
   "metadata": {},
   "outputs": [
    {
     "data": {
      "text/html": [
       "<div>\n",
       "<style scoped>\n",
       "    .dataframe tbody tr th:only-of-type {\n",
       "        vertical-align: middle;\n",
       "    }\n",
       "\n",
       "    .dataframe tbody tr th {\n",
       "        vertical-align: top;\n",
       "    }\n",
       "\n",
       "    .dataframe thead th {\n",
       "        text-align: right;\n",
       "    }\n",
       "</style>\n",
       "<table border=\"1\" class=\"dataframe\">\n",
       "  <thead>\n",
       "    <tr style=\"text-align: right;\">\n",
       "      <th>cb_num</th>\n",
       "      <th>101</th>\n",
       "      <th>102</th>\n",
       "      <th>103</th>\n",
       "      <th>104</th>\n",
       "      <th>105</th>\n",
       "      <th>106</th>\n",
       "      <th>107</th>\n",
       "      <th>108</th>\n",
       "      <th>109</th>\n",
       "      <th>110</th>\n",
       "      <th>...</th>\n",
       "      <th>408</th>\n",
       "      <th>409</th>\n",
       "      <th>410</th>\n",
       "      <th>411</th>\n",
       "      <th>412</th>\n",
       "      <th>413</th>\n",
       "      <th>414</th>\n",
       "      <th>501</th>\n",
       "      <th>502</th>\n",
       "      <th>503</th>\n",
       "    </tr>\n",
       "    <tr>\n",
       "      <th>health</th>\n",
       "      <th></th>\n",
       "      <th></th>\n",
       "      <th></th>\n",
       "      <th></th>\n",
       "      <th></th>\n",
       "      <th></th>\n",
       "      <th></th>\n",
       "      <th></th>\n",
       "      <th></th>\n",
       "      <th></th>\n",
       "      <th></th>\n",
       "      <th></th>\n",
       "      <th></th>\n",
       "      <th></th>\n",
       "      <th></th>\n",
       "      <th></th>\n",
       "      <th></th>\n",
       "      <th></th>\n",
       "      <th></th>\n",
       "      <th></th>\n",
       "      <th></th>\n",
       "    </tr>\n",
       "  </thead>\n",
       "  <tbody>\n",
       "    <tr>\n",
       "      <th>Fair</th>\n",
       "      <td>344</td>\n",
       "      <td>316</td>\n",
       "      <td>232</td>\n",
       "      <td>154</td>\n",
       "      <td>151</td>\n",
       "      <td>198</td>\n",
       "      <td>253</td>\n",
       "      <td>282</td>\n",
       "      <td>296</td>\n",
       "      <td>375</td>\n",
       "      <td>...</td>\n",
       "      <td>1940</td>\n",
       "      <td>1019</td>\n",
       "      <td>1780</td>\n",
       "      <td>2715</td>\n",
       "      <td>2082</td>\n",
       "      <td>4997</td>\n",
       "      <td>2438</td>\n",
       "      <td>2518</td>\n",
       "      <td>3291</td>\n",
       "      <td>7671</td>\n",
       "    </tr>\n",
       "    <tr>\n",
       "      <th>Good</th>\n",
       "      <td>1446</td>\n",
       "      <td>1395</td>\n",
       "      <td>1212</td>\n",
       "      <td>710</td>\n",
       "      <td>377</td>\n",
       "      <td>977</td>\n",
       "      <td>1495</td>\n",
       "      <td>1676</td>\n",
       "      <td>1375</td>\n",
       "      <td>1619</td>\n",
       "      <td>...</td>\n",
       "      <td>12952</td>\n",
       "      <td>5343</td>\n",
       "      <td>10898</td>\n",
       "      <td>17499</td>\n",
       "      <td>19767</td>\n",
       "      <td>25522</td>\n",
       "      <td>6231</td>\n",
       "      <td>20231</td>\n",
       "      <td>18306</td>\n",
       "      <td>39677</td>\n",
       "    </tr>\n",
       "    <tr>\n",
       "      <th>Poor</th>\n",
       "      <td>89</td>\n",
       "      <td>86</td>\n",
       "      <td>85</td>\n",
       "      <td>36</td>\n",
       "      <td>47</td>\n",
       "      <td>51</td>\n",
       "      <td>40</td>\n",
       "      <td>115</td>\n",
       "      <td>113</td>\n",
       "      <td>111</td>\n",
       "      <td>...</td>\n",
       "      <td>438</td>\n",
       "      <td>278</td>\n",
       "      <td>485</td>\n",
       "      <td>719</td>\n",
       "      <td>541</td>\n",
       "      <td>1314</td>\n",
       "      <td>933</td>\n",
       "      <td>809</td>\n",
       "      <td>910</td>\n",
       "      <td>2320</td>\n",
       "    </tr>\n",
       "  </tbody>\n",
       "</table>\n",
       "<p>3 rows × 59 columns</p>\n",
       "</div>"
      ],
      "text/plain": [
       "cb_num   101   102   103  104  105  106   107   108   109   110  ...    408  \\\n",
       "health                                                           ...          \n",
       "Fair     344   316   232  154  151  198   253   282   296   375  ...   1940   \n",
       "Good    1446  1395  1212  710  377  977  1495  1676  1375  1619  ...  12952   \n",
       "Poor      89    86    85   36   47   51    40   115   113   111  ...    438   \n",
       "\n",
       "cb_num   409    410    411    412    413   414    501    502    503  \n",
       "health                                                               \n",
       "Fair    1019   1780   2715   2082   4997  2438   2518   3291   7671  \n",
       "Good    5343  10898  17499  19767  25522  6231  20231  18306  39677  \n",
       "Poor     278    485    719    541   1314   933    809    910   2320  \n",
       "\n",
       "[3 rows x 59 columns]"
      ]
     },
     "execution_count": 51,
     "metadata": {},
     "output_type": "execute_result"
    }
   ],
   "source": [
    "# create a frequency table\n",
    "df_cb_health = pd.crosstab(trees.health, trees.cb_num)\n",
    "df_cb_health"
   ]
  },
  {
   "cell_type": "code",
   "execution_count": 52,
   "metadata": {},
   "outputs": [
    {
     "data": {
      "text/plain": [
       "(142.13816003902645, 7345.570039622511)"
      ]
     },
     "execution_count": 52,
     "metadata": {},
     "output_type": "execute_result"
    }
   ],
   "source": [
    "# returns 𝜒2 value, p-value, degree of freedom and expected values\n",
    "stat, p, dof, expected = stats.chi2_contingency(df_cb_health)\n",
    "\n",
    "# test-statistic far greater than critical value\n",
    "prob = 0.95\n",
    "critical = stats.chi2.ppf(prob, dof)\n",
    "critical, stat"
   ]
  },
  {
   "cell_type": "code",
   "execution_count": 53,
   "metadata": {},
   "outputs": [
    {
     "data": {
      "text/html": [
       "<div>\n",
       "<style scoped>\n",
       "    .dataframe tbody tr th:only-of-type {\n",
       "        vertical-align: middle;\n",
       "    }\n",
       "\n",
       "    .dataframe tbody tr th {\n",
       "        vertical-align: top;\n",
       "    }\n",
       "\n",
       "    .dataframe thead th {\n",
       "        text-align: right;\n",
       "    }\n",
       "</style>\n",
       "<table border=\"1\" class=\"dataframe\">\n",
       "  <thead>\n",
       "    <tr style=\"text-align: right;\">\n",
       "      <th>cb_num</th>\n",
       "      <th>101</th>\n",
       "      <th>102</th>\n",
       "      <th>103</th>\n",
       "      <th>104</th>\n",
       "      <th>105</th>\n",
       "      <th>106</th>\n",
       "      <th>107</th>\n",
       "      <th>108</th>\n",
       "      <th>109</th>\n",
       "      <th>110</th>\n",
       "      <th>...</th>\n",
       "      <th>408</th>\n",
       "      <th>409</th>\n",
       "      <th>410</th>\n",
       "      <th>411</th>\n",
       "      <th>412</th>\n",
       "      <th>413</th>\n",
       "      <th>414</th>\n",
       "      <th>501</th>\n",
       "      <th>502</th>\n",
       "      <th>503</th>\n",
       "    </tr>\n",
       "    <tr>\n",
       "      <th>health</th>\n",
       "      <th></th>\n",
       "      <th></th>\n",
       "      <th></th>\n",
       "      <th></th>\n",
       "      <th></th>\n",
       "      <th></th>\n",
       "      <th></th>\n",
       "      <th></th>\n",
       "      <th></th>\n",
       "      <th></th>\n",
       "      <th></th>\n",
       "      <th></th>\n",
       "      <th></th>\n",
       "      <th></th>\n",
       "      <th></th>\n",
       "      <th></th>\n",
       "      <th></th>\n",
       "      <th></th>\n",
       "      <th></th>\n",
       "      <th></th>\n",
       "      <th></th>\n",
       "    </tr>\n",
       "  </thead>\n",
       "  <tbody>\n",
       "    <tr>\n",
       "      <th>Fair</th>\n",
       "      <td>5.129318</td>\n",
       "      <td>4.135827</td>\n",
       "      <td>1.106630</td>\n",
       "      <td>2.516209</td>\n",
       "      <td>8.302588</td>\n",
       "      <td>1.972131</td>\n",
       "      <td>-0.045719</td>\n",
       "      <td>-0.763919</td>\n",
       "      <td>2.916401</td>\n",
       "      <td>4.780778</td>\n",
       "      <td>...</td>\n",
       "      <td>-5.534750</td>\n",
       "      <td>2.726784</td>\n",
       "      <td>-2.219009</td>\n",
       "      <td>-5.172068</td>\n",
       "      <td>-21.514019</td>\n",
       "      <td>8.013637</td>\n",
       "      <td>31.807539</td>\n",
       "      <td>-15.816677</td>\n",
       "      <td>1.917722</td>\n",
       "      <td>8.518952</td>\n",
       "    </tr>\n",
       "    <tr>\n",
       "      <th>Good</th>\n",
       "      <td>-5.476062</td>\n",
       "      <td>-4.612954</td>\n",
       "      <td>-2.590196</td>\n",
       "      <td>-2.280614</td>\n",
       "      <td>-10.111078</td>\n",
       "      <td>-1.934466</td>\n",
       "      <td>1.971846</td>\n",
       "      <td>-1.146535</td>\n",
       "      <td>-5.205602</td>\n",
       "      <td>-5.849639</td>\n",
       "      <td>...</td>\n",
       "      <td>8.722672</td>\n",
       "      <td>-2.876107</td>\n",
       "      <td>2.943221</td>\n",
       "      <td>6.829744</td>\n",
       "      <td>25.745851</td>\n",
       "      <td>-7.889693</td>\n",
       "      <td>-43.472485</td>\n",
       "      <td>16.600254</td>\n",
       "      <td>-1.929381</td>\n",
       "      <td>-11.854639</td>\n",
       "    </tr>\n",
       "    <tr>\n",
       "      <th>Poor</th>\n",
       "      <td>1.646141</td>\n",
       "      <td>1.716374</td>\n",
       "      <td>3.129772</td>\n",
       "      <td>0.008489</td>\n",
       "      <td>5.121022</td>\n",
       "      <td>0.296153</td>\n",
       "      <td>-3.802197</td>\n",
       "      <td>3.619290</td>\n",
       "      <td>5.056362</td>\n",
       "      <td>3.002939</td>\n",
       "      <td>...</td>\n",
       "      <td>-7.318128</td>\n",
       "      <td>0.806150</td>\n",
       "      <td>-1.843072</td>\n",
       "      <td>-4.236120</td>\n",
       "      <td>-12.374838</td>\n",
       "      <td>1.260728</td>\n",
       "      <td>28.947729</td>\n",
       "      <td>-4.513437</td>\n",
       "      <td>0.383085</td>\n",
       "      <td>8.169549</td>\n",
       "    </tr>\n",
       "  </tbody>\n",
       "</table>\n",
       "<p>3 rows × 59 columns</p>\n",
       "</div>"
      ],
      "text/plain": [
       "cb_num       101       102       103       104        105       106       107  \\\n",
       "health                                                                          \n",
       "Fair    5.129318  4.135827  1.106630  2.516209   8.302588  1.972131 -0.045719   \n",
       "Good   -5.476062 -4.612954 -2.590196 -2.280614 -10.111078 -1.934466  1.971846   \n",
       "Poor    1.646141  1.716374  3.129772  0.008489   5.121022  0.296153 -3.802197   \n",
       "\n",
       "cb_num       108       109       110  ...       408       409       410  \\\n",
       "health                                ...                                 \n",
       "Fair   -0.763919  2.916401  4.780778  ... -5.534750  2.726784 -2.219009   \n",
       "Good   -1.146535 -5.205602 -5.849639  ...  8.722672 -2.876107  2.943221   \n",
       "Poor    3.619290  5.056362  3.002939  ... -7.318128  0.806150 -1.843072   \n",
       "\n",
       "cb_num       411        412       413        414        501       502  \\\n",
       "health                                                                  \n",
       "Fair   -5.172068 -21.514019  8.013637  31.807539 -15.816677  1.917722   \n",
       "Good    6.829744  25.745851 -7.889693 -43.472485  16.600254 -1.929381   \n",
       "Poor   -4.236120 -12.374838  1.260728  28.947729  -4.513437  0.383085   \n",
       "\n",
       "cb_num        503  \n",
       "health             \n",
       "Fair     8.518952  \n",
       "Good   -11.854639  \n",
       "Poor     8.169549  \n",
       "\n",
       "[3 rows x 59 columns]"
      ]
     },
     "execution_count": 53,
     "metadata": {},
     "output_type": "execute_result"
    }
   ],
   "source": [
    "# create a table of standardized residuals; anything over +/-1.96 shows significance\n",
    "table2 = sm.stats.Table(df_cb_health)\n",
    "table2.standardized_resids"
   ]
  },
  {
   "cell_type": "code",
   "execution_count": 54,
   "metadata": {},
   "outputs": [
    {
     "name": "stdout",
     "output_type": "stream",
     "text": [
      "75.71%\n"
     ]
    }
   ],
   "source": [
    "# percentage of significant values\n",
    "abs_table2 = table2.standardized_resids.apply(lambda x: abs(x))\n",
    "print(f'{round((abs_table2[abs_table2 > 1.96].count().sum() / abs_table2.count().sum()) * 100, 2)}%')"
   ]
  },
  {
   "cell_type": "markdown",
   "metadata": {},
   "source": [
    "### EDA - Neighborhoods"
   ]
  },
  {
   "cell_type": "code",
   "execution_count": 119,
   "metadata": {},
   "outputs": [
    {
     "data": {
      "image/png": "[encoded data removed]",
      "text/plain": [
       "<Figure size 2880x720 with 1 Axes>"
      ]
     },
     "metadata": {
      "needs_background": "light"
     },
     "output_type": "display_data"
    }
   ],
   "source": [
    "# prepare data for stacked bar, sort by percentage of trees in good health\n",
    "neighborhoods = trees.groupby(['nta']).health.value_counts(normalize=True).unstack().sort_values('Good')\n",
    "\n",
    "# plot stacked bar graph\n",
    "p3 = neighborhoods.plot(kind='bar', stacked=True, figsize=(40,10),\n",
    "                        color=['gold', 'forestgreen', 'orangered'], alpha=0.7)\n",
    "\n",
    "# prettify the graph\n",
    "p3.set_title('Tree Health Across Neighborhoods', fontsize=30, pad=10)\n",
    "p3.set_xlabel('Neighborhood Code', fontsize=28, labelpad=15)\n",
    "p3.set_xticklabels(p3.get_xticklabels(), fontsize=20)\n",
    "p3.set_ylabel('Health Status (in %)', fontsize=28, labelpad=10)\n",
    "p3.set_yticklabels([0, 20, 40, 60, 80, 100], fontsize=20)\n",
    "p3.legend(['Fair','Good', 'Poor'], bbox_to_anchor=(1,1), fontsize=22)\n",
    "\n",
    "# prepare to save and display\n",
    "plt.tight_layout()\n",
    "plt.savefig('charts/health_nbhd_barstack.png', bbox_inches='tight', transparent=True)\n",
    "plt.show()"
   ]
  },
  {
   "cell_type": "markdown",
   "metadata": {},
   "source": [
    "* There does seem to be a difference between the neighborhoods, though these may be too correlated to community board, since each community board is composed of one or a few neighborhoods.\n",
    "* Let's do some statistical analyses."
   ]
  },
  {
   "cell_type": "code",
   "execution_count": 56,
   "metadata": {},
   "outputs": [
    {
     "data": {
      "text/html": [
       "<div>\n",
       "<style scoped>\n",
       "    .dataframe tbody tr th:only-of-type {\n",
       "        vertical-align: middle;\n",
       "    }\n",
       "\n",
       "    .dataframe tbody tr th {\n",
       "        vertical-align: top;\n",
       "    }\n",
       "\n",
       "    .dataframe thead th {\n",
       "        text-align: right;\n",
       "    }\n",
       "</style>\n",
       "<table border=\"1\" class=\"dataframe\">\n",
       "  <thead>\n",
       "    <tr style=\"text-align: right;\">\n",
       "      <th>nta</th>\n",
       "      <th>BK09</th>\n",
       "      <th>BK17</th>\n",
       "      <th>BK19</th>\n",
       "      <th>BK21</th>\n",
       "      <th>BK23</th>\n",
       "      <th>BK25</th>\n",
       "      <th>BK26</th>\n",
       "      <th>BK27</th>\n",
       "      <th>BK28</th>\n",
       "      <th>BK29</th>\n",
       "      <th>...</th>\n",
       "      <th>SI24</th>\n",
       "      <th>SI25</th>\n",
       "      <th>SI28</th>\n",
       "      <th>SI32</th>\n",
       "      <th>SI35</th>\n",
       "      <th>SI36</th>\n",
       "      <th>SI37</th>\n",
       "      <th>SI45</th>\n",
       "      <th>SI48</th>\n",
       "      <th>SI54</th>\n",
       "    </tr>\n",
       "    <tr>\n",
       "      <th>health</th>\n",
       "      <th></th>\n",
       "      <th></th>\n",
       "      <th></th>\n",
       "      <th></th>\n",
       "      <th></th>\n",
       "      <th></th>\n",
       "      <th></th>\n",
       "      <th></th>\n",
       "      <th></th>\n",
       "      <th></th>\n",
       "      <th></th>\n",
       "      <th></th>\n",
       "      <th></th>\n",
       "      <th></th>\n",
       "      <th></th>\n",
       "      <th></th>\n",
       "      <th></th>\n",
       "      <th></th>\n",
       "      <th></th>\n",
       "      <th></th>\n",
       "      <th></th>\n",
       "    </tr>\n",
       "  </thead>\n",
       "  <tbody>\n",
       "    <tr>\n",
       "      <th>Fair</th>\n",
       "      <td>30</td>\n",
       "      <td>1132</td>\n",
       "      <td>182</td>\n",
       "      <td>314</td>\n",
       "      <td>136</td>\n",
       "      <td>675</td>\n",
       "      <td>215</td>\n",
       "      <td>151</td>\n",
       "      <td>187</td>\n",
       "      <td>296</td>\n",
       "      <td>...</td>\n",
       "      <td>959</td>\n",
       "      <td>668</td>\n",
       "      <td>214</td>\n",
       "      <td>1008</td>\n",
       "      <td>238</td>\n",
       "      <td>560</td>\n",
       "      <td>521</td>\n",
       "      <td>519</td>\n",
       "      <td>880</td>\n",
       "      <td>1782</td>\n",
       "    </tr>\n",
       "    <tr>\n",
       "      <th>Good</th>\n",
       "      <td>110</td>\n",
       "      <td>3082</td>\n",
       "      <td>514</td>\n",
       "      <td>839</td>\n",
       "      <td>295</td>\n",
       "      <td>2672</td>\n",
       "      <td>529</td>\n",
       "      <td>1116</td>\n",
       "      <td>1809</td>\n",
       "      <td>1655</td>\n",
       "      <td>...</td>\n",
       "      <td>2618</td>\n",
       "      <td>3134</td>\n",
       "      <td>2681</td>\n",
       "      <td>7563</td>\n",
       "      <td>2861</td>\n",
       "      <td>4035</td>\n",
       "      <td>2737</td>\n",
       "      <td>3764</td>\n",
       "      <td>5521</td>\n",
       "      <td>7685</td>\n",
       "    </tr>\n",
       "    <tr>\n",
       "      <th>Poor</th>\n",
       "      <td>8</td>\n",
       "      <td>215</td>\n",
       "      <td>57</td>\n",
       "      <td>81</td>\n",
       "      <td>15</td>\n",
       "      <td>197</td>\n",
       "      <td>35</td>\n",
       "      <td>32</td>\n",
       "      <td>41</td>\n",
       "      <td>45</td>\n",
       "      <td>...</td>\n",
       "      <td>241</td>\n",
       "      <td>150</td>\n",
       "      <td>92</td>\n",
       "      <td>271</td>\n",
       "      <td>40</td>\n",
       "      <td>175</td>\n",
       "      <td>148</td>\n",
       "      <td>119</td>\n",
       "      <td>275</td>\n",
       "      <td>482</td>\n",
       "    </tr>\n",
       "  </tbody>\n",
       "</table>\n",
       "<p>3 rows × 188 columns</p>\n",
       "</div>"
      ],
      "text/plain": [
       "nta     BK09  BK17  BK19  BK21  BK23  BK25  BK26  BK27  BK28  BK29  ...  SI24  \\\n",
       "health                                                              ...         \n",
       "Fair      30  1132   182   314   136   675   215   151   187   296  ...   959   \n",
       "Good     110  3082   514   839   295  2672   529  1116  1809  1655  ...  2618   \n",
       "Poor       8   215    57    81    15   197    35    32    41    45  ...   241   \n",
       "\n",
       "nta     SI25  SI28  SI32  SI35  SI36  SI37  SI45  SI48  SI54  \n",
       "health                                                        \n",
       "Fair     668   214  1008   238   560   521   519   880  1782  \n",
       "Good    3134  2681  7563  2861  4035  2737  3764  5521  7685  \n",
       "Poor     150    92   271    40   175   148   119   275   482  \n",
       "\n",
       "[3 rows x 188 columns]"
      ]
     },
     "execution_count": 56,
     "metadata": {},
     "output_type": "execute_result"
    }
   ],
   "source": [
    "# create a frequency table\n",
    "df_nta_health = pd.crosstab(trees.health, trees.nta)\n",
    "df_nta_health"
   ]
  },
  {
   "cell_type": "code",
   "execution_count": 57,
   "metadata": {},
   "outputs": [
    {
     "data": {
      "text/plain": [
       "(420.09408303637986, 12810.553650717877)"
      ]
     },
     "execution_count": 57,
     "metadata": {},
     "output_type": "execute_result"
    }
   ],
   "source": [
    "# returns 𝜒2 value, p-value, degree of freedom and expected values\n",
    "stat, p, dof, expected = stats.chi2_contingency(df_nta_health)\n",
    "\n",
    "# test-statistic far greater than critical value\n",
    "prob = 0.95\n",
    "critical = stats.chi2.ppf(prob, dof)\n",
    "critical, stat"
   ]
  },
  {
   "cell_type": "code",
   "execution_count": 58,
   "metadata": {},
   "outputs": [
    {
     "data": {
      "text/html": [
       "<div>\n",
       "<style scoped>\n",
       "    .dataframe tbody tr th:only-of-type {\n",
       "        vertical-align: middle;\n",
       "    }\n",
       "\n",
       "    .dataframe tbody tr th {\n",
       "        vertical-align: top;\n",
       "    }\n",
       "\n",
       "    .dataframe thead th {\n",
       "        text-align: right;\n",
       "    }\n",
       "</style>\n",
       "<table border=\"1\" class=\"dataframe\">\n",
       "  <thead>\n",
       "    <tr style=\"text-align: right;\">\n",
       "      <th>nta</th>\n",
       "      <th>BK09</th>\n",
       "      <th>BK17</th>\n",
       "      <th>BK19</th>\n",
       "      <th>BK21</th>\n",
       "      <th>BK23</th>\n",
       "      <th>BK25</th>\n",
       "      <th>BK26</th>\n",
       "      <th>BK27</th>\n",
       "      <th>BK28</th>\n",
       "      <th>BK29</th>\n",
       "      <th>...</th>\n",
       "      <th>SI24</th>\n",
       "      <th>SI25</th>\n",
       "      <th>SI28</th>\n",
       "      <th>SI32</th>\n",
       "      <th>SI35</th>\n",
       "      <th>SI36</th>\n",
       "      <th>SI37</th>\n",
       "      <th>SI45</th>\n",
       "      <th>SI48</th>\n",
       "      <th>SI54</th>\n",
       "    </tr>\n",
       "    <tr>\n",
       "      <th>health</th>\n",
       "      <th></th>\n",
       "      <th></th>\n",
       "      <th></th>\n",
       "      <th></th>\n",
       "      <th></th>\n",
       "      <th></th>\n",
       "      <th></th>\n",
       "      <th></th>\n",
       "      <th></th>\n",
       "      <th></th>\n",
       "      <th></th>\n",
       "      <th></th>\n",
       "      <th></th>\n",
       "      <th></th>\n",
       "      <th></th>\n",
       "      <th></th>\n",
       "      <th></th>\n",
       "      <th></th>\n",
       "      <th></th>\n",
       "      <th></th>\n",
       "      <th></th>\n",
       "    </tr>\n",
       "  </thead>\n",
       "  <tbody>\n",
       "    <tr>\n",
       "      <th>Fair</th>\n",
       "      <td>2.121165</td>\n",
       "      <td>21.797632</td>\n",
       "      <td>7.857331</td>\n",
       "      <td>11.350140</td>\n",
       "      <td>9.874106</td>\n",
       "      <td>8.323038</td>\n",
       "      <td>10.737758</td>\n",
       "      <td>-2.651511</td>\n",
       "      <td>-6.491918</td>\n",
       "      <td>0.824057</td>\n",
       "      <td>...</td>\n",
       "      <td>19.440027</td>\n",
       "      <td>4.914049</td>\n",
       "      <td>-11.037866</td>\n",
       "      <td>-7.587663</td>\n",
       "      <td>-10.644162</td>\n",
       "      <td>-4.870721</td>\n",
       "      <td>1.862093</td>\n",
       "      <td>-4.581456</td>\n",
       "      <td>-2.373582</td>\n",
       "      <td>10.766321</td>\n",
       "    </tr>\n",
       "    <tr>\n",
       "      <th>Good</th>\n",
       "      <td>-2.363995</td>\n",
       "      <td>-21.210308</td>\n",
       "      <td>-9.653901</td>\n",
       "      <td>-12.611392</td>\n",
       "      <td>-8.586783</td>\n",
       "      <td>-9.953336</td>\n",
       "      <td>-10.074908</td>\n",
       "      <td>3.831576</td>\n",
       "      <td>8.197327</td>\n",
       "      <td>1.274632</td>\n",
       "      <td>...</td>\n",
       "      <td>-21.315473</td>\n",
       "      <td>-4.119667</td>\n",
       "      <td>11.285759</td>\n",
       "      <td>9.153572</td>\n",
       "      <td>13.594823</td>\n",
       "      <td>4.992886</td>\n",
       "      <td>-2.217250</td>\n",
       "      <td>6.376933</td>\n",
       "      <td>1.881180</td>\n",
       "      <td>-11.963350</td>\n",
       "    </tr>\n",
       "    <tr>\n",
       "      <th>Poor</th>\n",
       "      <td>0.876589</td>\n",
       "      <td>2.936571</td>\n",
       "      <td>5.013913</td>\n",
       "      <td>4.615492</td>\n",
       "      <td>-0.681190</td>\n",
       "      <td>4.773887</td>\n",
       "      <td>0.710913</td>\n",
       "      <td>-2.822096</td>\n",
       "      <td>-4.577958</td>\n",
       "      <td>-3.978687</td>\n",
       "      <td>...</td>\n",
       "      <td>7.344349</td>\n",
       "      <td>-0.641763</td>\n",
       "      <td>-2.561007</td>\n",
       "      <td>-4.508978</td>\n",
       "      <td>-7.810264</td>\n",
       "      <td>-1.155269</td>\n",
       "      <td>1.049172</td>\n",
       "      <td>-4.396590</td>\n",
       "      <td>0.524073</td>\n",
       "      <td>4.379370</td>\n",
       "    </tr>\n",
       "  </tbody>\n",
       "</table>\n",
       "<p>3 rows × 188 columns</p>\n",
       "</div>"
      ],
      "text/plain": [
       "nta         BK09       BK17      BK19       BK21      BK23      BK25  \\\n",
       "health                                                                 \n",
       "Fair    2.121165  21.797632  7.857331  11.350140  9.874106  8.323038   \n",
       "Good   -2.363995 -21.210308 -9.653901 -12.611392 -8.586783 -9.953336   \n",
       "Poor    0.876589   2.936571  5.013913   4.615492 -0.681190  4.773887   \n",
       "\n",
       "nta          BK26      BK27      BK28      BK29  ...       SI24      SI25  \\\n",
       "health                                           ...                        \n",
       "Fair    10.737758 -2.651511 -6.491918  0.824057  ...  19.440027  4.914049   \n",
       "Good   -10.074908  3.831576  8.197327  1.274632  ... -21.315473 -4.119667   \n",
       "Poor     0.710913 -2.822096 -4.577958 -3.978687  ...   7.344349 -0.641763   \n",
       "\n",
       "nta          SI28      SI32       SI35      SI36      SI37      SI45  \\\n",
       "health                                                                 \n",
       "Fair   -11.037866 -7.587663 -10.644162 -4.870721  1.862093 -4.581456   \n",
       "Good    11.285759  9.153572  13.594823  4.992886 -2.217250  6.376933   \n",
       "Poor    -2.561007 -4.508978  -7.810264 -1.155269  1.049172 -4.396590   \n",
       "\n",
       "nta         SI48       SI54  \n",
       "health                       \n",
       "Fair   -2.373582  10.766321  \n",
       "Good    1.881180 -11.963350  \n",
       "Poor    0.524073   4.379370  \n",
       "\n",
       "[3 rows x 188 columns]"
      ]
     },
     "execution_count": 58,
     "metadata": {},
     "output_type": "execute_result"
    }
   ],
   "source": [
    "# create a table of standardized residuals; anything over +/-1.96 shows significance\n",
    "table3 = sm.stats.Table(df_nta_health)\n",
    "table3.standardized_resids"
   ]
  },
  {
   "cell_type": "code",
   "execution_count": 59,
   "metadata": {},
   "outputs": [
    {
     "name": "stdout",
     "output_type": "stream",
     "text": [
      "68.97%\n"
     ]
    }
   ],
   "source": [
    "# percentage of significant values\n",
    "abs_table3 = table3.standardized_resids.apply(lambda x: abs(x))\n",
    "print(f'{round((abs_table3[abs_table3 > 1.96].count().sum() / abs_table3.count().sum()) * 100, 2)}%')"
   ]
  },
  {
   "cell_type": "markdown",
   "metadata": {},
   "source": [
    "* Percentage of significant values is lower than that of community boards. Might be an argument for using community boards as a feature instead."
   ]
  },
  {
   "cell_type": "markdown",
   "metadata": {},
   "source": [
    "### EDA - State Senate Districts"
   ]
  },
  {
   "cell_type": "code",
   "execution_count": 60,
   "metadata": {},
   "outputs": [
    {
     "name": "stdout",
     "output_type": "stream",
     "text": [
      "boroname: 73.33%\n",
      "cb_num: 75.71%\n",
      "council_dist: 77.78%\n",
      "nta: 68.97%\n",
      "st_assem: 77.95%\n",
      "st_senate: 80.77%\n"
     ]
    }
   ],
   "source": [
    "testers = ['boroname', 'cb_num', 'council_dist', 'nta', 'st_assem', 'st_senate']\n",
    "for tester in testers:\n",
    "    df_ = pd.crosstab(trees.health, trees[tester])\n",
    "    table_ = sm.stats.Table(df_)\n",
    "    abs_table_ = table_.standardized_resids.apply(lambda x: abs(x))\n",
    "    print(f'{tester}: {round((abs_table_[abs_table_ > 1.96].count().sum() / abs_table_.count().sum()) * 100, 2)}%')"
   ]
  },
  {
   "cell_type": "code",
   "execution_count": 116,
   "metadata": {
    "scrolled": true
   },
   "outputs": [
    {
     "data": {
      "image/png": "[encoded data removed]",
      "text/plain": [
       "<Figure size 1800x720 with 1 Axes>"
      ]
     },
     "metadata": {
      "needs_background": "light"
     },
     "output_type": "display_data"
    }
   ],
   "source": [
    "# prepare data for stacked bar, sort by percentage of trees in good health\n",
    "st_snt = trees.groupby(['st_senate']).health.value_counts(normalize=True).unstack().sort_values('Good')\n",
    "\n",
    "# plot stacked bar graph\n",
    "p3b = st_snt.plot(kind='bar', stacked=True, figsize=(25,10), color=['gold', 'forestgreen', 'orangered'], alpha=0.7)\n",
    "\n",
    "# prettify the graph\n",
    "p3b.set_title('Tree Health Across State Senate Districts', fontsize=30, pad=15)\n",
    "p3b.set_xlabel('Senate District', fontsize=28, labelpad=15)\n",
    "p3b.set_xticklabels(p3b.get_xticklabels(), rotation='horizontal', fontsize=22)\n",
    "p3b.set_ylabel('Health Status (in %)', fontsize=28, labelpad=10)\n",
    "p3b.set_yticklabels([0, 20, 40, 60, 80, 100], fontsize=22)\n",
    "p3b.legend(['Fair','Good', 'Poor'], bbox_to_anchor=(1,1), fontsize=22)\n",
    "\n",
    "# prepare to save and display\n",
    "plt.tight_layout()\n",
    "plt.savefig('charts/health_senate_barstack.png', bbox_inches='tight', transparent=True)\n",
    "plt.show()"
   ]
  },
  {
   "cell_type": "code",
   "execution_count": 62,
   "metadata": {},
   "outputs": [
    {
     "data": {
      "text/html": [
       "<div>\n",
       "<style scoped>\n",
       "    .dataframe tbody tr th:only-of-type {\n",
       "        vertical-align: middle;\n",
       "    }\n",
       "\n",
       "    .dataframe tbody tr th {\n",
       "        vertical-align: top;\n",
       "    }\n",
       "\n",
       "    .dataframe thead th {\n",
       "        text-align: right;\n",
       "    }\n",
       "</style>\n",
       "<table border=\"1\" class=\"dataframe\">\n",
       "  <thead>\n",
       "    <tr style=\"text-align: right;\">\n",
       "      <th>st_senate</th>\n",
       "      <th>10</th>\n",
       "      <th>11</th>\n",
       "      <th>12</th>\n",
       "      <th>13</th>\n",
       "      <th>14</th>\n",
       "      <th>15</th>\n",
       "      <th>16</th>\n",
       "      <th>17</th>\n",
       "      <th>18</th>\n",
       "      <th>19</th>\n",
       "      <th>...</th>\n",
       "      <th>26</th>\n",
       "      <th>27</th>\n",
       "      <th>28</th>\n",
       "      <th>29</th>\n",
       "      <th>30</th>\n",
       "      <th>31</th>\n",
       "      <th>32</th>\n",
       "      <th>33</th>\n",
       "      <th>34</th>\n",
       "      <th>36</th>\n",
       "    </tr>\n",
       "    <tr>\n",
       "      <th>health</th>\n",
       "      <th></th>\n",
       "      <th></th>\n",
       "      <th></th>\n",
       "      <th></th>\n",
       "      <th></th>\n",
       "      <th></th>\n",
       "      <th></th>\n",
       "      <th></th>\n",
       "      <th></th>\n",
       "      <th></th>\n",
       "      <th></th>\n",
       "      <th></th>\n",
       "      <th></th>\n",
       "      <th></th>\n",
       "      <th></th>\n",
       "      <th></th>\n",
       "      <th></th>\n",
       "      <th></th>\n",
       "      <th></th>\n",
       "      <th></th>\n",
       "      <th></th>\n",
       "    </tr>\n",
       "  </thead>\n",
       "  <tbody>\n",
       "    <tr>\n",
       "      <th>Fair</th>\n",
       "      <td>3675</td>\n",
       "      <td>6815</td>\n",
       "      <td>1215</td>\n",
       "      <td>997</td>\n",
       "      <td>4219</td>\n",
       "      <td>4142</td>\n",
       "      <td>2299</td>\n",
       "      <td>1994</td>\n",
       "      <td>1122</td>\n",
       "      <td>3809</td>\n",
       "      <td>...</td>\n",
       "      <td>888</td>\n",
       "      <td>590</td>\n",
       "      <td>482</td>\n",
       "      <td>1358</td>\n",
       "      <td>831</td>\n",
       "      <td>745</td>\n",
       "      <td>1620</td>\n",
       "      <td>1507</td>\n",
       "      <td>2730</td>\n",
       "      <td>1322</td>\n",
       "    </tr>\n",
       "    <tr>\n",
       "      <th>Good</th>\n",
       "      <td>22605</td>\n",
       "      <td>44739</td>\n",
       "      <td>4506</td>\n",
       "      <td>5870</td>\n",
       "      <td>25245</td>\n",
       "      <td>19473</td>\n",
       "      <td>12746</td>\n",
       "      <td>10903</td>\n",
       "      <td>6379</td>\n",
       "      <td>19724</td>\n",
       "      <td>...</td>\n",
       "      <td>3857</td>\n",
       "      <td>2426</td>\n",
       "      <td>2433</td>\n",
       "      <td>5673</td>\n",
       "      <td>3821</td>\n",
       "      <td>3657</td>\n",
       "      <td>11258</td>\n",
       "      <td>8208</td>\n",
       "      <td>22610</td>\n",
       "      <td>10218</td>\n",
       "    </tr>\n",
       "    <tr>\n",
       "      <th>Poor</th>\n",
       "      <td>957</td>\n",
       "      <td>1610</td>\n",
       "      <td>301</td>\n",
       "      <td>246</td>\n",
       "      <td>1220</td>\n",
       "      <td>1323</td>\n",
       "      <td>610</td>\n",
       "      <td>693</td>\n",
       "      <td>320</td>\n",
       "      <td>1098</td>\n",
       "      <td>...</td>\n",
       "      <td>235</td>\n",
       "      <td>142</td>\n",
       "      <td>170</td>\n",
       "      <td>438</td>\n",
       "      <td>299</td>\n",
       "      <td>289</td>\n",
       "      <td>469</td>\n",
       "      <td>483</td>\n",
       "      <td>806</td>\n",
       "      <td>357</td>\n",
       "    </tr>\n",
       "  </tbody>\n",
       "</table>\n",
       "<p>3 rows × 26 columns</p>\n",
       "</div>"
      ],
      "text/plain": [
       "st_senate     10     11    12    13     14     15     16     17    18     19  \\\n",
       "health                                                                         \n",
       "Fair        3675   6815  1215   997   4219   4142   2299   1994  1122   3809   \n",
       "Good       22605  44739  4506  5870  25245  19473  12746  10903  6379  19724   \n",
       "Poor         957   1610   301   246   1220   1323    610    693   320   1098   \n",
       "\n",
       "st_senate  ...    26    27    28    29    30    31     32    33     34     36  \n",
       "health     ...                                                                 \n",
       "Fair       ...   888   590   482  1358   831   745   1620  1507   2730   1322  \n",
       "Good       ...  3857  2426  2433  5673  3821  3657  11258  8208  22610  10218  \n",
       "Poor       ...   235   142   170   438   299   289    469   483    806    357  \n",
       "\n",
       "[3 rows x 26 columns]"
      ]
     },
     "execution_count": 62,
     "metadata": {},
     "output_type": "execute_result"
    }
   ],
   "source": [
    "# create a frequency table\n",
    "df_snt = pd.crosstab(trees.health, trees.st_senate)\n",
    "df_snt"
   ]
  },
  {
   "cell_type": "code",
   "execution_count": 63,
   "metadata": {},
   "outputs": [
    {
     "data": {
      "text/html": [
       "<div>\n",
       "<style scoped>\n",
       "    .dataframe tbody tr th:only-of-type {\n",
       "        vertical-align: middle;\n",
       "    }\n",
       "\n",
       "    .dataframe tbody tr th {\n",
       "        vertical-align: top;\n",
       "    }\n",
       "\n",
       "    .dataframe thead th {\n",
       "        text-align: right;\n",
       "    }\n",
       "</style>\n",
       "<table border=\"1\" class=\"dataframe\">\n",
       "  <thead>\n",
       "    <tr style=\"text-align: right;\">\n",
       "      <th>st_senate</th>\n",
       "      <th>10</th>\n",
       "      <th>11</th>\n",
       "      <th>12</th>\n",
       "      <th>13</th>\n",
       "      <th>14</th>\n",
       "      <th>15</th>\n",
       "      <th>16</th>\n",
       "      <th>17</th>\n",
       "      <th>18</th>\n",
       "      <th>19</th>\n",
       "      <th>...</th>\n",
       "      <th>26</th>\n",
       "      <th>27</th>\n",
       "      <th>28</th>\n",
       "      <th>29</th>\n",
       "      <th>30</th>\n",
       "      <th>31</th>\n",
       "      <th>32</th>\n",
       "      <th>33</th>\n",
       "      <th>34</th>\n",
       "      <th>36</th>\n",
       "    </tr>\n",
       "    <tr>\n",
       "      <th>health</th>\n",
       "      <th></th>\n",
       "      <th></th>\n",
       "      <th></th>\n",
       "      <th></th>\n",
       "      <th></th>\n",
       "      <th></th>\n",
       "      <th></th>\n",
       "      <th></th>\n",
       "      <th></th>\n",
       "      <th></th>\n",
       "      <th></th>\n",
       "      <th></th>\n",
       "      <th></th>\n",
       "      <th></th>\n",
       "      <th></th>\n",
       "      <th></th>\n",
       "      <th></th>\n",
       "      <th></th>\n",
       "      <th></th>\n",
       "      <th></th>\n",
       "      <th></th>\n",
       "    </tr>\n",
       "  </thead>\n",
       "  <tbody>\n",
       "    <tr>\n",
       "      <th>Fair</th>\n",
       "      <td>-3.392222</td>\n",
       "      <td>-9.639641</td>\n",
       "      <td>13.409767</td>\n",
       "      <td>-0.416550</td>\n",
       "      <td>-2.277409</td>\n",
       "      <td>11.281192</td>\n",
       "      <td>1.817599</td>\n",
       "      <td>1.645814</td>\n",
       "      <td>0.405191</td>\n",
       "      <td>5.908649</td>\n",
       "      <td>...</td>\n",
       "      <td>7.411160</td>\n",
       "      <td>7.265615</td>\n",
       "      <td>2.294573</td>\n",
       "      <td>9.977500</td>\n",
       "      <td>5.266404</td>\n",
       "      <td>3.342764</td>\n",
       "      <td>-6.891827</td>\n",
       "      <td>1.727133</td>\n",
       "      <td>-17.894877</td>\n",
       "      <td>-9.745348</td>\n",
       "    </tr>\n",
       "    <tr>\n",
       "      <th>Good</th>\n",
       "      <td>5.192473</td>\n",
       "      <td>14.875920</td>\n",
       "      <td>-14.164834</td>\n",
       "      <td>1.558396</td>\n",
       "      <td>2.147120</td>\n",
       "      <td>-15.729262</td>\n",
       "      <td>-1.320817</td>\n",
       "      <td>-4.880626</td>\n",
       "      <td>-0.591148</td>\n",
       "      <td>-7.285157</td>\n",
       "      <td>...</td>\n",
       "      <td>-8.037462</td>\n",
       "      <td>-7.306987</td>\n",
       "      <td>-4.266658</td>\n",
       "      <td>-13.251488</td>\n",
       "      <td>-8.515463</td>\n",
       "      <td>-6.891319</td>\n",
       "      <td>7.696308</td>\n",
       "      <td>-3.527251</td>\n",
       "      <td>20.128851</td>\n",
       "      <td>11.664743</td>\n",
       "    </tr>\n",
       "    <tr>\n",
       "      <th>Poor</th>\n",
       "      <td>-4.182700</td>\n",
       "      <td>-12.123317</td>\n",
       "      <td>4.005303</td>\n",
       "      <td>-2.327148</td>\n",
       "      <td>-0.171052</td>\n",
       "      <td>10.879156</td>\n",
       "      <td>-0.637121</td>\n",
       "      <td>6.680195</td>\n",
       "      <td>0.442341</td>\n",
       "      <td>3.820663</td>\n",
       "      <td>...</td>\n",
       "      <td>2.625243</td>\n",
       "      <td>1.445860</td>\n",
       "      <td>4.315015</td>\n",
       "      <td>8.321924</td>\n",
       "      <td>7.388149</td>\n",
       "      <td>7.616792</td>\n",
       "      <td>-2.878653</td>\n",
       "      <td>3.869758</td>\n",
       "      <td>-7.760328</td>\n",
       "      <td>-5.610385</td>\n",
       "    </tr>\n",
       "  </tbody>\n",
       "</table>\n",
       "<p>3 rows × 26 columns</p>\n",
       "</div>"
      ],
      "text/plain": [
       "st_senate        10         11         12        13        14         15  \\\n",
       "health                                                                     \n",
       "Fair      -3.392222  -9.639641  13.409767 -0.416550 -2.277409  11.281192   \n",
       "Good       5.192473  14.875920 -14.164834  1.558396  2.147120 -15.729262   \n",
       "Poor      -4.182700 -12.123317   4.005303 -2.327148 -0.171052  10.879156   \n",
       "\n",
       "st_senate        16        17        18        19  ...        26        27  \\\n",
       "health                                             ...                       \n",
       "Fair       1.817599  1.645814  0.405191  5.908649  ...  7.411160  7.265615   \n",
       "Good      -1.320817 -4.880626 -0.591148 -7.285157  ... -8.037462 -7.306987   \n",
       "Poor      -0.637121  6.680195  0.442341  3.820663  ...  2.625243  1.445860   \n",
       "\n",
       "st_senate        28         29        30        31        32        33  \\\n",
       "health                                                                   \n",
       "Fair       2.294573   9.977500  5.266404  3.342764 -6.891827  1.727133   \n",
       "Good      -4.266658 -13.251488 -8.515463 -6.891319  7.696308 -3.527251   \n",
       "Poor       4.315015   8.321924  7.388149  7.616792 -2.878653  3.869758   \n",
       "\n",
       "st_senate         34         36  \n",
       "health                           \n",
       "Fair      -17.894877  -9.745348  \n",
       "Good       20.128851  11.664743  \n",
       "Poor       -7.760328  -5.610385  \n",
       "\n",
       "[3 rows x 26 columns]"
      ]
     },
     "execution_count": 63,
     "metadata": {},
     "output_type": "execute_result"
    }
   ],
   "source": [
    "# create a table of standardized residuals; anything over +/-1.96 shows significance\n",
    "table4 = sm.stats.Table(df_snt)\n",
    "table4.standardized_resids"
   ]
  },
  {
   "cell_type": "code",
   "execution_count": 64,
   "metadata": {},
   "outputs": [
    {
     "name": "stdout",
     "output_type": "stream",
     "text": [
      "80.77%\n"
     ]
    }
   ],
   "source": [
    "# percentage of significant values\n",
    "abs_table4 = table4.standardized_resids.apply(lambda x: abs(x))\n",
    "print(f'{round((abs_table4[abs_table4 > 1.96].count().sum() / abs_table4.count().sum()) * 100, 2)}%')"
   ]
  },
  {
   "cell_type": "markdown",
   "metadata": {},
   "source": [
    "* Percentage of significant values is higher than that of community boards. Might be an argument for using state senate districts as the best area marker of tree health."
   ]
  },
  {
   "cell_type": "markdown",
   "metadata": {},
   "source": [
    "### EDA - Tree species"
   ]
  },
  {
   "cell_type": "code",
   "execution_count": 65,
   "metadata": {},
   "outputs": [
    {
     "name": "stdout",
     "output_type": "stream",
     "text": [
      "Number of unique species: 132\n",
      "Number of total trees: 444390\n",
      "Cutoff for trees of significant quantity (0.1% of total trees): 445.0\n"
     ]
    }
   ],
   "source": [
    "print(f'Number of unique species: {len(trees.spc_common.unique())}')\n",
    "print(f'Number of total trees: {len(trees)}')\n",
    "print(f'Cutoff for trees of significant quantity (0.1% of total trees): {np.ceil(len(trees)/1000)}')"
   ]
  },
  {
   "cell_type": "code",
   "execution_count": 66,
   "metadata": {},
   "outputs": [
    {
     "data": {
      "text/plain": [
       "London planetree     60350\n",
       "Callery pear         42487\n",
       "honeylocust          38349\n",
       "pin oak              35985\n",
       "Norway maple         25253\n",
       "cherry               22772\n",
       "Japanese zelkova     18928\n",
       "littleleaf linden    18469\n",
       "red maple            13906\n",
       "ginkgo               11355\n",
       "green ash            10572\n",
       "Sophora              10440\n",
       "silver maple         10081\n",
       "Other                 9918\n",
       "American linden       8399\n",
       "sweetgum              8380\n",
       "purple-leaf plum      5281\n",
       "maple                 5211\n",
       "American elm          5192\n",
       "northern red oak      5153\n",
       "Name: spc_common, dtype: int64"
      ]
     },
     "execution_count": 66,
     "metadata": {},
     "output_type": "execute_result"
    }
   ],
   "source": [
    "# create a column with the total count of that row's tree species\n",
    "species_counts = trees['spc_common'].value_counts().rename('species_counts')\n",
    "\n",
    "# merge onto dataframe\n",
    "trees = trees.merge(species_counts.to_frame(),\n",
    "                                left_on='spc_common',\n",
    "                                right_index=True)\n",
    "\n",
    "# reassign tree species with fewer than 445 datapoints to 'Other'\n",
    "trees['spc_common'] = np.where(trees.species_counts < 445, 'Other', trees.spc_common)\n",
    "\n",
    "trees.spc_common.value_counts().head(20)"
   ]
  },
  {
   "cell_type": "code",
   "execution_count": 101,
   "metadata": {
    "scrolled": true
   },
   "outputs": [
    {
     "data": {
      "image/png": "[encoded data removed]",
      "text/plain": [
       "<Figure size 2160x720 with 1 Axes>"
      ]
     },
     "metadata": {
      "needs_background": "light"
     },
     "output_type": "display_data"
    }
   ],
   "source": [
    "# prepare data for stacked bar, sort by percentage of trees in good health\n",
    "spc = trees.groupby(['spc_common']).health.value_counts(normalize=True).unstack().sort_values('Good')\n",
    "\n",
    "# plot stacked bar graph\n",
    "p4 = spc.plot(kind='bar', stacked=True, figsize=(30,10), color=['gold', 'forestgreen', 'orangered'], alpha=0.7)\n",
    "\n",
    "# prettify the graph\n",
    "p4.set_title('Tree Health Across Species', fontsize=30, pad=15)\n",
    "p4.set_xlabel('Species', fontsize=28, labelpad=15)\n",
    "p4.set_xticklabels(p4.get_xticklabels(), fontsize=20)\n",
    "p4.set_ylabel('Health Status (in %)', fontsize=28, labelpad=10)\n",
    "p4.set_yticklabels([0, 20, 40, 60, 80, 100], fontsize=20)\n",
    "p4.legend(['Fair','Good', 'Poor'], bbox_to_anchor=(1,1), fontsize=22)\n",
    "\n",
    "# prepare to save and display\n",
    "plt.tight_layout()\n",
    "plt.savefig('charts/health_species_barstack.png', bbox_inches='tight', transparent=True)\n",
    "plt.show()"
   ]
  },
  {
   "cell_type": "markdown",
   "metadata": {},
   "source": [
    "* There does seem to be a difference between species.\n",
    "* Let's do some statistical analyses."
   ]
  },
  {
   "cell_type": "code",
   "execution_count": 68,
   "metadata": {},
   "outputs": [
    {
     "data": {
      "text/html": [
       "<div>\n",
       "<style scoped>\n",
       "    .dataframe tbody tr th:only-of-type {\n",
       "        vertical-align: middle;\n",
       "    }\n",
       "\n",
       "    .dataframe tbody tr th {\n",
       "        vertical-align: top;\n",
       "    }\n",
       "\n",
       "    .dataframe thead th {\n",
       "        text-align: right;\n",
       "    }\n",
       "</style>\n",
       "<table border=\"1\" class=\"dataframe\">\n",
       "  <thead>\n",
       "    <tr style=\"text-align: right;\">\n",
       "      <th>spc_common</th>\n",
       "      <th>'Schubert' chokecherry</th>\n",
       "      <th>American elm</th>\n",
       "      <th>American hophornbeam</th>\n",
       "      <th>American hornbeam</th>\n",
       "      <th>American linden</th>\n",
       "      <th>Amur maackia</th>\n",
       "      <th>Amur maple</th>\n",
       "      <th>Callery pear</th>\n",
       "      <th>Chinese elm</th>\n",
       "      <th>Cornelian cherry</th>\n",
       "      <th>...</th>\n",
       "      <th>silver maple</th>\n",
       "      <th>sugar maple</th>\n",
       "      <th>swamp white oak</th>\n",
       "      <th>sweetgum</th>\n",
       "      <th>sycamore maple</th>\n",
       "      <th>tree of heaven</th>\n",
       "      <th>tulip-poplar</th>\n",
       "      <th>white ash</th>\n",
       "      <th>white oak</th>\n",
       "      <th>willow oak</th>\n",
       "    </tr>\n",
       "    <tr>\n",
       "      <th>health</th>\n",
       "      <th></th>\n",
       "      <th></th>\n",
       "      <th></th>\n",
       "      <th></th>\n",
       "      <th></th>\n",
       "      <th></th>\n",
       "      <th></th>\n",
       "      <th></th>\n",
       "      <th></th>\n",
       "      <th></th>\n",
       "      <th></th>\n",
       "      <th></th>\n",
       "      <th></th>\n",
       "      <th></th>\n",
       "      <th></th>\n",
       "      <th></th>\n",
       "      <th></th>\n",
       "      <th></th>\n",
       "      <th></th>\n",
       "      <th></th>\n",
       "      <th></th>\n",
       "    </tr>\n",
       "  </thead>\n",
       "  <tbody>\n",
       "    <tr>\n",
       "      <th>Fair</th>\n",
       "      <td>442</td>\n",
       "      <td>926</td>\n",
       "      <td>93</td>\n",
       "      <td>140</td>\n",
       "      <td>1099</td>\n",
       "      <td>225</td>\n",
       "      <td>237</td>\n",
       "      <td>6216</td>\n",
       "      <td>304</td>\n",
       "      <td>65</td>\n",
       "      <td>...</td>\n",
       "      <td>1843</td>\n",
       "      <td>350</td>\n",
       "      <td>568</td>\n",
       "      <td>1017</td>\n",
       "      <td>405</td>\n",
       "      <td>106</td>\n",
       "      <td>129</td>\n",
       "      <td>130</td>\n",
       "      <td>175</td>\n",
       "      <td>210</td>\n",
       "    </tr>\n",
       "    <tr>\n",
       "      <th>Good</th>\n",
       "      <td>2606</td>\n",
       "      <td>4110</td>\n",
       "      <td>559</td>\n",
       "      <td>954</td>\n",
       "      <td>6913</td>\n",
       "      <td>1412</td>\n",
       "      <td>1342</td>\n",
       "      <td>34820</td>\n",
       "      <td>2444</td>\n",
       "      <td>608</td>\n",
       "      <td>...</td>\n",
       "      <td>7771</td>\n",
       "      <td>1345</td>\n",
       "      <td>3473</td>\n",
       "      <td>7125</td>\n",
       "      <td>1433</td>\n",
       "      <td>321</td>\n",
       "      <td>560</td>\n",
       "      <td>712</td>\n",
       "      <td>916</td>\n",
       "      <td>1761</td>\n",
       "    </tr>\n",
       "    <tr>\n",
       "      <th>Poor</th>\n",
       "      <td>151</td>\n",
       "      <td>156</td>\n",
       "      <td>35</td>\n",
       "      <td>63</td>\n",
       "      <td>387</td>\n",
       "      <td>77</td>\n",
       "      <td>79</td>\n",
       "      <td>1451</td>\n",
       "      <td>77</td>\n",
       "      <td>30</td>\n",
       "      <td>...</td>\n",
       "      <td>467</td>\n",
       "      <td>134</td>\n",
       "      <td>167</td>\n",
       "      <td>238</td>\n",
       "      <td>126</td>\n",
       "      <td>38</td>\n",
       "      <td>43</td>\n",
       "      <td>46</td>\n",
       "      <td>54</td>\n",
       "      <td>65</td>\n",
       "    </tr>\n",
       "  </tbody>\n",
       "</table>\n",
       "<p>3 rows × 66 columns</p>\n",
       "</div>"
      ],
      "text/plain": [
       "spc_common  'Schubert' chokecherry  American elm  American hophornbeam  \\\n",
       "health                                                                   \n",
       "Fair                           442           926                    93   \n",
       "Good                          2606          4110                   559   \n",
       "Poor                           151           156                    35   \n",
       "\n",
       "spc_common  American hornbeam  American linden  Amur maackia  Amur maple  \\\n",
       "health                                                                     \n",
       "Fair                      140             1099           225         237   \n",
       "Good                      954             6913          1412        1342   \n",
       "Poor                       63              387            77          79   \n",
       "\n",
       "spc_common  Callery pear  Chinese elm  Cornelian cherry  ...  silver maple  \\\n",
       "health                                                   ...                 \n",
       "Fair                6216          304                65  ...          1843   \n",
       "Good               34820         2444               608  ...          7771   \n",
       "Poor                1451           77                30  ...           467   \n",
       "\n",
       "spc_common  sugar maple  swamp white oak  sweetgum  sycamore maple  \\\n",
       "health                                                               \n",
       "Fair                350              568      1017             405   \n",
       "Good               1345             3473      7125            1433   \n",
       "Poor                134              167       238             126   \n",
       "\n",
       "spc_common  tree of heaven  tulip-poplar  white ash  white oak  willow oak  \n",
       "health                                                                      \n",
       "Fair                   106           129        130        175         210  \n",
       "Good                   321           560        712        916        1761  \n",
       "Poor                    38            43         46         54          65  \n",
       "\n",
       "[3 rows x 66 columns]"
      ]
     },
     "execution_count": 68,
     "metadata": {},
     "output_type": "execute_result"
    }
   ],
   "source": [
    "# create a frequency table\n",
    "df_spc_health = pd.crosstab(trees.health, trees.spc_common)\n",
    "df_spc_health"
   ]
  },
  {
   "cell_type": "code",
   "execution_count": 69,
   "metadata": {},
   "outputs": [
    {
     "data": {
      "text/plain": [
       "(157.60992312288903, 10713.620636908676)"
      ]
     },
     "execution_count": 69,
     "metadata": {},
     "output_type": "execute_result"
    }
   ],
   "source": [
    "# returns 𝜒2 value, p-value, degree of freedom and expected values\n",
    "stat, p, dof, expected = stats.chi2_contingency(df_spc_health)\n",
    "\n",
    "# test-statistic far greater than critical value\n",
    "prob = 0.95\n",
    "critical = stats.chi2.ppf(prob, dof)\n",
    "critical, stat"
   ]
  },
  {
   "cell_type": "code",
   "execution_count": 70,
   "metadata": {},
   "outputs": [
    {
     "data": {
      "text/html": [
       "<div>\n",
       "<style scoped>\n",
       "    .dataframe tbody tr th:only-of-type {\n",
       "        vertical-align: middle;\n",
       "    }\n",
       "\n",
       "    .dataframe tbody tr th {\n",
       "        vertical-align: top;\n",
       "    }\n",
       "\n",
       "    .dataframe thead th {\n",
       "        text-align: right;\n",
       "    }\n",
       "</style>\n",
       "<table border=\"1\" class=\"dataframe\">\n",
       "  <thead>\n",
       "    <tr style=\"text-align: right;\">\n",
       "      <th>spc_common</th>\n",
       "      <th>'Schubert' chokecherry</th>\n",
       "      <th>American elm</th>\n",
       "      <th>American hophornbeam</th>\n",
       "      <th>American hornbeam</th>\n",
       "      <th>American linden</th>\n",
       "      <th>Amur maackia</th>\n",
       "      <th>Amur maple</th>\n",
       "      <th>Callery pear</th>\n",
       "      <th>Chinese elm</th>\n",
       "      <th>Cornelian cherry</th>\n",
       "      <th>...</th>\n",
       "      <th>silver maple</th>\n",
       "      <th>sugar maple</th>\n",
       "      <th>swamp white oak</th>\n",
       "      <th>sweetgum</th>\n",
       "      <th>sycamore maple</th>\n",
       "      <th>tree of heaven</th>\n",
       "      <th>tulip-poplar</th>\n",
       "      <th>white ash</th>\n",
       "      <th>white oak</th>\n",
       "      <th>willow oak</th>\n",
       "    </tr>\n",
       "    <tr>\n",
       "      <th>health</th>\n",
       "      <th></th>\n",
       "      <th></th>\n",
       "      <th></th>\n",
       "      <th></th>\n",
       "      <th></th>\n",
       "      <th></th>\n",
       "      <th></th>\n",
       "      <th></th>\n",
       "      <th></th>\n",
       "      <th></th>\n",
       "      <th></th>\n",
       "      <th></th>\n",
       "      <th></th>\n",
       "      <th></th>\n",
       "      <th></th>\n",
       "      <th></th>\n",
       "      <th></th>\n",
       "      <th></th>\n",
       "      <th></th>\n",
       "      <th></th>\n",
       "      <th></th>\n",
       "    </tr>\n",
       "  </thead>\n",
       "  <tbody>\n",
       "    <tr>\n",
       "      <th>Fair</th>\n",
       "      <td>-0.603106</td>\n",
       "      <td>7.576995</td>\n",
       "      <td>-0.488967</td>\n",
       "      <td>-2.037439</td>\n",
       "      <td>-2.923916</td>\n",
       "      <td>-1.260565</td>\n",
       "      <td>0.124858</td>\n",
       "      <td>2.750728</td>\n",
       "      <td>-5.236162</td>\n",
       "      <td>-3.757917</td>\n",
       "      <td>...</td>\n",
       "      <td>11.917738</td>\n",
       "      <td>6.077938</td>\n",
       "      <td>-1.287867</td>\n",
       "      <td>-5.433738</td>\n",
       "      <td>8.189565</td>\n",
       "      <td>5.322743</td>\n",
       "      <td>2.666022</td>\n",
       "      <td>0.386499</td>\n",
       "      <td>1.064549</td>\n",
       "      <td>-5.020267</td>\n",
       "    </tr>\n",
       "    <tr>\n",
       "      <th>Good</th>\n",
       "      <td>-0.522527</td>\n",
       "      <td>-4.994458</td>\n",
       "      <td>-0.305859</td>\n",
       "      <td>0.562176</td>\n",
       "      <td>1.174069</td>\n",
       "      <td>0.604845</td>\n",
       "      <td>-0.927706</td>\n",
       "      <td>0.766975</td>\n",
       "      <td>6.490975</td>\n",
       "      <td>3.211830</td>\n",
       "      <td>...</td>\n",
       "      <td>-12.461487</td>\n",
       "      <td>-9.200599</td>\n",
       "      <td>1.208732</td>\n",
       "      <td>7.681683</td>\n",
       "      <td>-10.196686</td>\n",
       "      <td>-7.152113</td>\n",
       "      <td>-3.731584</td>\n",
       "      <td>-1.266663</td>\n",
       "      <td>-1.597022</td>\n",
       "      <td>5.481938</td>\n",
       "    </tr>\n",
       "    <tr>\n",
       "      <th>Poor</th>\n",
       "      <td>2.103740</td>\n",
       "      <td>-3.663597</td>\n",
       "      <td>1.473631</td>\n",
       "      <td>2.523008</td>\n",
       "      <td>2.897351</td>\n",
       "      <td>1.054760</td>\n",
       "      <td>1.604699</td>\n",
       "      <td>-6.411759</td>\n",
       "      <td>-3.454697</td>\n",
       "      <td>0.369866</td>\n",
       "      <td>...</td>\n",
       "      <td>3.308921</td>\n",
       "      <td>7.291597</td>\n",
       "      <td>-0.085981</td>\n",
       "      <td>-5.447825</td>\n",
       "      <td>5.491013</td>\n",
       "      <td>4.602577</td>\n",
       "      <td>2.599321</td>\n",
       "      <td>1.806109</td>\n",
       "      <td>1.248642</td>\n",
       "      <td>-1.852017</td>\n",
       "    </tr>\n",
       "  </tbody>\n",
       "</table>\n",
       "<p>3 rows × 66 columns</p>\n",
       "</div>"
      ],
      "text/plain": [
       "spc_common  'Schubert' chokecherry  American elm  American hophornbeam  \\\n",
       "health                                                                   \n",
       "Fair                     -0.603106      7.576995             -0.488967   \n",
       "Good                     -0.522527     -4.994458             -0.305859   \n",
       "Poor                      2.103740     -3.663597              1.473631   \n",
       "\n",
       "spc_common  American hornbeam  American linden  Amur maackia  Amur maple  \\\n",
       "health                                                                     \n",
       "Fair                -2.037439        -2.923916     -1.260565    0.124858   \n",
       "Good                 0.562176         1.174069      0.604845   -0.927706   \n",
       "Poor                 2.523008         2.897351      1.054760    1.604699   \n",
       "\n",
       "spc_common  Callery pear  Chinese elm  Cornelian cherry  ...  silver maple  \\\n",
       "health                                                   ...                 \n",
       "Fair            2.750728    -5.236162         -3.757917  ...     11.917738   \n",
       "Good            0.766975     6.490975          3.211830  ...    -12.461487   \n",
       "Poor           -6.411759    -3.454697          0.369866  ...      3.308921   \n",
       "\n",
       "spc_common  sugar maple  swamp white oak  sweetgum  sycamore maple  \\\n",
       "health                                                               \n",
       "Fair           6.077938        -1.287867 -5.433738        8.189565   \n",
       "Good          -9.200599         1.208732  7.681683      -10.196686   \n",
       "Poor           7.291597        -0.085981 -5.447825        5.491013   \n",
       "\n",
       "spc_common  tree of heaven  tulip-poplar  white ash  white oak  willow oak  \n",
       "health                                                                      \n",
       "Fair              5.322743      2.666022   0.386499   1.064549   -5.020267  \n",
       "Good             -7.152113     -3.731584  -1.266663  -1.597022    5.481938  \n",
       "Poor              4.602577      2.599321   1.806109   1.248642   -1.852017  \n",
       "\n",
       "[3 rows x 66 columns]"
      ]
     },
     "execution_count": 70,
     "metadata": {},
     "output_type": "execute_result"
    }
   ],
   "source": [
    "# create a table of standardized residuals; anything over +/-1.96 shows significance\n",
    "table4 = sm.stats.Table(df_spc_health)\n",
    "table4.standardized_resids"
   ]
  },
  {
   "cell_type": "code",
   "execution_count": 71,
   "metadata": {},
   "outputs": [
    {
     "name": "stdout",
     "output_type": "stream",
     "text": [
      "62.12%\n"
     ]
    }
   ],
   "source": [
    "# percentage of significant values\n",
    "abs_table4 = table4.standardized_resids.apply(lambda x: abs(x))\n",
    "print(f'{round((abs_table4[abs_table4 > 1.96].count().sum() / abs_table4.count().sum()) * 100, 2)}%')"
   ]
  },
  {
   "cell_type": "code",
   "execution_count": 72,
   "metadata": {},
   "outputs": [],
   "source": [
    "# drop no longer necessary counts column\n",
    "trees.drop(columns='species_counts', axis=1, inplace=True)"
   ]
  },
  {
   "cell_type": "code",
   "execution_count": 73,
   "metadata": {},
   "outputs": [],
   "source": [
    "# uncomment to save\n",
    "# trees.to_csv('data/nyc_trees_2015_pre_dummies.csv')"
   ]
  },
  {
   "cell_type": "markdown",
   "metadata": {},
   "source": [
    "### GeoPandas feature engineering"
   ]
  },
  {
   "cell_type": "markdown",
   "metadata": {},
   "source": [
    "* Let's see if the distance between trees has any bearing on health. To do this, let's use all the datapoints."
   ]
  },
  {
   "cell_type": "code",
   "execution_count": 74,
   "metadata": {},
   "outputs": [
    {
     "data": {
      "text/html": [
       "<div>\n",
       "<style scoped>\n",
       "    .dataframe tbody tr th:only-of-type {\n",
       "        vertical-align: middle;\n",
       "    }\n",
       "\n",
       "    .dataframe tbody tr th {\n",
       "        vertical-align: top;\n",
       "    }\n",
       "\n",
       "    .dataframe thead th {\n",
       "        text-align: right;\n",
       "    }\n",
       "</style>\n",
       "<table border=\"1\" class=\"dataframe\">\n",
       "  <thead>\n",
       "    <tr style=\"text-align: right;\">\n",
       "      <th></th>\n",
       "      <th>block_id</th>\n",
       "      <th>tree_dbh</th>\n",
       "      <th>curb_loc</th>\n",
       "      <th>health</th>\n",
       "      <th>spc_common</th>\n",
       "      <th>steward</th>\n",
       "      <th>guards</th>\n",
       "      <th>sidewalk</th>\n",
       "      <th>user_type</th>\n",
       "      <th>root_stone</th>\n",
       "      <th>...</th>\n",
       "      <th>branch_other</th>\n",
       "      <th>cb_num</th>\n",
       "      <th>boroname</th>\n",
       "      <th>council_dist</th>\n",
       "      <th>st_assem</th>\n",
       "      <th>st_senate</th>\n",
       "      <th>nta</th>\n",
       "      <th>nta_name</th>\n",
       "      <th>latitude</th>\n",
       "      <th>longitude</th>\n",
       "    </tr>\n",
       "    <tr>\n",
       "      <th>tree_id</th>\n",
       "      <th></th>\n",
       "      <th></th>\n",
       "      <th></th>\n",
       "      <th></th>\n",
       "      <th></th>\n",
       "      <th></th>\n",
       "      <th></th>\n",
       "      <th></th>\n",
       "      <th></th>\n",
       "      <th></th>\n",
       "      <th></th>\n",
       "      <th></th>\n",
       "      <th></th>\n",
       "      <th></th>\n",
       "      <th></th>\n",
       "      <th></th>\n",
       "      <th></th>\n",
       "      <th></th>\n",
       "      <th></th>\n",
       "      <th></th>\n",
       "      <th></th>\n",
       "    </tr>\n",
       "  </thead>\n",
       "  <tbody>\n",
       "    <tr>\n",
       "      <th>180683</th>\n",
       "      <td>348711</td>\n",
       "      <td>3</td>\n",
       "      <td>OnCurb</td>\n",
       "      <td>Fair</td>\n",
       "      <td>red maple</td>\n",
       "      <td>None</td>\n",
       "      <td>None</td>\n",
       "      <td>NoDamage</td>\n",
       "      <td>TreesCount Staff</td>\n",
       "      <td>No</td>\n",
       "      <td>...</td>\n",
       "      <td>No</td>\n",
       "      <td>406</td>\n",
       "      <td>Queens</td>\n",
       "      <td>29</td>\n",
       "      <td>28</td>\n",
       "      <td>16</td>\n",
       "      <td>QN17</td>\n",
       "      <td>Forest Hills</td>\n",
       "      <td>40.723092</td>\n",
       "      <td>-73.844215</td>\n",
       "    </tr>\n",
       "    <tr>\n",
       "      <th>200540</th>\n",
       "      <td>315986</td>\n",
       "      <td>21</td>\n",
       "      <td>OnCurb</td>\n",
       "      <td>Fair</td>\n",
       "      <td>pin oak</td>\n",
       "      <td>None</td>\n",
       "      <td>None</td>\n",
       "      <td>Damage</td>\n",
       "      <td>TreesCount Staff</td>\n",
       "      <td>Yes</td>\n",
       "      <td>...</td>\n",
       "      <td>No</td>\n",
       "      <td>407</td>\n",
       "      <td>Queens</td>\n",
       "      <td>19</td>\n",
       "      <td>27</td>\n",
       "      <td>11</td>\n",
       "      <td>QN49</td>\n",
       "      <td>Whitestone</td>\n",
       "      <td>40.794111</td>\n",
       "      <td>-73.818679</td>\n",
       "    </tr>\n",
       "    <tr>\n",
       "      <th>204026</th>\n",
       "      <td>218365</td>\n",
       "      <td>3</td>\n",
       "      <td>OnCurb</td>\n",
       "      <td>Good</td>\n",
       "      <td>honeylocust</td>\n",
       "      <td>1or2</td>\n",
       "      <td>None</td>\n",
       "      <td>Damage</td>\n",
       "      <td>Volunteer</td>\n",
       "      <td>No</td>\n",
       "      <td>...</td>\n",
       "      <td>No</td>\n",
       "      <td>301</td>\n",
       "      <td>Brooklyn</td>\n",
       "      <td>34</td>\n",
       "      <td>50</td>\n",
       "      <td>18</td>\n",
       "      <td>BK90</td>\n",
       "      <td>East Williamsburg</td>\n",
       "      <td>40.717581</td>\n",
       "      <td>-73.936608</td>\n",
       "    </tr>\n",
       "    <tr>\n",
       "      <th>204337</th>\n",
       "      <td>217969</td>\n",
       "      <td>10</td>\n",
       "      <td>OnCurb</td>\n",
       "      <td>Good</td>\n",
       "      <td>honeylocust</td>\n",
       "      <td>None</td>\n",
       "      <td>None</td>\n",
       "      <td>Damage</td>\n",
       "      <td>Volunteer</td>\n",
       "      <td>Yes</td>\n",
       "      <td>...</td>\n",
       "      <td>No</td>\n",
       "      <td>301</td>\n",
       "      <td>Brooklyn</td>\n",
       "      <td>34</td>\n",
       "      <td>53</td>\n",
       "      <td>18</td>\n",
       "      <td>BK90</td>\n",
       "      <td>East Williamsburg</td>\n",
       "      <td>40.713537</td>\n",
       "      <td>-73.934456</td>\n",
       "    </tr>\n",
       "    <tr>\n",
       "      <th>189565</th>\n",
       "      <td>223043</td>\n",
       "      <td>21</td>\n",
       "      <td>OnCurb</td>\n",
       "      <td>Good</td>\n",
       "      <td>American linden</td>\n",
       "      <td>None</td>\n",
       "      <td>None</td>\n",
       "      <td>Damage</td>\n",
       "      <td>Volunteer</td>\n",
       "      <td>Yes</td>\n",
       "      <td>...</td>\n",
       "      <td>No</td>\n",
       "      <td>306</td>\n",
       "      <td>Brooklyn</td>\n",
       "      <td>39</td>\n",
       "      <td>44</td>\n",
       "      <td>21</td>\n",
       "      <td>BK37</td>\n",
       "      <td>Park Slope-Gowanus</td>\n",
       "      <td>40.666778</td>\n",
       "      <td>-73.975979</td>\n",
       "    </tr>\n",
       "  </tbody>\n",
       "</table>\n",
       "<p>5 rows × 27 columns</p>\n",
       "</div>"
      ],
      "text/plain": [
       "         block_id  tree_dbh curb_loc health       spc_common steward guards  \\\n",
       "tree_id                                                                       \n",
       "180683     348711         3   OnCurb   Fair        red maple    None   None   \n",
       "200540     315986        21   OnCurb   Fair          pin oak    None   None   \n",
       "204026     218365         3   OnCurb   Good      honeylocust    1or2   None   \n",
       "204337     217969        10   OnCurb   Good      honeylocust    None   None   \n",
       "189565     223043        21   OnCurb   Good  American linden    None   None   \n",
       "\n",
       "         sidewalk         user_type root_stone  ... branch_other cb_num  \\\n",
       "tree_id                                         ...                       \n",
       "180683   NoDamage  TreesCount Staff         No  ...           No    406   \n",
       "200540     Damage  TreesCount Staff        Yes  ...           No    407   \n",
       "204026     Damage         Volunteer         No  ...           No    301   \n",
       "204337     Damage         Volunteer        Yes  ...           No    301   \n",
       "189565     Damage         Volunteer        Yes  ...           No    306   \n",
       "\n",
       "         boroname council_dist st_assem st_senate   nta            nta_name  \\\n",
       "tree_id                                                                       \n",
       "180683     Queens           29       28        16  QN17        Forest Hills   \n",
       "200540     Queens           19       27        11  QN49          Whitestone   \n",
       "204026   Brooklyn           34       50        18  BK90   East Williamsburg   \n",
       "204337   Brooklyn           34       53        18  BK90   East Williamsburg   \n",
       "189565   Brooklyn           39       44        21  BK37  Park Slope-Gowanus   \n",
       "\n",
       "          latitude  longitude  \n",
       "tree_id                        \n",
       "180683   40.723092 -73.844215  \n",
       "200540   40.794111 -73.818679  \n",
       "204026   40.717581 -73.936608  \n",
       "204337   40.713537 -73.934456  \n",
       "189565   40.666778 -73.975979  \n",
       "\n",
       "[5 rows x 27 columns]"
      ]
     },
     "execution_count": 74,
     "metadata": {},
     "output_type": "execute_result"
    }
   ],
   "source": [
    "trees_for_geo = pd.read_csv('data/nyc_trees_2015_initial_clean.csv', index_col=0)\n",
    "trees_for_geo.head()"
   ]
  },
  {
   "cell_type": "code",
   "execution_count": 75,
   "metadata": {
    "scrolled": true
   },
   "outputs": [
    {
     "data": {
      "text/html": [
       "<div>\n",
       "<style scoped>\n",
       "    .dataframe tbody tr th:only-of-type {\n",
       "        vertical-align: middle;\n",
       "    }\n",
       "\n",
       "    .dataframe tbody tr th {\n",
       "        vertical-align: top;\n",
       "    }\n",
       "\n",
       "    .dataframe thead th {\n",
       "        text-align: right;\n",
       "    }\n",
       "</style>\n",
       "<table border=\"1\" class=\"dataframe\">\n",
       "  <thead>\n",
       "    <tr style=\"text-align: right;\">\n",
       "      <th></th>\n",
       "      <th>tree_id</th>\n",
       "      <th>health</th>\n",
       "      <th>latitude</th>\n",
       "      <th>longitude</th>\n",
       "      <th>geometry</th>\n",
       "    </tr>\n",
       "  </thead>\n",
       "  <tbody>\n",
       "    <tr>\n",
       "      <th>0</th>\n",
       "      <td>180683</td>\n",
       "      <td>Fair</td>\n",
       "      <td>40.723092</td>\n",
       "      <td>-73.844215</td>\n",
       "      <td>POINT (-73.84422 40.72309)</td>\n",
       "    </tr>\n",
       "    <tr>\n",
       "      <th>1</th>\n",
       "      <td>200540</td>\n",
       "      <td>Fair</td>\n",
       "      <td>40.794111</td>\n",
       "      <td>-73.818679</td>\n",
       "      <td>POINT (-73.81868 40.79411)</td>\n",
       "    </tr>\n",
       "    <tr>\n",
       "      <th>2</th>\n",
       "      <td>204026</td>\n",
       "      <td>Good</td>\n",
       "      <td>40.717581</td>\n",
       "      <td>-73.936608</td>\n",
       "      <td>POINT (-73.93661 40.71758)</td>\n",
       "    </tr>\n",
       "    <tr>\n",
       "      <th>3</th>\n",
       "      <td>204337</td>\n",
       "      <td>Good</td>\n",
       "      <td>40.713537</td>\n",
       "      <td>-73.934456</td>\n",
       "      <td>POINT (-73.93446 40.71354)</td>\n",
       "    </tr>\n",
       "    <tr>\n",
       "      <th>4</th>\n",
       "      <td>189565</td>\n",
       "      <td>Good</td>\n",
       "      <td>40.666778</td>\n",
       "      <td>-73.975979</td>\n",
       "      <td>POINT (-73.97598 40.66678)</td>\n",
       "    </tr>\n",
       "  </tbody>\n",
       "</table>\n",
       "</div>"
      ],
      "text/plain": [
       "   tree_id health   latitude  longitude                    geometry\n",
       "0   180683   Fair  40.723092 -73.844215  POINT (-73.84422 40.72309)\n",
       "1   200540   Fair  40.794111 -73.818679  POINT (-73.81868 40.79411)\n",
       "2   204026   Good  40.717581 -73.936608  POINT (-73.93661 40.71758)\n",
       "3   204337   Good  40.713537 -73.934456  POINT (-73.93446 40.71354)\n",
       "4   189565   Good  40.666778 -73.975979  POINT (-73.97598 40.66678)"
      ]
     },
     "execution_count": 75,
     "metadata": {},
     "output_type": "execute_result"
    }
   ],
   "source": [
    "# create geodataframe\n",
    "trees_gdf = gpd.GeoDataFrame(trees_for_geo[['health', 'latitude', 'longitude']],\n",
    "                             geometry=gpd.points_from_xy(trees_for_geo.longitude, trees_for_geo.latitude))\n",
    "# reset index to sequential numbers\n",
    "trees_gdf.reset_index(inplace=True)\n",
    "trees_gdf.head()"
   ]
  },
  {
   "cell_type": "code",
   "execution_count": 76,
   "metadata": {},
   "outputs": [
    {
     "data": {
      "text/html": [
       "<div>\n",
       "<style scoped>\n",
       "    .dataframe tbody tr th:only-of-type {\n",
       "        vertical-align: middle;\n",
       "    }\n",
       "\n",
       "    .dataframe tbody tr th {\n",
       "        vertical-align: top;\n",
       "    }\n",
       "\n",
       "    .dataframe thead th {\n",
       "        text-align: right;\n",
       "    }\n",
       "</style>\n",
       "<table border=\"1\" class=\"dataframe\">\n",
       "  <thead>\n",
       "    <tr style=\"text-align: right;\">\n",
       "      <th></th>\n",
       "      <th>tree_id</th>\n",
       "      <th>health</th>\n",
       "      <th>latitude</th>\n",
       "      <th>longitude</th>\n",
       "      <th>geometry</th>\n",
       "      <th>distance</th>\n",
       "    </tr>\n",
       "  </thead>\n",
       "  <tbody>\n",
       "    <tr>\n",
       "      <th>0</th>\n",
       "      <td>236470</td>\n",
       "      <td>Good</td>\n",
       "      <td>40.723001</td>\n",
       "      <td>-73.844173</td>\n",
       "      <td>POINT (-73.84417 40.72300)</td>\n",
       "      <td>5.507949</td>\n",
       "    </tr>\n",
       "    <tr>\n",
       "      <th>1</th>\n",
       "      <td>200541</td>\n",
       "      <td>Good</td>\n",
       "      <td>40.794090</td>\n",
       "      <td>-73.818770</td>\n",
       "      <td>POINT (-73.81877 40.79409)</td>\n",
       "      <td>10.087328</td>\n",
       "    </tr>\n",
       "    <tr>\n",
       "      <th>2</th>\n",
       "      <td>204025</td>\n",
       "      <td>Good</td>\n",
       "      <td>40.717634</td>\n",
       "      <td>-73.936631</td>\n",
       "      <td>POINT (-73.93663 40.71763)</td>\n",
       "      <td>3.098257</td>\n",
       "    </tr>\n",
       "    <tr>\n",
       "      <th>3</th>\n",
       "      <td>204336</td>\n",
       "      <td>Good</td>\n",
       "      <td>40.713563</td>\n",
       "      <td>-73.934360</td>\n",
       "      <td>POINT (-73.93436 40.71356)</td>\n",
       "      <td>10.693152</td>\n",
       "    </tr>\n",
       "    <tr>\n",
       "      <th>4</th>\n",
       "      <td>218654</td>\n",
       "      <td>Good</td>\n",
       "      <td>40.666648</td>\n",
       "      <td>-73.975948</td>\n",
       "      <td>POINT (-73.97595 40.66665)</td>\n",
       "      <td>5.258800</td>\n",
       "    </tr>\n",
       "  </tbody>\n",
       "</table>\n",
       "</div>"
      ],
      "text/plain": [
       "   tree_id health   latitude  longitude                    geometry   distance\n",
       "0   236470   Good  40.723001 -73.844173  POINT (-73.84417 40.72300)   5.507949\n",
       "1   200541   Good  40.794090 -73.818770  POINT (-73.81877 40.79409)  10.087328\n",
       "2   204025   Good  40.717634 -73.936631  POINT (-73.93663 40.71763)   3.098257\n",
       "3   204336   Good  40.713563 -73.934360  POINT (-73.93436 40.71356)  10.693152\n",
       "4   218654   Good  40.666648 -73.975948  POINT (-73.97595 40.66665)   5.258800"
      ]
     },
     "execution_count": 76,
     "metadata": {},
     "output_type": "execute_result"
    }
   ],
   "source": [
    "# Find closest tree and return a dataframe with a new distance column\n",
    "closest_trees = nearest_neighbor(trees_gdf, return_dist=True)\n",
    "\n",
    "closest_trees.head()"
   ]
  },
  {
   "cell_type": "markdown",
   "metadata": {},
   "source": [
    "* See if distance from the nearest tree has any impact."
   ]
  },
  {
   "cell_type": "code",
   "execution_count": 77,
   "metadata": {},
   "outputs": [
    {
     "data": {
      "text/plain": [
       "<matplotlib.axes._subplots.AxesSubplot at 0x148f7c358>"
      ]
     },
     "execution_count": 77,
     "metadata": {},
     "output_type": "execute_result"
    },
    {
     "data": {
      "image/png": "[encoded data removed]",
      "text/plain": [
       "<Figure size 432x288 with 1 Axes>"
      ]
     },
     "metadata": {
      "needs_background": "light"
     },
     "output_type": "display_data"
    }
   ],
   "source": [
    "closest_trees.boxplot('distance', 'health', showfliers=False)"
   ]
  },
  {
   "cell_type": "markdown",
   "metadata": {},
   "source": [
    "* Alas, the quartiles and medians are almost identical; there are no distinct differences here. Still, we'll add this as a feature to our final model to see if it holds any predictive power there."
   ]
  },
  {
   "cell_type": "markdown",
   "metadata": {},
   "source": [
    "### Dummy columns"
   ]
  },
  {
   "cell_type": "markdown",
   "metadata": {},
   "source": [
    "* We have a lot of categorical variables that we need to make dummies for.\n",
    "* We also have to decide which area variable to use: community board? council district? state assembly? state senate? neighborhood?"
   ]
  },
  {
   "cell_type": "code",
   "execution_count": 78,
   "metadata": {},
   "outputs": [],
   "source": [
    "# we need to merge on 'tree_id', so don't set that as the index column yet\n",
    "trees = pd.read_csv('data/nyc_trees_2015_pre_dummies.csv')"
   ]
  },
  {
   "cell_type": "code",
   "execution_count": 79,
   "metadata": {},
   "outputs": [],
   "source": [
    "# merge 'distance' column from geodataframe\n",
    "trees = pd.merge(trees, closest_trees[['tree_id', 'distance']], on=['tree_id'], how='inner')\n",
    "\n",
    "# now we can set the index back to 'tree_id'\n",
    "trees.set_index(['tree_id'], inplace=True)\n",
    "\n",
    "# normalize the new values\n",
    "rein_extremes(trees, ['distance'])"
   ]
  },
  {
   "cell_type": "code",
   "execution_count": 80,
   "metadata": {
    "scrolled": true
   },
   "outputs": [
    {
     "data": {
      "text/plain": [
       "Index(['tree_dbh', 'curb_loc', 'health', 'spc_common', 'steward', 'guards',\n",
       "       'sidewalk', 'root_stone', 'root_grate', 'root_other', 'trunk_wire',\n",
       "       'trunk_light', 'trunk_other', 'branch_light', 'branch_shoe',\n",
       "       'branch_other', 'cb_num', 'boroname', 'council_dist', 'st_assem',\n",
       "       'st_senate', 'nta', 'log_block_count', 'distance'],\n",
       "      dtype='object')"
      ]
     },
     "execution_count": 80,
     "metadata": {},
     "output_type": "execute_result"
    }
   ],
   "source": [
    "trees.columns"
   ]
  },
  {
   "cell_type": "code",
   "execution_count": 81,
   "metadata": {},
   "outputs": [
    {
     "data": {
      "text/plain": [
       "array(['OnCurb', 'OffsetFromCurb'], dtype=object)"
      ]
     },
     "execution_count": 81,
     "metadata": {},
     "output_type": "execute_result"
    }
   ],
   "source": [
    "trees.curb_loc.unique()"
   ]
  },
  {
   "cell_type": "code",
   "execution_count": 82,
   "metadata": {},
   "outputs": [
    {
     "data": {
      "text/plain": [
       "array(['Damage', 'NoDamage'], dtype=object)"
      ]
     },
     "execution_count": 82,
     "metadata": {},
     "output_type": "execute_result"
    }
   ],
   "source": [
    "trees.sidewalk.unique()"
   ]
  },
  {
   "cell_type": "code",
   "execution_count": 83,
   "metadata": {},
   "outputs": [],
   "source": [
    "# rename columns that we have to manually dummy, so the new 0 and 1 values make sense\n",
    "trees.rename(columns={'curb_loc': 'on_curb', 'sidewalk': 'sidewalk_damage'}, inplace=True)\n",
    "\n",
    "# trees on curb = 1; trees offset from curb = 0\n",
    "trees.on_curb = np.where(trees.on_curb == 'OnCurb', 1, 0)\n",
    "# damage to sidewalk near tree = 1; no sidewalk damage = 0\n",
    "trees.sidewalk_damage = np.where(trees.sidewalk_damage == 'Damage', 1, 0)"
   ]
  },
  {
   "cell_type": "markdown",
   "metadata": {},
   "source": [
    "* Reassign yes-no columns to 1s and 0s."
   ]
  },
  {
   "cell_type": "code",
   "execution_count": 84,
   "metadata": {},
   "outputs": [
    {
     "data": {
      "text/plain": [
       "array(['No', 'Yes'], dtype=object)"
      ]
     },
     "execution_count": 84,
     "metadata": {},
     "output_type": "execute_result"
    }
   ],
   "source": [
    "trees.branch_other.unique()"
   ]
  },
  {
   "cell_type": "code",
   "execution_count": 85,
   "metadata": {
    "scrolled": true
   },
   "outputs": [
    {
     "data": {
      "text/plain": [
       "array([0, 1])"
      ]
     },
     "execution_count": 85,
     "metadata": {},
     "output_type": "execute_result"
    }
   ],
   "source": [
    "# create list of columns to dummy\n",
    "yes_no_cols = ['root_stone', 'root_grate', 'root_other', 'trunk_wire', 'trunk_light', 'trunk_other',\n",
    "               'branch_light', 'branch_shoe', 'branch_other']\n",
    "\n",
    "# call custom function\n",
    "yes_to_one(trees, yes_no_cols)\n",
    "# check to make sure it worked\n",
    "trees.branch_other.unique()"
   ]
  },
  {
   "cell_type": "code",
   "execution_count": 86,
   "metadata": {},
   "outputs": [],
   "source": [
    "yes_no_cols.extend(['on_curb', 'sidewalk_damage'])"
   ]
  },
  {
   "cell_type": "code",
   "execution_count": 87,
   "metadata": {},
   "outputs": [
    {
     "data": {
      "image/png": "[encoded data removed]",
      "text/plain": [
       "<Figure size 432x288 with 1 Axes>"
      ]
     },
     "metadata": {
      "needs_background": "light"
     },
     "output_type": "display_data"
    },
    {
     "data": {
      "image/png": "[encoded data removed]",
      "text/plain": [
       "<Figure size 432x288 with 1 Axes>"
      ]
     },
     "metadata": {
      "needs_background": "light"
     },
     "output_type": "display_data"
    },
    {
     "data": {
      "image/png": "[encoded data removed]",
      "text/plain": [
       "<Figure size 432x288 with 1 Axes>"
      ]
     },
     "metadata": {
      "needs_background": "light"
     },
     "output_type": "display_data"
    },
    {
     "data": {
      "image/png": "[encoded data removed]",
      "text/plain": [
       "<Figure size 432x288 with 1 Axes>"
      ]
     },
     "metadata": {
      "needs_background": "light"
     },
     "output_type": "display_data"
    },
    {
     "data": {
      "image/png": "[encoded data removed]",
      "text/plain": [
       "<Figure size 432x288 with 1 Axes>"
      ]
     },
     "metadata": {
      "needs_background": "light"
     },
     "output_type": "display_data"
    },
    {
     "data": {
      "image/png": "[encoded data removed]",
      "text/plain": [
       "<Figure size 432x288 with 1 Axes>"
      ]
     },
     "metadata": {
      "needs_background": "light"
     },
     "output_type": "display_data"
    },
    {
     "data": {
      "image/png": "[encoded data removed]",
      "text/plain": [
       "<Figure size 432x288 with 1 Axes>"
      ]
     },
     "metadata": {
      "needs_background": "light"
     },
     "output_type": "display_data"
    },
    {
     "data": {
      "image/png": "[encoded data removed]",
      "text/plain": [
       "<Figure size 432x288 with 1 Axes>"
      ]
     },
     "metadata": {
      "needs_background": "light"
     },
     "output_type": "display_data"
    },
    {
     "data": {
      "image/png": "[encoded data removed]",
      "text/plain": [
       "<Figure size 432x288 with 1 Axes>"
      ]
     },
     "metadata": {
      "needs_background": "light"
     },
     "output_type": "display_data"
    },
    {
     "data": {
      "image/png": "[encoded data removed]",
      "text/plain": [
       "<Figure size 432x288 with 1 Axes>"
      ]
     },
     "metadata": {
      "needs_background": "light"
     },
     "output_type": "display_data"
    },
    {
     "data": {
      "image/png": "[encoded data removed]",
      "text/plain": [
       "<Figure size 432x288 with 1 Axes>"
      ]
     },
     "metadata": {
      "needs_background": "light"
     },
     "output_type": "display_data"
    }
   ],
   "source": [
    "# for loop of what we were doing before, so we can take a look at all these binary variables\n",
    "for col in yes_no_cols:\n",
    "    grouped = trees.groupby(col).health.value_counts(normalize=True).unstack()\n",
    "    ax = grouped.plot(kind = 'bar', stacked = True, \n",
    "#                        title = f'', \n",
    "                       color = ['gold', 'forestgreen', 'orangered'], alpha = .70)\n",
    "    ax.set_xticklabels([0,1], rotation=0)\n",
    "    ax.set_xlabel(col)\n",
    "    ax.set_ylabel('Health Status (in %)')\n",
    "    ax.legend(['Fair','Good', 'Poor'])"
   ]
  },
  {
   "cell_type": "markdown",
   "metadata": {},
   "source": [
    "* Lots of signficant looking variables here. Some that don't quite meet the mark are: root_stone, branch_light, on_curb, and sidewalk_damage."
   ]
  },
  {
   "cell_type": "code",
   "execution_count": 105,
   "metadata": {
    "scrolled": true
   },
   "outputs": [
    {
     "data": {
      "image/png": "[encoded data removed]",
      "text/plain": [
       "<Figure size 576x432 with 1 Axes>"
      ]
     },
     "metadata": {
      "needs_background": "light"
     },
     "output_type": "display_data"
    }
   ],
   "source": [
    "# prepare data for stacked bar, sort by percentage of trees in good health\n",
    "trunk_o = trees.groupby(['trunk_other']).health.value_counts(normalize=True).unstack().sort_values('Good', ascending=False)\n",
    "\n",
    "# plot stacked bar graph\n",
    "p5 = trunk_o.plot(kind='bar', stacked=True, figsize=(8,6), \n",
    "                  color=['gold', 'forestgreen', 'orangered'], alpha=.70, fontsize=14)\n",
    "\n",
    "# prettify the graph\n",
    "p5.set_title('Tree Health - Trunk Problems', fontsize=22, pad=10)\n",
    "p5.set_xlabel('')\n",
    "p5.set_xticklabels(['No Problem', 'Trunk Problem'], rotation='horizontal', fontsize=18)\n",
    "p5.set_ylabel('Health Status (in %)', fontsize=18, labelpad=10)\n",
    "p5.legend(['Fair','Good', 'Poor'], fontsize=20, bbox_to_anchor=(1,1))\n",
    "\n",
    "# prepare to save and display\n",
    "plt.tight_layout()\n",
    "plt.savefig('charts/health_trunk_barstack.png', bbox_inches='tight', transparent=True)\n",
    "plt.show()"
   ]
  },
  {
   "cell_type": "code",
   "execution_count": 111,
   "metadata": {},
   "outputs": [
    {
     "data": {
      "image/png": "[encoded data removed]",
      "text/plain": [
       "<Figure size 576x432 with 1 Axes>"
      ]
     },
     "metadata": {
      "needs_background": "light"
     },
     "output_type": "display_data"
    }
   ],
   "source": [
    "# prepare data for stacked bar, sort by percentage of trees in good health\n",
    "root_o = trees.groupby(['root_other']).health.value_counts(normalize=True).unstack().sort_values('Good', ascending=False)\n",
    "\n",
    "# plot stacked bar graph\n",
    "p6 = root_o.plot(kind='bar', stacked=True, figsize=(8,6), \n",
    "                  color=['gold', 'forestgreen', 'orangered'], alpha=0.7, fontsize=14)\n",
    "\n",
    "# prettify the graph\n",
    "p6.set_title('Tree Health - Root Problems', fontsize=22, pad=10)\n",
    "p6.set_xlabel('')\n",
    "p6.set_xticklabels(['No Problem', 'Root Problem'], rotation='horizontal', fontsize=18)\n",
    "p6.set_ylabel('Health Status (in %)', fontsize=18, labelpad=10)\n",
    "p6.legend(['Fair','Good', 'Poor'], fontsize=20, bbox_to_anchor=(1,1))\n",
    "\n",
    "# prepare to save and display\n",
    "plt.tight_layout()\n",
    "plt.savefig('charts/health_root_barstack.png', bbox_inches='tight', transparent=True)\n",
    "plt.show()"
   ]
  },
  {
   "cell_type": "code",
   "execution_count": 110,
   "metadata": {},
   "outputs": [
    {
     "data": {
      "image/png": "[encoded data removed]",
      "text/plain": [
       "<Figure size 576x432 with 1 Axes>"
      ]
     },
     "metadata": {
      "needs_background": "light"
     },
     "output_type": "display_data"
    }
   ],
   "source": [
    "# prepare data for stacked bar, sort by percentage of trees in good health\n",
    "branch_o = trees.groupby(['branch_other']).health.value_counts(normalize=True).unstack().sort_values('Good', ascending=False)\n",
    "\n",
    "# plot stacked bar graph\n",
    "p7 = branch_o.plot(kind='bar', stacked=True, figsize=(8,6),\n",
    "                   color=['gold', 'forestgreen', 'orangered'], alpha=0.7, fontsize=14)\n",
    "\n",
    "# prettify the graph\n",
    "p7.set_title('Tree Health - Branch Problems', fontsize=22, pad=10)\n",
    "p7.set_xlabel('')\n",
    "p7.set_xticklabels(['No Problem', 'Branch Problem'], rotation='horizontal', fontsize=18)\n",
    "p7.set_ylabel('Health Status (in %)', fontsize=18, labelpad=10)\n",
    "p7.legend(['Fair','Good', 'Poor'], fontsize=20, bbox_to_anchor=(1,1))\n",
    "\n",
    "# prepare to save and display\n",
    "plt.tight_layout()\n",
    "plt.savefig('charts/health_branch_barstack.png', bbox_inches='tight', transparent=True)\n",
    "plt.show()"
   ]
  },
  {
   "cell_type": "markdown",
   "metadata": {},
   "source": [
    "* Dummy variables with more than two values:\n",
    "    * First rename a steward value that doesn't make sense (4 is accounted for twice, so renaming '4orMore' to '5plus').\n",
    "    * Create dummies for number of stewards, usefulness of tree guards, and borough name."
   ]
  },
  {
   "cell_type": "code",
   "execution_count": 91,
   "metadata": {},
   "outputs": [],
   "source": [
    "trees['steward'] = np.where(trees.steward == '4orMore', '5plus', trees.steward)"
   ]
  },
  {
   "cell_type": "code",
   "execution_count": 92,
   "metadata": {
    "scrolled": true
   },
   "outputs": [
    {
     "data": {
      "text/plain": [
       "array(['None', '1or2', '3or4', '5plus'], dtype=object)"
      ]
     },
     "execution_count": 92,
     "metadata": {},
     "output_type": "execute_result"
    }
   ],
   "source": [
    "trees.steward.unique()"
   ]
  },
  {
   "cell_type": "code",
   "execution_count": 93,
   "metadata": {},
   "outputs": [
    {
     "data": {
      "text/plain": [
       "steward  health\n",
       "1or2     Good      0.811677\n",
       "         Fair      0.147157\n",
       "         Poor      0.041166\n",
       "3or4     Good      0.826952\n",
       "         Fair      0.132680\n",
       "         Poor      0.040368\n",
       "5plus    Good      0.834770\n",
       "         Fair      0.129310\n",
       "         Poor      0.035920\n",
       "None     Good      0.820114\n",
       "         Fair      0.140653\n",
       "         Poor      0.039233\n",
       "Name: health, dtype: float64"
      ]
     },
     "execution_count": 93,
     "metadata": {},
     "output_type": "execute_result"
    }
   ],
   "source": [
    "trees.groupby('steward').health.value_counts(normalize=True)"
   ]
  },
  {
   "cell_type": "code",
   "execution_count": 112,
   "metadata": {},
   "outputs": [
    {
     "data": {
      "image/png": "[encoded data removed]",
      "text/plain": [
       "<Figure size 432x288 with 1 Axes>"
      ]
     },
     "metadata": {
      "needs_background": "light"
     },
     "output_type": "display_data"
    }
   ],
   "source": [
    "# prepare data for stacked bar, sort by percentage of trees in good health\n",
    "stewards = trees.groupby(['steward']).health.value_counts(normalize=True).unstack().sort_values('Good')\n",
    "\n",
    "# plot stacked bar graph\n",
    "p8 = stewards.plot(kind = 'bar', stacked = True, \n",
    "                   title = 'Tree Stewards Contribution toward Tree Health', \n",
    "                   color = ['gold', 'forestgreen', 'orangered'], alpha=0.7)\n",
    "\n",
    "# prettify the graph\n",
    "p8.set_xlabel('Number of Tree Stewards')\n",
    "p8.set_ylabel('Health Status (in %)')\n",
    "p8.legend(['Fair','Good', 'Poor'], bbox_to_anchor=(1,1))\n",
    "plt.show()"
   ]
  },
  {
   "cell_type": "markdown",
   "metadata": {},
   "source": [
    "* Health status looks similar across all values."
   ]
  },
  {
   "cell_type": "code",
   "execution_count": 95,
   "metadata": {},
   "outputs": [
    {
     "data": {
      "text/plain": [
       "None       413265\n",
       "Helpful     21818\n",
       "Harmful      6297\n",
       "Unsure       3308\n",
       "Name: guards, dtype: int64"
      ]
     },
     "execution_count": 95,
     "metadata": {},
     "output_type": "execute_result"
    }
   ],
   "source": [
    "trees.guards.value_counts()"
   ]
  },
  {
   "cell_type": "code",
   "execution_count": 96,
   "metadata": {},
   "outputs": [
    {
     "data": {
      "text/plain": [
       "guards   health\n",
       "Harmful  Good      0.769255\n",
       "         Fair      0.181039\n",
       "         Poor      0.049706\n",
       "Helpful  Good      0.830507\n",
       "         Fair      0.129847\n",
       "         Poor      0.039646\n",
       "None     Good      0.819273\n",
       "         Fair      0.141418\n",
       "         Poor      0.039309\n",
       "Unsure   Good      0.769649\n",
       "         Fair      0.175635\n",
       "         Poor      0.054716\n",
       "Name: health, dtype: float64"
      ]
     },
     "execution_count": 96,
     "metadata": {},
     "output_type": "execute_result"
    }
   ],
   "source": [
    "trees.groupby('guards').health.value_counts(normalize=True)"
   ]
  },
  {
   "cell_type": "code",
   "execution_count": 97,
   "metadata": {},
   "outputs": [
    {
     "data": {
      "image/png": "[encoded data removed]",
      "text/plain": [
       "<Figure size 432x288 with 1 Axes>"
      ]
     },
     "metadata": {
      "needs_background": "light"
     },
     "output_type": "display_data"
    }
   ],
   "source": [
    "# prepare data for stacked bar, sort by percentage of trees in good health\n",
    "guards = trees.groupby(['guards']).health.value_counts(normalize=True).unstack().sort_values('Good')\n",
    "\n",
    "# plot stacked bar graph\n",
    "p9 = guards.plot(kind='bar', stacked=True, \n",
    "                   title='Tree Guards Contribution toward Tree Health', \n",
    "                   color=['gold', 'forestgreen', 'orangered'], alpha=0.7)\n",
    "\n",
    "# prettify the graph\n",
    "p9.set_xlabel('Quality of Tree Guards')\n",
    "p9.set_ylabel('Health Status (in %)')\n",
    "p9.legend(['Fair','Good', 'Poor'], bbox_to_anchor=(1,1))\n",
    "plt.show()"
   ]
  },
  {
   "cell_type": "markdown",
   "metadata": {},
   "source": [
    "* Health status looks affected by the quality of the tree guards."
   ]
  },
  {
   "cell_type": "code",
   "execution_count": 98,
   "metadata": {},
   "outputs": [
    {
     "ename": "SyntaxError",
     "evalue": "invalid syntax (<ipython-input-98-efdb6d3705b6>, line 1)",
     "output_type": "error",
     "traceback": [
      "\u001b[0;36m  File \u001b[0;32m\"<ipython-input-98-efdb6d3705b6>\"\u001b[0;36m, line \u001b[0;32m1\u001b[0m\n\u001b[0;31m    please break this code\u001b[0m\n\u001b[0m               ^\u001b[0m\n\u001b[0;31mSyntaxError\u001b[0m\u001b[0;31m:\u001b[0m invalid syntax\n"
     ]
    }
   ],
   "source": [
    "please break this code"
   ]
  },
  {
   "cell_type": "markdown",
   "metadata": {},
   "source": [
    "## Vanilla model interruption\n",
    "* Now is a good opportunity to look at a starting point for our model. Let's take a look at a random forest."
   ]
  },
  {
   "cell_type": "code",
   "execution_count": null,
   "metadata": {},
   "outputs": [],
   "source": [
    "prelim_features = ['tree_dbh', 'on_curb', 'sidewalk_damage', 'root_stone', 'root_grate', 'root_other',\n",
    "                   'trunk_wire', 'trunk_light', 'trunk_other', 'branch_light', 'branch_shoe', 'branch_other']"
   ]
  },
  {
   "cell_type": "code",
   "execution_count": null,
   "metadata": {},
   "outputs": [],
   "source": [
    "X_van = trees[prelim_features]\n",
    "y_van = trees['health']"
   ]
  },
  {
   "cell_type": "code",
   "execution_count": null,
   "metadata": {},
   "outputs": [],
   "source": [
    "X_train_van, X_test_van, y_train_van, y_test_van = train_test_split(X_van, y_van, random_state=42, stratify=y_van)\n",
    "\n",
    "# use a scaler so we can get the continuous variable on the same scale\n",
    "scaler = StandardScaler()  \n",
    "scaler.fit(X_train_van)\n",
    "\n",
    "X_train = scaler.transform(X_train_van)  \n",
    "X_test = scaler.transform(X_test_van)"
   ]
  },
  {
   "cell_type": "code",
   "execution_count": null,
   "metadata": {},
   "outputs": [],
   "source": [
    "# vanilla random forest\n",
    "van_forest = RandomForestClassifier(class_weight='balanced', random_state=99, n_jobs=-1)\n",
    "\n",
    "# fit training data\n",
    "van_forest.fit(X_train_van, y_train_van)\n",
    "\n",
    "# predict test dta\n",
    "van_pred_forest = van_forest.predict(X_test_van)\n",
    "\n",
    "# check accuracy\n",
    "print('Test Accuracy score: ', accuracy_score(y_test_van, van_pred_forest))\n",
    "# check f1\n",
    "print('Test F1 score: ', f1_score(y_test_van, van_pred_forest, average='weighted'))\n",
    "# check recall\n",
    "print('Test Recall score: ', recall_score(y_test_van, van_pred_forest, average='weighted'))\n",
    "# check precision\n",
    "print('Test Precision score: ', precision_score(y_test_van, van_pred_forest, average='weighted'))"
   ]
  },
  {
   "cell_type": "markdown",
   "metadata": {},
   "source": [
    "* Not great, but let's take a look at a confusion matrix."
   ]
  },
  {
   "cell_type": "code",
   "execution_count": null,
   "metadata": {},
   "outputs": [],
   "source": [
    "cm_van = confusion_matrix(y_test_van, van_pred_forest)\n",
    "classes = ['Fair', 'Good', 'Poor']\n",
    "\n",
    "plot_confusion_matrix(cm_van, classes,\n",
    "                          normalize=True,\n",
    "                          title='Vanilla forest confusion matrix',\n",
    "                          cmap=plt.cm.Blues)"
   ]
  },
  {
   "cell_type": "markdown",
   "metadata": {},
   "source": [
    "* Let's take a look at which features proved important."
   ]
  },
  {
   "cell_type": "code",
   "execution_count": null,
   "metadata": {},
   "outputs": [],
   "source": [
    "plot_forest_features(van_forest, X_train_van)"
   ]
  },
  {
   "cell_type": "markdown",
   "metadata": {},
   "source": [
    "* Some surprises here: tree diameter topped the list by a large margin. Many of our categorical variables hold equal importance.\n",
    "* We'll keep those in for now and see how they perform in our final model.\n",
    "\n",
    "### Finishing up our dummies\n",
    "* After some research, I'm going to go with the local level community board as my variable for \"region\" of the city.\n",
    "    * One has to interact with the community board and get permits in order to affect any change on NYC street trees, so that makes the most sense narratively."
   ]
  },
  {
   "cell_type": "code",
   "execution_count": null,
   "metadata": {},
   "outputs": [],
   "source": [
    "dummy_cols = ['steward', 'guards', 'boroname', 'cb_num', 'spc_common']\n",
    "\n",
    "# convert community board column to string so we can easily dummy it\n",
    "trees['cb_num'] = trees.cb_num.astype(str)"
   ]
  },
  {
   "cell_type": "code",
   "execution_count": null,
   "metadata": {},
   "outputs": [],
   "source": [
    "tree_dummies = pd.get_dummies(trees[dummy_cols])\n",
    "tree_dummies.columns = [col.replace(' ', '_').replace(\"'\", \"\") for col in list(tree_dummies.columns)]\n",
    "tree_dummies.columns"
   ]
  },
  {
   "cell_type": "code",
   "execution_count": null,
   "metadata": {},
   "outputs": [],
   "source": [
    "# add onto our dummy_cols list, so we can drop our pre-dummied columns, plus a dummy from each,\n",
    "# plus the columns we no longer need\n",
    "dummy_cols.extend(['steward_None', 'guards_None', 'boroname_Staten_Island', 'cb_num_101', 'spc_common_Other',\n",
    "                  'council_dist', 'st_assem', 'st_senate', 'nta'])"
   ]
  },
  {
   "cell_type": "code",
   "execution_count": null,
   "metadata": {},
   "outputs": [],
   "source": [
    "trees_full = pd.concat([trees,tree_dummies], axis=1)\n",
    "trees_full.drop(columns=dummy_cols, axis=1, inplace=True)"
   ]
  },
  {
   "cell_type": "code",
   "execution_count": null,
   "metadata": {},
   "outputs": [],
   "source": [
    "trees_full.columns"
   ]
  },
  {
   "cell_type": "code",
   "execution_count": null,
   "metadata": {
    "scrolled": false
   },
   "outputs": [],
   "source": [
    "trees_full.head()"
   ]
  },
  {
   "cell_type": "code",
   "execution_count": null,
   "metadata": {},
   "outputs": [],
   "source": [
    "trees_full.to_csv('data/nyc_trees_final.csv')"
   ]
  },
  {
   "cell_type": "code",
   "execution_count": null,
   "metadata": {},
   "outputs": [],
   "source": [
    "trees_full = pd.read_csv('data/nyc_trees_final.csv', index_col=0)\n",
    "trees_full.head()"
   ]
  },
  {
   "cell_type": "markdown",
   "metadata": {},
   "source": [
    "## Train-test split and modeling"
   ]
  },
  {
   "cell_type": "code",
   "execution_count": null,
   "metadata": {},
   "outputs": [],
   "source": [
    "# create our features and target\n",
    "X = trees_full.drop(columns=['health'], axis=1)\n",
    "y = trees_full['health']"
   ]
  },
  {
   "cell_type": "code",
   "execution_count": null,
   "metadata": {},
   "outputs": [],
   "source": [
    "# train-test split\n",
    "X_train, X_test, y_train, y_test = train_test_split(X, y, random_state=42, stratify=y)\n",
    "\n",
    "# use a scaler so we can get the two continuous variables on the same scale\n",
    "scaler = StandardScaler()  \n",
    "scaler.fit(X_train)\n",
    "\n",
    "X_train = scaler.transform(X_train)  \n",
    "X_test = scaler.transform(X_test)"
   ]
  },
  {
   "cell_type": "markdown",
   "metadata": {},
   "source": [
    "### Basic random forest"
   ]
  },
  {
   "cell_type": "code",
   "execution_count": null,
   "metadata": {},
   "outputs": [],
   "source": [
    "# basic random forest\n",
    "forest = RandomForestClassifier(class_weight='balanced', random_state=99, n_jobs=-1)\n",
    "\n",
    "# fit training data\n",
    "forest.fit(X_train, y_train)\n",
    "\n",
    "# predict test dta\n",
    "y_pred_forest = forest.predict(X_test)\n",
    "\n",
    "# check accuracy\n",
    "print('Test Accuracy score: ', accuracy_score(y_test, y_pred_forest))\n",
    "# check f1\n",
    "print('Test F1 score: ', f1_score(y_test, y_pred_forest, average='weighted'))\n",
    "# check recall\n",
    "print('Test Recall score: ', recall_score(y_test, y_pred_forest, average='weighted'))\n",
    "# check precision\n",
    "print('Test Precision score: ', precision_score(y_test, y_pred_forest, average='weighted'))"
   ]
  },
  {
   "cell_type": "code",
   "execution_count": null,
   "metadata": {
    "scrolled": true
   },
   "outputs": [],
   "source": [
    "# find feature importance; input model name \n",
    "plot_forest_features(forest, X)"
   ]
  },
  {
   "cell_type": "code",
   "execution_count": null,
   "metadata": {},
   "outputs": [],
   "source": [
    "cm = confusion_matrix(y_test, y_pred_forest)\n",
    "classes = ['Fair', 'Good', 'Poor']\n",
    "\n",
    "plot_confusion_matrix(cm, classes,\n",
    "                          normalize=True,\n",
    "                          title='Basic forest confusion matrix',\n",
    "                          cmap=plt.cm.Blues)"
   ]
  },
  {
   "cell_type": "markdown",
   "metadata": {},
   "source": [
    "### Smote"
   ]
  },
  {
   "cell_type": "code",
   "execution_count": null,
   "metadata": {},
   "outputs": [],
   "source": [
    "smoten = SMOTE(sampling_strategy='minority', random_state=42)\n",
    "X_train_smote, y_train_smote = smoten.fit_sample(X_train, y_train)"
   ]
  },
  {
   "cell_type": "markdown",
   "metadata": {},
   "source": [
    "### Random Forest - basic"
   ]
  },
  {
   "cell_type": "code",
   "execution_count": null,
   "metadata": {},
   "outputs": [],
   "source": [
    "# random forest\n",
    "forest_smote = RandomForestClassifier(\n",
    "#                                         class_weight='balanced',\n",
    "                                        random_state=99, n_jobs=-1)\n",
    "\n",
    "# fit training data\n",
    "forest_smote.fit(X_train_smote, y_train_smote)\n",
    "\n",
    "# predict test dta\n",
    "y_pred_forest_smote = forest_smote.predict(X_test)\n",
    "\n",
    "# check accuracy\n",
    "print('Test Accuracy score: ', accuracy_score(y_test, y_pred_forest_smote))\n",
    "# check f1\n",
    "print('Test F1 score: ', f1_score(y_test, y_pred_forest_smote, average='weighted'))\n",
    "# check recall\n",
    "print('Test Recall score: ', recall_score(y_test, y_pred_forest_smote, average='weighted'))\n",
    "# check precision\n",
    "print('Test Precision score: ', precision_score(y_test, y_pred_forest_smote, average='weighted'))"
   ]
  },
  {
   "cell_type": "code",
   "execution_count": null,
   "metadata": {
    "scrolled": true
   },
   "outputs": [],
   "source": [
    "plot_forest_features(forest_smote, X)"
   ]
  },
  {
   "cell_type": "code",
   "execution_count": null,
   "metadata": {
    "scrolled": true
   },
   "outputs": [],
   "source": [
    "cm_smote = confusion_matrix(y_test, y_pred_forest_smote)\n",
    "classes = ['Fair', 'Good', 'Poor']\n",
    "\n",
    "plot_confusion_matrix(cm_smote, classes,\n",
    "                          normalize=True,\n",
    "                          title='Untuned forest confusion matrix',\n",
    "                          cmap=plt.cm.Blues)"
   ]
  },
  {
   "cell_type": "markdown",
   "metadata": {},
   "source": [
    "### Random Forest - tuned"
   ]
  },
  {
   "cell_type": "code",
   "execution_count": null,
   "metadata": {},
   "outputs": [],
   "source": [
    "# random forest\n",
    "forest_smote_tuned = RandomForestClassifier(max_features=11,\n",
    "                                       min_samples_leaf=3,\n",
    "                                        class_weight='balanced',\n",
    "                                        random_state=99, n_jobs=-1,\n",
    "                                      n_estimators=1000\n",
    "                                      )\n",
    "\n",
    "# fit training data\n",
    "forest_smote_tuned.fit(X_train_smote, y_train_smote)\n",
    "\n",
    "# predict test dta\n",
    "y_pred_forest_smote_tuned = forest_smote_tuned.predict(X_test)\n",
    "\n",
    "# check accuracy\n",
    "print('Test Accuracy score: ', accuracy_score(y_test, y_pred_forest_smote_tuned))\n",
    "# check f1\n",
    "print('Test F1 score: ', f1_score(y_test, y_pred_forest_smote_tuned, average='weighted'))\n",
    "# check recall\n",
    "print('Test Recall score: ', recall_score(y_test, y_pred_forest_smote_tuned, average='weighted'))\n",
    "# check precision\n",
    "print('Test Precision score: ', precision_score(y_test, y_pred_forest_smote_tuned, average='weighted'))"
   ]
  },
  {
   "cell_type": "code",
   "execution_count": null,
   "metadata": {
    "scrolled": true
   },
   "outputs": [],
   "source": [
    "plot_forest_features(forest_smote_tuned, X)"
   ]
  },
  {
   "cell_type": "code",
   "execution_count": null,
   "metadata": {},
   "outputs": [],
   "source": [
    "cm_smote_tuned = confusion_matrix(y_test, y_pred_forest_smote_tuned)\n",
    "classes = ['Fair', 'Good', 'Poor']\n",
    "\n",
    "plot_confusion_matrix(cm_smote_tuned, classes,\n",
    "                          normalize=True,\n",
    "                          title='Tuned forest confusion matrix',\n",
    "                          cmap=plt.cm.Blues)"
   ]
  },
  {
   "cell_type": "markdown",
   "metadata": {},
   "source": [
    "* Pickle it (it's huge)."
   ]
  },
  {
   "cell_type": "code",
   "execution_count": null,
   "metadata": {},
   "outputs": [],
   "source": [
    "with open('data/final_model.pickle', 'wb') as f:\n",
    "    pickle.dump(forest_smote_tuned, f, protocol=pickle.HIGHEST_PROTOCOL)"
   ]
  },
  {
   "cell_type": "markdown",
   "metadata": {},
   "source": [
    "### Naive Bayes - Gaussian"
   ]
  },
  {
   "cell_type": "code",
   "execution_count": null,
   "metadata": {},
   "outputs": [],
   "source": [
    "# Create Gaussian Naive Bayes object with prior probabilities of each class\n",
    "gnb = GaussianNB(priors=[0.14, 0.82, 0.04],\n",
    "#                  var_smoothing=.25\n",
    "                )\n",
    "\n",
    "# Train model\n",
    "ganaba = gnb.fit(X_train_smote, y_train_smote)"
   ]
  },
  {
   "cell_type": "code",
   "execution_count": null,
   "metadata": {},
   "outputs": [],
   "source": [
    "#Predict the response for test dataset\n",
    "y_pred_gnb = ganaba.predict(X_test)\n",
    "\n",
    "# checking accuracy\n",
    "print('Test Accuracy score: ', accuracy_score(y_test, y_pred_gnb))\n",
    "\n",
    "# checking f1\n",
    "print('Test F1 score: ', f1_score(y_test, y_pred_gnb, average='weighted'))\n",
    "\n",
    "# checking recall\n",
    "print('Test Recall score: ', recall_score(y_test, y_pred_gnb, average='weighted'))\n",
    "\n",
    "# checking precision\n",
    "print('Test Precision score: ', precision_score(y_test, y_pred_gnb, average='weighted'))"
   ]
  },
  {
   "cell_type": "code",
   "execution_count": null,
   "metadata": {},
   "outputs": [],
   "source": [
    "cm_gnb = confusion_matrix(y_test, y_pred_gnb)\n",
    "classes = ['Fair', 'Good', 'Poor']\n",
    "\n",
    "plot_confusion_matrix(cm_gnb, classes,\n",
    "                          normalize=True,\n",
    "                          title='Gaussian confusion matrix',\n",
    "                          cmap=plt.cm.Blues)"
   ]
  },
  {
   "cell_type": "markdown",
   "metadata": {},
   "source": [
    "### Naive Bayes - Bernoulli"
   ]
  },
  {
   "cell_type": "code",
   "execution_count": null,
   "metadata": {},
   "outputs": [],
   "source": [
    "# Create Bernoulli Naive Bayes object with prior probabilities of each class\n",
    "bnb = BernoulliNB(class_prior=[0.175, 0.75, 0.075])\n",
    "\n",
    "# Train model\n",
    "banaba = bnb.fit(X_train_smote, y_train_smote)"
   ]
  },
  {
   "cell_type": "code",
   "execution_count": null,
   "metadata": {},
   "outputs": [],
   "source": [
    "#Predict the response for test dataset\n",
    "y_pred_bnb = banaba.predict(X_test)\n",
    "\n",
    "# checking accuracy\n",
    "print('Test Accuracy score: ', accuracy_score(y_test, y_pred_bnb))\n",
    "\n",
    "# checking f1\n",
    "print('Test F1 score: ', f1_score(y_test, y_pred_bnb, average='weighted'))\n",
    "\n",
    "# checking recall\n",
    "print('Test Recall score: ', recall_score(y_test, y_pred_bnb, average='weighted'))\n",
    "\n",
    "# checking precision\n",
    "print('Test Precision score: ', precision_score(y_test, y_pred_bnb, average='weighted'))"
   ]
  },
  {
   "cell_type": "code",
   "execution_count": null,
   "metadata": {
    "scrolled": true
   },
   "outputs": [],
   "source": [
    "cm_bnb = confusion_matrix(y_test, y_pred_bnb)\n",
    "classes = ['Fair', 'Good', 'Poor']\n",
    "\n",
    "plot_confusion_matrix(cm_bnb, classes,\n",
    "                          normalize=True,\n",
    "                          title='Bernoulli confusion matrix',\n",
    "                          cmap=plt.cm.Blues)"
   ]
  },
  {
   "cell_type": "code",
   "execution_count": null,
   "metadata": {},
   "outputs": [],
   "source": [
    "# Create a params dictionary for a Bernoulli Naive Bayes classifier with prior probabilities of each class\n",
    "params_nb = {\n",
    "    'class_prior': [[0.1, 0.88, 0.02],[0.14, 0.82, 0.04], [0.175, 0.75, 0.075], [0.2, 0.7, 0.1]],\n",
    "    'alpha': [.00001*10**i for i in range(5)],\n",
    "}"
   ]
  },
  {
   "cell_type": "markdown",
   "metadata": {},
   "source": [
    "### Naive Bayes - Bernoulli (with GridSearch)"
   ]
  },
  {
   "cell_type": "code",
   "execution_count": null,
   "metadata": {},
   "outputs": [],
   "source": [
    "#create a grid search object and fit it to the data\n",
    "bnb_cv = BernoulliNB()\n",
    "CV_bnb = GridSearchCV(bnb_cv, params_nb, scoring='f1_weighted', n_jobs=-1, verbose=2)\n",
    "CV_bnb.fit(X_train_smote, y_train_smote)"
   ]
  },
  {
   "cell_type": "code",
   "execution_count": null,
   "metadata": {},
   "outputs": [],
   "source": [
    "# examine the best model\n",
    "\n",
    "# Single best score achieved across all params (min_samples_split)\n",
    "print(CV_bnb.best_score_)\n",
    "\n",
    "# Dictionary containing the parameters (min_samples_split) used to generate that score\n",
    "print(CV_bnb.best_params_)\n",
    "\n",
    "# Actual model object fit with those best parameters\n",
    "# Shows default parameters that we did not specify\n",
    "print(CV_bnb.best_estimator_)"
   ]
  },
  {
   "cell_type": "code",
   "execution_count": null,
   "metadata": {},
   "outputs": [],
   "source": [
    "#Predict the response for test dataset\n",
    "y_pred_bnb_cv = CV_bnb.best_estimator_.predict(X_test)\n",
    "\n",
    "# checking accuracy\n",
    "print('Test Accuracy score: ', accuracy_score(y_test, y_pred_bnb_cv))\n",
    "\n",
    "# checking f1\n",
    "print('Test F1 score: ', f1_score(y_test, y_pred_bnb_cv, average='weighted'))\n",
    "\n",
    "# checking recall\n",
    "print('Test Recall score: ', recall_score(y_test, y_pred_bnb_cv, average='weighted'))\n",
    "\n",
    "# checking precision\n",
    "print('Test Precision score: ', precision_score(y_test, y_pred_bnb_cv, average='weighted'))"
   ]
  },
  {
   "cell_type": "code",
   "execution_count": null,
   "metadata": {},
   "outputs": [],
   "source": [
    "cm5 = confusion_matrix(y_test, y_pred_bnb_cv)\n",
    "classes = ['Fair', 'Good', 'Poor']\n",
    "\n",
    "plot_confusion_matrix(cm5, classes,\n",
    "                          normalize=True,\n",
    "                          title='Bernoulli confusion matrix',\n",
    "                          cmap=plt.cm.Blues)"
   ]
  },
  {
   "cell_type": "markdown",
   "metadata": {},
   "source": [
    "## Findings\n",
    "* Species of tree is significant, Norway maple being the least good on average, and sawtooth oak being the most good.\n",
    "    * I would recommend sticking to the healthier varieties in the graph created earlier, and avoiding the least healthy varieties.\n",
    "* Problems with the tree itself were obviously significant.\n",
    "    * Unfortunately, problems that were listed as “other” appear to hold the highest significance. In the next census, they should include columns with more specificity or a notes column (which one could feasibly process to create dummy variables).\n",
    "    * I suggest conducting more regular maintenance, as well as pushing for environmental protections, in the style of the plastic ban bag.\n",
    "* All levels of neighborhood delineation held significance.\n",
    "    * I chose community board as my neighborhood variable in part because one must petition the community board to make changes to street trees.\n",
    "* It's difficult to choose which model to use based off numbers alone. One must think carefully about how it is being used.\n",
    "    * I went with a model that was more inaccurate but had a better spread of predictions. Not ready for primetime yet, but a step in the right direction.\n",
    "* Many of the most prevalent features, including number of trees on block, distance to the nearest tree, and sidewalk damage, didn’t show much significance when looked at during EDA, but must have had solid predictive power after interacting with other branches of the Random Forest trees.\n",
    "\n",
    "## Most prevalent features in the model (in order)\n",
    "### Top features (out of 147):\n",
    "     Tree diameter \t\t\t    (14.8%)\n",
    "     Number of trees on block \t(11.2%)\n",
    "     Distance to nearest tree \t(9.1%)\n",
    "     Sidewalk damage \t\t    (7.6%)\n",
    "     Tree stewards [1-2] \t\t(5.1%)\n",
    "     Root problems [stone]      (4.8%)\n",
    "     Species [Norway maple] \t(2.6%)\n",
    "     Trunk problems [other] \t(2.4%)\n",
    "     Branch problems [light] \t(2.2%)\n",
    "     Species [London planetree] (2.0%)\n",
    "     Branch problems [other] \t(2.0%)\n",
    "     Community board [503] \t    (1.8%)\n",
    "     Species [Honeylocust] \t    (1.3%)\n",
    "     Borough [Queens] \t\t    (1.2%)\n",
    "\n",
    "\n",
    "\n",
    "# Final conclusion\n",
    "* I can run my final model on the data collected by volunteers and compile a list of trees that whose health statuses do not line up. In the meantime, the NYC Street Trees Census is fairly thorough and rife with opportunities for data exploration and predictive modeling. Perhaps with a neural network, I could greatly improve my model. In future censuses, even more data could be gathered (especially in regard to specificity) that will increase these opportunities for prediction even further."
   ]
  },
  {
   "cell_type": "code",
   "execution_count": null,
   "metadata": {},
   "outputs": [],
   "source": []
  }
 ],
 "metadata": {
  "kernelspec": {
   "display_name": "Python [conda env:learn-env] *",
   "language": "python",
   "name": "conda-env-learn-env-py"
  },
  "language_info": {
   "codemirror_mode": {
    "name": "ipython",
    "version": 3
   },
   "file_extension": ".py",
   "mimetype": "text/x-python",
   "name": "python",
   "nbconvert_exporter": "python",
   "pygments_lexer": "ipython3",
   "version": "3.6.9"
  }
 },
 "nbformat": 4,
 "nbformat_minor": 2
}
