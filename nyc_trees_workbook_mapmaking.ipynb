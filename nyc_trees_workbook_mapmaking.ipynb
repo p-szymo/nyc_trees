{
 "cells": [
  {
   "cell_type": "markdown",
   "metadata": {},
   "source": [
    "# NYC Street Trees Mapmaking\n",
    "\n",
    "### The following is meant more as a sandbox than a polished workbook, for making various maps. Be aware that the html maps get quite large. Enjoy :)\n",
    "\n",
    "## Cleaning and exploring the data\n",
    "* Import the necessary libraries."
   ]
  },
  {
   "cell_type": "code",
   "execution_count": 2,
   "metadata": {},
   "outputs": [
    {
     "name": "stdout",
     "output_type": "stream",
     "text": [
      "The autoreload extension is already loaded. To reload it, use:\n",
      "  %reload_ext autoreload\n"
     ]
    }
   ],
   "source": [
    "import pandas as pd\n",
    "import numpy as np\n",
    "\n",
    "import matplotlib.pyplot as plt\n",
    "%matplotlib inline\n",
    "import seaborn as sns\n",
    "sns.set_style('ticks')\n",
    "import folium\n",
    "import geopandas as gpd\n",
    "\n",
    "import pickle\n",
    "\n",
    "from functions import *\n",
    "%load_ext autoreload\n",
    "%autoreload 2\n",
    "\n",
    "from scipy import stats\n",
    "from scipy.stats import ttest_ind\n",
    "from sklearn.model_selection import train_test_split\n",
    "from sklearn.model_selection import GridSearchCV\n",
    "from sklearn.preprocessing import PolynomialFeatures\n",
    "from sklearn.preprocessing import StandardScaler\n",
    "from sklearn.preprocessing import MinMaxScaler\n",
    "from sklearn.neighbors import KNeighborsClassifier\n",
    "from sklearn.neighbors import BallTree\n",
    "from sklearn.tree import DecisionTreeClassifier\n",
    "from sklearn.tree import DecisionTreeRegressor\n",
    "from sklearn.dummy import DummyClassifier\n",
    "from sklearn.metrics import accuracy_score, f1_score, precision_score, recall_score, roc_curve, roc_auc_score\n",
    "from sklearn.linear_model import LogisticRegression\n",
    "from sklearn.utils import resample\n",
    "from sklearn.ensemble import RandomForestClassifier\n",
    "from imblearn.over_sampling import SMOTE\n",
    "from imblearn.under_sampling import TomekLinks\n",
    "\n",
    "\n",
    "import warnings\n",
    "warnings.filterwarnings('ignore')\n",
    "\n",
    "# POSSIBLY\n",
    "from collections import Counter"
   ]
  },
  {
   "cell_type": "markdown",
   "metadata": {},
   "source": [
    "* Import the data and take a look."
   ]
  },
  {
   "cell_type": "code",
   "execution_count": 3,
   "metadata": {},
   "outputs": [
    {
     "data": {
      "text/html": [
       "<div>\n",
       "<style scoped>\n",
       "    .dataframe tbody tr th:only-of-type {\n",
       "        vertical-align: middle;\n",
       "    }\n",
       "\n",
       "    .dataframe tbody tr th {\n",
       "        vertical-align: top;\n",
       "    }\n",
       "\n",
       "    .dataframe thead th {\n",
       "        text-align: right;\n",
       "    }\n",
       "</style>\n",
       "<table border=\"1\" class=\"dataframe\">\n",
       "  <thead>\n",
       "    <tr style=\"text-align: right;\">\n",
       "      <th></th>\n",
       "      <th>created_at</th>\n",
       "      <th>tree_id</th>\n",
       "      <th>block_id</th>\n",
       "      <th>the_geom</th>\n",
       "      <th>tree_dbh</th>\n",
       "      <th>stump_diam</th>\n",
       "      <th>curb_loc</th>\n",
       "      <th>status</th>\n",
       "      <th>health</th>\n",
       "      <th>spc_latin</th>\n",
       "      <th>...</th>\n",
       "      <th>st_assem</th>\n",
       "      <th>st_senate</th>\n",
       "      <th>nta</th>\n",
       "      <th>nta_name</th>\n",
       "      <th>boro_ct</th>\n",
       "      <th>state</th>\n",
       "      <th>Latitude</th>\n",
       "      <th>longitude</th>\n",
       "      <th>x_sp</th>\n",
       "      <th>y_sp</th>\n",
       "    </tr>\n",
       "  </thead>\n",
       "  <tbody>\n",
       "    <tr>\n",
       "      <th>0</th>\n",
       "      <td>08/27/2015</td>\n",
       "      <td>180683</td>\n",
       "      <td>348711</td>\n",
       "      <td>POINT (-73.84421521958048 40.723091773924274)</td>\n",
       "      <td>3</td>\n",
       "      <td>0</td>\n",
       "      <td>OnCurb</td>\n",
       "      <td>Alive</td>\n",
       "      <td>Fair</td>\n",
       "      <td>Acer rubrum</td>\n",
       "      <td>...</td>\n",
       "      <td>28</td>\n",
       "      <td>16</td>\n",
       "      <td>QN17</td>\n",
       "      <td>Forest Hills</td>\n",
       "      <td>4073900</td>\n",
       "      <td>New York</td>\n",
       "      <td>40.723092</td>\n",
       "      <td>-73.844215</td>\n",
       "      <td>1.027431e+06</td>\n",
       "      <td>202756.768749</td>\n",
       "    </tr>\n",
       "    <tr>\n",
       "      <th>1</th>\n",
       "      <td>09/03/2015</td>\n",
       "      <td>200540</td>\n",
       "      <td>315986</td>\n",
       "      <td>POINT (-73.81867945834878 40.79411066708779)</td>\n",
       "      <td>21</td>\n",
       "      <td>0</td>\n",
       "      <td>OnCurb</td>\n",
       "      <td>Alive</td>\n",
       "      <td>Fair</td>\n",
       "      <td>Quercus palustris</td>\n",
       "      <td>...</td>\n",
       "      <td>27</td>\n",
       "      <td>11</td>\n",
       "      <td>QN49</td>\n",
       "      <td>Whitestone</td>\n",
       "      <td>4097300</td>\n",
       "      <td>New York</td>\n",
       "      <td>40.794111</td>\n",
       "      <td>-73.818679</td>\n",
       "      <td>1.034456e+06</td>\n",
       "      <td>228644.837379</td>\n",
       "    </tr>\n",
       "    <tr>\n",
       "      <th>2</th>\n",
       "      <td>09/05/2015</td>\n",
       "      <td>204026</td>\n",
       "      <td>218365</td>\n",
       "      <td>POINT (-73.93660770459083 40.717580740099116)</td>\n",
       "      <td>3</td>\n",
       "      <td>0</td>\n",
       "      <td>OnCurb</td>\n",
       "      <td>Alive</td>\n",
       "      <td>Good</td>\n",
       "      <td>Gleditsia triacanthos var. inermis</td>\n",
       "      <td>...</td>\n",
       "      <td>50</td>\n",
       "      <td>18</td>\n",
       "      <td>BK90</td>\n",
       "      <td>East Williamsburg</td>\n",
       "      <td>3044900</td>\n",
       "      <td>New York</td>\n",
       "      <td>40.717581</td>\n",
       "      <td>-73.936608</td>\n",
       "      <td>1.001823e+06</td>\n",
       "      <td>200716.891267</td>\n",
       "    </tr>\n",
       "    <tr>\n",
       "      <th>3</th>\n",
       "      <td>09/05/2015</td>\n",
       "      <td>204337</td>\n",
       "      <td>217969</td>\n",
       "      <td>POINT (-73.93445615919741 40.713537494833226)</td>\n",
       "      <td>10</td>\n",
       "      <td>0</td>\n",
       "      <td>OnCurb</td>\n",
       "      <td>Alive</td>\n",
       "      <td>Good</td>\n",
       "      <td>Gleditsia triacanthos var. inermis</td>\n",
       "      <td>...</td>\n",
       "      <td>53</td>\n",
       "      <td>18</td>\n",
       "      <td>BK90</td>\n",
       "      <td>East Williamsburg</td>\n",
       "      <td>3044900</td>\n",
       "      <td>New York</td>\n",
       "      <td>40.713537</td>\n",
       "      <td>-73.934456</td>\n",
       "      <td>1.002420e+06</td>\n",
       "      <td>199244.253136</td>\n",
       "    </tr>\n",
       "    <tr>\n",
       "      <th>4</th>\n",
       "      <td>08/30/2015</td>\n",
       "      <td>189565</td>\n",
       "      <td>223043</td>\n",
       "      <td>POINT (-73.97597938483258 40.66677775537875)</td>\n",
       "      <td>21</td>\n",
       "      <td>0</td>\n",
       "      <td>OnCurb</td>\n",
       "      <td>Alive</td>\n",
       "      <td>Good</td>\n",
       "      <td>Tilia americana</td>\n",
       "      <td>...</td>\n",
       "      <td>44</td>\n",
       "      <td>21</td>\n",
       "      <td>BK37</td>\n",
       "      <td>Park Slope-Gowanus</td>\n",
       "      <td>3016500</td>\n",
       "      <td>New York</td>\n",
       "      <td>40.666778</td>\n",
       "      <td>-73.975979</td>\n",
       "      <td>9.909138e+05</td>\n",
       "      <td>182202.425999</td>\n",
       "    </tr>\n",
       "  </tbody>\n",
       "</table>\n",
       "<p>5 rows × 42 columns</p>\n",
       "</div>"
      ],
      "text/plain": [
       "   created_at  tree_id  block_id  \\\n",
       "0  08/27/2015   180683    348711   \n",
       "1  09/03/2015   200540    315986   \n",
       "2  09/05/2015   204026    218365   \n",
       "3  09/05/2015   204337    217969   \n",
       "4  08/30/2015   189565    223043   \n",
       "\n",
       "                                        the_geom  tree_dbh  stump_diam  \\\n",
       "0  POINT (-73.84421521958048 40.723091773924274)         3           0   \n",
       "1   POINT (-73.81867945834878 40.79411066708779)        21           0   \n",
       "2  POINT (-73.93660770459083 40.717580740099116)         3           0   \n",
       "3  POINT (-73.93445615919741 40.713537494833226)        10           0   \n",
       "4   POINT (-73.97597938483258 40.66677775537875)        21           0   \n",
       "\n",
       "  curb_loc status health                           spc_latin  ... st_assem  \\\n",
       "0   OnCurb  Alive   Fair                         Acer rubrum  ...       28   \n",
       "1   OnCurb  Alive   Fair                   Quercus palustris  ...       27   \n",
       "2   OnCurb  Alive   Good  Gleditsia triacanthos var. inermis  ...       50   \n",
       "3   OnCurb  Alive   Good  Gleditsia triacanthos var. inermis  ...       53   \n",
       "4   OnCurb  Alive   Good                     Tilia americana  ...       44   \n",
       "\n",
       "  st_senate   nta            nta_name  boro_ct     state   Latitude  \\\n",
       "0        16  QN17        Forest Hills  4073900  New York  40.723092   \n",
       "1        11  QN49          Whitestone  4097300  New York  40.794111   \n",
       "2        18  BK90   East Williamsburg  3044900  New York  40.717581   \n",
       "3        18  BK90   East Williamsburg  3044900  New York  40.713537   \n",
       "4        21  BK37  Park Slope-Gowanus  3016500  New York  40.666778   \n",
       "\n",
       "   longitude          x_sp           y_sp  \n",
       "0 -73.844215  1.027431e+06  202756.768749  \n",
       "1 -73.818679  1.034456e+06  228644.837379  \n",
       "2 -73.936608  1.001823e+06  200716.891267  \n",
       "3 -73.934456  1.002420e+06  199244.253136  \n",
       "4 -73.975979  9.909138e+05  182202.425999  \n",
       "\n",
       "[5 rows x 42 columns]"
      ]
     },
     "execution_count": 3,
     "metadata": {},
     "output_type": "execute_result"
    }
   ],
   "source": [
    "trees_initial = pd.read_csv('data/2015StreetTreesCensus_TREES.csv')\n",
    "trees_initial.head()"
   ]
  },
  {
   "cell_type": "code",
   "execution_count": 4,
   "metadata": {},
   "outputs": [
    {
     "data": {
      "text/plain": [
       "(683788, 42)"
      ]
     },
     "execution_count": 4,
     "metadata": {},
     "output_type": "execute_result"
    }
   ],
   "source": [
    "trees_initial.shape"
   ]
  },
  {
   "cell_type": "code",
   "execution_count": 5,
   "metadata": {
    "collapsed": true
   },
   "outputs": [
    {
     "name": "stdout",
     "output_type": "stream",
     "text": [
      "<class 'pandas.core.frame.DataFrame'>\n",
      "RangeIndex: 683788 entries, 0 to 683787\n",
      "Data columns (total 42 columns):\n",
      " #   Column      Non-Null Count   Dtype  \n",
      "---  ------      --------------   -----  \n",
      " 0   created_at  683788 non-null  object \n",
      " 1   tree_id     683788 non-null  int64  \n",
      " 2   block_id    683788 non-null  int64  \n",
      " 3   the_geom    683788 non-null  object \n",
      " 4   tree_dbh    683788 non-null  int64  \n",
      " 5   stump_diam  683788 non-null  int64  \n",
      " 6   curb_loc    683788 non-null  object \n",
      " 7   status      683788 non-null  object \n",
      " 8   health      652172 non-null  object \n",
      " 9   spc_latin   652169 non-null  object \n",
      " 10  spc_common  652169 non-null  object \n",
      " 11  steward     652173 non-null  object \n",
      " 12  guards      652172 non-null  object \n",
      " 13  sidewalk    652172 non-null  object \n",
      " 14  user_type   683788 non-null  object \n",
      " 15  problems    652124 non-null  object \n",
      " 16  root_stone  683788 non-null  object \n",
      " 17  root_grate  683788 non-null  object \n",
      " 18  root_other  683788 non-null  object \n",
      " 19  trnk_wire   683788 non-null  object \n",
      " 20  trnk_light  683788 non-null  object \n",
      " 21  trnk_other  683788 non-null  object \n",
      " 22  brnch_ligh  683788 non-null  object \n",
      " 23  brnch_shoe  683788 non-null  object \n",
      " 24  brnch_othe  683788 non-null  object \n",
      " 25  address     683788 non-null  object \n",
      " 26  zipcode     683788 non-null  int64  \n",
      " 27  zip_city    683788 non-null  object \n",
      " 28  cb_num      683788 non-null  int64  \n",
      " 29  borocode    683788 non-null  int64  \n",
      " 30  boroname    683788 non-null  object \n",
      " 31  cncldist    683788 non-null  int64  \n",
      " 32  st_assem    683788 non-null  int64  \n",
      " 33  st_senate   683788 non-null  int64  \n",
      " 34  nta         683788 non-null  object \n",
      " 35  nta_name    683788 non-null  object \n",
      " 36  boro_ct     683788 non-null  int64  \n",
      " 37  state       683788 non-null  object \n",
      " 38  Latitude    683788 non-null  float64\n",
      " 39  longitude   683788 non-null  float64\n",
      " 40  x_sp        683788 non-null  float64\n",
      " 41  y_sp        683788 non-null  float64\n",
      "dtypes: float64(4), int64(11), object(27)\n",
      "memory usage: 219.1+ MB\n"
     ]
    }
   ],
   "source": [
    "trees_initial.info()"
   ]
  },
  {
   "cell_type": "code",
   "execution_count": 6,
   "metadata": {},
   "outputs": [
    {
     "data": {
      "text/html": [
       "<div>\n",
       "<style scoped>\n",
       "    .dataframe tbody tr th:only-of-type {\n",
       "        vertical-align: middle;\n",
       "    }\n",
       "\n",
       "    .dataframe tbody tr th {\n",
       "        vertical-align: top;\n",
       "    }\n",
       "\n",
       "    .dataframe thead th {\n",
       "        text-align: right;\n",
       "    }\n",
       "</style>\n",
       "<table border=\"1\" class=\"dataframe\">\n",
       "  <thead>\n",
       "    <tr style=\"text-align: right;\">\n",
       "      <th></th>\n",
       "      <th>tree_id</th>\n",
       "      <th>block_id</th>\n",
       "      <th>tree_dbh</th>\n",
       "      <th>stump_diam</th>\n",
       "      <th>zipcode</th>\n",
       "      <th>cb_num</th>\n",
       "      <th>borocode</th>\n",
       "      <th>cncldist</th>\n",
       "      <th>st_assem</th>\n",
       "      <th>st_senate</th>\n",
       "      <th>boro_ct</th>\n",
       "      <th>Latitude</th>\n",
       "      <th>longitude</th>\n",
       "      <th>x_sp</th>\n",
       "      <th>y_sp</th>\n",
       "    </tr>\n",
       "  </thead>\n",
       "  <tbody>\n",
       "    <tr>\n",
       "      <th>count</th>\n",
       "      <td>683788.000000</td>\n",
       "      <td>683788.000000</td>\n",
       "      <td>683788.000000</td>\n",
       "      <td>683788.000000</td>\n",
       "      <td>683788.000000</td>\n",
       "      <td>683788.000000</td>\n",
       "      <td>683788.000000</td>\n",
       "      <td>683788.000000</td>\n",
       "      <td>683788.000000</td>\n",
       "      <td>683788.000000</td>\n",
       "      <td>6.837880e+05</td>\n",
       "      <td>683788.000000</td>\n",
       "      <td>683788.000000</td>\n",
       "      <td>6.837880e+05</td>\n",
       "      <td>683788.000000</td>\n",
       "    </tr>\n",
       "    <tr>\n",
       "      <th>mean</th>\n",
       "      <td>365205.011085</td>\n",
       "      <td>313793.096236</td>\n",
       "      <td>11.279787</td>\n",
       "      <td>0.432463</td>\n",
       "      <td>10916.246044</td>\n",
       "      <td>343.505404</td>\n",
       "      <td>3.358500</td>\n",
       "      <td>29.943181</td>\n",
       "      <td>50.791583</td>\n",
       "      <td>20.615781</td>\n",
       "      <td>3.404914e+06</td>\n",
       "      <td>40.701261</td>\n",
       "      <td>-73.924060</td>\n",
       "      <td>1.005280e+06</td>\n",
       "      <td>194798.424624</td>\n",
       "    </tr>\n",
       "    <tr>\n",
       "      <th>std</th>\n",
       "      <td>208122.092902</td>\n",
       "      <td>114839.024312</td>\n",
       "      <td>8.723042</td>\n",
       "      <td>3.290241</td>\n",
       "      <td>651.553364</td>\n",
       "      <td>115.740601</td>\n",
       "      <td>1.166746</td>\n",
       "      <td>14.328531</td>\n",
       "      <td>18.966520</td>\n",
       "      <td>7.390844</td>\n",
       "      <td>1.175863e+06</td>\n",
       "      <td>0.090311</td>\n",
       "      <td>0.123583</td>\n",
       "      <td>3.428505e+04</td>\n",
       "      <td>32902.061114</td>\n",
       "    </tr>\n",
       "    <tr>\n",
       "      <th>min</th>\n",
       "      <td>3.000000</td>\n",
       "      <td>100002.000000</td>\n",
       "      <td>0.000000</td>\n",
       "      <td>0.000000</td>\n",
       "      <td>83.000000</td>\n",
       "      <td>101.000000</td>\n",
       "      <td>1.000000</td>\n",
       "      <td>1.000000</td>\n",
       "      <td>23.000000</td>\n",
       "      <td>10.000000</td>\n",
       "      <td>1.000201e+06</td>\n",
       "      <td>40.498466</td>\n",
       "      <td>-74.254965</td>\n",
       "      <td>9.133493e+05</td>\n",
       "      <td>120973.792223</td>\n",
       "    </tr>\n",
       "    <tr>\n",
       "      <th>25%</th>\n",
       "      <td>186582.750000</td>\n",
       "      <td>221556.000000</td>\n",
       "      <td>4.000000</td>\n",
       "      <td>0.000000</td>\n",
       "      <td>10451.000000</td>\n",
       "      <td>302.000000</td>\n",
       "      <td>3.000000</td>\n",
       "      <td>19.000000</td>\n",
       "      <td>33.000000</td>\n",
       "      <td>14.000000</td>\n",
       "      <td>3.011700e+06</td>\n",
       "      <td>40.631928</td>\n",
       "      <td>-73.980500</td>\n",
       "      <td>9.896578e+05</td>\n",
       "      <td>169515.153719</td>\n",
       "    </tr>\n",
       "    <tr>\n",
       "      <th>50%</th>\n",
       "      <td>366214.500000</td>\n",
       "      <td>319967.000000</td>\n",
       "      <td>9.000000</td>\n",
       "      <td>0.000000</td>\n",
       "      <td>11214.000000</td>\n",
       "      <td>402.000000</td>\n",
       "      <td>4.000000</td>\n",
       "      <td>30.000000</td>\n",
       "      <td>52.000000</td>\n",
       "      <td>21.000000</td>\n",
       "      <td>4.008100e+06</td>\n",
       "      <td>40.700612</td>\n",
       "      <td>-73.912911</td>\n",
       "      <td>1.008386e+06</td>\n",
       "      <td>194560.252497</td>\n",
       "    </tr>\n",
       "    <tr>\n",
       "      <th>75%</th>\n",
       "      <td>546170.250000</td>\n",
       "      <td>404624.000000</td>\n",
       "      <td>16.000000</td>\n",
       "      <td>0.000000</td>\n",
       "      <td>11365.000000</td>\n",
       "      <td>412.000000</td>\n",
       "      <td>4.000000</td>\n",
       "      <td>43.000000</td>\n",
       "      <td>64.000000</td>\n",
       "      <td>25.000000</td>\n",
       "      <td>4.103202e+06</td>\n",
       "      <td>40.762228</td>\n",
       "      <td>-73.834910</td>\n",
       "      <td>1.029991e+06</td>\n",
       "      <td>217019.571916</td>\n",
       "    </tr>\n",
       "    <tr>\n",
       "      <th>max</th>\n",
       "      <td>722694.000000</td>\n",
       "      <td>999999.000000</td>\n",
       "      <td>450.000000</td>\n",
       "      <td>140.000000</td>\n",
       "      <td>11697.000000</td>\n",
       "      <td>503.000000</td>\n",
       "      <td>5.000000</td>\n",
       "      <td>51.000000</td>\n",
       "      <td>87.000000</td>\n",
       "      <td>36.000000</td>\n",
       "      <td>5.032300e+06</td>\n",
       "      <td>40.912918</td>\n",
       "      <td>-73.700488</td>\n",
       "      <td>1.067248e+06</td>\n",
       "      <td>271894.092088</td>\n",
       "    </tr>\n",
       "  </tbody>\n",
       "</table>\n",
       "</div>"
      ],
      "text/plain": [
       "             tree_id       block_id       tree_dbh     stump_diam  \\\n",
       "count  683788.000000  683788.000000  683788.000000  683788.000000   \n",
       "mean   365205.011085  313793.096236      11.279787       0.432463   \n",
       "std    208122.092902  114839.024312       8.723042       3.290241   \n",
       "min         3.000000  100002.000000       0.000000       0.000000   \n",
       "25%    186582.750000  221556.000000       4.000000       0.000000   \n",
       "50%    366214.500000  319967.000000       9.000000       0.000000   \n",
       "75%    546170.250000  404624.000000      16.000000       0.000000   \n",
       "max    722694.000000  999999.000000     450.000000     140.000000   \n",
       "\n",
       "             zipcode         cb_num       borocode       cncldist  \\\n",
       "count  683788.000000  683788.000000  683788.000000  683788.000000   \n",
       "mean    10916.246044     343.505404       3.358500      29.943181   \n",
       "std       651.553364     115.740601       1.166746      14.328531   \n",
       "min        83.000000     101.000000       1.000000       1.000000   \n",
       "25%     10451.000000     302.000000       3.000000      19.000000   \n",
       "50%     11214.000000     402.000000       4.000000      30.000000   \n",
       "75%     11365.000000     412.000000       4.000000      43.000000   \n",
       "max     11697.000000     503.000000       5.000000      51.000000   \n",
       "\n",
       "            st_assem      st_senate       boro_ct       Latitude  \\\n",
       "count  683788.000000  683788.000000  6.837880e+05  683788.000000   \n",
       "mean       50.791583      20.615781  3.404914e+06      40.701261   \n",
       "std        18.966520       7.390844  1.175863e+06       0.090311   \n",
       "min        23.000000      10.000000  1.000201e+06      40.498466   \n",
       "25%        33.000000      14.000000  3.011700e+06      40.631928   \n",
       "50%        52.000000      21.000000  4.008100e+06      40.700612   \n",
       "75%        64.000000      25.000000  4.103202e+06      40.762228   \n",
       "max        87.000000      36.000000  5.032300e+06      40.912918   \n",
       "\n",
       "           longitude          x_sp           y_sp  \n",
       "count  683788.000000  6.837880e+05  683788.000000  \n",
       "mean      -73.924060  1.005280e+06  194798.424624  \n",
       "std         0.123583  3.428505e+04   32902.061114  \n",
       "min       -74.254965  9.133493e+05  120973.792223  \n",
       "25%       -73.980500  9.896578e+05  169515.153719  \n",
       "50%       -73.912911  1.008386e+06  194560.252497  \n",
       "75%       -73.834910  1.029991e+06  217019.571916  \n",
       "max       -73.700488  1.067248e+06  271894.092088  "
      ]
     },
     "execution_count": 6,
     "metadata": {},
     "output_type": "execute_result"
    }
   ],
   "source": [
    "trees_initial.describe()"
   ]
  },
  {
   "cell_type": "markdown",
   "metadata": {},
   "source": [
    "* Rename some columns."
   ]
  },
  {
   "cell_type": "code",
   "execution_count": 7,
   "metadata": {},
   "outputs": [],
   "source": [
    "trees_initial.columns = ['created_at', 'tree_id', 'block_id', 'the_geom', 'tree_dbh',\n",
    "       'stump_diam', 'curb_loc', 'status', 'health', 'spc_latin', 'spc_common',\n",
    "       'steward', 'guards', 'sidewalk', 'user_type', 'problems', 'root_stone',\n",
    "       'root_grate', 'root_other', 'trunk_wire', 'trunk_light', 'trunk_other',\n",
    "       'branch_light', 'branch_shoe', 'branch_other', 'address', 'zipcode',\n",
    "       'zip_city', 'cb_num', 'borocode', 'boroname', 'council_dist', 'st_assem',\n",
    "       'st_senate', 'nta', 'nta_name', 'boro_ct', 'state', 'latitude',\n",
    "       'longitude', 'x_sp', 'y_sp']"
   ]
  },
  {
   "cell_type": "markdown",
   "metadata": {},
   "source": [
    "* Remove stumps and dead trees."
   ]
  },
  {
   "cell_type": "code",
   "execution_count": 8,
   "metadata": {},
   "outputs": [
    {
     "data": {
      "text/plain": [
       "Alive    652173\n",
       "Stump     17654\n",
       "Dead      13961\n",
       "Name: status, dtype: int64"
      ]
     },
     "execution_count": 8,
     "metadata": {},
     "output_type": "execute_result"
    }
   ],
   "source": [
    "trees_initial.status.value_counts()"
   ]
  },
  {
   "cell_type": "code",
   "execution_count": 9,
   "metadata": {},
   "outputs": [
    {
     "data": {
      "text/plain": [
       "(652173, 42)"
      ]
     },
     "execution_count": 9,
     "metadata": {},
     "output_type": "execute_result"
    }
   ],
   "source": [
    "# Get indices of dead trees and stumps\n",
    "dead = trees_initial[trees_initial.status.isin(['Dead', 'Stump'])].index\n",
    " \n",
    "# Delete these row indices from dataFrame\n",
    "trees_initial.drop(dead, inplace=True)\n",
    "\n",
    "trees_initial.shape"
   ]
  },
  {
   "cell_type": "markdown",
   "metadata": {},
   "source": [
    "* Drop some unneccesary columns and set the index to the **tree_id**."
   ]
  },
  {
   "cell_type": "code",
   "execution_count": 10,
   "metadata": {},
   "outputs": [
    {
     "data": {
      "text/plain": [
       "(652173, 27)"
      ]
     },
     "execution_count": 10,
     "metadata": {},
     "output_type": "execute_result"
    }
   ],
   "source": [
    "drop_cols = ['created_at', 'the_geom', 'stump_diam', 'status', 'spc_latin', 'problems', 'address', 'zipcode',\n",
    "             'zip_city', 'borocode', 'boro_ct', 'state', 'x_sp', 'y_sp']\n",
    "trees_initial.drop(columns=drop_cols, inplace=True)\n",
    "trees_initial.set_index(['tree_id'], inplace=True)\n",
    "trees_initial.shape"
   ]
  },
  {
   "cell_type": "markdown",
   "metadata": {},
   "source": [
    "* Save a copy."
   ]
  },
  {
   "cell_type": "code",
   "execution_count": 11,
   "metadata": {},
   "outputs": [],
   "source": [
    "# uncomment to save\n",
    "# trees_initial.to_csv('data/nyc_trees_2015_initial_clean.csv')"
   ]
  },
  {
   "cell_type": "code",
   "execution_count": 12,
   "metadata": {},
   "outputs": [
    {
     "data": {
      "text/html": [
       "<div>\n",
       "<style scoped>\n",
       "    .dataframe tbody tr th:only-of-type {\n",
       "        vertical-align: middle;\n",
       "    }\n",
       "\n",
       "    .dataframe tbody tr th {\n",
       "        vertical-align: top;\n",
       "    }\n",
       "\n",
       "    .dataframe thead th {\n",
       "        text-align: right;\n",
       "    }\n",
       "</style>\n",
       "<table border=\"1\" class=\"dataframe\">\n",
       "  <thead>\n",
       "    <tr style=\"text-align: right;\">\n",
       "      <th></th>\n",
       "      <th>block_id</th>\n",
       "      <th>tree_dbh</th>\n",
       "      <th>curb_loc</th>\n",
       "      <th>health</th>\n",
       "      <th>spc_common</th>\n",
       "      <th>steward</th>\n",
       "      <th>guards</th>\n",
       "      <th>sidewalk</th>\n",
       "      <th>user_type</th>\n",
       "      <th>root_stone</th>\n",
       "      <th>...</th>\n",
       "      <th>branch_other</th>\n",
       "      <th>cb_num</th>\n",
       "      <th>boroname</th>\n",
       "      <th>council_dist</th>\n",
       "      <th>st_assem</th>\n",
       "      <th>st_senate</th>\n",
       "      <th>nta</th>\n",
       "      <th>nta_name</th>\n",
       "      <th>latitude</th>\n",
       "      <th>longitude</th>\n",
       "    </tr>\n",
       "    <tr>\n",
       "      <th>tree_id</th>\n",
       "      <th></th>\n",
       "      <th></th>\n",
       "      <th></th>\n",
       "      <th></th>\n",
       "      <th></th>\n",
       "      <th></th>\n",
       "      <th></th>\n",
       "      <th></th>\n",
       "      <th></th>\n",
       "      <th></th>\n",
       "      <th></th>\n",
       "      <th></th>\n",
       "      <th></th>\n",
       "      <th></th>\n",
       "      <th></th>\n",
       "      <th></th>\n",
       "      <th></th>\n",
       "      <th></th>\n",
       "      <th></th>\n",
       "      <th></th>\n",
       "      <th></th>\n",
       "    </tr>\n",
       "  </thead>\n",
       "  <tbody>\n",
       "    <tr>\n",
       "      <th>180683</th>\n",
       "      <td>348711</td>\n",
       "      <td>3</td>\n",
       "      <td>OnCurb</td>\n",
       "      <td>Fair</td>\n",
       "      <td>red maple</td>\n",
       "      <td>None</td>\n",
       "      <td>None</td>\n",
       "      <td>NoDamage</td>\n",
       "      <td>TreesCount Staff</td>\n",
       "      <td>No</td>\n",
       "      <td>...</td>\n",
       "      <td>No</td>\n",
       "      <td>406</td>\n",
       "      <td>Queens</td>\n",
       "      <td>29</td>\n",
       "      <td>28</td>\n",
       "      <td>16</td>\n",
       "      <td>QN17</td>\n",
       "      <td>Forest Hills</td>\n",
       "      <td>40.723092</td>\n",
       "      <td>-73.844215</td>\n",
       "    </tr>\n",
       "    <tr>\n",
       "      <th>200540</th>\n",
       "      <td>315986</td>\n",
       "      <td>21</td>\n",
       "      <td>OnCurb</td>\n",
       "      <td>Fair</td>\n",
       "      <td>pin oak</td>\n",
       "      <td>None</td>\n",
       "      <td>None</td>\n",
       "      <td>Damage</td>\n",
       "      <td>TreesCount Staff</td>\n",
       "      <td>Yes</td>\n",
       "      <td>...</td>\n",
       "      <td>No</td>\n",
       "      <td>407</td>\n",
       "      <td>Queens</td>\n",
       "      <td>19</td>\n",
       "      <td>27</td>\n",
       "      <td>11</td>\n",
       "      <td>QN49</td>\n",
       "      <td>Whitestone</td>\n",
       "      <td>40.794111</td>\n",
       "      <td>-73.818679</td>\n",
       "    </tr>\n",
       "    <tr>\n",
       "      <th>204026</th>\n",
       "      <td>218365</td>\n",
       "      <td>3</td>\n",
       "      <td>OnCurb</td>\n",
       "      <td>Good</td>\n",
       "      <td>honeylocust</td>\n",
       "      <td>1or2</td>\n",
       "      <td>None</td>\n",
       "      <td>Damage</td>\n",
       "      <td>Volunteer</td>\n",
       "      <td>No</td>\n",
       "      <td>...</td>\n",
       "      <td>No</td>\n",
       "      <td>301</td>\n",
       "      <td>Brooklyn</td>\n",
       "      <td>34</td>\n",
       "      <td>50</td>\n",
       "      <td>18</td>\n",
       "      <td>BK90</td>\n",
       "      <td>East Williamsburg</td>\n",
       "      <td>40.717581</td>\n",
       "      <td>-73.936608</td>\n",
       "    </tr>\n",
       "    <tr>\n",
       "      <th>204337</th>\n",
       "      <td>217969</td>\n",
       "      <td>10</td>\n",
       "      <td>OnCurb</td>\n",
       "      <td>Good</td>\n",
       "      <td>honeylocust</td>\n",
       "      <td>None</td>\n",
       "      <td>None</td>\n",
       "      <td>Damage</td>\n",
       "      <td>Volunteer</td>\n",
       "      <td>Yes</td>\n",
       "      <td>...</td>\n",
       "      <td>No</td>\n",
       "      <td>301</td>\n",
       "      <td>Brooklyn</td>\n",
       "      <td>34</td>\n",
       "      <td>53</td>\n",
       "      <td>18</td>\n",
       "      <td>BK90</td>\n",
       "      <td>East Williamsburg</td>\n",
       "      <td>40.713537</td>\n",
       "      <td>-73.934456</td>\n",
       "    </tr>\n",
       "    <tr>\n",
       "      <th>189565</th>\n",
       "      <td>223043</td>\n",
       "      <td>21</td>\n",
       "      <td>OnCurb</td>\n",
       "      <td>Good</td>\n",
       "      <td>American linden</td>\n",
       "      <td>None</td>\n",
       "      <td>None</td>\n",
       "      <td>Damage</td>\n",
       "      <td>Volunteer</td>\n",
       "      <td>Yes</td>\n",
       "      <td>...</td>\n",
       "      <td>No</td>\n",
       "      <td>306</td>\n",
       "      <td>Brooklyn</td>\n",
       "      <td>39</td>\n",
       "      <td>44</td>\n",
       "      <td>21</td>\n",
       "      <td>BK37</td>\n",
       "      <td>Park Slope-Gowanus</td>\n",
       "      <td>40.666778</td>\n",
       "      <td>-73.975979</td>\n",
       "    </tr>\n",
       "  </tbody>\n",
       "</table>\n",
       "<p>5 rows × 27 columns</p>\n",
       "</div>"
      ],
      "text/plain": [
       "         block_id  tree_dbh curb_loc health       spc_common steward guards  \\\n",
       "tree_id                                                                       \n",
       "180683     348711         3   OnCurb   Fair        red maple    None   None   \n",
       "200540     315986        21   OnCurb   Fair          pin oak    None   None   \n",
       "204026     218365         3   OnCurb   Good      honeylocust    1or2   None   \n",
       "204337     217969        10   OnCurb   Good      honeylocust    None   None   \n",
       "189565     223043        21   OnCurb   Good  American linden    None   None   \n",
       "\n",
       "         sidewalk         user_type root_stone  ... branch_other cb_num  \\\n",
       "tree_id                                         ...                       \n",
       "180683   NoDamage  TreesCount Staff         No  ...           No    406   \n",
       "200540     Damage  TreesCount Staff        Yes  ...           No    407   \n",
       "204026     Damage         Volunteer         No  ...           No    301   \n",
       "204337     Damage         Volunteer        Yes  ...           No    301   \n",
       "189565     Damage         Volunteer        Yes  ...           No    306   \n",
       "\n",
       "         boroname council_dist st_assem st_senate   nta            nta_name  \\\n",
       "tree_id                                                                       \n",
       "180683     Queens           29       28        16  QN17        Forest Hills   \n",
       "200540     Queens           19       27        11  QN49          Whitestone   \n",
       "204026   Brooklyn           34       50        18  BK90   East Williamsburg   \n",
       "204337   Brooklyn           34       53        18  BK90   East Williamsburg   \n",
       "189565   Brooklyn           39       44        21  BK37  Park Slope-Gowanus   \n",
       "\n",
       "          latitude  longitude  \n",
       "tree_id                        \n",
       "180683   40.723092 -73.844215  \n",
       "200540   40.794111 -73.818679  \n",
       "204026   40.717581 -73.936608  \n",
       "204337   40.713537 -73.934456  \n",
       "189565   40.666778 -73.975979  \n",
       "\n",
       "[5 rows x 27 columns]"
      ]
     },
     "execution_count": 12,
     "metadata": {},
     "output_type": "execute_result"
    }
   ],
   "source": [
    "trees_mapmaking = pd.read_csv('data/nyc_trees_2015_initial_clean.csv', index_col=0)\n",
    "trees_mapmaking.head()"
   ]
  },
  {
   "cell_type": "markdown",
   "metadata": {},
   "source": [
    "## Mapmaking"
   ]
  },
  {
   "cell_type": "code",
   "execution_count": 48,
   "metadata": {},
   "outputs": [
    {
     "data": {
      "text/plain": [
       "[(40.72309177, -73.84421522, 'Fair'),\n",
       " (40.79411067, -73.81867946, 'Fair'),\n",
       " (40.71758074, -73.93660770000002, 'Good'),\n",
       " (40.71353749, -73.93445616, 'Good'),\n",
       " (40.66677776, -73.97597938, 'Good')]"
      ]
     },
     "execution_count": 48,
     "metadata": {},
     "output_type": "execute_result"
    }
   ],
   "source": [
    "# Make a list of latitude, longitude, and health status for all datapoints\n",
    "latlon = [(lat, lon, health) for lat, lon, health in zip(list(trees_mapmaking.latitude),\n",
    "                                                         list(trees_mapmaking.longitude),\n",
    "                                                         list(trees_mapmaking.health))]\n",
    "latlon[:5]"
   ]
  },
  {
   "cell_type": "markdown",
   "metadata": {},
   "source": [
    "* Uncomment code below to make a map of all the datapoints. *WARNING: takes awhile and the output html file is over 300MB and very laggy.*"
   ]
  },
  {
   "cell_type": "code",
   "execution_count": 49,
   "metadata": {},
   "outputs": [],
   "source": [
    "# tree_map = folium.Map(location=[40.700991, -73.924587], zoom_start=11)\n",
    "\n",
    "# for coord in latlon:\n",
    "#     if coord[2] == 'Good':\n",
    "#         folium.Circle(location=[coord[0], coord[1]], radius=1, color='green').add_to(tree_map)\n",
    "#     elif coord[2] == 'Fair':\n",
    "#         folium.Circle(location=[coord[0], coord[1]], radius=1, color='yellow').add_to(tree_map)\n",
    "#     else:\n",
    "#         folium.Circle(location=[coord[0], coord[1]], radius=1, color='red').add_to(tree_map)\n",
    "\n",
    "# tree_map.save('maps/tree_health_map.html')"
   ]
  },
  {
   "cell_type": "markdown",
   "metadata": {},
   "source": [
    "* Let's make some maps on a smaller scale.\n",
    "    * First let's look at the five community board areas with the highest proportion of trees in 'Good' health.\n",
    "    * Then let's look at the five community board areas with the highest proportion of trees in 'Poor' health.\n",
    "    \n",
    "### Healthy trees map"
   ]
  },
  {
   "cell_type": "code",
   "execution_count": 43,
   "metadata": {},
   "outputs": [
    {
     "data": {
      "text/plain": [
       "Index(['MN50', 'QN02', 'QN49', 'MN13', 'BK93', 'SI07', 'SI28', 'BX37', 'SI35',\n",
       "       'QN07'],\n",
       "      dtype='object', name='nta')"
      ]
     },
     "execution_count": 43,
     "metadata": {},
     "output_type": "execute_result"
    }
   ],
   "source": [
    "healthiest = trees_mapmaking.groupby(['nta']).health.value_counts(normalize=True).unstack().sort_values('Good', ascending=False).head(10)\n",
    "healthiest.index\n"
   ]
  },
  {
   "cell_type": "code",
   "execution_count": 44,
   "metadata": {},
   "outputs": [
    {
     "data": {
      "text/plain": [
       "latitude     40.708752\n",
       "longitude   -73.945031\n",
       "dtype: float64"
      ]
     },
     "execution_count": 44,
     "metadata": {},
     "output_type": "execute_result"
    }
   ],
   "source": [
    "# create new dataframe with just these ten neighborhoods\n",
    "most_good_trees = trees_mapmaking[trees_mapmaking.nta.isin(list(healthiest.index))]\n",
    "# find the average coordinates, so we can set the center of our map\n",
    "most_good_trees[['latitude', 'longitude']].mean()"
   ]
  },
  {
   "cell_type": "code",
   "execution_count": 45,
   "metadata": {},
   "outputs": [
    {
     "data": {
      "text/plain": [
       "[(40.79411067, -73.81867946, 'Fair'),\n",
       " (40.7337165, -73.97705764, 'Fair'),\n",
       " (40.793138, -73.81946649, 'Good'),\n",
       " (40.73357762, -73.97672526, 'Fair'),\n",
       " (40.73346807, -73.97646308, 'Good')]"
      ]
     },
     "execution_count": 45,
     "metadata": {},
     "output_type": "execute_result"
    }
   ],
   "source": [
    "# Make a list of latitude, longitude, and health status for all datapoints\n",
    "latlon_best = [(lat, lon, health) for lat, lon, health in zip(list(most_good_trees.latitude),\n",
    "                                                         list(most_good_trees.longitude),\n",
    "                                                         list(most_good_trees.health))]\n",
    "latlon_best[:5]"
   ]
  },
  {
   "cell_type": "code",
   "execution_count": 54,
   "metadata": {},
   "outputs": [],
   "source": [
    "healthy_nta_map = folium.Map(location=[40.708752, -73.945031], zoom_start=11)\n",
    "\n",
    "for coord in latlon_best:\n",
    "    if coord[2] == 'Good':\n",
    "        folium.Circle(location=[coord[0], coord[1]], radius=1, color='green').add_to(healthy_nta_map)\n",
    "    elif coord[2] == 'Fair':\n",
    "        folium.Circle(location=[coord[0], coord[1]], radius=1, color='yellow').add_to(healthy_nta_map)\n",
    "    else:\n",
    "        folium.Circle(location=[coord[0], coord[1]], radius=1, color='red').add_to(healthy_nta_map)\n",
    "\n",
    "healthy_nta_map.save('maps/healthy_nta_map.html')"
   ]
  },
  {
   "cell_type": "markdown",
   "metadata": {},
   "source": [
    "### Poorest health trees map"
   ]
  },
  {
   "cell_type": "code",
   "execution_count": 67,
   "metadata": {},
   "outputs": [
    {
     "data": {
      "text/plain": [
       "Index(['QN10', 'QN12', 'MN31', 'MN32', 'MN36', 'QN20', 'MN20', 'MN17', 'MN01',\n",
       "       'MN34'],\n",
       "      dtype='object', name='nta')"
      ]
     },
     "execution_count": 67,
     "metadata": {},
     "output_type": "execute_result"
    }
   ],
   "source": [
    "poorest_health = trees_mapmaking.groupby(['nta']).health.value_counts(normalize=True).unstack().sort_values('Poor', ascending=False).head(10)\n",
    "poorest_health.index"
   ]
  },
  {
   "cell_type": "code",
   "execution_count": 50,
   "metadata": {},
   "outputs": [
    {
     "data": {
      "text/plain": [
       "Index(['QN12', 'QN10', 'MN17', 'MN31', 'BK23', 'BK21', 'MN20', 'MN35', 'MN01',\n",
       "       'BX01'],\n",
       "      dtype='object', name='nta')"
      ]
     },
     "execution_count": 50,
     "metadata": {},
     "output_type": "execute_result"
    }
   ],
   "source": [
    "poorest_health = trees_mapmaking.groupby(['nta']).health.value_counts(normalize=True).unstack().sort_values('Good', ascending=True).head(10)\n",
    "poorest_health.index\n"
   ]
  },
  {
   "cell_type": "code",
   "execution_count": 51,
   "metadata": {},
   "outputs": [
    {
     "data": {
      "text/plain": [
       "latitude     40.710840\n",
       "longitude   -73.904969\n",
       "dtype: float64"
      ]
     },
     "execution_count": 51,
     "metadata": {},
     "output_type": "execute_result"
    }
   ],
   "source": [
    "# create new dataframe with just these five community boards\n",
    "most_poor_trees = trees_mapmaking[trees_mapmaking.nta.isin(list(poorest_health.index))]\n",
    "# find the average coordinates, so we can set the center of our map\n",
    "most_poor_trees[['latitude', 'longitude']].mean()"
   ]
  },
  {
   "cell_type": "code",
   "execution_count": 52,
   "metadata": {},
   "outputs": [
    {
     "data": {
      "text/plain": [
       "[(40.74503399, -73.98253015, 'Fair'),\n",
       " (40.74829709, -73.98065645, 'Good'),\n",
       " (40.59626688, -73.77234286, 'Fair'),\n",
       " (40.59683648, -73.77245394, 'Poor'),\n",
       " (40.77277225, -73.95532709999998, 'Good')]"
      ]
     },
     "execution_count": 52,
     "metadata": {},
     "output_type": "execute_result"
    }
   ],
   "source": [
    "# Make a list of latitude, longitude, and health status for all datapoints\n",
    "latlon_worst = [(lat, lon, health) for lat, lon, health in zip(list(most_poor_trees.latitude),\n",
    "                                                         list(most_poor_trees.longitude),\n",
    "                                                         list(most_poor_trees.health))]\n",
    "latlon_worst[:5]"
   ]
  },
  {
   "cell_type": "code",
   "execution_count": 55,
   "metadata": {},
   "outputs": [],
   "source": [
    "poor_health_nta_map = folium.Map(location=[40.710840, -73.904969], zoom_start=11)\n",
    "\n",
    "for coord in latlon_worst:\n",
    "    if coord[2] == 'Good':\n",
    "        folium.Circle(location=[coord[0], coord[1]], radius=1, color='green').add_to(poor_health_nta_map)\n",
    "    elif coord[2] == 'Fair':\n",
    "        folium.Circle(location=[coord[0], coord[1]], radius=1, color='yellow').add_to(poor_health_nta_map)\n",
    "    else:\n",
    "        folium.Circle(location=[coord[0], coord[1]], radius=1, color='red').add_to(poor_health_nta_map)\n",
    "\n",
    "poor_health_nta_map.save('maps/poor_health_nta_map.html')"
   ]
  },
  {
   "cell_type": "markdown",
   "metadata": {},
   "source": [
    "### Bushwick trees\n",
    "* Make a map on a smaller scale, using my neighborhood of Bushwick as an example. *NOTE: you can use any community board number or combination of neighborhoods, for example.*"
   ]
  },
  {
   "cell_type": "code",
   "execution_count": 57,
   "metadata": {},
   "outputs": [
    {
     "data": {
      "text/plain": [
       "latitude     40.696207\n",
       "longitude   -73.918556\n",
       "dtype: float64"
      ]
     },
     "execution_count": 57,
     "metadata": {},
     "output_type": "execute_result"
    }
   ],
   "source": [
    "bushwick = trees_mapmaking[trees_mapmaking.cb_num == 304]\n",
    "# find the average coordinates, so we can set the center of our map\n",
    "bushwick[['latitude', 'longitude']].mean()"
   ]
  },
  {
   "cell_type": "code",
   "execution_count": 58,
   "metadata": {},
   "outputs": [
    {
     "data": {
      "text/plain": [
       "[(40.69775112, -73.90933909, 'Fair'),\n",
       " (40.70233782, -73.91521777, 'Good'),\n",
       " (40.69791922, -73.90830664, 'Good'),\n",
       " (40.68280728, -73.90979496, 'Good'),\n",
       " (40.70256662, -73.91498455, 'Good')]"
      ]
     },
     "execution_count": 58,
     "metadata": {},
     "output_type": "execute_result"
    }
   ],
   "source": [
    "latlon_bushwick = [(lat, lon, health) for lat, lon, health in zip(list(bushwick.latitude),\n",
    "                                                                  list(bushwick.longitude),\n",
    "                                                                  list(bushwick.health))]\n",
    "latlon_bushwick[:5]"
   ]
  },
  {
   "cell_type": "code",
   "execution_count": 59,
   "metadata": {},
   "outputs": [],
   "source": [
    "bushwick_map = folium.Map(location=[40.696207, -73.918556], zoom_start=15)\n",
    "\n",
    "for coord in latlon_bushwick:\n",
    "    if coord[2] == 'Good':\n",
    "        folium.Circle(location=[coord[0], coord[1]], radius=1, color='green').add_to(bushwick_map)\n",
    "    elif coord[2] == 'Fair':\n",
    "        folium.Circle(location=[coord[0], coord[1]], radius=1, color='yellow').add_to(bushwick_map)\n",
    "    else:\n",
    "        folium.Circle(location=[coord[0], coord[1]], radius=1, color='red').add_to(bushwick_map)\n",
    "\n",
    "bushwick_map.save('maps/bushwick_tree_health_map.html')"
   ]
  },
  {
   "cell_type": "markdown",
   "metadata": {},
   "source": [
    "### Maps by census taker (professional vs. volunteer)"
   ]
  },
  {
   "cell_type": "code",
   "execution_count": 63,
   "metadata": {},
   "outputs": [],
   "source": [
    "# create new dataframe with just professional census takers\n",
    "pro_trees = trees_mapmaking[trees_mapmaking.user_type.isin(['TreesCount Staff', 'NYC Parks Staff'])]\n",
    "# create new dataframe with just volunteer census takers\n",
    "vol_trees = trees_mapmaking[trees_mapmaking.user_type == 'Volunteer']"
   ]
  },
  {
   "cell_type": "code",
   "execution_count": 64,
   "metadata": {},
   "outputs": [],
   "source": [
    "# Make a list of latitude, longitude, and health status for all datapoints\n",
    "latlon_pros = [(lat, lon, health) for lat, lon, health in zip(list(pro_trees.latitude),\n",
    "                                                         list(pro_trees.longitude),\n",
    "                                                         list(pro_trees.health))]\n",
    "\n",
    "latlon_vols = [(lat, lon, health) for lat, lon, health in zip(list(vol_trees.latitude),\n",
    "                                                         list(vol_trees.longitude),\n",
    "                                                         list(vol_trees.health))]"
   ]
  },
  {
   "cell_type": "markdown",
   "metadata": {},
   "source": [
    "* Uncomment code below to make a map of all the datapoints. *WARNING: takes awhile and the output html file is over 300MB and very laggy.*"
   ]
  },
  {
   "cell_type": "code",
   "execution_count": 65,
   "metadata": {},
   "outputs": [],
   "source": [
    "# pro_map = folium.Map(location=[40.700991, -73.924587], zoom_start=11)\n",
    "\n",
    "# for coord in latlon_pros:\n",
    "#     if coord[2] == 'Good':\n",
    "#         folium.Circle(location=[coord[0], coord[1]], radius=1, color='green').add_to(pro_map)\n",
    "#     elif coord[2] == 'Fair':\n",
    "#         folium.Circle(location=[coord[0], coord[1]], radius=1, color='yellow').add_to(pro_map)\n",
    "#     else:\n",
    "#         folium.Circle(location=[coord[0], coord[1]], radius=1, color='red').add_to(pro_map)\n",
    "\n",
    "# pro_map.save('maps/pro_census_map.html')"
   ]
  },
  {
   "cell_type": "code",
   "execution_count": 66,
   "metadata": {},
   "outputs": [],
   "source": [
    "# vol_map = folium.Map(location=[40.700991, -73.924587], zoom_start=11)\n",
    "\n",
    "# for coord in latlon_vols:\n",
    "#     if coord[2] == 'Good':\n",
    "#         folium.Circle(location=[coord[0], coord[1]], radius=1, color='green').add_to(vol_map)\n",
    "#     elif coord[2] == 'Fair':\n",
    "#         folium.Circle(location=[coord[0], coord[1]], radius=1, color='yellow').add_to(vol_map)\n",
    "#     else:\n",
    "#         folium.Circle(location=[coord[0], coord[1]], radius=1, color='red').add_to(vol_map)\n",
    "\n",
    "# vol_map.save('maps/vol_census_map.html')"
   ]
  },
  {
   "cell_type": "markdown",
   "metadata": {},
   "source": [
    "### Best/worst community board"
   ]
  },
  {
   "cell_type": "code",
   "execution_count": 78,
   "metadata": {},
   "outputs": [
    {
     "data": {
      "text/html": [
       "<div>\n",
       "<style scoped>\n",
       "    .dataframe tbody tr th:only-of-type {\n",
       "        vertical-align: middle;\n",
       "    }\n",
       "\n",
       "    .dataframe tbody tr th {\n",
       "        vertical-align: top;\n",
       "    }\n",
       "\n",
       "    .dataframe thead th {\n",
       "        text-align: right;\n",
       "    }\n",
       "</style>\n",
       "<table border=\"1\" class=\"dataframe\">\n",
       "  <thead>\n",
       "    <tr style=\"text-align: right;\">\n",
       "      <th>health</th>\n",
       "      <th>Fair</th>\n",
       "      <th>Good</th>\n",
       "      <th>Poor</th>\n",
       "    </tr>\n",
       "    <tr>\n",
       "      <th>cb_num</th>\n",
       "      <th></th>\n",
       "      <th></th>\n",
       "      <th></th>\n",
       "    </tr>\n",
       "  </thead>\n",
       "  <tbody>\n",
       "    <tr>\n",
       "      <th>210</th>\n",
       "      <td>0.095958</td>\n",
       "      <td>0.877063</td>\n",
       "      <td>0.026979</td>\n",
       "    </tr>\n",
       "  </tbody>\n",
       "</table>\n",
       "</div>"
      ],
      "text/plain": [
       "health      Fair      Good      Poor\n",
       "cb_num                              \n",
       "210     0.095958  0.877063  0.026979"
      ]
     },
     "execution_count": 78,
     "metadata": {},
     "output_type": "execute_result"
    }
   ],
   "source": [
    "trees_mapmaking.groupby(['cb_num']).health.value_counts(normalize=True).unstack().sort_values('Good', ascending=False).head(1)"
   ]
  },
  {
   "cell_type": "code",
   "execution_count": 77,
   "metadata": {
    "scrolled": true
   },
   "outputs": [
    {
     "data": {
      "text/html": [
       "<div>\n",
       "<style scoped>\n",
       "    .dataframe tbody tr th:only-of-type {\n",
       "        vertical-align: middle;\n",
       "    }\n",
       "\n",
       "    .dataframe tbody tr th {\n",
       "        vertical-align: top;\n",
       "    }\n",
       "\n",
       "    .dataframe thead th {\n",
       "        text-align: right;\n",
       "    }\n",
       "</style>\n",
       "<table border=\"1\" class=\"dataframe\">\n",
       "  <thead>\n",
       "    <tr style=\"text-align: right;\">\n",
       "      <th>health</th>\n",
       "      <th>Fair</th>\n",
       "      <th>Good</th>\n",
       "      <th>Poor</th>\n",
       "    </tr>\n",
       "    <tr>\n",
       "      <th>cb_num</th>\n",
       "      <th></th>\n",
       "      <th></th>\n",
       "      <th></th>\n",
       "    </tr>\n",
       "  </thead>\n",
       "  <tbody>\n",
       "    <tr>\n",
       "      <th>414</th>\n",
       "      <td>0.254523</td>\n",
       "      <td>0.64509</td>\n",
       "      <td>0.100386</td>\n",
       "    </tr>\n",
       "  </tbody>\n",
       "</table>\n",
       "</div>"
      ],
      "text/plain": [
       "health      Fair     Good      Poor\n",
       "cb_num                             \n",
       "414     0.254523  0.64509  0.100386"
      ]
     },
     "execution_count": 77,
     "metadata": {},
     "output_type": "execute_result"
    }
   ],
   "source": [
    "trees_mapmaking.groupby(['cb_num']).health.value_counts(normalize=True).unstack().sort_values('Poor', ascending=False).head(1)\n"
   ]
  },
  {
   "cell_type": "code",
   "execution_count": 80,
   "metadata": {},
   "outputs": [
    {
     "data": {
      "text/plain": [
       "latitude     40.839529\n",
       "longitude   -73.823598\n",
       "dtype: float64"
      ]
     },
     "execution_count": 80,
     "metadata": {},
     "output_type": "execute_result"
    }
   ],
   "source": [
    "best_cb = trees_mapmaking[trees_mapmaking.cb_num == 210]\n",
    "# find the average coordinates, so we can set the center of our map\n",
    "best_cb[['latitude', 'longitude']].mean()"
   ]
  },
  {
   "cell_type": "code",
   "execution_count": 79,
   "metadata": {},
   "outputs": [
    {
     "data": {
      "text/plain": [
       "latitude     40.593158\n",
       "longitude   -73.794398\n",
       "dtype: float64"
      ]
     },
     "execution_count": 79,
     "metadata": {},
     "output_type": "execute_result"
    }
   ],
   "source": [
    "worst_cb = trees_mapmaking[trees_mapmaking.cb_num == 414]\n",
    "# find the average coordinates, so we can set the center of our map\n",
    "worst_cb[['latitude', 'longitude']].mean()"
   ]
  },
  {
   "cell_type": "code",
   "execution_count": 81,
   "metadata": {},
   "outputs": [],
   "source": [
    "# Make a list of latitude, longitude, and health status for all datapoints\n",
    "latlon_best_cb = [(lat, lon, health) for lat, lon, health in zip(list(best_cb.latitude),\n",
    "                                                         list(best_cb.longitude),\n",
    "                                                         list(best_cb.health))]\n",
    "\n",
    "latlon_worst_cb = [(lat, lon, health) for lat, lon, health in zip(list(worst_cb.latitude),\n",
    "                                                         list(worst_cb.longitude),\n",
    "                                                         list(worst_cb.health))]"
   ]
  },
  {
   "cell_type": "code",
   "execution_count": 82,
   "metadata": {},
   "outputs": [],
   "source": [
    "best_cb_map = folium.Map(location=[40.839529, -73.823598], zoom_start=15)\n",
    "\n",
    "for coord in latlon_best_cb:\n",
    "    if coord[2] == 'Good':\n",
    "        folium.Circle(location=[coord[0], coord[1]], radius=1, color='green').add_to(best_cb_map)\n",
    "    elif coord[2] == 'Fair':\n",
    "        folium.Circle(location=[coord[0], coord[1]], radius=1, color='yellow').add_to(best_cb_map)\n",
    "    else:\n",
    "        folium.Circle(location=[coord[0], coord[1]], radius=1, color='red').add_to(best_cb_map)\n",
    "\n",
    "best_cb_map.save('maps/best_cb_map.html')"
   ]
  },
  {
   "cell_type": "code",
   "execution_count": 83,
   "metadata": {},
   "outputs": [],
   "source": [
    "worst_cb_map = folium.Map(location=[40.593158, -73.794398], zoom_start=15)\n",
    "\n",
    "for coord in latlon_worst_cb:\n",
    "    if coord[2] == 'Good':\n",
    "        folium.Circle(location=[coord[0], coord[1]], radius=1, color='green').add_to(worst_cb_map)\n",
    "    elif coord[2] == 'Fair':\n",
    "        folium.Circle(location=[coord[0], coord[1]], radius=1, color='yellow').add_to(worst_cb_map)\n",
    "    else:\n",
    "        folium.Circle(location=[coord[0], coord[1]], radius=1, color='red').add_to(worst_cb_map)\n",
    "\n",
    "worst_cb_map.save('maps/worst_cb_map.html')"
   ]
  }
 ],
 "metadata": {
  "kernelspec": {
   "display_name": "Python [conda env:learn-env] *",
   "language": "python",
   "name": "conda-env-learn-env-py"
  },
  "language_info": {
   "codemirror_mode": {
    "name": "ipython",
    "version": 3
   },
   "file_extension": ".py",
   "mimetype": "text/x-python",
   "name": "python",
   "nbconvert_exporter": "python",
   "pygments_lexer": "ipython3",
   "version": "3.6.9"
  }
 },
 "nbformat": 4,
 "nbformat_minor": 2
}
