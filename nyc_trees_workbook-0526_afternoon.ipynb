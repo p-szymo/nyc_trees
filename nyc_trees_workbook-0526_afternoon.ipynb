{
 "cells": [
  {
   "cell_type": "markdown",
   "metadata": {},
   "source": [
    "## Building a model to check the work of volunteers\n",
    "To find out, answer the following questions:\n",
    "* Do title length, article length, or average length of words play a role in an article's popularity?\n",
    "    * Hypothesis: Shorter articles with shorter titles and shorter words (simpler vocabulary) will garner more shares on average.\n",
    "* Do certain genres lead to more popular articles? \n",
    "    * Hypothesis: Certain genres will receive more shares on average.\n",
    "* What effect does the day of publication have?\n",
    "    * Hypothesis: The day of publication will not have an impact on an article's shares.\n",
    "* Do articles that skew positive, negative, or neutral perform better?\n",
    "    * Hypothesis: More negative, outrageous (higher subjectivity) articles will be shared more on average.\n",
    "* What effect do SEO terms have?\n",
    "    * Hypothesis: Better performing SEO terms (keywords) will have a positive impact on an article's shares.\n",
    "    \n",
    "## Approach\n",
    "Using UCI's [Online News Popularity Data Set](http://archive.ics.uci.edu/ml/datasets/Online+News+Popularity), I perform statistical tests to measure the significance of certain variables on the number of social media shares an article receives. During my exploratory data analysis, I create graphs that answer some of my objective questions. I then create a linear regression model, from which I can infer the strongest predictors based on the coefficients within the model.\n",
    "\n",
    "## Cleaning and exploring the data\n",
    "* Import the necessary libraries."
   ]
  },
  {
   "cell_type": "code",
   "execution_count": 1,
   "metadata": {},
   "outputs": [
    {
     "name": "stderr",
     "output_type": "stream",
     "text": [
      "/opt/anaconda3/envs/learn-env/lib/python3.6/site-packages/sklearn/utils/deprecation.py:144: FutureWarning: The sklearn.neighbors.base module is  deprecated in version 0.22 and will be removed in version 0.24. The corresponding classes / functions should instead be imported from sklearn.neighbors. Anything that cannot be imported from sklearn.neighbors is now part of the private API.\n",
      "  warnings.warn(message, FutureWarning)\n",
      "/opt/anaconda3/envs/learn-env/lib/python3.6/site-packages/sklearn/utils/deprecation.py:144: FutureWarning: The sklearn.ensemble.bagging module is  deprecated in version 0.22 and will be removed in version 0.24. The corresponding classes / functions should instead be imported from sklearn.ensemble. Anything that cannot be imported from sklearn.ensemble is now part of the private API.\n",
      "  warnings.warn(message, FutureWarning)\n",
      "/opt/anaconda3/envs/learn-env/lib/python3.6/site-packages/sklearn/utils/deprecation.py:144: FutureWarning: The sklearn.ensemble.base module is  deprecated in version 0.22 and will be removed in version 0.24. The corresponding classes / functions should instead be imported from sklearn.ensemble. Anything that cannot be imported from sklearn.ensemble is now part of the private API.\n",
      "  warnings.warn(message, FutureWarning)\n",
      "/opt/anaconda3/envs/learn-env/lib/python3.6/site-packages/sklearn/utils/deprecation.py:144: FutureWarning: The sklearn.ensemble.forest module is  deprecated in version 0.22 and will be removed in version 0.24. The corresponding classes / functions should instead be imported from sklearn.ensemble. Anything that cannot be imported from sklearn.ensemble is now part of the private API.\n",
      "  warnings.warn(message, FutureWarning)\n",
      "Using TensorFlow backend.\n",
      "/opt/anaconda3/envs/learn-env/lib/python3.6/site-packages/tensorflow/python/framework/dtypes.py:517: FutureWarning: Passing (type, 1) or '1type' as a synonym of type is deprecated; in a future version of numpy, it will be understood as (type, (1,)) / '(1,)type'.\n",
      "  _np_qint8 = np.dtype([(\"qint8\", np.int8, 1)])\n",
      "/opt/anaconda3/envs/learn-env/lib/python3.6/site-packages/tensorflow/python/framework/dtypes.py:518: FutureWarning: Passing (type, 1) or '1type' as a synonym of type is deprecated; in a future version of numpy, it will be understood as (type, (1,)) / '(1,)type'.\n",
      "  _np_quint8 = np.dtype([(\"quint8\", np.uint8, 1)])\n",
      "/opt/anaconda3/envs/learn-env/lib/python3.6/site-packages/tensorflow/python/framework/dtypes.py:519: FutureWarning: Passing (type, 1) or '1type' as a synonym of type is deprecated; in a future version of numpy, it will be understood as (type, (1,)) / '(1,)type'.\n",
      "  _np_qint16 = np.dtype([(\"qint16\", np.int16, 1)])\n",
      "/opt/anaconda3/envs/learn-env/lib/python3.6/site-packages/tensorflow/python/framework/dtypes.py:520: FutureWarning: Passing (type, 1) or '1type' as a synonym of type is deprecated; in a future version of numpy, it will be understood as (type, (1,)) / '(1,)type'.\n",
      "  _np_quint16 = np.dtype([(\"quint16\", np.uint16, 1)])\n",
      "/opt/anaconda3/envs/learn-env/lib/python3.6/site-packages/tensorflow/python/framework/dtypes.py:521: FutureWarning: Passing (type, 1) or '1type' as a synonym of type is deprecated; in a future version of numpy, it will be understood as (type, (1,)) / '(1,)type'.\n",
      "  _np_qint32 = np.dtype([(\"qint32\", np.int32, 1)])\n",
      "/opt/anaconda3/envs/learn-env/lib/python3.6/site-packages/tensorflow/python/framework/dtypes.py:526: FutureWarning: Passing (type, 1) or '1type' as a synonym of type is deprecated; in a future version of numpy, it will be understood as (type, (1,)) / '(1,)type'.\n",
      "  np_resource = np.dtype([(\"resource\", np.ubyte, 1)])\n",
      "/opt/anaconda3/envs/learn-env/lib/python3.6/site-packages/sklearn/utils/deprecation.py:144: FutureWarning: The sklearn.utils.testing module is  deprecated in version 0.22 and will be removed in version 0.24. The corresponding classes / functions should instead be imported from sklearn.utils. Anything that cannot be imported from sklearn.utils is now part of the private API.\n",
      "  warnings.warn(message, FutureWarning)\n",
      "/opt/anaconda3/envs/learn-env/lib/python3.6/site-packages/sklearn/utils/deprecation.py:144: FutureWarning: The sklearn.metrics.classification module is  deprecated in version 0.22 and will be removed in version 0.24. The corresponding classes / functions should instead be imported from sklearn.metrics. Anything that cannot be imported from sklearn.metrics is now part of the private API.\n",
      "  warnings.warn(message, FutureWarning)\n"
     ]
    }
   ],
   "source": [
    "import pandas as pd\n",
    "import numpy as np\n",
    "\n",
    "import matplotlib.pyplot as plt\n",
    "%matplotlib inline\n",
    "import seaborn as sns\n",
    "sns.set_style('ticks')\n",
    "\n",
    "import pickle\n",
    "\n",
    "from functions import *\n",
    "%load_ext autoreload\n",
    "%autoreload 2\n",
    "\n",
    "from scipy import stats\n",
    "from scipy.stats import ttest_ind\n",
    "from sklearn.model_selection import train_test_split\n",
    "from sklearn.model_selection import GridSearchCV\n",
    "from sklearn.preprocessing import PolynomialFeatures\n",
    "from sklearn.preprocessing import StandardScaler\n",
    "from sklearn.preprocessing import MinMaxScaler\n",
    "from sklearn.neighbors import KNeighborsClassifier\n",
    "from sklearn.tree import DecisionTreeClassifier\n",
    "from sklearn.tree import DecisionTreeRegressor\n",
    "from sklearn.dummy import DummyClassifier\n",
    "from sklearn.metrics import accuracy_score, f1_score, precision_score, recall_score, roc_curve, roc_auc_score\n",
    "from sklearn.linear_model import LogisticRegression\n",
    "from sklearn.utils import resample\n",
    "from sklearn.ensemble import RandomForestClassifier\n",
    "from imblearn.over_sampling import SMOTE\n",
    "from imblearn.under_sampling import TomekLinks\n",
    "\n",
    "import warnings\n",
    "warnings.filterwarnings('ignore')\n",
    "\n",
    "# POSSIBLY\n",
    "from collections import Counter"
   ]
  },
  {
   "cell_type": "markdown",
   "metadata": {},
   "source": [
    "* Import the data and take a look."
   ]
  },
  {
   "cell_type": "code",
   "execution_count": 2,
   "metadata": {},
   "outputs": [
    {
     "data": {
      "text/html": [
       "<div>\n",
       "<style scoped>\n",
       "    .dataframe tbody tr th:only-of-type {\n",
       "        vertical-align: middle;\n",
       "    }\n",
       "\n",
       "    .dataframe tbody tr th {\n",
       "        vertical-align: top;\n",
       "    }\n",
       "\n",
       "    .dataframe thead th {\n",
       "        text-align: right;\n",
       "    }\n",
       "</style>\n",
       "<table border=\"1\" class=\"dataframe\">\n",
       "  <thead>\n",
       "    <tr style=\"text-align: right;\">\n",
       "      <th></th>\n",
       "      <th>created_at</th>\n",
       "      <th>tree_id</th>\n",
       "      <th>block_id</th>\n",
       "      <th>the_geom</th>\n",
       "      <th>tree_dbh</th>\n",
       "      <th>stump_diam</th>\n",
       "      <th>curb_loc</th>\n",
       "      <th>status</th>\n",
       "      <th>health</th>\n",
       "      <th>spc_latin</th>\n",
       "      <th>...</th>\n",
       "      <th>st_assem</th>\n",
       "      <th>st_senate</th>\n",
       "      <th>nta</th>\n",
       "      <th>nta_name</th>\n",
       "      <th>boro_ct</th>\n",
       "      <th>state</th>\n",
       "      <th>Latitude</th>\n",
       "      <th>longitude</th>\n",
       "      <th>x_sp</th>\n",
       "      <th>y_sp</th>\n",
       "    </tr>\n",
       "  </thead>\n",
       "  <tbody>\n",
       "    <tr>\n",
       "      <th>0</th>\n",
       "      <td>08/27/2015</td>\n",
       "      <td>180683</td>\n",
       "      <td>348711</td>\n",
       "      <td>POINT (-73.84421521958048 40.723091773924274)</td>\n",
       "      <td>3</td>\n",
       "      <td>0</td>\n",
       "      <td>OnCurb</td>\n",
       "      <td>Alive</td>\n",
       "      <td>Fair</td>\n",
       "      <td>Acer rubrum</td>\n",
       "      <td>...</td>\n",
       "      <td>28</td>\n",
       "      <td>16</td>\n",
       "      <td>QN17</td>\n",
       "      <td>Forest Hills</td>\n",
       "      <td>4073900</td>\n",
       "      <td>New York</td>\n",
       "      <td>40.723092</td>\n",
       "      <td>-73.844215</td>\n",
       "      <td>1.027431e+06</td>\n",
       "      <td>202756.768749</td>\n",
       "    </tr>\n",
       "    <tr>\n",
       "      <th>1</th>\n",
       "      <td>09/03/2015</td>\n",
       "      <td>200540</td>\n",
       "      <td>315986</td>\n",
       "      <td>POINT (-73.81867945834878 40.79411066708779)</td>\n",
       "      <td>21</td>\n",
       "      <td>0</td>\n",
       "      <td>OnCurb</td>\n",
       "      <td>Alive</td>\n",
       "      <td>Fair</td>\n",
       "      <td>Quercus palustris</td>\n",
       "      <td>...</td>\n",
       "      <td>27</td>\n",
       "      <td>11</td>\n",
       "      <td>QN49</td>\n",
       "      <td>Whitestone</td>\n",
       "      <td>4097300</td>\n",
       "      <td>New York</td>\n",
       "      <td>40.794111</td>\n",
       "      <td>-73.818679</td>\n",
       "      <td>1.034456e+06</td>\n",
       "      <td>228644.837379</td>\n",
       "    </tr>\n",
       "    <tr>\n",
       "      <th>2</th>\n",
       "      <td>09/05/2015</td>\n",
       "      <td>204026</td>\n",
       "      <td>218365</td>\n",
       "      <td>POINT (-73.93660770459083 40.717580740099116)</td>\n",
       "      <td>3</td>\n",
       "      <td>0</td>\n",
       "      <td>OnCurb</td>\n",
       "      <td>Alive</td>\n",
       "      <td>Good</td>\n",
       "      <td>Gleditsia triacanthos var. inermis</td>\n",
       "      <td>...</td>\n",
       "      <td>50</td>\n",
       "      <td>18</td>\n",
       "      <td>BK90</td>\n",
       "      <td>East Williamsburg</td>\n",
       "      <td>3044900</td>\n",
       "      <td>New York</td>\n",
       "      <td>40.717581</td>\n",
       "      <td>-73.936608</td>\n",
       "      <td>1.001823e+06</td>\n",
       "      <td>200716.891267</td>\n",
       "    </tr>\n",
       "    <tr>\n",
       "      <th>3</th>\n",
       "      <td>09/05/2015</td>\n",
       "      <td>204337</td>\n",
       "      <td>217969</td>\n",
       "      <td>POINT (-73.93445615919741 40.713537494833226)</td>\n",
       "      <td>10</td>\n",
       "      <td>0</td>\n",
       "      <td>OnCurb</td>\n",
       "      <td>Alive</td>\n",
       "      <td>Good</td>\n",
       "      <td>Gleditsia triacanthos var. inermis</td>\n",
       "      <td>...</td>\n",
       "      <td>53</td>\n",
       "      <td>18</td>\n",
       "      <td>BK90</td>\n",
       "      <td>East Williamsburg</td>\n",
       "      <td>3044900</td>\n",
       "      <td>New York</td>\n",
       "      <td>40.713537</td>\n",
       "      <td>-73.934456</td>\n",
       "      <td>1.002420e+06</td>\n",
       "      <td>199244.253136</td>\n",
       "    </tr>\n",
       "    <tr>\n",
       "      <th>4</th>\n",
       "      <td>08/30/2015</td>\n",
       "      <td>189565</td>\n",
       "      <td>223043</td>\n",
       "      <td>POINT (-73.97597938483258 40.66677775537875)</td>\n",
       "      <td>21</td>\n",
       "      <td>0</td>\n",
       "      <td>OnCurb</td>\n",
       "      <td>Alive</td>\n",
       "      <td>Good</td>\n",
       "      <td>Tilia americana</td>\n",
       "      <td>...</td>\n",
       "      <td>44</td>\n",
       "      <td>21</td>\n",
       "      <td>BK37</td>\n",
       "      <td>Park Slope-Gowanus</td>\n",
       "      <td>3016500</td>\n",
       "      <td>New York</td>\n",
       "      <td>40.666778</td>\n",
       "      <td>-73.975979</td>\n",
       "      <td>9.909138e+05</td>\n",
       "      <td>182202.425999</td>\n",
       "    </tr>\n",
       "  </tbody>\n",
       "</table>\n",
       "<p>5 rows × 42 columns</p>\n",
       "</div>"
      ],
      "text/plain": [
       "   created_at  tree_id  block_id  \\\n",
       "0  08/27/2015   180683    348711   \n",
       "1  09/03/2015   200540    315986   \n",
       "2  09/05/2015   204026    218365   \n",
       "3  09/05/2015   204337    217969   \n",
       "4  08/30/2015   189565    223043   \n",
       "\n",
       "                                        the_geom  tree_dbh  stump_diam  \\\n",
       "0  POINT (-73.84421521958048 40.723091773924274)         3           0   \n",
       "1   POINT (-73.81867945834878 40.79411066708779)        21           0   \n",
       "2  POINT (-73.93660770459083 40.717580740099116)         3           0   \n",
       "3  POINT (-73.93445615919741 40.713537494833226)        10           0   \n",
       "4   POINT (-73.97597938483258 40.66677775537875)        21           0   \n",
       "\n",
       "  curb_loc status health                           spc_latin  ... st_assem  \\\n",
       "0   OnCurb  Alive   Fair                         Acer rubrum  ...       28   \n",
       "1   OnCurb  Alive   Fair                   Quercus palustris  ...       27   \n",
       "2   OnCurb  Alive   Good  Gleditsia triacanthos var. inermis  ...       50   \n",
       "3   OnCurb  Alive   Good  Gleditsia triacanthos var. inermis  ...       53   \n",
       "4   OnCurb  Alive   Good                     Tilia americana  ...       44   \n",
       "\n",
       "  st_senate   nta            nta_name  boro_ct     state   Latitude  \\\n",
       "0        16  QN17        Forest Hills  4073900  New York  40.723092   \n",
       "1        11  QN49          Whitestone  4097300  New York  40.794111   \n",
       "2        18  BK90   East Williamsburg  3044900  New York  40.717581   \n",
       "3        18  BK90   East Williamsburg  3044900  New York  40.713537   \n",
       "4        21  BK37  Park Slope-Gowanus  3016500  New York  40.666778   \n",
       "\n",
       "   longitude          x_sp           y_sp  \n",
       "0 -73.844215  1.027431e+06  202756.768749  \n",
       "1 -73.818679  1.034456e+06  228644.837379  \n",
       "2 -73.936608  1.001823e+06  200716.891267  \n",
       "3 -73.934456  1.002420e+06  199244.253136  \n",
       "4 -73.975979  9.909138e+05  182202.425999  \n",
       "\n",
       "[5 rows x 42 columns]"
      ]
     },
     "execution_count": 2,
     "metadata": {},
     "output_type": "execute_result"
    }
   ],
   "source": [
    "trees = pd.read_csv('data/2015StreetTreesCensus_TREES.csv')\n",
    "trees.head()"
   ]
  },
  {
   "cell_type": "code",
   "execution_count": 3,
   "metadata": {},
   "outputs": [
    {
     "data": {
      "text/plain": [
       "(683788, 42)"
      ]
     },
     "execution_count": 3,
     "metadata": {},
     "output_type": "execute_result"
    }
   ],
   "source": [
    "trees.shape"
   ]
  },
  {
   "cell_type": "code",
   "execution_count": 4,
   "metadata": {},
   "outputs": [
    {
     "name": "stdout",
     "output_type": "stream",
     "text": [
      "<class 'pandas.core.frame.DataFrame'>\n",
      "RangeIndex: 683788 entries, 0 to 683787\n",
      "Data columns (total 42 columns):\n",
      " #   Column      Non-Null Count   Dtype  \n",
      "---  ------      --------------   -----  \n",
      " 0   created_at  683788 non-null  object \n",
      " 1   tree_id     683788 non-null  int64  \n",
      " 2   block_id    683788 non-null  int64  \n",
      " 3   the_geom    683788 non-null  object \n",
      " 4   tree_dbh    683788 non-null  int64  \n",
      " 5   stump_diam  683788 non-null  int64  \n",
      " 6   curb_loc    683788 non-null  object \n",
      " 7   status      683788 non-null  object \n",
      " 8   health      652172 non-null  object \n",
      " 9   spc_latin   652169 non-null  object \n",
      " 10  spc_common  652169 non-null  object \n",
      " 11  steward     652173 non-null  object \n",
      " 12  guards      652172 non-null  object \n",
      " 13  sidewalk    652172 non-null  object \n",
      " 14  user_type   683788 non-null  object \n",
      " 15  problems    652124 non-null  object \n",
      " 16  root_stone  683788 non-null  object \n",
      " 17  root_grate  683788 non-null  object \n",
      " 18  root_other  683788 non-null  object \n",
      " 19  trnk_wire   683788 non-null  object \n",
      " 20  trnk_light  683788 non-null  object \n",
      " 21  trnk_other  683788 non-null  object \n",
      " 22  brnch_ligh  683788 non-null  object \n",
      " 23  brnch_shoe  683788 non-null  object \n",
      " 24  brnch_othe  683788 non-null  object \n",
      " 25  address     683788 non-null  object \n",
      " 26  zipcode     683788 non-null  int64  \n",
      " 27  zip_city    683788 non-null  object \n",
      " 28  cb_num      683788 non-null  int64  \n",
      " 29  borocode    683788 non-null  int64  \n",
      " 30  boroname    683788 non-null  object \n",
      " 31  cncldist    683788 non-null  int64  \n",
      " 32  st_assem    683788 non-null  int64  \n",
      " 33  st_senate   683788 non-null  int64  \n",
      " 34  nta         683788 non-null  object \n",
      " 35  nta_name    683788 non-null  object \n",
      " 36  boro_ct     683788 non-null  int64  \n",
      " 37  state       683788 non-null  object \n",
      " 38  Latitude    683788 non-null  float64\n",
      " 39  longitude   683788 non-null  float64\n",
      " 40  x_sp        683788 non-null  float64\n",
      " 41  y_sp        683788 non-null  float64\n",
      "dtypes: float64(4), int64(11), object(27)\n",
      "memory usage: 219.1+ MB\n"
     ]
    }
   ],
   "source": [
    "trees.info()"
   ]
  },
  {
   "cell_type": "code",
   "execution_count": 5,
   "metadata": {},
   "outputs": [
    {
     "data": {
      "text/html": [
       "<div>\n",
       "<style scoped>\n",
       "    .dataframe tbody tr th:only-of-type {\n",
       "        vertical-align: middle;\n",
       "    }\n",
       "\n",
       "    .dataframe tbody tr th {\n",
       "        vertical-align: top;\n",
       "    }\n",
       "\n",
       "    .dataframe thead th {\n",
       "        text-align: right;\n",
       "    }\n",
       "</style>\n",
       "<table border=\"1\" class=\"dataframe\">\n",
       "  <thead>\n",
       "    <tr style=\"text-align: right;\">\n",
       "      <th></th>\n",
       "      <th>tree_id</th>\n",
       "      <th>block_id</th>\n",
       "      <th>tree_dbh</th>\n",
       "      <th>stump_diam</th>\n",
       "      <th>zipcode</th>\n",
       "      <th>cb_num</th>\n",
       "      <th>borocode</th>\n",
       "      <th>cncldist</th>\n",
       "      <th>st_assem</th>\n",
       "      <th>st_senate</th>\n",
       "      <th>boro_ct</th>\n",
       "      <th>Latitude</th>\n",
       "      <th>longitude</th>\n",
       "      <th>x_sp</th>\n",
       "      <th>y_sp</th>\n",
       "    </tr>\n",
       "  </thead>\n",
       "  <tbody>\n",
       "    <tr>\n",
       "      <th>count</th>\n",
       "      <td>683788.000000</td>\n",
       "      <td>683788.000000</td>\n",
       "      <td>683788.000000</td>\n",
       "      <td>683788.000000</td>\n",
       "      <td>683788.000000</td>\n",
       "      <td>683788.000000</td>\n",
       "      <td>683788.000000</td>\n",
       "      <td>683788.000000</td>\n",
       "      <td>683788.000000</td>\n",
       "      <td>683788.000000</td>\n",
       "      <td>6.837880e+05</td>\n",
       "      <td>683788.000000</td>\n",
       "      <td>683788.000000</td>\n",
       "      <td>6.837880e+05</td>\n",
       "      <td>683788.000000</td>\n",
       "    </tr>\n",
       "    <tr>\n",
       "      <th>mean</th>\n",
       "      <td>365205.011085</td>\n",
       "      <td>313793.096236</td>\n",
       "      <td>11.279787</td>\n",
       "      <td>0.432463</td>\n",
       "      <td>10916.246044</td>\n",
       "      <td>343.505404</td>\n",
       "      <td>3.358500</td>\n",
       "      <td>29.943181</td>\n",
       "      <td>50.791583</td>\n",
       "      <td>20.615781</td>\n",
       "      <td>3.404914e+06</td>\n",
       "      <td>40.701261</td>\n",
       "      <td>-73.924060</td>\n",
       "      <td>1.005280e+06</td>\n",
       "      <td>194798.424624</td>\n",
       "    </tr>\n",
       "    <tr>\n",
       "      <th>std</th>\n",
       "      <td>208122.092902</td>\n",
       "      <td>114839.024312</td>\n",
       "      <td>8.723042</td>\n",
       "      <td>3.290241</td>\n",
       "      <td>651.553364</td>\n",
       "      <td>115.740601</td>\n",
       "      <td>1.166746</td>\n",
       "      <td>14.328531</td>\n",
       "      <td>18.966520</td>\n",
       "      <td>7.390844</td>\n",
       "      <td>1.175863e+06</td>\n",
       "      <td>0.090311</td>\n",
       "      <td>0.123583</td>\n",
       "      <td>3.428505e+04</td>\n",
       "      <td>32902.061114</td>\n",
       "    </tr>\n",
       "    <tr>\n",
       "      <th>min</th>\n",
       "      <td>3.000000</td>\n",
       "      <td>100002.000000</td>\n",
       "      <td>0.000000</td>\n",
       "      <td>0.000000</td>\n",
       "      <td>83.000000</td>\n",
       "      <td>101.000000</td>\n",
       "      <td>1.000000</td>\n",
       "      <td>1.000000</td>\n",
       "      <td>23.000000</td>\n",
       "      <td>10.000000</td>\n",
       "      <td>1.000201e+06</td>\n",
       "      <td>40.498466</td>\n",
       "      <td>-74.254965</td>\n",
       "      <td>9.133493e+05</td>\n",
       "      <td>120973.792223</td>\n",
       "    </tr>\n",
       "    <tr>\n",
       "      <th>25%</th>\n",
       "      <td>186582.750000</td>\n",
       "      <td>221556.000000</td>\n",
       "      <td>4.000000</td>\n",
       "      <td>0.000000</td>\n",
       "      <td>10451.000000</td>\n",
       "      <td>302.000000</td>\n",
       "      <td>3.000000</td>\n",
       "      <td>19.000000</td>\n",
       "      <td>33.000000</td>\n",
       "      <td>14.000000</td>\n",
       "      <td>3.011700e+06</td>\n",
       "      <td>40.631928</td>\n",
       "      <td>-73.980500</td>\n",
       "      <td>9.896578e+05</td>\n",
       "      <td>169515.153719</td>\n",
       "    </tr>\n",
       "    <tr>\n",
       "      <th>50%</th>\n",
       "      <td>366214.500000</td>\n",
       "      <td>319967.000000</td>\n",
       "      <td>9.000000</td>\n",
       "      <td>0.000000</td>\n",
       "      <td>11214.000000</td>\n",
       "      <td>402.000000</td>\n",
       "      <td>4.000000</td>\n",
       "      <td>30.000000</td>\n",
       "      <td>52.000000</td>\n",
       "      <td>21.000000</td>\n",
       "      <td>4.008100e+06</td>\n",
       "      <td>40.700612</td>\n",
       "      <td>-73.912911</td>\n",
       "      <td>1.008386e+06</td>\n",
       "      <td>194560.252497</td>\n",
       "    </tr>\n",
       "    <tr>\n",
       "      <th>75%</th>\n",
       "      <td>546170.250000</td>\n",
       "      <td>404624.000000</td>\n",
       "      <td>16.000000</td>\n",
       "      <td>0.000000</td>\n",
       "      <td>11365.000000</td>\n",
       "      <td>412.000000</td>\n",
       "      <td>4.000000</td>\n",
       "      <td>43.000000</td>\n",
       "      <td>64.000000</td>\n",
       "      <td>25.000000</td>\n",
       "      <td>4.103202e+06</td>\n",
       "      <td>40.762228</td>\n",
       "      <td>-73.834910</td>\n",
       "      <td>1.029991e+06</td>\n",
       "      <td>217019.571916</td>\n",
       "    </tr>\n",
       "    <tr>\n",
       "      <th>max</th>\n",
       "      <td>722694.000000</td>\n",
       "      <td>999999.000000</td>\n",
       "      <td>450.000000</td>\n",
       "      <td>140.000000</td>\n",
       "      <td>11697.000000</td>\n",
       "      <td>503.000000</td>\n",
       "      <td>5.000000</td>\n",
       "      <td>51.000000</td>\n",
       "      <td>87.000000</td>\n",
       "      <td>36.000000</td>\n",
       "      <td>5.032300e+06</td>\n",
       "      <td>40.912918</td>\n",
       "      <td>-73.700488</td>\n",
       "      <td>1.067248e+06</td>\n",
       "      <td>271894.092088</td>\n",
       "    </tr>\n",
       "  </tbody>\n",
       "</table>\n",
       "</div>"
      ],
      "text/plain": [
       "             tree_id       block_id       tree_dbh     stump_diam  \\\n",
       "count  683788.000000  683788.000000  683788.000000  683788.000000   \n",
       "mean   365205.011085  313793.096236      11.279787       0.432463   \n",
       "std    208122.092902  114839.024312       8.723042       3.290241   \n",
       "min         3.000000  100002.000000       0.000000       0.000000   \n",
       "25%    186582.750000  221556.000000       4.000000       0.000000   \n",
       "50%    366214.500000  319967.000000       9.000000       0.000000   \n",
       "75%    546170.250000  404624.000000      16.000000       0.000000   \n",
       "max    722694.000000  999999.000000     450.000000     140.000000   \n",
       "\n",
       "             zipcode         cb_num       borocode       cncldist  \\\n",
       "count  683788.000000  683788.000000  683788.000000  683788.000000   \n",
       "mean    10916.246044     343.505404       3.358500      29.943181   \n",
       "std       651.553364     115.740601       1.166746      14.328531   \n",
       "min        83.000000     101.000000       1.000000       1.000000   \n",
       "25%     10451.000000     302.000000       3.000000      19.000000   \n",
       "50%     11214.000000     402.000000       4.000000      30.000000   \n",
       "75%     11365.000000     412.000000       4.000000      43.000000   \n",
       "max     11697.000000     503.000000       5.000000      51.000000   \n",
       "\n",
       "            st_assem      st_senate       boro_ct       Latitude  \\\n",
       "count  683788.000000  683788.000000  6.837880e+05  683788.000000   \n",
       "mean       50.791583      20.615781  3.404914e+06      40.701261   \n",
       "std        18.966520       7.390844  1.175863e+06       0.090311   \n",
       "min        23.000000      10.000000  1.000201e+06      40.498466   \n",
       "25%        33.000000      14.000000  3.011700e+06      40.631928   \n",
       "50%        52.000000      21.000000  4.008100e+06      40.700612   \n",
       "75%        64.000000      25.000000  4.103202e+06      40.762228   \n",
       "max        87.000000      36.000000  5.032300e+06      40.912918   \n",
       "\n",
       "           longitude          x_sp           y_sp  \n",
       "count  683788.000000  6.837880e+05  683788.000000  \n",
       "mean      -73.924060  1.005280e+06  194798.424624  \n",
       "std         0.123583  3.428505e+04   32902.061114  \n",
       "min       -74.254965  9.133493e+05  120973.792223  \n",
       "25%       -73.980500  9.896578e+05  169515.153719  \n",
       "50%       -73.912911  1.008386e+06  194560.252497  \n",
       "75%       -73.834910  1.029991e+06  217019.571916  \n",
       "max       -73.700488  1.067248e+06  271894.092088  "
      ]
     },
     "execution_count": 5,
     "metadata": {},
     "output_type": "execute_result"
    }
   ],
   "source": [
    "trees.describe()"
   ]
  },
  {
   "cell_type": "markdown",
   "metadata": {},
   "source": [
    "* Rename some columns."
   ]
  },
  {
   "cell_type": "code",
   "execution_count": 6,
   "metadata": {},
   "outputs": [],
   "source": [
    "trees.columns = ['created_at', 'tree_id', 'block_id', 'the_geom', 'tree_dbh',\n",
    "       'stump_diam', 'curb_loc', 'status', 'health', 'spc_latin', 'spc_common',\n",
    "       'steward', 'guards', 'sidewalk', 'user_type', 'problems', 'root_stone',\n",
    "       'root_grate', 'root_other', 'trunk_wire', 'trunk_light', 'trunk_other',\n",
    "       'branch_light', 'branch_shoe', 'branch_other', 'address', 'zipcode',\n",
    "       'zip_city', 'cb_num', 'borocode', 'boroname', 'council_dist', 'st_assem',\n",
    "       'st_senate', 'nta', 'nta_name', 'boro_ct', 'state', 'latitude',\n",
    "       'longitude', 'x_sp', 'y_sp']"
   ]
  },
  {
   "cell_type": "markdown",
   "metadata": {},
   "source": [
    "* Remove stumps and dead trees."
   ]
  },
  {
   "cell_type": "code",
   "execution_count": 7,
   "metadata": {},
   "outputs": [
    {
     "data": {
      "text/plain": [
       "Alive    652173\n",
       "Stump     17654\n",
       "Dead      13961\n",
       "Name: status, dtype: int64"
      ]
     },
     "execution_count": 7,
     "metadata": {},
     "output_type": "execute_result"
    }
   ],
   "source": [
    "trees.status.value_counts()"
   ]
  },
  {
   "cell_type": "code",
   "execution_count": 8,
   "metadata": {},
   "outputs": [
    {
     "data": {
      "text/plain": [
       "(652173, 42)"
      ]
     },
     "execution_count": 8,
     "metadata": {},
     "output_type": "execute_result"
    }
   ],
   "source": [
    "# Get indices of dead trees and stumps\n",
    "dead = trees[trees.status.isin(['Dead', 'Stump'])].index\n",
    " \n",
    "# Delete these row indices from dataFrame\n",
    "trees.drop(dead, inplace=True)\n",
    "\n",
    "trees.shape"
   ]
  },
  {
   "cell_type": "markdown",
   "metadata": {},
   "source": [
    "* We want to build a model based on the professional entries, so let's drop all of the volunteer entries."
   ]
  },
  {
   "cell_type": "code",
   "execution_count": 9,
   "metadata": {
    "scrolled": true
   },
   "outputs": [
    {
     "data": {
      "text/plain": [
       "TreesCount Staff    282259\n",
       "Volunteer           207777\n",
       "NYC Parks Staff     162137\n",
       "Name: user_type, dtype: int64"
      ]
     },
     "execution_count": 9,
     "metadata": {},
     "output_type": "execute_result"
    }
   ],
   "source": [
    "trees.user_type.value_counts()"
   ]
  },
  {
   "cell_type": "code",
   "execution_count": 10,
   "metadata": {},
   "outputs": [
    {
     "data": {
      "text/plain": [
       "(444396, 42)"
      ]
     },
     "execution_count": 10,
     "metadata": {},
     "output_type": "execute_result"
    }
   ],
   "source": [
    "# Get indices of volunteer\n",
    "volunteers = trees[trees.user_type == 'Volunteer'].index\n",
    " \n",
    "# Delete these row indices from dataFrame\n",
    "trees.drop(volunteers, inplace=True)\n",
    "\n",
    "trees.shape"
   ]
  },
  {
   "cell_type": "markdown",
   "metadata": {},
   "source": [
    "* Look for NaN values."
   ]
  },
  {
   "cell_type": "code",
   "execution_count": 11,
   "metadata": {
    "scrolled": true
   },
   "outputs": [
    {
     "data": {
      "text/plain": [
       "created_at       0\n",
       "tree_id          0\n",
       "block_id         0\n",
       "the_geom         0\n",
       "tree_dbh         0\n",
       "stump_diam       0\n",
       "curb_loc         0\n",
       "status           0\n",
       "health           1\n",
       "spc_latin        4\n",
       "spc_common       4\n",
       "steward          0\n",
       "guards           1\n",
       "sidewalk         1\n",
       "user_type        0\n",
       "problems        45\n",
       "root_stone       0\n",
       "root_grate       0\n",
       "root_other       0\n",
       "trunk_wire       0\n",
       "trunk_light      0\n",
       "trunk_other      0\n",
       "branch_light     0\n",
       "branch_shoe      0\n",
       "branch_other     0\n",
       "address          0\n",
       "zipcode          0\n",
       "zip_city         0\n",
       "cb_num           0\n",
       "borocode         0\n",
       "boroname         0\n",
       "council_dist     0\n",
       "st_assem         0\n",
       "st_senate        0\n",
       "nta              0\n",
       "nta_name         0\n",
       "boro_ct          0\n",
       "state            0\n",
       "latitude         0\n",
       "longitude        0\n",
       "x_sp             0\n",
       "y_sp             0\n",
       "dtype: int64"
      ]
     },
     "execution_count": 11,
     "metadata": {},
     "output_type": "execute_result"
    }
   ],
   "source": [
    "trees.isna().sum()"
   ]
  },
  {
   "cell_type": "markdown",
   "metadata": {},
   "source": [
    "* Replace NaNs in 'problems' column with 'None', in case we end up using that column.\n",
    "* Drop the few rows with missing values for our target variable and species of tree."
   ]
  },
  {
   "cell_type": "code",
   "execution_count": 12,
   "metadata": {},
   "outputs": [],
   "source": [
    "trees.problems.fillna(value='None', inplace=True)"
   ]
  },
  {
   "cell_type": "code",
   "execution_count": 13,
   "metadata": {},
   "outputs": [],
   "source": [
    "trees.dropna(how='any', axis=0, inplace=True)"
   ]
  },
  {
   "cell_type": "markdown",
   "metadata": {},
   "source": [
    "* Create and pickle a dictionary of neighborhood codes and names, in case we want that later."
   ]
  },
  {
   "cell_type": "code",
   "execution_count": 14,
   "metadata": {
    "scrolled": true
   },
   "outputs": [],
   "source": [
    "nta = list(trees['nta'].unique())"
   ]
  },
  {
   "cell_type": "code",
   "execution_count": 15,
   "metadata": {},
   "outputs": [],
   "source": [
    "nta_name = list(trees['nta_name'].unique())"
   ]
  },
  {
   "cell_type": "code",
   "execution_count": 16,
   "metadata": {
    "scrolled": true
   },
   "outputs": [],
   "source": [
    "nta_dict = {k: v for k,v in zip(nta, nta_name)}"
   ]
  },
  {
   "cell_type": "code",
   "execution_count": 17,
   "metadata": {},
   "outputs": [],
   "source": [
    "with open('data/nta_dict.pickle', 'wb') as f:\n",
    "    pickle.dump(nta_dict, f, protocol=pickle.HIGHEST_PROTOCOL)"
   ]
  },
  {
   "cell_type": "markdown",
   "metadata": {},
   "source": [
    "* Drop unnecessary columns and set index to each tree's unique ID."
   ]
  },
  {
   "cell_type": "code",
   "execution_count": 18,
   "metadata": {},
   "outputs": [
    {
     "data": {
      "text/plain": [
       "Index(['created_at', 'tree_id', 'block_id', 'the_geom', 'tree_dbh',\n",
       "       'stump_diam', 'curb_loc', 'status', 'health', 'spc_latin', 'spc_common',\n",
       "       'steward', 'guards', 'sidewalk', 'user_type', 'problems', 'root_stone',\n",
       "       'root_grate', 'root_other', 'trunk_wire', 'trunk_light', 'trunk_other',\n",
       "       'branch_light', 'branch_shoe', 'branch_other', 'address', 'zipcode',\n",
       "       'zip_city', 'cb_num', 'borocode', 'boroname', 'council_dist',\n",
       "       'st_assem', 'st_senate', 'nta', 'nta_name', 'boro_ct', 'state',\n",
       "       'latitude', 'longitude', 'x_sp', 'y_sp'],\n",
       "      dtype='object')"
      ]
     },
     "execution_count": 18,
     "metadata": {},
     "output_type": "execute_result"
    }
   ],
   "source": [
    "trees.columns"
   ]
  },
  {
   "cell_type": "code",
   "execution_count": 19,
   "metadata": {},
   "outputs": [
    {
     "data": {
      "text/plain": [
       "(444390, 19)"
      ]
     },
     "execution_count": 19,
     "metadata": {},
     "output_type": "execute_result"
    }
   ],
   "source": [
    "drop_cols = ['created_at', 'block_id', 'the_geom', 'stump_diam', 'status', 'spc_latin', 'user_type', 'problems',\n",
    "             'address', 'zipcode', 'zip_city', 'borocode', 'council_dist', 'st_assem', 'st_senate', 'nta_name',\n",
    "             'boro_ct', 'state', 'latitude', 'longitude', 'x_sp', 'y_sp']\n",
    "trees.drop(columns=drop_cols, inplace=True)\n",
    "trees.set_index(['tree_id'], inplace=True)\n",
    "trees.shape"
   ]
  },
  {
   "cell_type": "code",
   "execution_count": 20,
   "metadata": {
    "scrolled": true
   },
   "outputs": [
    {
     "data": {
      "text/html": [
       "<div>\n",
       "<style scoped>\n",
       "    .dataframe tbody tr th:only-of-type {\n",
       "        vertical-align: middle;\n",
       "    }\n",
       "\n",
       "    .dataframe tbody tr th {\n",
       "        vertical-align: top;\n",
       "    }\n",
       "\n",
       "    .dataframe thead th {\n",
       "        text-align: right;\n",
       "    }\n",
       "</style>\n",
       "<table border=\"1\" class=\"dataframe\">\n",
       "  <thead>\n",
       "    <tr style=\"text-align: right;\">\n",
       "      <th></th>\n",
       "      <th>tree_dbh</th>\n",
       "      <th>curb_loc</th>\n",
       "      <th>health</th>\n",
       "      <th>spc_common</th>\n",
       "      <th>steward</th>\n",
       "      <th>guards</th>\n",
       "      <th>sidewalk</th>\n",
       "      <th>root_stone</th>\n",
       "      <th>root_grate</th>\n",
       "      <th>root_other</th>\n",
       "      <th>trunk_wire</th>\n",
       "      <th>trunk_light</th>\n",
       "      <th>trunk_other</th>\n",
       "      <th>branch_light</th>\n",
       "      <th>branch_shoe</th>\n",
       "      <th>branch_other</th>\n",
       "      <th>cb_num</th>\n",
       "      <th>boroname</th>\n",
       "      <th>nta</th>\n",
       "    </tr>\n",
       "    <tr>\n",
       "      <th>tree_id</th>\n",
       "      <th></th>\n",
       "      <th></th>\n",
       "      <th></th>\n",
       "      <th></th>\n",
       "      <th></th>\n",
       "      <th></th>\n",
       "      <th></th>\n",
       "      <th></th>\n",
       "      <th></th>\n",
       "      <th></th>\n",
       "      <th></th>\n",
       "      <th></th>\n",
       "      <th></th>\n",
       "      <th></th>\n",
       "      <th></th>\n",
       "      <th></th>\n",
       "      <th></th>\n",
       "      <th></th>\n",
       "      <th></th>\n",
       "    </tr>\n",
       "  </thead>\n",
       "  <tbody>\n",
       "    <tr>\n",
       "      <th>180683</th>\n",
       "      <td>3</td>\n",
       "      <td>OnCurb</td>\n",
       "      <td>Fair</td>\n",
       "      <td>red maple</td>\n",
       "      <td>None</td>\n",
       "      <td>None</td>\n",
       "      <td>NoDamage</td>\n",
       "      <td>No</td>\n",
       "      <td>No</td>\n",
       "      <td>No</td>\n",
       "      <td>No</td>\n",
       "      <td>No</td>\n",
       "      <td>No</td>\n",
       "      <td>No</td>\n",
       "      <td>No</td>\n",
       "      <td>No</td>\n",
       "      <td>406</td>\n",
       "      <td>Queens</td>\n",
       "      <td>QN17</td>\n",
       "    </tr>\n",
       "    <tr>\n",
       "      <th>200540</th>\n",
       "      <td>21</td>\n",
       "      <td>OnCurb</td>\n",
       "      <td>Fair</td>\n",
       "      <td>pin oak</td>\n",
       "      <td>None</td>\n",
       "      <td>None</td>\n",
       "      <td>Damage</td>\n",
       "      <td>Yes</td>\n",
       "      <td>No</td>\n",
       "      <td>No</td>\n",
       "      <td>No</td>\n",
       "      <td>No</td>\n",
       "      <td>No</td>\n",
       "      <td>No</td>\n",
       "      <td>No</td>\n",
       "      <td>No</td>\n",
       "      <td>407</td>\n",
       "      <td>Queens</td>\n",
       "      <td>QN49</td>\n",
       "    </tr>\n",
       "    <tr>\n",
       "      <th>209610</th>\n",
       "      <td>6</td>\n",
       "      <td>OnCurb</td>\n",
       "      <td>Good</td>\n",
       "      <td>honeylocust</td>\n",
       "      <td>None</td>\n",
       "      <td>None</td>\n",
       "      <td>NoDamage</td>\n",
       "      <td>No</td>\n",
       "      <td>No</td>\n",
       "      <td>No</td>\n",
       "      <td>No</td>\n",
       "      <td>No</td>\n",
       "      <td>No</td>\n",
       "      <td>No</td>\n",
       "      <td>No</td>\n",
       "      <td>No</td>\n",
       "      <td>502</td>\n",
       "      <td>Staten Island</td>\n",
       "      <td>SI14</td>\n",
       "    </tr>\n",
       "    <tr>\n",
       "      <th>192755</th>\n",
       "      <td>21</td>\n",
       "      <td>OffsetFromCurb</td>\n",
       "      <td>Fair</td>\n",
       "      <td>London planetree</td>\n",
       "      <td>None</td>\n",
       "      <td>None</td>\n",
       "      <td>NoDamage</td>\n",
       "      <td>No</td>\n",
       "      <td>No</td>\n",
       "      <td>No</td>\n",
       "      <td>No</td>\n",
       "      <td>No</td>\n",
       "      <td>No</td>\n",
       "      <td>No</td>\n",
       "      <td>No</td>\n",
       "      <td>No</td>\n",
       "      <td>313</td>\n",
       "      <td>Brooklyn</td>\n",
       "      <td>BK26</td>\n",
       "    </tr>\n",
       "    <tr>\n",
       "      <th>195202</th>\n",
       "      <td>13</td>\n",
       "      <td>OnCurb</td>\n",
       "      <td>Fair</td>\n",
       "      <td>London planetree</td>\n",
       "      <td>None</td>\n",
       "      <td>None</td>\n",
       "      <td>NoDamage</td>\n",
       "      <td>Yes</td>\n",
       "      <td>No</td>\n",
       "      <td>No</td>\n",
       "      <td>No</td>\n",
       "      <td>No</td>\n",
       "      <td>No</td>\n",
       "      <td>No</td>\n",
       "      <td>No</td>\n",
       "      <td>No</td>\n",
       "      <td>503</td>\n",
       "      <td>Staten Island</td>\n",
       "      <td>SI54</td>\n",
       "    </tr>\n",
       "  </tbody>\n",
       "</table>\n",
       "</div>"
      ],
      "text/plain": [
       "         tree_dbh        curb_loc health        spc_common steward guards  \\\n",
       "tree_id                                                                     \n",
       "180683          3          OnCurb   Fair         red maple    None   None   \n",
       "200540         21          OnCurb   Fair           pin oak    None   None   \n",
       "209610          6          OnCurb   Good       honeylocust    None   None   \n",
       "192755         21  OffsetFromCurb   Fair  London planetree    None   None   \n",
       "195202         13          OnCurb   Fair  London planetree    None   None   \n",
       "\n",
       "         sidewalk root_stone root_grate root_other trunk_wire trunk_light  \\\n",
       "tree_id                                                                     \n",
       "180683   NoDamage         No         No         No         No          No   \n",
       "200540     Damage        Yes         No         No         No          No   \n",
       "209610   NoDamage         No         No         No         No          No   \n",
       "192755   NoDamage         No         No         No         No          No   \n",
       "195202   NoDamage        Yes         No         No         No          No   \n",
       "\n",
       "        trunk_other branch_light branch_shoe branch_other  cb_num  \\\n",
       "tree_id                                                             \n",
       "180683           No           No          No           No     406   \n",
       "200540           No           No          No           No     407   \n",
       "209610           No           No          No           No     502   \n",
       "192755           No           No          No           No     313   \n",
       "195202           No           No          No           No     503   \n",
       "\n",
       "              boroname   nta  \n",
       "tree_id                       \n",
       "180683          Queens  QN17  \n",
       "200540          Queens  QN49  \n",
       "209610   Staten Island  SI14  \n",
       "192755        Brooklyn  BK26  \n",
       "195202   Staten Island  SI54  "
      ]
     },
     "execution_count": 20,
     "metadata": {},
     "output_type": "execute_result"
    }
   ],
   "source": [
    "trees.head()"
   ]
  },
  {
   "cell_type": "markdown",
   "metadata": {},
   "source": [
    "* Take a look at our target variable."
   ]
  },
  {
   "cell_type": "code",
   "execution_count": 21,
   "metadata": {},
   "outputs": [
    {
     "data": {
      "text/plain": [
       "Good    363591\n",
       "Fair     63048\n",
       "Poor     17751\n",
       "Name: health, dtype: int64"
      ]
     },
     "execution_count": 21,
     "metadata": {},
     "output_type": "execute_result"
    }
   ],
   "source": [
    "trees.health.value_counts()"
   ]
  },
  {
   "cell_type": "code",
   "execution_count": 22,
   "metadata": {},
   "outputs": [
    {
     "data": {
      "text/plain": [
       "Good    0.818180\n",
       "Fair    0.141875\n",
       "Poor    0.039945\n",
       "Name: health, dtype: float64"
      ]
     },
     "execution_count": 22,
     "metadata": {},
     "output_type": "execute_result"
    }
   ],
   "source": [
    "trees.health.value_counts(normalize=True)"
   ]
  },
  {
   "cell_type": "markdown",
   "metadata": {},
   "source": [
    "* Let's make a numeric column for our target variable, as this will help us with some of the statistical tests."
   ]
  },
  {
   "cell_type": "code",
   "execution_count": 23,
   "metadata": {},
   "outputs": [],
   "source": [
    "conditions = [\n",
    "    trees.health == 'Good',\n",
    "    trees.health == 'Fair'\n",
    "]\n",
    "\n",
    "choices = [\n",
    "    2,\n",
    "    1\n",
    "]\n",
    "\n",
    "trees['health_num'] = np.select(conditions, choices, 0)"
   ]
  },
  {
   "cell_type": "markdown",
   "metadata": {},
   "source": [
    "### EDA - Boroughs"
   ]
  },
  {
   "cell_type": "code",
   "execution_count": 24,
   "metadata": {},
   "outputs": [
    {
     "data": {
      "text/plain": [
       "Queens           164820\n",
       "Staten Island     95733\n",
       "Brooklyn          95101\n",
       "Bronx             68082\n",
       "Manhattan         20654\n",
       "Name: boroname, dtype: int64"
      ]
     },
     "execution_count": 24,
     "metadata": {},
     "output_type": "execute_result"
    }
   ],
   "source": [
    "trees.boroname.value_counts()"
   ]
  },
  {
   "cell_type": "code",
   "execution_count": 25,
   "metadata": {
    "scrolled": true
   },
   "outputs": [
    {
     "data": {
      "text/plain": [
       "boroname       health\n",
       "Bronx          Good       57183\n",
       "               Fair        8409\n",
       "               Poor        2490\n",
       "Brooklyn       Good       76921\n",
       "               Fair       14375\n",
       "               Poor        3805\n",
       "Manhattan      Good       16084\n",
       "               Fair        3420\n",
       "               Poor        1150\n",
       "Queens         Good      135189\n",
       "               Fair       23364\n",
       "               Poor        6267\n",
       "Staten Island  Good       78214\n",
       "               Fair       13480\n",
       "               Poor        4039\n",
       "Name: health, dtype: int64"
      ]
     },
     "execution_count": 25,
     "metadata": {},
     "output_type": "execute_result"
    }
   ],
   "source": [
    "trees.groupby('boroname').health.value_counts()"
   ]
  },
  {
   "cell_type": "code",
   "execution_count": 26,
   "metadata": {},
   "outputs": [
    {
     "data": {
      "text/plain": [
       "boroname       health\n",
       "Bronx          Good      0.839914\n",
       "               Fair      0.123513\n",
       "               Poor      0.036574\n",
       "Brooklyn       Good      0.808835\n",
       "               Fair      0.151155\n",
       "               Poor      0.040010\n",
       "Manhattan      Good      0.778735\n",
       "               Fair      0.165585\n",
       "               Poor      0.055679\n",
       "Queens         Good      0.820222\n",
       "               Fair      0.141755\n",
       "               Poor      0.038023\n",
       "Staten Island  Good      0.817001\n",
       "               Fair      0.140808\n",
       "               Poor      0.042190\n",
       "Name: health, dtype: float64"
      ]
     },
     "execution_count": 26,
     "metadata": {},
     "output_type": "execute_result"
    }
   ],
   "source": [
    "trees.groupby('boroname').health.value_counts(normalize=True)"
   ]
  },
  {
   "cell_type": "code",
   "execution_count": 27,
   "metadata": {},
   "outputs": [
    {
     "data": {
      "image/png": "[encoded data removed]",
      "text/plain": [
       "<Figure size 432x288 with 1 Axes>"
      ]
     },
     "metadata": {
      "needs_background": "light"
     },
     "output_type": "display_data"
    }
   ],
   "source": [
    "boros = trees.groupby(['boroname']).health.value_counts(normalize=True).unstack()\n",
    "p1 = boros.plot(kind = 'bar', stacked = True, \n",
    "                   title = 'Paycodes Binned: Defaulters vs Non-Defaulters', \n",
    "                   color = ['grey','lightgreen', 'blue'], alpha = .70)\n",
    "p1.set_xlabel('Paycode 1')\n",
    "p1.set_ylabel('# Users')\n",
    "p1.legend(['Fair','Good', 'Poor'])\n",
    "plt.show()"
   ]
  },
  {
   "cell_type": "code",
   "execution_count": 28,
   "metadata": {},
   "outputs": [
    {
     "data": {
      "text/plain": [
       "F_onewayResult(statistic=116.89435222454642, pvalue=7.770639956563353e-100)"
      ]
     },
     "execution_count": 28,
     "metadata": {},
     "output_type": "execute_result"
    }
   ],
   "source": [
    "stats.f_oneway(trees['health_num'][trees['boroname'] == 'Bronx'],\n",
    "               trees['health_num'][trees['boroname'] == 'Brooklyn'],\n",
    "               trees['health_num'][trees['boroname'] == 'Manhattan'],\n",
    "               trees['health_num'][trees['boroname'] == 'Queens'],\n",
    "               trees['health_num'][trees['boroname'] == 'Staten Island'])"
   ]
  },
  {
   "cell_type": "code",
   "execution_count": 29,
   "metadata": {},
   "outputs": [],
   "source": [
    "boros_list = [trees['health_num'][trees['boroname'] == 'Bronx'],\n",
    "               trees['health_num'][trees['boroname'] == 'Brooklyn'],\n",
    "               trees['health_num'][trees['boroname'] == 'Manhattan'],\n",
    "               trees['health_num'][trees['boroname'] == 'Queens'],\n",
    "               trees['health_num'][trees['boroname'] == 'Staten Island']]"
   ]
  },
  {
   "cell_type": "code",
   "execution_count": 30,
   "metadata": {
    "scrolled": true
   },
   "outputs": [
    {
     "data": {
      "text/plain": [
       "{(0,\n",
       "  1): Ttest_indResult(statistic=13.84342341533481, pvalue=1.4755442137242058e-43),\n",
       " (0,\n",
       "  2): Ttest_indResult(statistic=20.21817657922981, pvalue=1.0856247968724517e-90),\n",
       " (0,\n",
       "  3): Ttest_indResult(statistic=9.434247565526626, pvalue=3.972481985469369e-21),\n",
       " (0,\n",
       "  4): Ttest_indResult(statistic=11.442187393876186, pvalue=2.642364529228648e-30),\n",
       " (1,\n",
       "  2): Ttest_indResult(statistic=11.530265119889332, pvalue=9.652292564952115e-31),\n",
       " (1,\n",
       "  3): Ttest_indResult(statistic=-6.561169683298543, pvalue=5.3486949272348975e-11),\n",
       " (1,\n",
       "  4): Ttest_indResult(statistic=-2.5727343861263505, pvalue=0.010090609564694262),\n",
       " (2,\n",
       "  3): Ttest_indResult(statistic=-15.908508121045836, pvalue=6.034011829704148e-57),\n",
       " (2,\n",
       "  4): Ttest_indResult(statistic=-13.025223204781993, pvalue=9.361485569017078e-39),\n",
       " (3,\n",
       "  4): Ttest_indResult(statistic=3.6288098143024174, pvalue=0.00028478530691402514)}"
      ]
     },
     "execution_count": 30,
     "metadata": {},
     "output_type": "execute_result"
    }
   ],
   "source": [
    "two_way_tests(boros_list)"
   ]
  },
  {
   "cell_type": "code",
   "execution_count": 31,
   "metadata": {},
   "outputs": [
    {
     "data": {
      "text/plain": [
       "{('Queens',\n",
       "  'Staten Island'): Ttest_indResult(statistic=3.6288098143024174, pvalue=0.00028478530691402514),\n",
       " ('Queens',\n",
       "  'Brooklyn'): Ttest_indResult(statistic=6.561169683298543, pvalue=5.3486949272348975e-11),\n",
       " ('Queens',\n",
       "  'Manhattan'): Ttest_indResult(statistic=15.908508121045836, pvalue=6.034011829704148e-57),\n",
       " ('Queens',\n",
       "  'Bronx'): Ttest_indResult(statistic=-9.434247565526626, pvalue=3.972481985469369e-21),\n",
       " ('Staten Island',\n",
       "  'Brooklyn'): Ttest_indResult(statistic=2.5727343861263505, pvalue=0.010090609564694262),\n",
       " ('Staten Island',\n",
       "  'Manhattan'): Ttest_indResult(statistic=13.025223204781993, pvalue=9.361485569017078e-39),\n",
       " ('Staten Island',\n",
       "  'Bronx'): Ttest_indResult(statistic=-11.442187393876186, pvalue=2.642364529228648e-30),\n",
       " ('Brooklyn',\n",
       "  'Manhattan'): Ttest_indResult(statistic=11.530265119889332, pvalue=9.652292564952115e-31),\n",
       " ('Brooklyn',\n",
       "  'Bronx'): Ttest_indResult(statistic=-13.84342341533481, pvalue=1.4755442137242058e-43),\n",
       " ('Manhattan',\n",
       "  'Bronx'): Ttest_indResult(statistic=-20.21817657922981, pvalue=1.0856247968724517e-90)}"
      ]
     },
     "execution_count": 31,
     "metadata": {},
     "output_type": "execute_result"
    }
   ],
   "source": [
    "# create a dictionary of borough names and their datapoints to perform two-way t-tests on\n",
    "boro_dict = {boro: trees['health_num'][trees['boroname'] == boro] for boro in list(trees.boroname.unique())}\n",
    "# run two-way t-tests function\n",
    "two_way_tests_dicts(boro_dict)"
   ]
  },
  {
   "cell_type": "code",
   "execution_count": 32,
   "metadata": {},
   "outputs": [
    {
     "data": {
      "text/html": [
       "<div>\n",
       "<style scoped>\n",
       "    .dataframe tbody tr th:only-of-type {\n",
       "        vertical-align: middle;\n",
       "    }\n",
       "\n",
       "    .dataframe tbody tr th {\n",
       "        vertical-align: top;\n",
       "    }\n",
       "\n",
       "    .dataframe thead th {\n",
       "        text-align: right;\n",
       "    }\n",
       "</style>\n",
       "<table border=\"1\" class=\"dataframe\">\n",
       "  <thead>\n",
       "    <tr style=\"text-align: right;\">\n",
       "      <th></th>\n",
       "      <th>bronx</th>\n",
       "      <th>brooklyn</th>\n",
       "      <th>manhattan</th>\n",
       "      <th>queens</th>\n",
       "      <th>si</th>\n",
       "    </tr>\n",
       "    <tr>\n",
       "      <th>health</th>\n",
       "      <th></th>\n",
       "      <th></th>\n",
       "      <th></th>\n",
       "      <th></th>\n",
       "      <th></th>\n",
       "    </tr>\n",
       "  </thead>\n",
       "  <tbody>\n",
       "    <tr>\n",
       "      <th>Fair</th>\n",
       "      <td>8409</td>\n",
       "      <td>14375</td>\n",
       "      <td>3420</td>\n",
       "      <td>23364</td>\n",
       "      <td>13480</td>\n",
       "    </tr>\n",
       "    <tr>\n",
       "      <th>Good</th>\n",
       "      <td>57183</td>\n",
       "      <td>76921</td>\n",
       "      <td>16084</td>\n",
       "      <td>135189</td>\n",
       "      <td>78214</td>\n",
       "    </tr>\n",
       "    <tr>\n",
       "      <th>Poor</th>\n",
       "      <td>2490</td>\n",
       "      <td>3805</td>\n",
       "      <td>1150</td>\n",
       "      <td>6267</td>\n",
       "      <td>4039</td>\n",
       "    </tr>\n",
       "  </tbody>\n",
       "</table>\n",
       "</div>"
      ],
      "text/plain": [
       "        bronx  brooklyn  manhattan  queens     si\n",
       "health                                           \n",
       "Fair     8409     14375       3420   23364  13480\n",
       "Good    57183     76921      16084  135189  78214\n",
       "Poor     2490      3805       1150    6267   4039"
      ]
     },
     "execution_count": 32,
     "metadata": {},
     "output_type": "execute_result"
    }
   ],
   "source": [
    "df_bronx = trees[trees.boroname=='Bronx']\n",
    "df_brooklyn = trees[trees.boroname=='Brooklyn']\n",
    "df_manhattan = trees[trees.boroname=='Manhattan']\n",
    "df_queens = trees[trees.boroname=='Queens']\n",
    "df_si =trees[trees.boroname=='Staten Island']\n",
    "\n",
    "df_freq = pd.DataFrame(columns=['bronx', 'brooklyn', 'manhattan', 'queens', 'si'])\n",
    "df_freq['bronx'] = df_bronx.groupby('health')['health'].count()\n",
    "df_freq['brooklyn'] = df_brooklyn.groupby('health')['health'].count()\n",
    "df_freq['manhattan'] = df_manhattan.groupby('health')['health'].count()\n",
    "df_freq['queens'] = df_queens.groupby('health')['health'].count()\n",
    "df_freq['si'] = df_si.groupby('health')['health'].count()\n",
    "df_freq.head()"
   ]
  },
  {
   "cell_type": "code",
   "execution_count": 33,
   "metadata": {},
   "outputs": [],
   "source": [
    "# returns 𝜒2 value, p-value, degree of freedom and expected values\n",
    "stat, p, dof, expected = stats.chi2_contingency(df_freq)"
   ]
  },
  {
   "cell_type": "code",
   "execution_count": 34,
   "metadata": {},
   "outputs": [
    {
     "data": {
      "text/plain": [
       "(566.5988905003828,\n",
       " 3.530263683508544e-117,\n",
       " 8,\n",
       " array([[  9659.15960305,  13492.49048808,   2930.29409303,\n",
       "          23383.90008776,  13582.15572808],\n",
       "        [ 55703.32919733,  77809.73399716,  16898.68924593,\n",
       "         134852.42381692,  78326.82374266],\n",
       "        [  2719.51119962,   3798.77551475,    825.01666104,\n",
       "           6583.67609532,   3824.02052926]]))"
      ]
     },
     "execution_count": 34,
     "metadata": {},
     "output_type": "execute_result"
    }
   ],
   "source": [
    "stats.chi2_contingency(df_freq)"
   ]
  },
  {
   "cell_type": "code",
   "execution_count": 35,
   "metadata": {},
   "outputs": [
    {
     "data": {
      "text/plain": [
       "(15.50731305586545, 566.5988905003828)"
      ]
     },
     "execution_count": 35,
     "metadata": {},
     "output_type": "execute_result"
    }
   ],
   "source": [
    "# interpret test-statistic\n",
    "prob = 0.95\n",
    "critical = stats.chi2.ppf(prob, dof)\n",
    "critical, stat"
   ]
  },
  {
   "cell_type": "markdown",
   "metadata": {},
   "source": [
    "### EDA - Tree diameter"
   ]
  },
  {
   "cell_type": "code",
   "execution_count": 36,
   "metadata": {
    "scrolled": true
   },
   "outputs": [
    {
     "data": {
      "text/plain": [
       "<matplotlib.axes._subplots.AxesSubplot at 0x11d52eb38>"
      ]
     },
     "execution_count": 36,
     "metadata": {},
     "output_type": "execute_result"
    },
    {
     "data": {
      "image/png": "[encoded data removed]",
      "text/plain": [
       "<Figure size 432x288 with 1 Axes>"
      ]
     },
     "metadata": {
      "needs_background": "light"
     },
     "output_type": "display_data"
    }
   ],
   "source": [
    "trees.boxplot('tree_dbh', 'health', showfliers=False)"
   ]
  },
  {
   "cell_type": "markdown",
   "metadata": {},
   "source": [
    "### EDA - Community Boards"
   ]
  },
  {
   "cell_type": "code",
   "execution_count": 37,
   "metadata": {},
   "outputs": [
    {
     "data": {
      "image/png": "[encoded data removed]",
      "text/plain": [
       "<Figure size 1440x720 with 1 Axes>"
      ]
     },
     "metadata": {
      "needs_background": "light"
     },
     "output_type": "display_data"
    }
   ],
   "source": [
    "community_boards = trees.groupby(['cb_num']).health.value_counts(normalize=True).unstack()\n",
    "p2 = community_boards.plot(kind = 'bar', stacked = True, figsize=(20,10),\n",
    "                   title = 'Paycodes Binned: Defaulters vs Non-Defaulters', \n",
    "                   color = ['grey','lightgreen', 'blue'], alpha = .70)\n",
    "p2.set_xlabel('Paycode 1')\n",
    "p2.set_ylabel('# Users')\n",
    "p2.legend(['Fair','Good', 'Poor'])\n",
    "plt.show()"
   ]
  },
  {
   "cell_type": "code",
   "execution_count": 38,
   "metadata": {
    "scrolled": true
   },
   "outputs": [
    {
     "name": "stdout",
     "output_type": "stream",
     "text": [
      "Amount of statistically significant comparisons: 1378\n",
      "Amount of statistically insignificant comparisons: 333\n",
      "Percentage of significant comparisons: 80.5%\n"
     ]
    }
   ],
   "source": [
    "# create a dictionary of community boards and their datapoints to perform two-way t-tests on\n",
    "cbs_dict = {cb: trees['health_num'][trees['cb_num'] == cb] for cb in list(trees.cb_num.unique())}\n",
    "# run two-way t-tests function\n",
    "cb_t_test_dict = two_way_tests_dicts(cbs_dict)\n",
    "# compare amount of statistically significant to statistically insignificant\n",
    "significant = len({k:v for k,v in cb_t_test_dict.items() if cb_t_test_dict[k].pvalue < 0.05})\n",
    "insignificant = len({k:v for k,v in cb_t_test_dict.items() if cb_t_test_dict[k].pvalue > 0.05})\n",
    "print(f'Amount of statistically significant comparisons: {significant}')\n",
    "print(f'Amount of statistically insignificant comparisons: {insignificant}')\n",
    "print(f'Percentage of significant comparisons: {round((significant/(significant+insignificant))*100, 1)}%')"
   ]
  },
  {
   "cell_type": "markdown",
   "metadata": {},
   "source": [
    "### EDA - Neighborhoods"
   ]
  },
  {
   "cell_type": "code",
   "execution_count": 39,
   "metadata": {
    "scrolled": true
   },
   "outputs": [
    {
     "data": {
      "image/png": "[encoded data removed]",
      "text/plain": [
       "<Figure size 2160x720 with 1 Axes>"
      ]
     },
     "metadata": {
      "needs_background": "light"
     },
     "output_type": "display_data"
    }
   ],
   "source": [
    "neighborhoods = trees.groupby(['nta']).health.value_counts(normalize=True).unstack()\n",
    "p2 = neighborhoods.plot(kind = 'bar', stacked = True, figsize=(30,10),\n",
    "                   title = 'Paycodes Binned: Defaulters vs Non-Defaulters', \n",
    "                   color = ['grey','lightgreen', 'blue'], alpha = .70)\n",
    "p2.set_xlabel('Paycode 1')\n",
    "p2.set_ylabel('# Users')\n",
    "p2.legend(['Fair','Good', 'Poor'])\n",
    "plt.show()"
   ]
  },
  {
   "cell_type": "code",
   "execution_count": 40,
   "metadata": {},
   "outputs": [
    {
     "name": "stdout",
     "output_type": "stream",
     "text": [
      "Amount of statistically significant comparisons: 13129\n",
      "Amount of statistically insignificant comparisons: 4449\n",
      "Percentage of significant comparisons: 74.7%\n"
     ]
    }
   ],
   "source": [
    "# create a dictionary of neighborhoods and their datapoints to perform two-way t-tests on\n",
    "n_dict = {n: trees['health_num'][trees['nta'] == n] for n in list(trees.nta.unique())}\n",
    "# run two-way t-tests function\n",
    "n_t_test_dict = two_way_tests_dicts(n_dict)\n",
    "# compare amount of statistically significant to statistically insignificant\n",
    "significant_n = len({k:v for k,v in n_t_test_dict.items() if n_t_test_dict[k].pvalue < 0.05})\n",
    "insignificant_n = len({k:v for k,v in n_t_test_dict.items() if n_t_test_dict[k].pvalue > 0.05})\n",
    "print(f'Amount of statistically significant comparisons: {significant_n}')\n",
    "print(f'Amount of statistically insignificant comparisons: {insignificant_n}')\n",
    "print(f'Percentage of significant comparisons: {round((significant_n/(significant_n+insignificant_n))*100, 1)}%')"
   ]
  },
  {
   "cell_type": "code",
   "execution_count": 41,
   "metadata": {},
   "outputs": [
    {
     "data": {
      "text/plain": [
       "0.7468995335077938"
      ]
     },
     "execution_count": 41,
     "metadata": {},
     "output_type": "execute_result"
    }
   ],
   "source": [
    "significant_n/(significant_n+insignificant_n)"
   ]
  },
  {
   "cell_type": "markdown",
   "metadata": {},
   "source": [
    "### EDA - Tree species"
   ]
  },
  {
   "cell_type": "code",
   "execution_count": 42,
   "metadata": {},
   "outputs": [
    {
     "name": "stdout",
     "output_type": "stream",
     "text": [
      "Number of unique species: 132\n",
      "Number of total trees: 444390\n",
      "Cutoff for trees of significant quantity (0.1% of total trees): 445.0\n"
     ]
    }
   ],
   "source": [
    "print(f'Number of unique species: {len(trees.spc_common.unique())}')\n",
    "print(f'Number of total trees: {len(trees)}')\n",
    "print(f'Cutoff for trees of significant quantity (0.1% of total trees): {np.ceil(len(trees)/1000)}')"
   ]
  },
  {
   "cell_type": "code",
   "execution_count": 43,
   "metadata": {},
   "outputs": [
    {
     "data": {
      "text/plain": [
       "London planetree     60350\n",
       "Callery pear         42487\n",
       "honeylocust          38349\n",
       "pin oak              35985\n",
       "Norway maple         25253\n",
       "cherry               22772\n",
       "Japanese zelkova     18928\n",
       "littleleaf linden    18469\n",
       "red maple            13906\n",
       "ginkgo               11355\n",
       "green ash            10572\n",
       "Sophora              10440\n",
       "silver maple         10081\n",
       "Other                 9918\n",
       "American linden       8399\n",
       "sweetgum              8380\n",
       "purple-leaf plum      5281\n",
       "maple                 5211\n",
       "American elm          5192\n",
       "northern red oak      5153\n",
       "Name: spc_common, dtype: int64"
      ]
     },
     "execution_count": 43,
     "metadata": {},
     "output_type": "execute_result"
    }
   ],
   "source": [
    "# create a column with the total count of that row's tree species\n",
    "species_counts = trees['spc_common'].value_counts().rename('species_counts')\n",
    "\n",
    "# merge onto dataframe\n",
    "trees = trees.merge(species_counts.to_frame(),\n",
    "                                left_on='spc_common',\n",
    "                                right_index=True)\n",
    "\n",
    "# reassign tree species with fewer than 445 datapoints to 'Other'\n",
    "trees['spc_common'] = np.where(trees.species_counts < 445, 'Other', trees.spc_common)\n",
    "\n",
    "trees.spc_common.value_counts().head(20)"
   ]
  },
  {
   "cell_type": "code",
   "execution_count": 44,
   "metadata": {},
   "outputs": [
    {
     "name": "stdout",
     "output_type": "stream",
     "text": [
      "Amount of statistically significant comparisons: 1421\n",
      "Amount of statistically insignificant comparisons: 724\n",
      "Percentage of significant comparisons: 66.2%\n"
     ]
    }
   ],
   "source": [
    "# create a dictionary of neighborhoods and their datapoints to perform two-way t-tests on\n",
    "species_dict = {spc: trees['health_num'][trees['spc_common'] == spc] for spc in list(trees.spc_common.unique())}\n",
    "# run two-way t-tests function\n",
    "spc_t_test_dict = two_way_tests_dicts(species_dict)\n",
    "# compare amount of statistically significant to statistically insignificant\n",
    "significant_spc = len({k:v for k,v in spc_t_test_dict.items() if spc_t_test_dict[k].pvalue < 0.05})\n",
    "insignificant_spc = len({k:v for k,v in spc_t_test_dict.items() if spc_t_test_dict[k].pvalue > 0.05})\n",
    "print(f'Amount of statistically significant comparisons: {significant_spc}')\n",
    "print(f'Amount of statistically insignificant comparisons: {insignificant_spc}')\n",
    "print(f'Percentage of significant comparisons: {round((significant_spc/(significant_spc+insignificant_spc))*100, 1)}%')"
   ]
  },
  {
   "cell_type": "code",
   "execution_count": 45,
   "metadata": {},
   "outputs": [],
   "source": [
    "trees.drop(columns='species_counts', axis=1, inplace=True)"
   ]
  },
  {
   "cell_type": "code",
   "execution_count": 46,
   "metadata": {},
   "outputs": [],
   "source": [
    "trees.to_csv('data/nyc_trees_2015_pre_dummies.csv')"
   ]
  },
  {
   "cell_type": "code",
   "execution_count": 47,
   "metadata": {},
   "outputs": [
    {
     "ename": "SyntaxError",
     "evalue": "invalid syntax (<ipython-input-47-efdb6d3705b6>, line 1)",
     "output_type": "error",
     "traceback": [
      "\u001b[0;36m  File \u001b[0;32m\"<ipython-input-47-efdb6d3705b6>\"\u001b[0;36m, line \u001b[0;32m1\u001b[0m\n\u001b[0;31m    please break this code\u001b[0m\n\u001b[0m               ^\u001b[0m\n\u001b[0;31mSyntaxError\u001b[0m\u001b[0;31m:\u001b[0m invalid syntax\n"
     ]
    }
   ],
   "source": [
    "please break this code"
   ]
  },
  {
   "cell_type": "markdown",
   "metadata": {},
   "source": [
    "### Dummy columns"
   ]
  },
  {
   "cell_type": "code",
   "execution_count": 48,
   "metadata": {
    "scrolled": true
   },
   "outputs": [
    {
     "data": {
      "text/plain": [
       "Index(['tree_dbh', 'curb_loc', 'health', 'spc_common', 'steward', 'guards',\n",
       "       'sidewalk', 'root_stone', 'root_grate', 'root_other', 'trunk_wire',\n",
       "       'trunk_light', 'trunk_other', 'branch_light', 'branch_shoe',\n",
       "       'branch_other', 'cb_num', 'boroname', 'nta', 'health_num'],\n",
       "      dtype='object')"
      ]
     },
     "execution_count": 48,
     "metadata": {},
     "output_type": "execute_result"
    }
   ],
   "source": [
    "trees.columns"
   ]
  },
  {
   "cell_type": "code",
   "execution_count": 49,
   "metadata": {},
   "outputs": [
    {
     "data": {
      "text/plain": [
       "array(['OnCurb', 'OffsetFromCurb'], dtype=object)"
      ]
     },
     "execution_count": 49,
     "metadata": {},
     "output_type": "execute_result"
    }
   ],
   "source": [
    "trees.curb_loc.unique()"
   ]
  },
  {
   "cell_type": "code",
   "execution_count": 50,
   "metadata": {},
   "outputs": [
    {
     "data": {
      "text/plain": [
       "array(['NoDamage', 'Damage'], dtype=object)"
      ]
     },
     "execution_count": 50,
     "metadata": {},
     "output_type": "execute_result"
    }
   ],
   "source": [
    "trees.sidewalk.unique()"
   ]
  },
  {
   "cell_type": "code",
   "execution_count": 51,
   "metadata": {
    "scrolled": true
   },
   "outputs": [
    {
     "ename": "AttributeError",
     "evalue": "'DataFrame' object has no attribute 'user_type'",
     "output_type": "error",
     "traceback": [
      "\u001b[0;31m---------------------------------------------------------------------------\u001b[0m",
      "\u001b[0;31mAttributeError\u001b[0m                            Traceback (most recent call last)",
      "\u001b[0;32m<ipython-input-51-1bde50dd0b26>\u001b[0m in \u001b[0;36m<module>\u001b[0;34m\u001b[0m\n\u001b[0;32m----> 1\u001b[0;31m \u001b[0mtrees\u001b[0m\u001b[0;34m.\u001b[0m\u001b[0muser_type\u001b[0m\u001b[0;34m.\u001b[0m\u001b[0munique\u001b[0m\u001b[0;34m(\u001b[0m\u001b[0;34m)\u001b[0m\u001b[0;34m\u001b[0m\u001b[0;34m\u001b[0m\u001b[0m\n\u001b[0m",
      "\u001b[0;32m/opt/anaconda3/envs/learn-env/lib/python3.6/site-packages/pandas/core/generic.py\u001b[0m in \u001b[0;36m__getattr__\u001b[0;34m(self, name)\u001b[0m\n\u001b[1;32m   5272\u001b[0m             \u001b[0;32mif\u001b[0m \u001b[0mself\u001b[0m\u001b[0;34m.\u001b[0m\u001b[0m_info_axis\u001b[0m\u001b[0;34m.\u001b[0m\u001b[0m_can_hold_identifiers_and_holds_name\u001b[0m\u001b[0;34m(\u001b[0m\u001b[0mname\u001b[0m\u001b[0;34m)\u001b[0m\u001b[0;34m:\u001b[0m\u001b[0;34m\u001b[0m\u001b[0;34m\u001b[0m\u001b[0m\n\u001b[1;32m   5273\u001b[0m                 \u001b[0;32mreturn\u001b[0m \u001b[0mself\u001b[0m\u001b[0;34m[\u001b[0m\u001b[0mname\u001b[0m\u001b[0;34m]\u001b[0m\u001b[0;34m\u001b[0m\u001b[0;34m\u001b[0m\u001b[0m\n\u001b[0;32m-> 5274\u001b[0;31m             \u001b[0;32mreturn\u001b[0m \u001b[0mobject\u001b[0m\u001b[0;34m.\u001b[0m\u001b[0m__getattribute__\u001b[0m\u001b[0;34m(\u001b[0m\u001b[0mself\u001b[0m\u001b[0;34m,\u001b[0m \u001b[0mname\u001b[0m\u001b[0;34m)\u001b[0m\u001b[0;34m\u001b[0m\u001b[0;34m\u001b[0m\u001b[0m\n\u001b[0m\u001b[1;32m   5275\u001b[0m \u001b[0;34m\u001b[0m\u001b[0m\n\u001b[1;32m   5276\u001b[0m     \u001b[0;32mdef\u001b[0m \u001b[0m__setattr__\u001b[0m\u001b[0;34m(\u001b[0m\u001b[0mself\u001b[0m\u001b[0;34m,\u001b[0m \u001b[0mname\u001b[0m\u001b[0;34m:\u001b[0m \u001b[0mstr\u001b[0m\u001b[0;34m,\u001b[0m \u001b[0mvalue\u001b[0m\u001b[0;34m)\u001b[0m \u001b[0;34m->\u001b[0m \u001b[0;32mNone\u001b[0m\u001b[0;34m:\u001b[0m\u001b[0;34m\u001b[0m\u001b[0;34m\u001b[0m\u001b[0m\n",
      "\u001b[0;31mAttributeError\u001b[0m: 'DataFrame' object has no attribute 'user_type'"
     ]
    }
   ],
   "source": [
    "trees.user_type.unique()"
   ]
  },
  {
   "cell_type": "code",
   "execution_count": null,
   "metadata": {},
   "outputs": [],
   "source": [
    "# rename columns that we have to manually dummy, so the new 0 and 1 values make sense\n",
    "trees.rename(columns={'curb_loc': 'on_curb', 'sidewalk': 'sidewalk_damage', 'user_type': 'pro_entry'}, inplace=True)\n",
    "\n",
    "# trees on curb = 1; trees offset from curb = 0\n",
    "trees.on_curb = np.where(trees.on_curb == 'OnCurb', 1, 0)\n",
    "# damage to sidewalk near tree = 1; no sidewalk damage = 0\n",
    "trees.sidewalk_damage = np.where(trees.sidewalk_damage == 'Damage', 1, 0)\n",
    "# Professional staff (TreesCount & NYC Parks) = 1; volunteers = 0\n",
    "trees.pro_entry = np.where(trees.pro_entry == 'Volunteer', 0, 1)"
   ]
  },
  {
   "cell_type": "code",
   "execution_count": null,
   "metadata": {},
   "outputs": [],
   "source": [
    "trees.branch_other.unique()"
   ]
  },
  {
   "cell_type": "markdown",
   "metadata": {},
   "source": [
    "* Reassign yes-no columns to 1s and 0s."
   ]
  },
  {
   "cell_type": "code",
   "execution_count": null,
   "metadata": {
    "scrolled": true
   },
   "outputs": [],
   "source": [
    "# create list of columns to dummy\n",
    "yes_no_cols = ['root_stone', 'root_grate', 'root_other', 'trunk_wire', 'trunk_light', 'trunk_other',\n",
    "               'branch_light', 'branch_shoe', 'branch_other']\n",
    "\n",
    "# call custom function\n",
    "yes_to_one(trees, yes_no_cols)\n",
    "# check to make sure it worked\n",
    "trees.branch_other.unique()"
   ]
  },
  {
   "cell_type": "markdown",
   "metadata": {},
   "source": [
    "* First rename a steward value that doesn't make sense (4 is accounted for twice, so renaming '4orMore' to '5plus').\n",
    "* Create dummies for number of stewards, usefulness of tree guards, and borough name.\n",
    "* Hold off on creating dummies for community board numbers and neighborhood codes."
   ]
  },
  {
   "cell_type": "code",
   "execution_count": null,
   "metadata": {},
   "outputs": [],
   "source": [
    "trees['steward'] = np.where(trees.steward == '4orMore', '5plus', trees.steward)"
   ]
  },
  {
   "cell_type": "code",
   "execution_count": null,
   "metadata": {
    "scrolled": true
   },
   "outputs": [],
   "source": [
    "trees.steward.unique()"
   ]
  },
  {
   "cell_type": "code",
   "execution_count": null,
   "metadata": {},
   "outputs": [],
   "source": [
    "trees.groupby('steward').health.value_counts(normalize=True)"
   ]
  },
  {
   "cell_type": "code",
   "execution_count": null,
   "metadata": {},
   "outputs": [],
   "source": [
    "trees.guards.value_counts()"
   ]
  },
  {
   "cell_type": "code",
   "execution_count": null,
   "metadata": {},
   "outputs": [],
   "source": [
    "trees.groupby('guards').health.value_counts(normalize=True)"
   ]
  },
  {
   "cell_type": "code",
   "execution_count": null,
   "metadata": {
    "scrolled": true
   },
   "outputs": [],
   "source": [
    "trees.boroname.unique()"
   ]
  },
  {
   "cell_type": "code",
   "execution_count": null,
   "metadata": {},
   "outputs": [],
   "source": [
    "dummy_cols = ['steward', 'guards', 'boroname']"
   ]
  },
  {
   "cell_type": "code",
   "execution_count": null,
   "metadata": {},
   "outputs": [],
   "source": [
    "tree_dummies = pd.get_dummies(trees[dummy_cols])\n",
    "tree_dummies.columns"
   ]
  },
  {
   "cell_type": "code",
   "execution_count": null,
   "metadata": {},
   "outputs": [],
   "source": [
    "dummy_cols.extend(['steward_None', 'guards_None', 'boroname_Staten Island'])\n",
    "trees = pd.concat([trees,tree_dummies], axis=1)\n",
    "trees.drop(columns=dummy_cols, axis=1, inplace=True)"
   ]
  },
  {
   "cell_type": "code",
   "execution_count": null,
   "metadata": {},
   "outputs": [],
   "source": [
    "trees.columns"
   ]
  },
  {
   "cell_type": "code",
   "execution_count": null,
   "metadata": {
    "scrolled": false
   },
   "outputs": [],
   "source": [
    "trees.head()"
   ]
  },
  {
   "cell_type": "markdown",
   "metadata": {},
   "source": [
    "## SAVE A COPY"
   ]
  },
  {
   "cell_type": "code",
   "execution_count": null,
   "metadata": {},
   "outputs": [],
   "source": [
    "trees.to_csv('data/nyc_trees_2015.csv')"
   ]
  },
  {
   "cell_type": "code",
   "execution_count": null,
   "metadata": {},
   "outputs": [],
   "source": [
    "trees = pd.read_csv('data/nyc_trees_2015.csv', index_col=0)\n",
    "trees.head()"
   ]
  },
  {
   "cell_type": "code",
   "execution_count": null,
   "metadata": {},
   "outputs": [],
   "source": [
    "trees.tree_dbh.describe()"
   ]
  },
  {
   "cell_type": "code",
   "execution_count": null,
   "metadata": {
    "scrolled": true
   },
   "outputs": [],
   "source": [
    "trees[trees.tree_dbh <= 37].hist('tree_dbh', bins=10)"
   ]
  },
  {
   "cell_type": "code",
   "execution_count": null,
   "metadata": {},
   "outputs": [],
   "source": [
    "trees[trees.tree_dbh == 425]"
   ]
  },
  {
   "cell_type": "code",
   "execution_count": null,
   "metadata": {},
   "outputs": [],
   "source": [
    "trees.nta.value_counts()"
   ]
  },
  {
   "cell_type": "code",
   "execution_count": null,
   "metadata": {},
   "outputs": [],
   "source": [
    "with open('data/nta_dict.pickle', 'rb') as f:\n",
    "    nta_dict = pickle.load(f)"
   ]
  },
  {
   "cell_type": "code",
   "execution_count": null,
   "metadata": {},
   "outputs": [],
   "source": [
    "nta_dict['QN46']"
   ]
  },
  {
   "cell_type": "code",
   "execution_count": null,
   "metadata": {
    "scrolled": true
   },
   "outputs": [],
   "source": [
    "trees.columns"
   ]
  },
  {
   "cell_type": "markdown",
   "metadata": {},
   "source": [
    "## Vanilla models"
   ]
  },
  {
   "cell_type": "code",
   "execution_count": null,
   "metadata": {},
   "outputs": [],
   "source": [
    "df_van = trees.copy()"
   ]
  },
  {
   "cell_type": "code",
   "execution_count": null,
   "metadata": {},
   "outputs": [],
   "source": [
    "X_van = df_van.drop(columns=['health', 'spc_common', 'nta'], axis=1)\n",
    "y_van = df_van['health']"
   ]
  },
  {
   "cell_type": "code",
   "execution_count": null,
   "metadata": {},
   "outputs": [],
   "source": [
    "X_train_van, X_test_van, y_train_van, y_test_van = train_test_split(X_van, y_van, random_state=42, stratify=y_van)"
   ]
  },
  {
   "cell_type": "markdown",
   "metadata": {},
   "source": [
    "### Resample"
   ]
  },
  {
   "cell_type": "code",
   "execution_count": null,
   "metadata": {},
   "outputs": [],
   "source": [
    "# concatenate our training data back together\n",
    "training  = pd.concat([X_train_van, y_train_van], axis=1)"
   ]
  },
  {
   "cell_type": "code",
   "execution_count": null,
   "metadata": {},
   "outputs": [],
   "source": [
    "# separate minority and majority classes\n",
    "good = training[training.health=='Good']\n",
    "fair = training[training.health=='Fair']\n",
    "poor = training[training.health=='Poor']"
   ]
  },
  {
   "cell_type": "code",
   "execution_count": null,
   "metadata": {},
   "outputs": [],
   "source": [
    "# Get a class count to understand the class imbalance.\n",
    "print('good count: '+ str(len(good)))\n",
    "print('fair count: '+ str(len(fair)))\n",
    "print('poor count: '+ str(len(poor)))"
   ]
  },
  {
   "cell_type": "code",
   "execution_count": null,
   "metadata": {},
   "outputs": [],
   "source": [
    "# downsample majority\n",
    "good_downsampled = resample(good,\n",
    "                                replace = False, # sample without replacement\n",
    "                                n_samples = len(poor), # match minority n\n",
    "                                random_state = 42) # reproducible results\n",
    "\n",
    "# downsample majority\n",
    "fair_downsampled = resample(fair,\n",
    "                                replace = False, # sample without replacement\n",
    "                                n_samples = len(poor), # match minority n\n",
    "                                random_state = 42) # reproducible results"
   ]
  },
  {
   "cell_type": "code",
   "execution_count": null,
   "metadata": {},
   "outputs": [],
   "source": [
    "# combine minority and downsampled majority\n",
    "downsampled = pd.concat([good_downsampled, fair_downsampled, poor])\n",
    "\n",
    "# checking counts\n",
    "downsampled.health.value_counts()"
   ]
  },
  {
   "cell_type": "code",
   "execution_count": null,
   "metadata": {},
   "outputs": [],
   "source": [
    "# trying logistic regression again with the balanced dataset\n",
    "y_train_down = downsampled.health\n",
    "X_train_down = downsampled.drop('health', axis=1)\n",
    "\n",
    "\n",
    "# downsampled_dt = DecisionTreeClassifier(max_depth=5)\n",
    "downsampled_lr = LogisticRegression(class_weight='balanced', multi_class='multinomial')\n",
    "\n",
    "\n",
    "# downsampled_dt.fit(X_train, y_train)\n",
    "downsampled_lr.fit(X_train_down, y_train_down)\n",
    "\n",
    "# downsampled_pred = upsampled_dt.predict(X_test)\n",
    "downsampled_pred = downsampled_lr.predict(X_test_van)\n",
    "\n",
    "# checking accuracy\n",
    "print('Test Accuracy score: ', accuracy_score(y_test_van, downsampled_pred))\n",
    "\n",
    "# checking accuracy\n",
    "print('Test F1 score: ', f1_score(y_test_van, downsampled_pred, average='weighted'))"
   ]
  },
  {
   "cell_type": "code",
   "execution_count": null,
   "metadata": {},
   "outputs": [],
   "source": []
  },
  {
   "cell_type": "code",
   "execution_count": null,
   "metadata": {},
   "outputs": [],
   "source": []
  },
  {
   "cell_type": "code",
   "execution_count": null,
   "metadata": {},
   "outputs": [],
   "source": [
    "# params_knn = {\n",
    "#     'n_neighbors': range(1,21,2),\n",
    "#     'weights': ['uniform', 'distance'],\n",
    "# #     'algorithm': ['ball_tree', 'kd_tree', 'brute'],\n",
    "#     'p': range(1,4)\n",
    "# }"
   ]
  },
  {
   "cell_type": "code",
   "execution_count": null,
   "metadata": {},
   "outputs": [],
   "source": [
    "# CV_knn_van = GridSearchCV(KNeighborsClassifier(), params_knn, n_jobs=-1, scoring='accuracy', verbose=1)\n",
    "\n",
    "# CV_knn_van.fit(X_train_van, y_train_van)"
   ]
  },
  {
   "cell_type": "code",
   "execution_count": null,
   "metadata": {},
   "outputs": [],
   "source": [
    "# ### Identify the best params \n",
    "# print(CV_knn_van.best_estimator_)\n",
    "\n",
    "# #Identify the best score during fitting with cross-validation\n",
    "# print(CV_knn_van.best_score_)"
   ]
  },
  {
   "cell_type": "code",
   "execution_count": null,
   "metadata": {},
   "outputs": [],
   "source": [
    "# #predict on the test set\n",
    "# y_pred_knn_van = CV_knn_van.best_estimator_.predict(X_test_van)\n",
    "\n",
    "# # checking metrics\n",
    "# print('Test Accuracy score: ', accuracy_score(y_test_van, y_pred_knn_van))\n",
    "# print('Test Precision score: ', precision_score(y_test_van, y_pred_knn_van))\n",
    "# print('Test Recall score: ', recall_score(y_test_van, y_pred_knn_van))\n",
    "# print('Test F1 score: ', f1_score(y_test_van, y_pred_knn_van))"
   ]
  },
  {
   "cell_type": "code",
   "execution_count": null,
   "metadata": {},
   "outputs": [],
   "source": [
    "param_grid = { \n",
    "    'penalty': ['l1', 'l2', 'elasticnet'],\n",
    "    'C': [.0001, .001, .01, .1, 1.0, 10.0, 100.0],\n",
    "    'solver': ['sag', 'saga', 'liblinear'],\n",
    "}"
   ]
  },
  {
   "cell_type": "code",
   "execution_count": null,
   "metadata": {},
   "outputs": [],
   "source": [
    "van_weight = LogisticRegression(class_weight='balanced', multi_class='multinomial')\n",
    "van_weight.fit(X_train_van, y_train_van)\n",
    "\n",
    "#predict on the test set\n",
    "y_pred_van_weight = van_weight.predict(X_test_van)"
   ]
  },
  {
   "cell_type": "code",
   "execution_count": null,
   "metadata": {},
   "outputs": [],
   "source": [
    "# checking metrics\n",
    "print('Test Accuracy score: ', accuracy_score(y_test_van, y_pred_van_weight))\n",
    "print('Test Precision score: ', precision_score(y_test_van, y_pred_van_weight, average='weighted'))\n",
    "print('Test Recall score: ', recall_score(y_test_van, y_pred_van_weight, average='weighted'))\n",
    "print('Test F1 score: ', f1_score(y_test_van, y_pred_van_weight, average='weighted'))"
   ]
  },
  {
   "cell_type": "code",
   "execution_count": null,
   "metadata": {},
   "outputs": [],
   "source": []
  },
  {
   "cell_type": "code",
   "execution_count": null,
   "metadata": {},
   "outputs": [],
   "source": [
    "#create a grid search object and fit it to the data\n",
    "CV_van_weight = GridSearchCV(LogisticRegression(class_weight='balanced'),\n",
    "                      param_grid, n_jobs=-1, scoring='accuracy', verbose=2)\n",
    "\n",
    "CV_van_weight.fit(X_train_van, y_train_van)"
   ]
  },
  {
   "cell_type": "code",
   "execution_count": null,
   "metadata": {},
   "outputs": [],
   "source": [
    "### Identify the best params \n",
    "print(CV_van_weight.best_estimator_)\n",
    "\n",
    "#Identify the best score during fitting with cross-validation\n",
    "print(CV_van_weight.best_score_)"
   ]
  },
  {
   "cell_type": "code",
   "execution_count": null,
   "metadata": {},
   "outputs": [],
   "source": [
    "#predict on the test set\n",
    "y_pred_van_weight = CV_van_weight.best_estimator_.predict(X_test_van)\n",
    "\n",
    "# checking metrics\n",
    "print('Test Accuracy score: ', accuracy_score(y_test_van, y_pred_van_weight))\n",
    "print('Test Precision score: ', precision_score(y_test_van, y_pred_van_weight))\n",
    "print('Test Recall score: ', recall_score(y_test_van, y_pred_van_weight))\n",
    "print('Test F1 score: ', f1_score(y_test_van, y_pred_van_weight))"
   ]
  },
  {
   "cell_type": "code",
   "execution_count": null,
   "metadata": {},
   "outputs": [],
   "source": []
  },
  {
   "cell_type": "code",
   "execution_count": null,
   "metadata": {},
   "outputs": [],
   "source": []
  },
  {
   "cell_type": "code",
   "execution_count": null,
   "metadata": {},
   "outputs": [],
   "source": [
    "trees[trees.nta == 'QN17'].iloc[:, 10:].head()"
   ]
  },
  {
   "cell_type": "code",
   "execution_count": null,
   "metadata": {},
   "outputs": [],
   "source": [
    "print(len(trees.cb_num.unique()))\n",
    "trees.cb_num.unique()"
   ]
  },
  {
   "cell_type": "code",
   "execution_count": null,
   "metadata": {},
   "outputs": [],
   "source": [
    "print(len(trees.nta.unique()))\n",
    "trees.nta.unique()"
   ]
  },
  {
   "cell_type": "code",
   "execution_count": null,
   "metadata": {
    "scrolled": true
   },
   "outputs": [],
   "source": [
    "trees.iloc[:, 10:].head(10)"
   ]
  },
  {
   "cell_type": "code",
   "execution_count": null,
   "metadata": {},
   "outputs": [],
   "source": []
  },
  {
   "cell_type": "code",
   "execution_count": null,
   "metadata": {},
   "outputs": [],
   "source": []
  },
  {
   "cell_type": "code",
   "execution_count": null,
   "metadata": {},
   "outputs": [],
   "source": []
  },
  {
   "cell_type": "code",
   "execution_count": null,
   "metadata": {},
   "outputs": [],
   "source": []
  },
  {
   "cell_type": "code",
   "execution_count": null,
   "metadata": {},
   "outputs": [],
   "source": []
  },
  {
   "cell_type": "code",
   "execution_count": null,
   "metadata": {},
   "outputs": [],
   "source": []
  },
  {
   "cell_type": "code",
   "execution_count": null,
   "metadata": {},
   "outputs": [],
   "source": []
  },
  {
   "cell_type": "code",
   "execution_count": null,
   "metadata": {
    "scrolled": false
   },
   "outputs": [],
   "source": [
    "trees.spc_common.value_counts().head(10).keys()"
   ]
  },
  {
   "cell_type": "code",
   "execution_count": null,
   "metadata": {
    "scrolled": true
   },
   "outputs": [],
   "source": [
    "trees_most_pop = trees[trees.spc_common.isin(['London planetree', 'honeylocust', 'Callery pear', 'pin oak',\n",
    "       'Norway maple', 'littleleaf linden', 'cherry', 'Japanese zelkova',\n",
    "       'ginkgo', 'Sophora'])]\n",
    "trees_most_pop.head()"
   ]
  },
  {
   "cell_type": "code",
   "execution_count": null,
   "metadata": {},
   "outputs": [],
   "source": [
    "boros = trees.groupby(['boroname']).health.value_counts(normalize=True).unstack()"
   ]
  },
  {
   "cell_type": "code",
   "execution_count": null,
   "metadata": {},
   "outputs": [],
   "source": [
    "# print('Paycode 1 Summary')\n",
    "\n",
    "# print('\\n')\n",
    "# print(df_train.groupby(['pay_1_bin','default']).pay_1_bin.count().unstack())\n",
    "\n",
    "# Passenger class visualization\n",
    "species_health = trees_most_pop.groupby('spc_common').health.value_counts(normalize=True).unstack().head(10)\n",
    "p1 = species_health.plot(kind = 'bar', stacked = True, \n",
    "                   title = 'Paycodes Binned: Defaulters vs Non-Defaulters', \n",
    "                   color = ['grey','lightgreen', 'blue'], alpha = .70)\n",
    "p1.set_xlabel('Paycode 1')\n",
    "p1.set_ylabel('# Users')\n",
    "p1.legend(['Fair','Good', 'Poor'])\n",
    "plt.show()"
   ]
  },
  {
   "cell_type": "code",
   "execution_count": null,
   "metadata": {
    "scrolled": true
   },
   "outputs": [],
   "source": [
    "trees[trees.spc_common == 'London planetree'].health.value_counts(normalize=True)"
   ]
  },
  {
   "cell_type": "code",
   "execution_count": null,
   "metadata": {
    "scrolled": true
   },
   "outputs": [],
   "source": [
    "trees.groupby('spc_common').health.value_counts(normalize=True)"
   ]
  },
  {
   "cell_type": "code",
   "execution_count": null,
   "metadata": {
    "scrolled": false
   },
   "outputs": [],
   "source": [
    "trees.columns"
   ]
  },
  {
   "cell_type": "code",
   "execution_count": null,
   "metadata": {
    "scrolled": false
   },
   "outputs": [],
   "source": [
    "trees.trunk_light.unique()"
   ]
  },
  {
   "cell_type": "code",
   "execution_count": null,
   "metadata": {},
   "outputs": [],
   "source": [
    "trees.problems.value_counts()"
   ]
  },
  {
   "cell_type": "code",
   "execution_count": null,
   "metadata": {},
   "outputs": [],
   "source": [
    "trees.shape"
   ]
  },
  {
   "cell_type": "code",
   "execution_count": null,
   "metadata": {},
   "outputs": [],
   "source": [
    "trees.columns"
   ]
  },
  {
   "cell_type": "code",
   "execution_count": null,
   "metadata": {},
   "outputs": [],
   "source": [
    "len(trees.council_dist.unique())"
   ]
  },
  {
   "cell_type": "code",
   "execution_count": null,
   "metadata": {},
   "outputs": [],
   "source": [
    "len(trees.tree_dbh.unique())"
   ]
  },
  {
   "cell_type": "code",
   "execution_count": null,
   "metadata": {},
   "outputs": [],
   "source": [
    "len(trees.block_id.unique())"
   ]
  },
  {
   "cell_type": "code",
   "execution_count": null,
   "metadata": {},
   "outputs": [],
   "source": [
    "trees.health.value_counts()"
   ]
  },
  {
   "cell_type": "code",
   "execution_count": null,
   "metadata": {},
   "outputs": [],
   "source": [
    "trees.health.value_counts(normalize=True)"
   ]
  },
  {
   "cell_type": "code",
   "execution_count": null,
   "metadata": {
    "scrolled": true
   },
   "outputs": [],
   "source": [
    "trees.health.isna().sum()"
   ]
  },
  {
   "cell_type": "code",
   "execution_count": null,
   "metadata": {},
   "outputs": [],
   "source": [
    "trees.status.value_counts()"
   ]
  },
  {
   "cell_type": "code",
   "execution_count": null,
   "metadata": {},
   "outputs": [],
   "source": [
    "trees[trees.health.isna()].head(20)"
   ]
  },
  {
   "cell_type": "code",
   "execution_count": null,
   "metadata": {},
   "outputs": [],
   "source": [
    "trees.columns"
   ]
  },
  {
   "cell_type": "code",
   "execution_count": null,
   "metadata": {},
   "outputs": [],
   "source": [
    "trees.curb_loc.unique()"
   ]
  },
  {
   "cell_type": "code",
   "execution_count": null,
   "metadata": {},
   "outputs": [],
   "source": [
    "trees.borocode.value_counts()"
   ]
  },
  {
   "cell_type": "code",
   "execution_count": null,
   "metadata": {},
   "outputs": [],
   "source": [
    "trees.drop(columns=['status'], axis=1)"
   ]
  }
 ],
 "metadata": {
  "kernelspec": {
   "display_name": "Python [conda env:learn-env] *",
   "language": "python",
   "name": "conda-env-learn-env-py"
  },
  "language_info": {
   "codemirror_mode": {
    "name": "ipython",
    "version": 3
   },
   "file_extension": ".py",
   "mimetype": "text/x-python",
   "name": "python",
   "nbconvert_exporter": "python",
   "pygments_lexer": "ipython3",
   "version": "3.6.9"
  }
 },
 "nbformat": 4,
 "nbformat_minor": 2
}
